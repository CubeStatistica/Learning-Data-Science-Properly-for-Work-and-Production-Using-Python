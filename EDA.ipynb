{
 "cells": [
  {
   "cell_type": "code",
   "execution_count": 1,
   "id": "e434ee37-7abd-497d-8661-4e4849161984",
   "metadata": {},
   "outputs": [],
   "source": [
    "import pandas as pd"
   ]
  },
  {
   "cell_type": "code",
   "execution_count": 2,
   "id": "8fe1fbc0-b8a5-4863-b219-9f0cd0bd3ca0",
   "metadata": {},
   "outputs": [],
   "source": [
    "dfRaw = pd.read_excel('https://github.com/CubeStatistica/Business-Development/blob/main/ClientResearch/Challenges%20Research%20LinkedIn.xlsx?raw=true')"
   ]
  },
  {
   "cell_type": "code",
   "execution_count": 3,
   "id": "4b4e0f97-7e13-4a0d-a562-f87336f761e6",
   "metadata": {},
   "outputs": [
    {
     "data": {
      "text/html": [
       "<div>\n",
       "<style scoped>\n",
       "    .dataframe tbody tr th:only-of-type {\n",
       "        vertical-align: middle;\n",
       "    }\n",
       "\n",
       "    .dataframe tbody tr th {\n",
       "        vertical-align: top;\n",
       "    }\n",
       "\n",
       "    .dataframe thead th {\n",
       "        text-align: right;\n",
       "    }\n",
       "</style>\n",
       "<table border=\"1\" class=\"dataframe\">\n",
       "  <thead>\n",
       "    <tr style=\"text-align: right;\">\n",
       "      <th></th>\n",
       "      <th>Number</th>\n",
       "      <th>Reach-outDate</th>\n",
       "      <th>Name</th>\n",
       "      <th>Position</th>\n",
       "      <th>CompanyStartTime</th>\n",
       "      <th>PositionStartTime</th>\n",
       "      <th>Location</th>\n",
       "      <th>Gender</th>\n",
       "      <th>CompanyName</th>\n",
       "      <th>Industry</th>\n",
       "      <th>Status</th>\n",
       "      <th>Reply</th>\n",
       "      <th>W/Message</th>\n",
       "      <th>Potentially</th>\n",
       "      <th>Education</th>\n",
       "    </tr>\n",
       "  </thead>\n",
       "  <tbody>\n",
       "    <tr>\n",
       "      <th>0</th>\n",
       "      <td>1</td>\n",
       "      <td>2022-06-01</td>\n",
       "      <td>Faria R</td>\n",
       "      <td>Founder/CEO/President</td>\n",
       "      <td>2018</td>\n",
       "      <td>2018</td>\n",
       "      <td>Toronto, ON</td>\n",
       "      <td>Female</td>\n",
       "      <td>Mydoh</td>\n",
       "      <td>Fintech</td>\n",
       "      <td>Connected</td>\n",
       "      <td>False</td>\n",
       "      <td>True</td>\n",
       "      <td>False</td>\n",
       "      <td>University of Toronto</td>\n",
       "    </tr>\n",
       "    <tr>\n",
       "      <th>1</th>\n",
       "      <td>2</td>\n",
       "      <td>2022-06-01</td>\n",
       "      <td>Mike D</td>\n",
       "      <td>VP</td>\n",
       "      <td>2010</td>\n",
       "      <td>2016</td>\n",
       "      <td>Toronto, ON</td>\n",
       "      <td>Male</td>\n",
       "      <td>RBC</td>\n",
       "      <td>Fintech</td>\n",
       "      <td>Connected</td>\n",
       "      <td>False</td>\n",
       "      <td>True</td>\n",
       "      <td>False</td>\n",
       "      <td>University of Delaware</td>\n",
       "    </tr>\n",
       "    <tr>\n",
       "      <th>2</th>\n",
       "      <td>3</td>\n",
       "      <td>2022-06-01</td>\n",
       "      <td>Beren U</td>\n",
       "      <td>Ambassador</td>\n",
       "      <td>2022</td>\n",
       "      <td>2022</td>\n",
       "      <td>Toronto, ON</td>\n",
       "      <td>Male</td>\n",
       "      <td>Crypto.com</td>\n",
       "      <td>Fintech</td>\n",
       "      <td>Connected</td>\n",
       "      <td>True</td>\n",
       "      <td>True</td>\n",
       "      <td>False</td>\n",
       "      <td>University of Toronto</td>\n",
       "    </tr>\n",
       "    <tr>\n",
       "      <th>3</th>\n",
       "      <td>4</td>\n",
       "      <td>2022-06-01</td>\n",
       "      <td>Yili Z</td>\n",
       "      <td>Analyst</td>\n",
       "      <td>2021</td>\n",
       "      <td>2021</td>\n",
       "      <td>Toronto, ON</td>\n",
       "      <td>Female</td>\n",
       "      <td>Purpose Investments</td>\n",
       "      <td>Fintech</td>\n",
       "      <td>Unconnected</td>\n",
       "      <td>False</td>\n",
       "      <td>True</td>\n",
       "      <td>False</td>\n",
       "      <td>York University</td>\n",
       "    </tr>\n",
       "    <tr>\n",
       "      <th>4</th>\n",
       "      <td>5</td>\n",
       "      <td>2022-06-01</td>\n",
       "      <td>Jeffery S</td>\n",
       "      <td>Manager</td>\n",
       "      <td>2017</td>\n",
       "      <td>2021</td>\n",
       "      <td>Toronto, ON</td>\n",
       "      <td>Male</td>\n",
       "      <td>OPTrust</td>\n",
       "      <td>Fintech</td>\n",
       "      <td>Connected</td>\n",
       "      <td>False</td>\n",
       "      <td>True</td>\n",
       "      <td>False</td>\n",
       "      <td>Georgia Institute of Technology</td>\n",
       "    </tr>\n",
       "    <tr>\n",
       "      <th>...</th>\n",
       "      <td>...</td>\n",
       "      <td>...</td>\n",
       "      <td>...</td>\n",
       "      <td>...</td>\n",
       "      <td>...</td>\n",
       "      <td>...</td>\n",
       "      <td>...</td>\n",
       "      <td>...</td>\n",
       "      <td>...</td>\n",
       "      <td>...</td>\n",
       "      <td>...</td>\n",
       "      <td>...</td>\n",
       "      <td>...</td>\n",
       "      <td>...</td>\n",
       "      <td>...</td>\n",
       "    </tr>\n",
       "    <tr>\n",
       "      <th>308</th>\n",
       "      <td>309</td>\n",
       "      <td>2022-07-05</td>\n",
       "      <td>Costas G</td>\n",
       "      <td>Founder/CEO/President</td>\n",
       "      <td>2017</td>\n",
       "      <td>2017</td>\n",
       "      <td>Beijing, China</td>\n",
       "      <td>Male</td>\n",
       "      <td>BeHive</td>\n",
       "      <td>Education</td>\n",
       "      <td>Connected</td>\n",
       "      <td>False</td>\n",
       "      <td>False</td>\n",
       "      <td>False</td>\n",
       "      <td>UCL</td>\n",
       "    </tr>\n",
       "    <tr>\n",
       "      <th>309</th>\n",
       "      <td>310</td>\n",
       "      <td>2022-07-05</td>\n",
       "      <td>Ryan W</td>\n",
       "      <td>Founder/CEO/President</td>\n",
       "      <td>2022</td>\n",
       "      <td>2022</td>\n",
       "      <td>Toronto, ON</td>\n",
       "      <td>Male</td>\n",
       "      <td>Wavemaker</td>\n",
       "      <td>Marketing</td>\n",
       "      <td>Connected</td>\n",
       "      <td>False</td>\n",
       "      <td>False</td>\n",
       "      <td>False</td>\n",
       "      <td>Griffith University</td>\n",
       "    </tr>\n",
       "    <tr>\n",
       "      <th>310</th>\n",
       "      <td>311</td>\n",
       "      <td>2022-07-05</td>\n",
       "      <td>Idil Y</td>\n",
       "      <td>Specialist</td>\n",
       "      <td>2021</td>\n",
       "      <td>2021</td>\n",
       "      <td>Toronto, ON</td>\n",
       "      <td>Male</td>\n",
       "      <td>MediaCom Canada</td>\n",
       "      <td>Marketing</td>\n",
       "      <td>Connected</td>\n",
       "      <td>False</td>\n",
       "      <td>False</td>\n",
       "      <td>False</td>\n",
       "      <td>Humber College</td>\n",
       "    </tr>\n",
       "    <tr>\n",
       "      <th>311</th>\n",
       "      <td>312</td>\n",
       "      <td>2022-07-05</td>\n",
       "      <td>Nitsan B</td>\n",
       "      <td>Founder/CEO/President</td>\n",
       "      <td>2022</td>\n",
       "      <td>2022</td>\n",
       "      <td>Toronto, ON</td>\n",
       "      <td>Female</td>\n",
       "      <td>Brand &amp; Co.</td>\n",
       "      <td>Marketing</td>\n",
       "      <td>Connected</td>\n",
       "      <td>False</td>\n",
       "      <td>False</td>\n",
       "      <td>False</td>\n",
       "      <td>Queen's University</td>\n",
       "    </tr>\n",
       "    <tr>\n",
       "      <th>312</th>\n",
       "      <td>313</td>\n",
       "      <td>2022-07-05</td>\n",
       "      <td>Kieran Miles</td>\n",
       "      <td>CSO</td>\n",
       "      <td>2015</td>\n",
       "      <td>2022</td>\n",
       "      <td>Toronto, ON</td>\n",
       "      <td>Male</td>\n",
       "      <td>MediaCom Canada</td>\n",
       "      <td>Marketing</td>\n",
       "      <td>Connected</td>\n",
       "      <td>False</td>\n",
       "      <td>False</td>\n",
       "      <td>False</td>\n",
       "      <td>University of Sheffield</td>\n",
       "    </tr>\n",
       "  </tbody>\n",
       "</table>\n",
       "<p>313 rows × 15 columns</p>\n",
       "</div>"
      ],
      "text/plain": [
       "     Number Reach-outDate          Name               Position  \\\n",
       "0         1    2022-06-01       Faria R  Founder/CEO/President   \n",
       "1         2    2022-06-01        Mike D                     VP   \n",
       "2         3    2022-06-01       Beren U             Ambassador   \n",
       "3         4    2022-06-01        Yili Z                Analyst   \n",
       "4         5    2022-06-01     Jeffery S                Manager   \n",
       "..      ...           ...           ...                    ...   \n",
       "308     309    2022-07-05      Costas G  Founder/CEO/President   \n",
       "309     310    2022-07-05        Ryan W  Founder/CEO/President   \n",
       "310     311    2022-07-05        Idil Y             Specialist   \n",
       "311     312    2022-07-05      Nitsan B  Founder/CEO/President   \n",
       "312     313    2022-07-05  Kieran Miles                    CSO   \n",
       "\n",
       "     CompanyStartTime  PositionStartTime        Location  Gender  \\\n",
       "0                2018               2018     Toronto, ON  Female   \n",
       "1                2010               2016     Toronto, ON    Male   \n",
       "2                2022               2022     Toronto, ON    Male   \n",
       "3                2021               2021     Toronto, ON  Female   \n",
       "4                2017               2021     Toronto, ON    Male   \n",
       "..                ...                ...             ...     ...   \n",
       "308              2017               2017  Beijing, China    Male   \n",
       "309              2022               2022     Toronto, ON    Male   \n",
       "310              2021               2021     Toronto, ON    Male   \n",
       "311              2022               2022     Toronto, ON  Female   \n",
       "312              2015               2022     Toronto, ON    Male   \n",
       "\n",
       "             CompanyName   Industry       Status  Reply  W/Message  \\\n",
       "0                  Mydoh    Fintech    Connected  False       True   \n",
       "1                    RBC    Fintech    Connected  False       True   \n",
       "2             Crypto.com    Fintech    Connected   True       True   \n",
       "3    Purpose Investments    Fintech  Unconnected  False       True   \n",
       "4                OPTrust    Fintech    Connected  False       True   \n",
       "..                   ...        ...          ...    ...        ...   \n",
       "308               BeHive  Education    Connected  False      False   \n",
       "309           Wavemaker   Marketing    Connected  False      False   \n",
       "310      MediaCom Canada  Marketing    Connected  False      False   \n",
       "311          Brand & Co.  Marketing    Connected  False      False   \n",
       "312      MediaCom Canada  Marketing    Connected  False      False   \n",
       "\n",
       "     Potentially                        Education  \n",
       "0          False            University of Toronto  \n",
       "1          False           University of Delaware  \n",
       "2          False            University of Toronto  \n",
       "3          False                  York University  \n",
       "4          False  Georgia Institute of Technology  \n",
       "..           ...                              ...  \n",
       "308        False                              UCL  \n",
       "309        False              Griffith University  \n",
       "310        False                   Humber College  \n",
       "311        False               Queen's University  \n",
       "312        False          University of Sheffield  \n",
       "\n",
       "[313 rows x 15 columns]"
      ]
     },
     "execution_count": 3,
     "metadata": {},
     "output_type": "execute_result"
    }
   ],
   "source": [
    "dfRaw"
   ]
  },
  {
   "cell_type": "code",
   "execution_count": 4,
   "id": "cb1281db-7425-424d-9cbc-f08a694f98ad",
   "metadata": {},
   "outputs": [
    {
     "data": {
      "text/plain": [
       "<bound method DataFrame.info of      Number Reach-outDate          Name               Position  \\\n",
       "0         1    2022-06-01       Faria R  Founder/CEO/President   \n",
       "1         2    2022-06-01        Mike D                     VP   \n",
       "2         3    2022-06-01       Beren U             Ambassador   \n",
       "3         4    2022-06-01        Yili Z                Analyst   \n",
       "4         5    2022-06-01     Jeffery S                Manager   \n",
       "..      ...           ...           ...                    ...   \n",
       "308     309    2022-07-05      Costas G  Founder/CEO/President   \n",
       "309     310    2022-07-05        Ryan W  Founder/CEO/President   \n",
       "310     311    2022-07-05        Idil Y             Specialist   \n",
       "311     312    2022-07-05      Nitsan B  Founder/CEO/President   \n",
       "312     313    2022-07-05  Kieran Miles                    CSO   \n",
       "\n",
       "     CompanyStartTime  PositionStartTime        Location  Gender  \\\n",
       "0                2018               2018     Toronto, ON  Female   \n",
       "1                2010               2016     Toronto, ON    Male   \n",
       "2                2022               2022     Toronto, ON    Male   \n",
       "3                2021               2021     Toronto, ON  Female   \n",
       "4                2017               2021     Toronto, ON    Male   \n",
       "..                ...                ...             ...     ...   \n",
       "308              2017               2017  Beijing, China    Male   \n",
       "309              2022               2022     Toronto, ON    Male   \n",
       "310              2021               2021     Toronto, ON    Male   \n",
       "311              2022               2022     Toronto, ON  Female   \n",
       "312              2015               2022     Toronto, ON    Male   \n",
       "\n",
       "             CompanyName   Industry       Status  Reply  W/Message  \\\n",
       "0                  Mydoh    Fintech    Connected  False       True   \n",
       "1                    RBC    Fintech    Connected  False       True   \n",
       "2             Crypto.com    Fintech    Connected   True       True   \n",
       "3    Purpose Investments    Fintech  Unconnected  False       True   \n",
       "4                OPTrust    Fintech    Connected  False       True   \n",
       "..                   ...        ...          ...    ...        ...   \n",
       "308               BeHive  Education    Connected  False      False   \n",
       "309           Wavemaker   Marketing    Connected  False      False   \n",
       "310      MediaCom Canada  Marketing    Connected  False      False   \n",
       "311          Brand & Co.  Marketing    Connected  False      False   \n",
       "312      MediaCom Canada  Marketing    Connected  False      False   \n",
       "\n",
       "     Potentially                        Education  \n",
       "0          False            University of Toronto  \n",
       "1          False           University of Delaware  \n",
       "2          False            University of Toronto  \n",
       "3          False                  York University  \n",
       "4          False  Georgia Institute of Technology  \n",
       "..           ...                              ...  \n",
       "308        False                              UCL  \n",
       "309        False              Griffith University  \n",
       "310        False                   Humber College  \n",
       "311        False               Queen's University  \n",
       "312        False          University of Sheffield  \n",
       "\n",
       "[313 rows x 15 columns]>"
      ]
     },
     "execution_count": 4,
     "metadata": {},
     "output_type": "execute_result"
    }
   ],
   "source": [
    "dfRaw.info"
   ]
  },
  {
   "cell_type": "code",
   "execution_count": 5,
   "id": "fcde3851-a08b-4097-886e-1e1e77e4fe08",
   "metadata": {},
   "outputs": [
    {
     "data": {
      "text/plain": [
       "Number                        int64\n",
       "Reach-outDate        datetime64[ns]\n",
       "Name                         object\n",
       "Position                     object\n",
       "CompanyStartTime              int64\n",
       "PositionStartTime             int64\n",
       "Location                     object\n",
       "Gender                       object\n",
       "CompanyName                  object\n",
       "Industry                     object\n",
       "Status                       object\n",
       "Reply                          bool\n",
       "W/Message                      bool\n",
       "Potentially                    bool\n",
       "Education                    object\n",
       "dtype: object"
      ]
     },
     "execution_count": 5,
     "metadata": {},
     "output_type": "execute_result"
    }
   ],
   "source": [
    "dfRaw.dtypes"
   ]
  },
  {
   "cell_type": "code",
   "execution_count": 6,
   "id": "ad7505d8-72c1-43e5-8fae-3e33e99742a2",
   "metadata": {},
   "outputs": [
    {
     "data": {
      "text/html": [
       "<div>\n",
       "<style scoped>\n",
       "    .dataframe tbody tr th:only-of-type {\n",
       "        vertical-align: middle;\n",
       "    }\n",
       "\n",
       "    .dataframe tbody tr th {\n",
       "        vertical-align: top;\n",
       "    }\n",
       "\n",
       "    .dataframe thead th {\n",
       "        text-align: right;\n",
       "    }\n",
       "</style>\n",
       "<table border=\"1\" class=\"dataframe\">\n",
       "  <thead>\n",
       "    <tr style=\"text-align: right;\">\n",
       "      <th></th>\n",
       "      <th>Number</th>\n",
       "      <th>CompanyStartTime</th>\n",
       "      <th>PositionStartTime</th>\n",
       "    </tr>\n",
       "  </thead>\n",
       "  <tbody>\n",
       "    <tr>\n",
       "      <th>count</th>\n",
       "      <td>313.00000</td>\n",
       "      <td>313.000000</td>\n",
       "      <td>313.000000</td>\n",
       "    </tr>\n",
       "    <tr>\n",
       "      <th>mean</th>\n",
       "      <td>157.00000</td>\n",
       "      <td>2016.753994</td>\n",
       "      <td>2018.287540</td>\n",
       "    </tr>\n",
       "    <tr>\n",
       "      <th>std</th>\n",
       "      <td>90.49954</td>\n",
       "      <td>5.749598</td>\n",
       "      <td>4.039914</td>\n",
       "    </tr>\n",
       "    <tr>\n",
       "      <th>min</th>\n",
       "      <td>1.00000</td>\n",
       "      <td>1981.000000</td>\n",
       "      <td>1992.000000</td>\n",
       "    </tr>\n",
       "    <tr>\n",
       "      <th>25%</th>\n",
       "      <td>79.00000</td>\n",
       "      <td>2015.000000</td>\n",
       "      <td>2018.000000</td>\n",
       "    </tr>\n",
       "    <tr>\n",
       "      <th>50%</th>\n",
       "      <td>157.00000</td>\n",
       "      <td>2018.000000</td>\n",
       "      <td>2019.000000</td>\n",
       "    </tr>\n",
       "    <tr>\n",
       "      <th>75%</th>\n",
       "      <td>235.00000</td>\n",
       "      <td>2021.000000</td>\n",
       "      <td>2021.000000</td>\n",
       "    </tr>\n",
       "    <tr>\n",
       "      <th>max</th>\n",
       "      <td>313.00000</td>\n",
       "      <td>2022.000000</td>\n",
       "      <td>2022.000000</td>\n",
       "    </tr>\n",
       "  </tbody>\n",
       "</table>\n",
       "</div>"
      ],
      "text/plain": [
       "          Number  CompanyStartTime  PositionStartTime\n",
       "count  313.00000        313.000000         313.000000\n",
       "mean   157.00000       2016.753994        2018.287540\n",
       "std     90.49954          5.749598           4.039914\n",
       "min      1.00000       1981.000000        1992.000000\n",
       "25%     79.00000       2015.000000        2018.000000\n",
       "50%    157.00000       2018.000000        2019.000000\n",
       "75%    235.00000       2021.000000        2021.000000\n",
       "max    313.00000       2022.000000        2022.000000"
      ]
     },
     "execution_count": 6,
     "metadata": {},
     "output_type": "execute_result"
    }
   ],
   "source": [
    "dfRaw.describe()"
   ]
  },
  {
   "cell_type": "code",
   "execution_count": 7,
   "id": "cf2503e5-d2c6-443d-bef4-65a93bfc157a",
   "metadata": {},
   "outputs": [
    {
     "data": {
      "text/plain": [
       "4695"
      ]
     },
     "execution_count": 7,
     "metadata": {},
     "output_type": "execute_result"
    }
   ],
   "source": [
    "dfRaw.size"
   ]
  },
  {
   "cell_type": "code",
   "execution_count": 8,
   "id": "2be8d0a9-edb2-4287-bfd4-c71e1fe5521d",
   "metadata": {},
   "outputs": [
    {
     "data": {
      "text/plain": [
       "(313, 15)"
      ]
     },
     "execution_count": 8,
     "metadata": {},
     "output_type": "execute_result"
    }
   ],
   "source": [
    "dfRaw.shape"
   ]
  },
  {
   "cell_type": "code",
   "execution_count": 9,
   "id": "69bc44b7-458b-493e-a408-8aa461dd036f",
   "metadata": {},
   "outputs": [
    {
     "data": {
      "text/plain": [
       "4695"
      ]
     },
     "execution_count": 9,
     "metadata": {},
     "output_type": "execute_result"
    }
   ],
   "source": [
    "dfRaw.shape[0] * dfRaw.shape[1]"
   ]
  },
  {
   "cell_type": "code",
   "execution_count": 10,
   "id": "44603cfd-7be1-42d9-8790-83d8582996ac",
   "metadata": {},
   "outputs": [
    {
     "data": {
      "text/plain": [
       "Index(['Number', 'Reach-outDate', 'Name', 'Position', 'CompanyStartTime',\n",
       "       'PositionStartTime', 'Location', 'Gender', 'CompanyName', 'Industry',\n",
       "       'Status', 'Reply', 'W/Message', 'Potentially', 'Education'],\n",
       "      dtype='object')"
      ]
     },
     "execution_count": 10,
     "metadata": {},
     "output_type": "execute_result"
    }
   ],
   "source": [
    "dfRaw.columns"
   ]
  },
  {
   "cell_type": "code",
   "execution_count": 11,
   "id": "4441c136-75d2-4797-9f29-bf0919431d13",
   "metadata": {},
   "outputs": [
    {
     "data": {
      "text/plain": [
       "Unconnected    205\n",
       "Connected      108\n",
       "Name: Status, dtype: int64"
      ]
     },
     "execution_count": 11,
     "metadata": {},
     "output_type": "execute_result"
    }
   ],
   "source": [
    "dfRaw['Status'].value_counts()"
   ]
  },
  {
   "cell_type": "code",
   "execution_count": 12,
   "id": "0ed9176b-73d0-4af7-a64a-f20818e2157e",
   "metadata": {},
   "outputs": [
    {
     "data": {
      "text/plain": [
       "Status\n",
       "Connected      108\n",
       "Unconnected    205\n",
       "dtype: int64"
      ]
     },
     "execution_count": 12,
     "metadata": {},
     "output_type": "execute_result"
    }
   ],
   "source": [
    "dfRaw.groupby(['Status']).size()"
   ]
  },
  {
   "cell_type": "code",
   "execution_count": 13,
   "id": "09f453f1-63d6-42a9-9fa4-ef1f7840435c",
   "metadata": {},
   "outputs": [
    {
     "data": {
      "text/plain": [
       "Industry\n",
       "Accounting                          2\n",
       "Consulting                          9\n",
       "DS/Fintech                          1\n",
       "DS/ML                               1\n",
       "Design                              1\n",
       "Education                           2\n",
       "Engineering                        17\n",
       "Environmental Services Addison      2\n",
       "Fintech                            25\n",
       "Food & Beverages                    2\n",
       "HR                                  3\n",
       "Healthcare                         51\n",
       "Libraries                           1\n",
       "Logisitics                         12\n",
       "Manufacturing                       9\n",
       "Marketing                         143\n",
       "Media                               4\n",
       "PR/Communications                   2\n",
       "Pet Services                        1\n",
       "Photography                         1\n",
       "Research                            2\n",
       "Security                            1\n",
       "Technology                         20\n",
       "Travel                              1\n",
       "dtype: int64"
      ]
     },
     "execution_count": 13,
     "metadata": {},
     "output_type": "execute_result"
    }
   ],
   "source": [
    "dfRaw.groupby(['Industry']).size()"
   ]
  },
  {
   "cell_type": "code",
   "execution_count": 14,
   "id": "ca05671b-ae02-4609-b7ca-c268a64909f2",
   "metadata": {},
   "outputs": [
    {
     "data": {
      "text/plain": [
       "Reach-outDate  Industry  \n",
       "2022-06-01     DS/Fintech     1\n",
       "               DS/ML          1\n",
       "               Fintech       21\n",
       "2022-06-02     Marketing     36\n",
       "2022-06-03     Accounting     2\n",
       "                             ..\n",
       "2022-07-05     Consulting     1\n",
       "               Education      1\n",
       "               Healthcare     1\n",
       "               Marketing     13\n",
       "               Technology     2\n",
       "Length: 64, dtype: int64"
      ]
     },
     "execution_count": 14,
     "metadata": {},
     "output_type": "execute_result"
    }
   ],
   "source": [
    "dfRaw.groupby(['Reach-outDate', 'Industry']).size()"
   ]
  },
  {
   "cell_type": "code",
   "execution_count": 15,
   "id": "87854fe3-fbe4-43b5-96a5-7b6d53a732ab",
   "metadata": {},
   "outputs": [
    {
     "data": {
      "text/plain": [
       "Reach-outDate  Industry    Reply\n",
       "2022-06-01     DS/Fintech  False     1\n",
       "               DS/ML       False     1\n",
       "               Fintech     False    18\n",
       "                           True      3\n",
       "2022-06-02     Marketing   False    33\n",
       "                                    ..\n",
       "2022-07-05     Consulting  False     1\n",
       "               Education   False     1\n",
       "               Healthcare  False     1\n",
       "               Marketing   False    13\n",
       "               Technology  False     2\n",
       "Length: 71, dtype: int64"
      ]
     },
     "execution_count": 15,
     "metadata": {},
     "output_type": "execute_result"
    }
   ],
   "source": [
    "dfRaw.groupby(['Reach-outDate', 'Industry', 'Reply']).size()"
   ]
  },
  {
   "cell_type": "code",
   "execution_count": 16,
   "id": "7574143a-a278-4533-9d41-bd477e71444e",
   "metadata": {},
   "outputs": [
    {
     "data": {
      "text/plain": [
       "Position\n",
       "Ambassador                                                        1\n",
       "Analyst                                                           6\n",
       "Associate                                                         3\n",
       "BoardFounder/CEO/PresidentMember                                  2\n",
       "BusinessFounder/CEO/PresidentDevelopment                          7\n",
       "CFO                                                               1\n",
       "CMO                                                               1\n",
       "COO                                                               2\n",
       "CRO                                                               1\n",
       "CSO                                                               2\n",
       "CTO                                                               1\n",
       "Consultant                                                        6\n",
       "Coordinator                                                       5\n",
       "Designer                                                          2\n",
       "Developer                                                         1\n",
       "Director                                                         12\n",
       "Engineer                                                          2\n",
       "Founder/CEO/President                                           183\n",
       "HeadFounder/CEO/PresidentofFounder/CEO/PresidentMarketing         2\n",
       "HeadFounder/CEO/PresidentofFounder/CEO/PresidentMonetization      1\n",
       "HeadFounder/CEO/PresidentofFounder/CEO/PresidentOperations        1\n",
       "Instructor                                                        1\n",
       "Manager                                                          37\n",
       "Partner                                                           3\n",
       "Scientist                                                         1\n",
       "Specialist                                                       15\n",
       "Strategist                                                        1\n",
       "VP                                                               13\n",
       "dtype: int64"
      ]
     },
     "execution_count": 16,
     "metadata": {},
     "output_type": "execute_result"
    }
   ],
   "source": [
    "dfRaw.groupby(['Position']).size()"
   ]
  },
  {
   "cell_type": "code",
   "execution_count": 17,
   "id": "fc858279-94f8-44cc-afde-d780ceb2eb0c",
   "metadata": {},
   "outputs": [
    {
     "data": {
      "text/plain": [
       "<AxesSubplot:xlabel='Position'>"
      ]
     },
     "execution_count": 17,
     "metadata": {},
     "output_type": "execute_result"
    },
    {
     "data": {
      "image/png": "[encoded data removed]",
      "text/plain": [
       "<Figure size 432x288 with 1 Axes>"
      ]
     },
     "metadata": {
      "needs_background": "light"
     },
     "output_type": "display_data"
    }
   ],
   "source": [
    "dfRaw.groupby(['Position']).size().plot(kind = 'bar')"
   ]
  },
  {
   "cell_type": "code",
   "execution_count": 18,
   "id": "47375671-abe8-47e8-8df8-c940837f2605",
   "metadata": {},
   "outputs": [
    {
     "data": {
      "text/plain": [
       "Position                                                      Reply\n",
       "Ambassador                                                    True       1\n",
       "Analyst                                                       False      6\n",
       "Associate                                                     False      3\n",
       "BoardFounder/CEO/PresidentMember                              False      2\n",
       "BusinessFounder/CEO/PresidentDevelopment                      False      7\n",
       "CFO                                                           False      1\n",
       "CMO                                                           False      1\n",
       "COO                                                           False      2\n",
       "CRO                                                           False      1\n",
       "CSO                                                           False      2\n",
       "CTO                                                           False      1\n",
       "Consultant                                                    False      5\n",
       "                                                              True       1\n",
       "Coordinator                                                   False      5\n",
       "Designer                                                      False      2\n",
       "Developer                                                     False      1\n",
       "Director                                                      False     12\n",
       "Engineer                                                      False      2\n",
       "Founder/CEO/President                                         False    177\n",
       "                                                              True       6\n",
       "HeadFounder/CEO/PresidentofFounder/CEO/PresidentMarketing     False      2\n",
       "HeadFounder/CEO/PresidentofFounder/CEO/PresidentMonetization  False      1\n",
       "HeadFounder/CEO/PresidentofFounder/CEO/PresidentOperations    False      1\n",
       "Instructor                                                    False      1\n",
       "Manager                                                       False     34\n",
       "                                                              True       3\n",
       "Partner                                                       False      3\n",
       "Scientist                                                     False      1\n",
       "Specialist                                                    False     15\n",
       "Strategist                                                    False      1\n",
       "VP                                                            False     13\n",
       "dtype: int64"
      ]
     },
     "execution_count": 18,
     "metadata": {},
     "output_type": "execute_result"
    }
   ],
   "source": [
    "dfRaw.groupby(['Position', 'Reply']).size()"
   ]
  },
  {
   "cell_type": "code",
   "execution_count": null,
   "id": "469000d5-3b03-4f17-9d51-b8d210fb9ca4",
   "metadata": {},
   "outputs": [],
   "source": []
  },
  {
   "cell_type": "code",
   "execution_count": 19,
   "id": "8b5fa89f-2a50-4bdc-b862-894690d412ba",
   "metadata": {},
   "outputs": [
    {
     "data": {
      "text/plain": [
       "<AxesSubplot:xlabel='Industry'>"
      ]
     },
     "execution_count": 19,
     "metadata": {},
     "output_type": "execute_result"
    },
    {
     "data": {
      "image/png": "[encoded data removed]",
      "text/plain": [
       "<Figure size 432x288 with 1 Axes>"
      ]
     },
     "metadata": {
      "needs_background": "light"
     },
     "output_type": "display_data"
    }
   ],
   "source": [
    "dfRaw.groupby(['Industry']).size().plot(kind = 'bar')"
   ]
  },
  {
   "cell_type": "code",
   "execution_count": 20,
   "id": "3ca705bb-5e90-423a-83a7-2da8ab87deec",
   "metadata": {},
   "outputs": [
    {
     "data": {
      "text/plain": [
       "Index(['Number', 'Reach-outDate', 'Name', 'Position', 'CompanyStartTime',\n",
       "       'PositionStartTime', 'Location', 'Gender', 'CompanyName', 'Industry',\n",
       "       'Status', 'Reply', 'W/Message', 'Potentially', 'Education'],\n",
       "      dtype='object')"
      ]
     },
     "execution_count": 20,
     "metadata": {},
     "output_type": "execute_result"
    }
   ],
   "source": [
    "dfRaw.columns"
   ]
  },
  {
   "cell_type": "code",
   "execution_count": 21,
   "id": "7ea75d8c-d97c-40ca-9f6e-68afd16fedd8",
   "metadata": {},
   "outputs": [],
   "source": [
    "mask = dfRaw.groupby(['CompanyName']).size() > 1"
   ]
  },
  {
   "cell_type": "code",
   "execution_count": 22,
   "id": "376480c1-cbce-4e72-b989-eb65c3b53edb",
   "metadata": {},
   "outputs": [
    {
     "data": {
      "text/plain": [
       "CompanyName\n",
       "2Social Inc.        False\n",
       "99 Wine Cellar      False\n",
       "A-MM                False\n",
       "Accenture           False\n",
       "Acorn Biolabs       False\n",
       "                    ...  \n",
       "el LinKe             True\n",
       "leanStream          False\n",
       "openGravity         False\n",
       "the creative lab    False\n",
       "uCarenet            False\n",
       "Length: 284, dtype: bool"
      ]
     },
     "execution_count": 22,
     "metadata": {},
     "output_type": "execute_result"
    }
   ],
   "source": [
    "dfRaw.groupby(['CompanyName']).size() > 1"
   ]
  },
  {
   "cell_type": "code",
   "execution_count": 23,
   "id": "0784538f-4ef0-45af-ae36-988960bac9a4",
   "metadata": {},
   "outputs": [],
   "source": [
    "mask = dfRaw.CompanyName.value_counts() > 1"
   ]
  },
  {
   "cell_type": "code",
   "execution_count": 24,
   "id": "e44bc051-18b3-43ab-b5c8-91d4ec3e6674",
   "metadata": {},
   "outputs": [
    {
     "data": {
      "text/plain": [
       "(284,)"
      ]
     },
     "execution_count": 24,
     "metadata": {},
     "output_type": "execute_result"
    }
   ],
   "source": [
    "mask.shape"
   ]
  },
  {
   "cell_type": "code",
   "execution_count": 25,
   "id": "fe375f4b-2ee3-4a47-8f2c-402ed8537fef",
   "metadata": {},
   "outputs": [
    {
     "data": {
      "text/plain": [
       "(313,)"
      ]
     },
     "execution_count": 25,
     "metadata": {},
     "output_type": "execute_result"
    }
   ],
   "source": [
    "dfRaw.Name.shape"
   ]
  },
  {
   "cell_type": "code",
   "execution_count": 26,
   "id": "f1d65a80-404b-481b-8ec4-3b060c690827",
   "metadata": {},
   "outputs": [
    {
     "data": {
      "text/plain": [
       "(284,)"
      ]
     },
     "execution_count": 26,
     "metadata": {},
     "output_type": "execute_result"
    }
   ],
   "source": [
    "mask.ravel().shape"
   ]
  },
  {
   "cell_type": "code",
   "execution_count": 27,
   "id": "6a3f9a5d-9733-4014-b8c4-d344cba4b268",
   "metadata": {},
   "outputs": [
    {
     "data": {
      "text/plain": [
       "<bound method NDFrame._add_numeric_operations.<locals>.kurt of OPENMIND                            True\n",
       "Roadmap Agency Inc.                 True\n",
       "OutPoint                            True\n",
       "ProteinQure                         True\n",
       "Wavemaker                           True\n",
       "                                   ...  \n",
       "ROUTEDGE WLL                       False\n",
       "Tectonic Advisory Services Inc.    False\n",
       "Flemingdon Health Centre           False\n",
       "Cyclica                            False\n",
       "Brand & Co.                        False\n",
       "Name: CompanyName, Length: 284, dtype: bool>"
      ]
     },
     "execution_count": 27,
     "metadata": {},
     "output_type": "execute_result"
    }
   ],
   "source": [
    "mask.kurtosis"
   ]
  },
  {
   "cell_type": "code",
   "execution_count": 28,
   "id": "90baafad-7cf2-4a1c-ac4c-cb4650b426ff",
   "metadata": {},
   "outputs": [
    {
     "data": {
      "text/plain": [
       "array([ True,  True,  True,  True,  True,  True,  True,  True,  True,\n",
       "        True,  True,  True,  True,  True,  True,  True,  True,  True,\n",
       "        True,  True,  True,  True, False, False, False, False, False,\n",
       "       False, False, False, False, False, False, False, False, False,\n",
       "       False, False, False, False, False, False, False, False, False,\n",
       "       False, False, False, False, False, False, False, False, False,\n",
       "       False, False, False, False, False, False, False, False, False,\n",
       "       False, False, False, False, False, False, False, False, False,\n",
       "       False, False, False, False, False, False, False, False, False,\n",
       "       False, False, False, False, False, False, False, False, False,\n",
       "       False, False, False, False, False, False, False, False, False,\n",
       "       False, False, False, False, False, False, False, False, False,\n",
       "       False, False, False, False, False, False, False, False, False,\n",
       "       False, False, False, False, False, False, False, False, False,\n",
       "       False, False, False, False, False, False, False, False, False,\n",
       "       False, False, False, False, False, False, False, False, False,\n",
       "       False, False, False, False, False, False, False, False, False,\n",
       "       False, False, False, False, False, False, False, False, False,\n",
       "       False, False, False, False, False, False, False, False, False,\n",
       "       False, False, False, False, False, False, False, False, False,\n",
       "       False, False, False, False, False, False, False, False, False,\n",
       "       False, False, False, False, False, False, False, False, False,\n",
       "       False, False, False, False, False, False, False, False, False,\n",
       "       False, False, False, False, False, False, False, False, False,\n",
       "       False, False, False, False, False, False, False, False, False,\n",
       "       False, False, False, False, False, False, False, False, False,\n",
       "       False, False, False, False, False, False, False, False, False,\n",
       "       False, False, False, False, False, False, False, False, False,\n",
       "       False, False, False, False, False, False, False, False, False,\n",
       "       False, False, False, False, False, False, False, False, False,\n",
       "       False, False, False, False, False, False, False, False, False,\n",
       "       False, False, False, False, False])"
      ]
     },
     "execution_count": 28,
     "metadata": {},
     "output_type": "execute_result"
    }
   ],
   "source": [
    "mask.to_numpy()"
   ]
  },
  {
   "cell_type": "code",
   "execution_count": 29,
   "id": "b1660fe7-3613-456a-8178-d46d3ef6c10c",
   "metadata": {},
   "outputs": [
    {
     "ename": "ValueError",
     "evalue": "Item wrong length 284 instead of 313.",
     "output_type": "error",
     "traceback": [
      "\u001b[1;31m---------------------------------------------------------------------------\u001b[0m",
      "\u001b[1;31mValueError\u001b[0m                                Traceback (most recent call last)",
      "\u001b[1;32me:\\CubeStatistica\\LessonsAndBooks\\Learning-Data-Science-Properly-for-Work-and-Production-Using-Python\\EDA.ipynb Cell 30'\u001b[0m in \u001b[0;36m<cell line: 1>\u001b[1;34m()\u001b[0m\n\u001b[1;32m----> <a href='vscode-notebook-cell:/e%3A/CubeStatistica/LessonsAndBooks/Learning-Data-Science-Properly-for-Work-and-Production-Using-Python/EDA.ipynb#ch0000029?line=0'>1</a>\u001b[0m dfRaw[mask\u001b[39m.\u001b[39;49mravel()]\n",
      "File \u001b[1;32mc:\\Users\\Cube Statistica\\anaconda3\\lib\\site-packages\\pandas\\core\\frame.py:3496\u001b[0m, in \u001b[0;36mDataFrame.__getitem__\u001b[1;34m(self, key)\u001b[0m\n\u001b[0;32m   3494\u001b[0m \u001b[39m# Do we have a (boolean) 1d indexer?\u001b[39;00m\n\u001b[0;32m   3495\u001b[0m \u001b[39mif\u001b[39;00m com\u001b[39m.\u001b[39mis_bool_indexer(key):\n\u001b[1;32m-> 3496\u001b[0m     \u001b[39mreturn\u001b[39;00m \u001b[39mself\u001b[39;49m\u001b[39m.\u001b[39;49m_getitem_bool_array(key)\n\u001b[0;32m   3498\u001b[0m \u001b[39m# We are left with two options: a single key, and a collection of keys,\u001b[39;00m\n\u001b[0;32m   3499\u001b[0m \u001b[39m# We interpret tuples as collections only for non-MultiIndex\u001b[39;00m\n\u001b[0;32m   3500\u001b[0m is_single_key \u001b[39m=\u001b[39m \u001b[39misinstance\u001b[39m(key, \u001b[39mtuple\u001b[39m) \u001b[39mor\u001b[39;00m \u001b[39mnot\u001b[39;00m is_list_like(key)\n",
      "File \u001b[1;32mc:\\Users\\Cube Statistica\\anaconda3\\lib\\site-packages\\pandas\\core\\frame.py:3543\u001b[0m, in \u001b[0;36mDataFrame._getitem_bool_array\u001b[1;34m(self, key)\u001b[0m\n\u001b[0;32m   3537\u001b[0m     warnings\u001b[39m.\u001b[39mwarn(\n\u001b[0;32m   3538\u001b[0m         \u001b[39m\"\u001b[39m\u001b[39mBoolean Series key will be reindexed to match DataFrame index.\u001b[39m\u001b[39m\"\u001b[39m,\n\u001b[0;32m   3539\u001b[0m         \u001b[39mUserWarning\u001b[39;00m,\n\u001b[0;32m   3540\u001b[0m         stacklevel\u001b[39m=\u001b[39mfind_stack_level(),\n\u001b[0;32m   3541\u001b[0m     )\n\u001b[0;32m   3542\u001b[0m \u001b[39melif\u001b[39;00m \u001b[39mlen\u001b[39m(key) \u001b[39m!=\u001b[39m \u001b[39mlen\u001b[39m(\u001b[39mself\u001b[39m\u001b[39m.\u001b[39mindex):\n\u001b[1;32m-> 3543\u001b[0m     \u001b[39mraise\u001b[39;00m \u001b[39mValueError\u001b[39;00m(\n\u001b[0;32m   3544\u001b[0m         \u001b[39mf\u001b[39m\u001b[39m\"\u001b[39m\u001b[39mItem wrong length \u001b[39m\u001b[39m{\u001b[39;00m\u001b[39mlen\u001b[39m(key)\u001b[39m}\u001b[39;00m\u001b[39m instead of \u001b[39m\u001b[39m{\u001b[39;00m\u001b[39mlen\u001b[39m(\u001b[39mself\u001b[39m\u001b[39m.\u001b[39mindex)\u001b[39m}\u001b[39;00m\u001b[39m.\u001b[39m\u001b[39m\"\u001b[39m\n\u001b[0;32m   3545\u001b[0m     )\n\u001b[0;32m   3547\u001b[0m \u001b[39m# check_bool_indexer will throw exception if Series key cannot\u001b[39;00m\n\u001b[0;32m   3548\u001b[0m \u001b[39m# be reindexed to match DataFrame rows\u001b[39;00m\n\u001b[0;32m   3549\u001b[0m key \u001b[39m=\u001b[39m check_bool_indexer(\u001b[39mself\u001b[39m\u001b[39m.\u001b[39mindex, key)\n",
      "\u001b[1;31mValueError\u001b[0m: Item wrong length 284 instead of 313."
     ]
    }
   ],
   "source": [
    "dfRaw[mask.ravel()]"
   ]
  },
  {
   "cell_type": "code",
   "execution_count": null,
   "id": "7bb76e1f-c7fd-4fcb-9e91-f90954d4d813",
   "metadata": {},
   "outputs": [],
   "source": []
  },
  {
   "cell_type": "markdown",
   "id": "96d5a67a-f28a-4706-904e-a53beda4be8d",
   "metadata": {},
   "source": [
    "# Date manipulation"
   ]
  },
  {
   "cell_type": "markdown",
   "id": "ece8658a-73d6-4ab8-a44b-86239aebfa90",
   "metadata": {},
   "source": [
    "Adding column with name of month, name of day, and year. "
   ]
  },
  {
   "cell_type": "code",
   "execution_count": 30,
   "id": "d2fc6102-7621-4b6e-8f6f-c7efb1ce3ae4",
   "metadata": {},
   "outputs": [
    {
     "data": {
      "text/plain": [
       "Index(['Number', 'Reach-outDate', 'Name', 'Position', 'CompanyStartTime',\n",
       "       'PositionStartTime', 'Location', 'Gender', 'CompanyName', 'Industry',\n",
       "       'Status', 'Reply', 'W/Message', 'Potentially', 'Education'],\n",
       "      dtype='object')"
      ]
     },
     "execution_count": 30,
     "metadata": {},
     "output_type": "execute_result"
    }
   ],
   "source": [
    "dfRaw.columns"
   ]
  },
  {
   "cell_type": "code",
   "execution_count": 31,
   "id": "86a4dc58-be77-4434-95ce-9dc57c12d2fe",
   "metadata": {},
   "outputs": [
    {
     "data": {
      "text/plain": [
       "0           Faria R\n",
       "1            Mike D\n",
       "2           Beren U\n",
       "3            Yili Z\n",
       "4         Jeffery S\n",
       "           ...     \n",
       "308        Costas G\n",
       "309          Ryan W\n",
       "310          Idil Y\n",
       "311        Nitsan B\n",
       "312    Kieran Miles\n",
       "Name: Name, Length: 313, dtype: object"
      ]
     },
     "execution_count": 31,
     "metadata": {},
     "output_type": "execute_result"
    }
   ],
   "source": [
    "dfRaw.Name"
   ]
  },
  {
   "cell_type": "code",
   "execution_count": 32,
   "id": "3479c1f9-4412-42d6-ab39-27383d34e08b",
   "metadata": {},
   "outputs": [
    {
     "data": {
      "text/plain": [
       "0     2022-06-01\n",
       "1     2022-06-01\n",
       "2     2022-06-01\n",
       "3     2022-06-01\n",
       "4     2022-06-01\n",
       "         ...    \n",
       "308   2022-07-05\n",
       "309   2022-07-05\n",
       "310   2022-07-05\n",
       "311   2022-07-05\n",
       "312   2022-07-05\n",
       "Name: Reach-outDate, Length: 313, dtype: datetime64[ns]"
      ]
     },
     "execution_count": 32,
     "metadata": {},
     "output_type": "execute_result"
    }
   ],
   "source": [
    "dfRaw.iloc[:,1]"
   ]
  },
  {
   "cell_type": "code",
   "execution_count": 33,
   "id": "6a8b524a-7ef4-4b8c-b698-b95185025fe7",
   "metadata": {},
   "outputs": [
    {
     "data": {
      "text/plain": [
       "dtype('<M8[ns]')"
      ]
     },
     "execution_count": 33,
     "metadata": {},
     "output_type": "execute_result"
    }
   ],
   "source": [
    "dfRaw.iloc[:,1].dtypes"
   ]
  },
  {
   "cell_type": "code",
   "execution_count": 34,
   "id": "fb0fd573-c016-4ff0-97bf-0857762db0b1",
   "metadata": {},
   "outputs": [
    {
     "data": {
      "text/plain": [
       "0     2022-06-01\n",
       "1     2022-06-01\n",
       "2     2022-06-01\n",
       "3     2022-06-01\n",
       "4     2022-06-01\n",
       "         ...    \n",
       "308   2022-07-05\n",
       "309   2022-07-05\n",
       "310   2022-07-05\n",
       "311   2022-07-05\n",
       "312   2022-07-05\n",
       "Name: Reach-outDate, Length: 313, dtype: datetime64[ns]"
      ]
     },
     "execution_count": 34,
     "metadata": {},
     "output_type": "execute_result"
    }
   ],
   "source": [
    "dfRaw.iloc[:,1] # This extracts a specific column and converts that to a pandas Series. We can now apply all the methods of a pandas Series to this."
   ]
  },
  {
   "cell_type": "code",
   "execution_count": 35,
   "id": "19419080-137a-4854-b50e-fc3fe36df155",
   "metadata": {},
   "outputs": [
    {
     "data": {
      "text/plain": [
       "pandas.core.series.Series"
      ]
     },
     "execution_count": 35,
     "metadata": {},
     "output_type": "execute_result"
    }
   ],
   "source": [
    "type(dfRaw.iloc[:,1])"
   ]
  },
  {
   "cell_type": "code",
   "execution_count": 36,
   "id": "58867a14-9797-42e5-abce-65932dc68673",
   "metadata": {},
   "outputs": [
    {
     "data": {
      "text/plain": [
       "0      Wednesday\n",
       "1      Wednesday\n",
       "2      Wednesday\n",
       "3      Wednesday\n",
       "4      Wednesday\n",
       "         ...    \n",
       "308      Tuesday\n",
       "309      Tuesday\n",
       "310      Tuesday\n",
       "311      Tuesday\n",
       "312      Tuesday\n",
       "Name: Reach-outDate, Length: 313, dtype: object"
      ]
     },
     "execution_count": 36,
     "metadata": {},
     "output_type": "execute_result"
    }
   ],
   "source": [
    "dfRaw.iloc[:,1].dt.day_name()"
   ]
  },
  {
   "cell_type": "code",
   "execution_count": 37,
   "id": "822bea3a-c3c4-4d0b-afbb-1685b1ed2c0d",
   "metadata": {},
   "outputs": [
    {
     "data": {
      "text/plain": [
       "pandas.core.frame.DataFrame"
      ]
     },
     "execution_count": 37,
     "metadata": {},
     "output_type": "execute_result"
    }
   ],
   "source": [
    "type(dfRaw)"
   ]
  },
  {
   "cell_type": "code",
   "execution_count": 38,
   "id": "d1dd07d5-f6b0-46da-a64c-147f78e628a6",
   "metadata": {},
   "outputs": [],
   "source": [
    "Reach_Out_Date = dfRaw.iloc[:,[1]] # This extracts the specific column but keeps it as a dataframe."
   ]
  },
  {
   "cell_type": "code",
   "execution_count": 39,
   "id": "04ba1416-be0e-43a1-b63d-16a128f8bdce",
   "metadata": {},
   "outputs": [
    {
     "data": {
      "text/html": [
       "<div>\n",
       "<style scoped>\n",
       "    .dataframe tbody tr th:only-of-type {\n",
       "        vertical-align: middle;\n",
       "    }\n",
       "\n",
       "    .dataframe tbody tr th {\n",
       "        vertical-align: top;\n",
       "    }\n",
       "\n",
       "    .dataframe thead th {\n",
       "        text-align: right;\n",
       "    }\n",
       "</style>\n",
       "<table border=\"1\" class=\"dataframe\">\n",
       "  <thead>\n",
       "    <tr style=\"text-align: right;\">\n",
       "      <th></th>\n",
       "      <th>Reach-outDate</th>\n",
       "    </tr>\n",
       "  </thead>\n",
       "  <tbody>\n",
       "    <tr>\n",
       "      <th>0</th>\n",
       "      <td>2022-06-01</td>\n",
       "    </tr>\n",
       "    <tr>\n",
       "      <th>1</th>\n",
       "      <td>2022-06-01</td>\n",
       "    </tr>\n",
       "    <tr>\n",
       "      <th>2</th>\n",
       "      <td>2022-06-01</td>\n",
       "    </tr>\n",
       "    <tr>\n",
       "      <th>3</th>\n",
       "      <td>2022-06-01</td>\n",
       "    </tr>\n",
       "    <tr>\n",
       "      <th>4</th>\n",
       "      <td>2022-06-01</td>\n",
       "    </tr>\n",
       "    <tr>\n",
       "      <th>...</th>\n",
       "      <td>...</td>\n",
       "    </tr>\n",
       "    <tr>\n",
       "      <th>308</th>\n",
       "      <td>2022-07-05</td>\n",
       "    </tr>\n",
       "    <tr>\n",
       "      <th>309</th>\n",
       "      <td>2022-07-05</td>\n",
       "    </tr>\n",
       "    <tr>\n",
       "      <th>310</th>\n",
       "      <td>2022-07-05</td>\n",
       "    </tr>\n",
       "    <tr>\n",
       "      <th>311</th>\n",
       "      <td>2022-07-05</td>\n",
       "    </tr>\n",
       "    <tr>\n",
       "      <th>312</th>\n",
       "      <td>2022-07-05</td>\n",
       "    </tr>\n",
       "  </tbody>\n",
       "</table>\n",
       "<p>313 rows × 1 columns</p>\n",
       "</div>"
      ],
      "text/plain": [
       "    Reach-outDate\n",
       "0      2022-06-01\n",
       "1      2022-06-01\n",
       "2      2022-06-01\n",
       "3      2022-06-01\n",
       "4      2022-06-01\n",
       "..            ...\n",
       "308    2022-07-05\n",
       "309    2022-07-05\n",
       "310    2022-07-05\n",
       "311    2022-07-05\n",
       "312    2022-07-05\n",
       "\n",
       "[313 rows x 1 columns]"
      ]
     },
     "execution_count": 39,
     "metadata": {},
     "output_type": "execute_result"
    }
   ],
   "source": [
    "Reach_Out_Date"
   ]
  },
  {
   "cell_type": "code",
   "execution_count": 40,
   "id": "ff5953a6-949f-463e-b013-6494029350ef",
   "metadata": {},
   "outputs": [
    {
     "data": {
      "text/plain": [
       "pandas.core.frame.DataFrame"
      ]
     },
     "execution_count": 40,
     "metadata": {},
     "output_type": "execute_result"
    }
   ],
   "source": [
    "Reach_Out_Date.dtypes\n",
    "type(Reach_Out_Date)\n",
    "#type(dfRaw.Name)\n"
   ]
  },
  {
   "cell_type": "code",
   "execution_count": 41,
   "id": "ba7434f5-7a2f-4d95-bb3a-462b292d684b",
   "metadata": {},
   "outputs": [
    {
     "ename": "AttributeError",
     "evalue": "'DataFrame' object has no attribute 'dt'",
     "output_type": "error",
     "traceback": [
      "\u001b[1;31m---------------------------------------------------------------------------\u001b[0m",
      "\u001b[1;31mAttributeError\u001b[0m                            Traceback (most recent call last)",
      "\u001b[1;32me:\\CubeStatistica\\LessonsAndBooks\\Learning-Data-Science-Properly-for-Work-and-Production-Using-Python\\EDA.ipynb Cell 45'\u001b[0m in \u001b[0;36m<cell line: 1>\u001b[1;34m()\u001b[0m\n\u001b[1;32m----> <a href='vscode-notebook-cell:/e%3A/CubeStatistica/LessonsAndBooks/Learning-Data-Science-Properly-for-Work-and-Production-Using-Python/EDA.ipynb#ch0000044?line=0'>1</a>\u001b[0m Reach_Out_Date\u001b[39m.\u001b[39;49mdt\u001b[39m.\u001b[39mday_name()\n",
      "File \u001b[1;32mc:\\Users\\Cube Statistica\\anaconda3\\lib\\site-packages\\pandas\\core\\generic.py:5575\u001b[0m, in \u001b[0;36mNDFrame.__getattr__\u001b[1;34m(self, name)\u001b[0m\n\u001b[0;32m   5568\u001b[0m \u001b[39mif\u001b[39;00m (\n\u001b[0;32m   5569\u001b[0m     name \u001b[39mnot\u001b[39;00m \u001b[39min\u001b[39;00m \u001b[39mself\u001b[39m\u001b[39m.\u001b[39m_internal_names_set\n\u001b[0;32m   5570\u001b[0m     \u001b[39mand\u001b[39;00m name \u001b[39mnot\u001b[39;00m \u001b[39min\u001b[39;00m \u001b[39mself\u001b[39m\u001b[39m.\u001b[39m_metadata\n\u001b[0;32m   5571\u001b[0m     \u001b[39mand\u001b[39;00m name \u001b[39mnot\u001b[39;00m \u001b[39min\u001b[39;00m \u001b[39mself\u001b[39m\u001b[39m.\u001b[39m_accessors\n\u001b[0;32m   5572\u001b[0m     \u001b[39mand\u001b[39;00m \u001b[39mself\u001b[39m\u001b[39m.\u001b[39m_info_axis\u001b[39m.\u001b[39m_can_hold_identifiers_and_holds_name(name)\n\u001b[0;32m   5573\u001b[0m ):\n\u001b[0;32m   5574\u001b[0m     \u001b[39mreturn\u001b[39;00m \u001b[39mself\u001b[39m[name]\n\u001b[1;32m-> 5575\u001b[0m \u001b[39mreturn\u001b[39;00m \u001b[39mobject\u001b[39;49m\u001b[39m.\u001b[39;49m\u001b[39m__getattribute__\u001b[39;49m(\u001b[39mself\u001b[39;49m, name)\n",
      "\u001b[1;31mAttributeError\u001b[0m: 'DataFrame' object has no attribute 'dt'"
     ]
    }
   ],
   "source": [
    "Reach_Out_Date.dt.day_name() # This is a dataframe which does not have .dt method. Only Series do."
   ]
  },
  {
   "cell_type": "markdown",
   "id": "caab1caf-6329-4949-84d3-a14862e96a08",
   "metadata": {},
   "source": [
    "### Adding the day to the dataframe"
   ]
  },
  {
   "cell_type": "code",
   "execution_count": 42,
   "id": "37be9a8b-a598-4282-b5f8-f11c126cd9c5",
   "metadata": {},
   "outputs": [],
   "source": [
    "dfRaw['Day'] = dfRaw.iloc[:,1].dt.day_name()"
   ]
  },
  {
   "cell_type": "code",
   "execution_count": 43,
   "id": "707a1dfd-6470-43a4-93f7-f44079924230",
   "metadata": {},
   "outputs": [
    {
     "data": {
      "text/html": [
       "<div>\n",
       "<style scoped>\n",
       "    .dataframe tbody tr th:only-of-type {\n",
       "        vertical-align: middle;\n",
       "    }\n",
       "\n",
       "    .dataframe tbody tr th {\n",
       "        vertical-align: top;\n",
       "    }\n",
       "\n",
       "    .dataframe thead th {\n",
       "        text-align: right;\n",
       "    }\n",
       "</style>\n",
       "<table border=\"1\" class=\"dataframe\">\n",
       "  <thead>\n",
       "    <tr style=\"text-align: right;\">\n",
       "      <th></th>\n",
       "      <th>Number</th>\n",
       "      <th>Reach-outDate</th>\n",
       "      <th>Name</th>\n",
       "      <th>Position</th>\n",
       "      <th>CompanyStartTime</th>\n",
       "      <th>PositionStartTime</th>\n",
       "      <th>Location</th>\n",
       "      <th>Gender</th>\n",
       "      <th>CompanyName</th>\n",
       "      <th>Industry</th>\n",
       "      <th>Status</th>\n",
       "      <th>Reply</th>\n",
       "      <th>W/Message</th>\n",
       "      <th>Potentially</th>\n",
       "      <th>Education</th>\n",
       "      <th>Day</th>\n",
       "    </tr>\n",
       "  </thead>\n",
       "  <tbody>\n",
       "    <tr>\n",
       "      <th>0</th>\n",
       "      <td>1</td>\n",
       "      <td>2022-06-01</td>\n",
       "      <td>Faria R</td>\n",
       "      <td>Founder/CEO/President</td>\n",
       "      <td>2018</td>\n",
       "      <td>2018</td>\n",
       "      <td>Toronto, ON</td>\n",
       "      <td>Female</td>\n",
       "      <td>Mydoh</td>\n",
       "      <td>Fintech</td>\n",
       "      <td>Connected</td>\n",
       "      <td>False</td>\n",
       "      <td>True</td>\n",
       "      <td>False</td>\n",
       "      <td>University of Toronto</td>\n",
       "      <td>Wednesday</td>\n",
       "    </tr>\n",
       "    <tr>\n",
       "      <th>1</th>\n",
       "      <td>2</td>\n",
       "      <td>2022-06-01</td>\n",
       "      <td>Mike D</td>\n",
       "      <td>VP</td>\n",
       "      <td>2010</td>\n",
       "      <td>2016</td>\n",
       "      <td>Toronto, ON</td>\n",
       "      <td>Male</td>\n",
       "      <td>RBC</td>\n",
       "      <td>Fintech</td>\n",
       "      <td>Connected</td>\n",
       "      <td>False</td>\n",
       "      <td>True</td>\n",
       "      <td>False</td>\n",
       "      <td>University of Delaware</td>\n",
       "      <td>Wednesday</td>\n",
       "    </tr>\n",
       "    <tr>\n",
       "      <th>2</th>\n",
       "      <td>3</td>\n",
       "      <td>2022-06-01</td>\n",
       "      <td>Beren U</td>\n",
       "      <td>Ambassador</td>\n",
       "      <td>2022</td>\n",
       "      <td>2022</td>\n",
       "      <td>Toronto, ON</td>\n",
       "      <td>Male</td>\n",
       "      <td>Crypto.com</td>\n",
       "      <td>Fintech</td>\n",
       "      <td>Connected</td>\n",
       "      <td>True</td>\n",
       "      <td>True</td>\n",
       "      <td>False</td>\n",
       "      <td>University of Toronto</td>\n",
       "      <td>Wednesday</td>\n",
       "    </tr>\n",
       "    <tr>\n",
       "      <th>3</th>\n",
       "      <td>4</td>\n",
       "      <td>2022-06-01</td>\n",
       "      <td>Yili Z</td>\n",
       "      <td>Analyst</td>\n",
       "      <td>2021</td>\n",
       "      <td>2021</td>\n",
       "      <td>Toronto, ON</td>\n",
       "      <td>Female</td>\n",
       "      <td>Purpose Investments</td>\n",
       "      <td>Fintech</td>\n",
       "      <td>Unconnected</td>\n",
       "      <td>False</td>\n",
       "      <td>True</td>\n",
       "      <td>False</td>\n",
       "      <td>York University</td>\n",
       "      <td>Wednesday</td>\n",
       "    </tr>\n",
       "    <tr>\n",
       "      <th>4</th>\n",
       "      <td>5</td>\n",
       "      <td>2022-06-01</td>\n",
       "      <td>Jeffery S</td>\n",
       "      <td>Manager</td>\n",
       "      <td>2017</td>\n",
       "      <td>2021</td>\n",
       "      <td>Toronto, ON</td>\n",
       "      <td>Male</td>\n",
       "      <td>OPTrust</td>\n",
       "      <td>Fintech</td>\n",
       "      <td>Connected</td>\n",
       "      <td>False</td>\n",
       "      <td>True</td>\n",
       "      <td>False</td>\n",
       "      <td>Georgia Institute of Technology</td>\n",
       "      <td>Wednesday</td>\n",
       "    </tr>\n",
       "    <tr>\n",
       "      <th>...</th>\n",
       "      <td>...</td>\n",
       "      <td>...</td>\n",
       "      <td>...</td>\n",
       "      <td>...</td>\n",
       "      <td>...</td>\n",
       "      <td>...</td>\n",
       "      <td>...</td>\n",
       "      <td>...</td>\n",
       "      <td>...</td>\n",
       "      <td>...</td>\n",
       "      <td>...</td>\n",
       "      <td>...</td>\n",
       "      <td>...</td>\n",
       "      <td>...</td>\n",
       "      <td>...</td>\n",
       "      <td>...</td>\n",
       "    </tr>\n",
       "    <tr>\n",
       "      <th>308</th>\n",
       "      <td>309</td>\n",
       "      <td>2022-07-05</td>\n",
       "      <td>Costas G</td>\n",
       "      <td>Founder/CEO/President</td>\n",
       "      <td>2017</td>\n",
       "      <td>2017</td>\n",
       "      <td>Beijing, China</td>\n",
       "      <td>Male</td>\n",
       "      <td>BeHive</td>\n",
       "      <td>Education</td>\n",
       "      <td>Connected</td>\n",
       "      <td>False</td>\n",
       "      <td>False</td>\n",
       "      <td>False</td>\n",
       "      <td>UCL</td>\n",
       "      <td>Tuesday</td>\n",
       "    </tr>\n",
       "    <tr>\n",
       "      <th>309</th>\n",
       "      <td>310</td>\n",
       "      <td>2022-07-05</td>\n",
       "      <td>Ryan W</td>\n",
       "      <td>Founder/CEO/President</td>\n",
       "      <td>2022</td>\n",
       "      <td>2022</td>\n",
       "      <td>Toronto, ON</td>\n",
       "      <td>Male</td>\n",
       "      <td>Wavemaker</td>\n",
       "      <td>Marketing</td>\n",
       "      <td>Connected</td>\n",
       "      <td>False</td>\n",
       "      <td>False</td>\n",
       "      <td>False</td>\n",
       "      <td>Griffith University</td>\n",
       "      <td>Tuesday</td>\n",
       "    </tr>\n",
       "    <tr>\n",
       "      <th>310</th>\n",
       "      <td>311</td>\n",
       "      <td>2022-07-05</td>\n",
       "      <td>Idil Y</td>\n",
       "      <td>Specialist</td>\n",
       "      <td>2021</td>\n",
       "      <td>2021</td>\n",
       "      <td>Toronto, ON</td>\n",
       "      <td>Male</td>\n",
       "      <td>MediaCom Canada</td>\n",
       "      <td>Marketing</td>\n",
       "      <td>Connected</td>\n",
       "      <td>False</td>\n",
       "      <td>False</td>\n",
       "      <td>False</td>\n",
       "      <td>Humber College</td>\n",
       "      <td>Tuesday</td>\n",
       "    </tr>\n",
       "    <tr>\n",
       "      <th>311</th>\n",
       "      <td>312</td>\n",
       "      <td>2022-07-05</td>\n",
       "      <td>Nitsan B</td>\n",
       "      <td>Founder/CEO/President</td>\n",
       "      <td>2022</td>\n",
       "      <td>2022</td>\n",
       "      <td>Toronto, ON</td>\n",
       "      <td>Female</td>\n",
       "      <td>Brand &amp; Co.</td>\n",
       "      <td>Marketing</td>\n",
       "      <td>Connected</td>\n",
       "      <td>False</td>\n",
       "      <td>False</td>\n",
       "      <td>False</td>\n",
       "      <td>Queen's University</td>\n",
       "      <td>Tuesday</td>\n",
       "    </tr>\n",
       "    <tr>\n",
       "      <th>312</th>\n",
       "      <td>313</td>\n",
       "      <td>2022-07-05</td>\n",
       "      <td>Kieran Miles</td>\n",
       "      <td>CSO</td>\n",
       "      <td>2015</td>\n",
       "      <td>2022</td>\n",
       "      <td>Toronto, ON</td>\n",
       "      <td>Male</td>\n",
       "      <td>MediaCom Canada</td>\n",
       "      <td>Marketing</td>\n",
       "      <td>Connected</td>\n",
       "      <td>False</td>\n",
       "      <td>False</td>\n",
       "      <td>False</td>\n",
       "      <td>University of Sheffield</td>\n",
       "      <td>Tuesday</td>\n",
       "    </tr>\n",
       "  </tbody>\n",
       "</table>\n",
       "<p>313 rows × 16 columns</p>\n",
       "</div>"
      ],
      "text/plain": [
       "     Number Reach-outDate          Name               Position  \\\n",
       "0         1    2022-06-01       Faria R  Founder/CEO/President   \n",
       "1         2    2022-06-01        Mike D                     VP   \n",
       "2         3    2022-06-01       Beren U             Ambassador   \n",
       "3         4    2022-06-01        Yili Z                Analyst   \n",
       "4         5    2022-06-01     Jeffery S                Manager   \n",
       "..      ...           ...           ...                    ...   \n",
       "308     309    2022-07-05      Costas G  Founder/CEO/President   \n",
       "309     310    2022-07-05        Ryan W  Founder/CEO/President   \n",
       "310     311    2022-07-05        Idil Y             Specialist   \n",
       "311     312    2022-07-05      Nitsan B  Founder/CEO/President   \n",
       "312     313    2022-07-05  Kieran Miles                    CSO   \n",
       "\n",
       "     CompanyStartTime  PositionStartTime        Location  Gender  \\\n",
       "0                2018               2018     Toronto, ON  Female   \n",
       "1                2010               2016     Toronto, ON    Male   \n",
       "2                2022               2022     Toronto, ON    Male   \n",
       "3                2021               2021     Toronto, ON  Female   \n",
       "4                2017               2021     Toronto, ON    Male   \n",
       "..                ...                ...             ...     ...   \n",
       "308              2017               2017  Beijing, China    Male   \n",
       "309              2022               2022     Toronto, ON    Male   \n",
       "310              2021               2021     Toronto, ON    Male   \n",
       "311              2022               2022     Toronto, ON  Female   \n",
       "312              2015               2022     Toronto, ON    Male   \n",
       "\n",
       "             CompanyName   Industry       Status  Reply  W/Message  \\\n",
       "0                  Mydoh    Fintech    Connected  False       True   \n",
       "1                    RBC    Fintech    Connected  False       True   \n",
       "2             Crypto.com    Fintech    Connected   True       True   \n",
       "3    Purpose Investments    Fintech  Unconnected  False       True   \n",
       "4                OPTrust    Fintech    Connected  False       True   \n",
       "..                   ...        ...          ...    ...        ...   \n",
       "308               BeHive  Education    Connected  False      False   \n",
       "309           Wavemaker   Marketing    Connected  False      False   \n",
       "310      MediaCom Canada  Marketing    Connected  False      False   \n",
       "311          Brand & Co.  Marketing    Connected  False      False   \n",
       "312      MediaCom Canada  Marketing    Connected  False      False   \n",
       "\n",
       "     Potentially                        Education        Day  \n",
       "0          False            University of Toronto  Wednesday  \n",
       "1          False           University of Delaware  Wednesday  \n",
       "2          False            University of Toronto  Wednesday  \n",
       "3          False                  York University  Wednesday  \n",
       "4          False  Georgia Institute of Technology  Wednesday  \n",
       "..           ...                              ...        ...  \n",
       "308        False                              UCL    Tuesday  \n",
       "309        False              Griffith University    Tuesday  \n",
       "310        False                   Humber College    Tuesday  \n",
       "311        False               Queen's University    Tuesday  \n",
       "312        False          University of Sheffield    Tuesday  \n",
       "\n",
       "[313 rows x 16 columns]"
      ]
     },
     "execution_count": 43,
     "metadata": {},
     "output_type": "execute_result"
    }
   ],
   "source": [
    "dfRaw"
   ]
  },
  {
   "cell_type": "code",
   "execution_count": 44,
   "id": "7fc60590-59d7-468f-a330-f6f6cf80a8b4",
   "metadata": {},
   "outputs": [
    {
     "data": {
      "text/plain": [
       "Saturday     61\n",
       "Tuesday      58\n",
       "Friday       55\n",
       "Wednesday    53\n",
       "Monday       47\n",
       "Thursday     39\n",
       "Name: Day, dtype: int64"
      ]
     },
     "execution_count": 44,
     "metadata": {},
     "output_type": "execute_result"
    }
   ],
   "source": [
    "dfRaw.Day.value_counts()"
   ]
  },
  {
   "cell_type": "code",
   "execution_count": 45,
   "id": "8240af88-2a5a-47fb-b035-7f1bd2bd039b",
   "metadata": {},
   "outputs": [
    {
     "data": {
      "text/plain": [
       "<AxesSubplot:>"
      ]
     },
     "execution_count": 45,
     "metadata": {},
     "output_type": "execute_result"
    },
    {
     "data": {
      "image/png": "[encoded data removed]",
      "text/plain": [
       "<Figure size 432x288 with 1 Axes>"
      ]
     },
     "metadata": {
      "needs_background": "light"
     },
     "output_type": "display_data"
    }
   ],
   "source": [
    "dfRaw.Day.value_counts().plot(kind = 'bar')"
   ]
  },
  {
   "cell_type": "code",
   "execution_count": 46,
   "id": "3da89aea-d126-4f21-a5cf-67d4bcc7fb4c",
   "metadata": {},
   "outputs": [
    {
     "data": {
      "text/plain": [
       "0      June\n",
       "1      June\n",
       "2      June\n",
       "3      June\n",
       "4      June\n",
       "       ... \n",
       "308    July\n",
       "309    July\n",
       "310    July\n",
       "311    July\n",
       "312    July\n",
       "Name: Reach-outDate, Length: 313, dtype: object"
      ]
     },
     "execution_count": 46,
     "metadata": {},
     "output_type": "execute_result"
    }
   ],
   "source": [
    "dfRaw.iloc[:,1].dt.month_name()"
   ]
  },
  {
   "cell_type": "code",
   "execution_count": 47,
   "id": "170dada9-76ac-4750-896d-7e126fb60bea",
   "metadata": {},
   "outputs": [],
   "source": [
    "dfRaw['Month'] = dfRaw.iloc[:,1].dt.month_name()"
   ]
  },
  {
   "cell_type": "code",
   "execution_count": 48,
   "id": "1b6ee3e4-3121-49fb-950f-374272513f0e",
   "metadata": {},
   "outputs": [
    {
     "data": {
      "text/html": [
       "<div>\n",
       "<style scoped>\n",
       "    .dataframe tbody tr th:only-of-type {\n",
       "        vertical-align: middle;\n",
       "    }\n",
       "\n",
       "    .dataframe tbody tr th {\n",
       "        vertical-align: top;\n",
       "    }\n",
       "\n",
       "    .dataframe thead th {\n",
       "        text-align: right;\n",
       "    }\n",
       "</style>\n",
       "<table border=\"1\" class=\"dataframe\">\n",
       "  <thead>\n",
       "    <tr style=\"text-align: right;\">\n",
       "      <th></th>\n",
       "      <th>Number</th>\n",
       "      <th>Reach-outDate</th>\n",
       "      <th>Name</th>\n",
       "      <th>Position</th>\n",
       "      <th>CompanyStartTime</th>\n",
       "      <th>PositionStartTime</th>\n",
       "      <th>Location</th>\n",
       "      <th>Gender</th>\n",
       "      <th>CompanyName</th>\n",
       "      <th>Industry</th>\n",
       "      <th>Status</th>\n",
       "      <th>Reply</th>\n",
       "      <th>W/Message</th>\n",
       "      <th>Potentially</th>\n",
       "      <th>Education</th>\n",
       "      <th>Day</th>\n",
       "      <th>Month</th>\n",
       "    </tr>\n",
       "  </thead>\n",
       "  <tbody>\n",
       "    <tr>\n",
       "      <th>0</th>\n",
       "      <td>1</td>\n",
       "      <td>2022-06-01</td>\n",
       "      <td>Faria R</td>\n",
       "      <td>Founder/CEO/President</td>\n",
       "      <td>2018</td>\n",
       "      <td>2018</td>\n",
       "      <td>Toronto, ON</td>\n",
       "      <td>Female</td>\n",
       "      <td>Mydoh</td>\n",
       "      <td>Fintech</td>\n",
       "      <td>Connected</td>\n",
       "      <td>False</td>\n",
       "      <td>True</td>\n",
       "      <td>False</td>\n",
       "      <td>University of Toronto</td>\n",
       "      <td>Wednesday</td>\n",
       "      <td>June</td>\n",
       "    </tr>\n",
       "    <tr>\n",
       "      <th>1</th>\n",
       "      <td>2</td>\n",
       "      <td>2022-06-01</td>\n",
       "      <td>Mike D</td>\n",
       "      <td>VP</td>\n",
       "      <td>2010</td>\n",
       "      <td>2016</td>\n",
       "      <td>Toronto, ON</td>\n",
       "      <td>Male</td>\n",
       "      <td>RBC</td>\n",
       "      <td>Fintech</td>\n",
       "      <td>Connected</td>\n",
       "      <td>False</td>\n",
       "      <td>True</td>\n",
       "      <td>False</td>\n",
       "      <td>University of Delaware</td>\n",
       "      <td>Wednesday</td>\n",
       "      <td>June</td>\n",
       "    </tr>\n",
       "    <tr>\n",
       "      <th>2</th>\n",
       "      <td>3</td>\n",
       "      <td>2022-06-01</td>\n",
       "      <td>Beren U</td>\n",
       "      <td>Ambassador</td>\n",
       "      <td>2022</td>\n",
       "      <td>2022</td>\n",
       "      <td>Toronto, ON</td>\n",
       "      <td>Male</td>\n",
       "      <td>Crypto.com</td>\n",
       "      <td>Fintech</td>\n",
       "      <td>Connected</td>\n",
       "      <td>True</td>\n",
       "      <td>True</td>\n",
       "      <td>False</td>\n",
       "      <td>University of Toronto</td>\n",
       "      <td>Wednesday</td>\n",
       "      <td>June</td>\n",
       "    </tr>\n",
       "    <tr>\n",
       "      <th>3</th>\n",
       "      <td>4</td>\n",
       "      <td>2022-06-01</td>\n",
       "      <td>Yili Z</td>\n",
       "      <td>Analyst</td>\n",
       "      <td>2021</td>\n",
       "      <td>2021</td>\n",
       "      <td>Toronto, ON</td>\n",
       "      <td>Female</td>\n",
       "      <td>Purpose Investments</td>\n",
       "      <td>Fintech</td>\n",
       "      <td>Unconnected</td>\n",
       "      <td>False</td>\n",
       "      <td>True</td>\n",
       "      <td>False</td>\n",
       "      <td>York University</td>\n",
       "      <td>Wednesday</td>\n",
       "      <td>June</td>\n",
       "    </tr>\n",
       "    <tr>\n",
       "      <th>4</th>\n",
       "      <td>5</td>\n",
       "      <td>2022-06-01</td>\n",
       "      <td>Jeffery S</td>\n",
       "      <td>Manager</td>\n",
       "      <td>2017</td>\n",
       "      <td>2021</td>\n",
       "      <td>Toronto, ON</td>\n",
       "      <td>Male</td>\n",
       "      <td>OPTrust</td>\n",
       "      <td>Fintech</td>\n",
       "      <td>Connected</td>\n",
       "      <td>False</td>\n",
       "      <td>True</td>\n",
       "      <td>False</td>\n",
       "      <td>Georgia Institute of Technology</td>\n",
       "      <td>Wednesday</td>\n",
       "      <td>June</td>\n",
       "    </tr>\n",
       "    <tr>\n",
       "      <th>...</th>\n",
       "      <td>...</td>\n",
       "      <td>...</td>\n",
       "      <td>...</td>\n",
       "      <td>...</td>\n",
       "      <td>...</td>\n",
       "      <td>...</td>\n",
       "      <td>...</td>\n",
       "      <td>...</td>\n",
       "      <td>...</td>\n",
       "      <td>...</td>\n",
       "      <td>...</td>\n",
       "      <td>...</td>\n",
       "      <td>...</td>\n",
       "      <td>...</td>\n",
       "      <td>...</td>\n",
       "      <td>...</td>\n",
       "      <td>...</td>\n",
       "    </tr>\n",
       "    <tr>\n",
       "      <th>308</th>\n",
       "      <td>309</td>\n",
       "      <td>2022-07-05</td>\n",
       "      <td>Costas G</td>\n",
       "      <td>Founder/CEO/President</td>\n",
       "      <td>2017</td>\n",
       "      <td>2017</td>\n",
       "      <td>Beijing, China</td>\n",
       "      <td>Male</td>\n",
       "      <td>BeHive</td>\n",
       "      <td>Education</td>\n",
       "      <td>Connected</td>\n",
       "      <td>False</td>\n",
       "      <td>False</td>\n",
       "      <td>False</td>\n",
       "      <td>UCL</td>\n",
       "      <td>Tuesday</td>\n",
       "      <td>July</td>\n",
       "    </tr>\n",
       "    <tr>\n",
       "      <th>309</th>\n",
       "      <td>310</td>\n",
       "      <td>2022-07-05</td>\n",
       "      <td>Ryan W</td>\n",
       "      <td>Founder/CEO/President</td>\n",
       "      <td>2022</td>\n",
       "      <td>2022</td>\n",
       "      <td>Toronto, ON</td>\n",
       "      <td>Male</td>\n",
       "      <td>Wavemaker</td>\n",
       "      <td>Marketing</td>\n",
       "      <td>Connected</td>\n",
       "      <td>False</td>\n",
       "      <td>False</td>\n",
       "      <td>False</td>\n",
       "      <td>Griffith University</td>\n",
       "      <td>Tuesday</td>\n",
       "      <td>July</td>\n",
       "    </tr>\n",
       "    <tr>\n",
       "      <th>310</th>\n",
       "      <td>311</td>\n",
       "      <td>2022-07-05</td>\n",
       "      <td>Idil Y</td>\n",
       "      <td>Specialist</td>\n",
       "      <td>2021</td>\n",
       "      <td>2021</td>\n",
       "      <td>Toronto, ON</td>\n",
       "      <td>Male</td>\n",
       "      <td>MediaCom Canada</td>\n",
       "      <td>Marketing</td>\n",
       "      <td>Connected</td>\n",
       "      <td>False</td>\n",
       "      <td>False</td>\n",
       "      <td>False</td>\n",
       "      <td>Humber College</td>\n",
       "      <td>Tuesday</td>\n",
       "      <td>July</td>\n",
       "    </tr>\n",
       "    <tr>\n",
       "      <th>311</th>\n",
       "      <td>312</td>\n",
       "      <td>2022-07-05</td>\n",
       "      <td>Nitsan B</td>\n",
       "      <td>Founder/CEO/President</td>\n",
       "      <td>2022</td>\n",
       "      <td>2022</td>\n",
       "      <td>Toronto, ON</td>\n",
       "      <td>Female</td>\n",
       "      <td>Brand &amp; Co.</td>\n",
       "      <td>Marketing</td>\n",
       "      <td>Connected</td>\n",
       "      <td>False</td>\n",
       "      <td>False</td>\n",
       "      <td>False</td>\n",
       "      <td>Queen's University</td>\n",
       "      <td>Tuesday</td>\n",
       "      <td>July</td>\n",
       "    </tr>\n",
       "    <tr>\n",
       "      <th>312</th>\n",
       "      <td>313</td>\n",
       "      <td>2022-07-05</td>\n",
       "      <td>Kieran Miles</td>\n",
       "      <td>CSO</td>\n",
       "      <td>2015</td>\n",
       "      <td>2022</td>\n",
       "      <td>Toronto, ON</td>\n",
       "      <td>Male</td>\n",
       "      <td>MediaCom Canada</td>\n",
       "      <td>Marketing</td>\n",
       "      <td>Connected</td>\n",
       "      <td>False</td>\n",
       "      <td>False</td>\n",
       "      <td>False</td>\n",
       "      <td>University of Sheffield</td>\n",
       "      <td>Tuesday</td>\n",
       "      <td>July</td>\n",
       "    </tr>\n",
       "  </tbody>\n",
       "</table>\n",
       "<p>313 rows × 17 columns</p>\n",
       "</div>"
      ],
      "text/plain": [
       "     Number Reach-outDate          Name               Position  \\\n",
       "0         1    2022-06-01       Faria R  Founder/CEO/President   \n",
       "1         2    2022-06-01        Mike D                     VP   \n",
       "2         3    2022-06-01       Beren U             Ambassador   \n",
       "3         4    2022-06-01        Yili Z                Analyst   \n",
       "4         5    2022-06-01     Jeffery S                Manager   \n",
       "..      ...           ...           ...                    ...   \n",
       "308     309    2022-07-05      Costas G  Founder/CEO/President   \n",
       "309     310    2022-07-05        Ryan W  Founder/CEO/President   \n",
       "310     311    2022-07-05        Idil Y             Specialist   \n",
       "311     312    2022-07-05      Nitsan B  Founder/CEO/President   \n",
       "312     313    2022-07-05  Kieran Miles                    CSO   \n",
       "\n",
       "     CompanyStartTime  PositionStartTime        Location  Gender  \\\n",
       "0                2018               2018     Toronto, ON  Female   \n",
       "1                2010               2016     Toronto, ON    Male   \n",
       "2                2022               2022     Toronto, ON    Male   \n",
       "3                2021               2021     Toronto, ON  Female   \n",
       "4                2017               2021     Toronto, ON    Male   \n",
       "..                ...                ...             ...     ...   \n",
       "308              2017               2017  Beijing, China    Male   \n",
       "309              2022               2022     Toronto, ON    Male   \n",
       "310              2021               2021     Toronto, ON    Male   \n",
       "311              2022               2022     Toronto, ON  Female   \n",
       "312              2015               2022     Toronto, ON    Male   \n",
       "\n",
       "             CompanyName   Industry       Status  Reply  W/Message  \\\n",
       "0                  Mydoh    Fintech    Connected  False       True   \n",
       "1                    RBC    Fintech    Connected  False       True   \n",
       "2             Crypto.com    Fintech    Connected   True       True   \n",
       "3    Purpose Investments    Fintech  Unconnected  False       True   \n",
       "4                OPTrust    Fintech    Connected  False       True   \n",
       "..                   ...        ...          ...    ...        ...   \n",
       "308               BeHive  Education    Connected  False      False   \n",
       "309           Wavemaker   Marketing    Connected  False      False   \n",
       "310      MediaCom Canada  Marketing    Connected  False      False   \n",
       "311          Brand & Co.  Marketing    Connected  False      False   \n",
       "312      MediaCom Canada  Marketing    Connected  False      False   \n",
       "\n",
       "     Potentially                        Education        Day Month  \n",
       "0          False            University of Toronto  Wednesday  June  \n",
       "1          False           University of Delaware  Wednesday  June  \n",
       "2          False            University of Toronto  Wednesday  June  \n",
       "3          False                  York University  Wednesday  June  \n",
       "4          False  Georgia Institute of Technology  Wednesday  June  \n",
       "..           ...                              ...        ...   ...  \n",
       "308        False                              UCL    Tuesday  July  \n",
       "309        False              Griffith University    Tuesday  July  \n",
       "310        False                   Humber College    Tuesday  July  \n",
       "311        False               Queen's University    Tuesday  July  \n",
       "312        False          University of Sheffield    Tuesday  July  \n",
       "\n",
       "[313 rows x 17 columns]"
      ]
     },
     "execution_count": 48,
     "metadata": {},
     "output_type": "execute_result"
    }
   ],
   "source": [
    "dfRaw"
   ]
  },
  {
   "cell_type": "code",
   "execution_count": 49,
   "id": "0edf9810-9514-49ab-b405-022fe6134140",
   "metadata": {},
   "outputs": [
    {
     "data": {
      "text/plain": [
       "<AxesSubplot:>"
      ]
     },
     "execution_count": 49,
     "metadata": {},
     "output_type": "execute_result"
    },
    {
     "data": {
      "image/png": "[encoded data removed]",
      "text/plain": [
       "<Figure size 432x288 with 1 Axes>"
      ]
     },
     "metadata": {
      "needs_background": "light"
     },
     "output_type": "display_data"
    }
   ],
   "source": [
    "dfRaw.Month.value_counts().plot(kind = 'bar')"
   ]
  },
  {
   "cell_type": "code",
   "execution_count": 50,
   "id": "7019eb24-f692-4250-8fae-bf34bd112c19",
   "metadata": {},
   "outputs": [
    {
     "name": "stderr",
     "output_type": "stream",
     "text": [
      "'cat' is not recognized as an internal or external command,\n",
      "operable program or batch file.\n"
     ]
    }
   ],
   "source": [
    "!cat https://github.com/CubeStatistica/Business-Development/blob/main/ClientResearch/Challenges%20Research%20LinkedIn.xlsx?raw=true"
   ]
  },
  {
   "cell_type": "markdown",
   "id": "2ca3547a-4f4d-4767-bffe-999a9092cdd1",
   "metadata": {},
   "source": [
    "## Converting the raw data into a JSON data."
   ]
  },
  {
   "cell_type": "code",
   "execution_count": 51,
   "id": "5197669f-8b93-4285-bcdb-14e3f323ae3b",
   "metadata": {},
   "outputs": [],
   "source": [
    "import json\n"
   ]
  },
  {
   "cell_type": "code",
   "execution_count": 52,
   "id": "a1381fde-60c7-4a72-b6be-87cbe64d36eb",
   "metadata": {},
   "outputs": [],
   "source": [
    "#dfRaw.to_json()"
   ]
  },
  {
   "cell_type": "markdown",
   "id": "91043851-d3d6-4268-b6c6-afe7e3893816",
   "metadata": {},
   "source": [
    "## More Advanced Visualizations"
   ]
  },
  {
   "cell_type": "code",
   "execution_count": 53,
   "id": "a1c4da54-2051-4a02-aa2b-f64b64bb8cb5",
   "metadata": {},
   "outputs": [],
   "source": [
    "import matplotlib.pyplot as plt"
   ]
  },
  {
   "cell_type": "code",
   "execution_count": 54,
   "id": "77d1ccdf-6687-4b53-878b-21cc4026ebae",
   "metadata": {},
   "outputs": [
    {
     "data": {
      "text/html": [
       "<div>\n",
       "<style scoped>\n",
       "    .dataframe tbody tr th:only-of-type {\n",
       "        vertical-align: middle;\n",
       "    }\n",
       "\n",
       "    .dataframe tbody tr th {\n",
       "        vertical-align: top;\n",
       "    }\n",
       "\n",
       "    .dataframe thead th {\n",
       "        text-align: right;\n",
       "    }\n",
       "</style>\n",
       "<table border=\"1\" class=\"dataframe\">\n",
       "  <thead>\n",
       "    <tr style=\"text-align: right;\">\n",
       "      <th></th>\n",
       "      <th>Number</th>\n",
       "      <th>Reach-outDate</th>\n",
       "      <th>Name</th>\n",
       "      <th>Position</th>\n",
       "      <th>CompanyStartTime</th>\n",
       "      <th>PositionStartTime</th>\n",
       "      <th>Location</th>\n",
       "      <th>Gender</th>\n",
       "      <th>CompanyName</th>\n",
       "      <th>Industry</th>\n",
       "      <th>Status</th>\n",
       "      <th>Reply</th>\n",
       "      <th>W/Message</th>\n",
       "      <th>Potentially</th>\n",
       "      <th>Education</th>\n",
       "      <th>Day</th>\n",
       "      <th>Month</th>\n",
       "    </tr>\n",
       "  </thead>\n",
       "  <tbody>\n",
       "    <tr>\n",
       "      <th>0</th>\n",
       "      <td>1</td>\n",
       "      <td>2022-06-01</td>\n",
       "      <td>Faria R</td>\n",
       "      <td>Founder/CEO/President</td>\n",
       "      <td>2018</td>\n",
       "      <td>2018</td>\n",
       "      <td>Toronto, ON</td>\n",
       "      <td>Female</td>\n",
       "      <td>Mydoh</td>\n",
       "      <td>Fintech</td>\n",
       "      <td>Connected</td>\n",
       "      <td>False</td>\n",
       "      <td>True</td>\n",
       "      <td>False</td>\n",
       "      <td>University of Toronto</td>\n",
       "      <td>Wednesday</td>\n",
       "      <td>June</td>\n",
       "    </tr>\n",
       "    <tr>\n",
       "      <th>1</th>\n",
       "      <td>2</td>\n",
       "      <td>2022-06-01</td>\n",
       "      <td>Mike D</td>\n",
       "      <td>VP</td>\n",
       "      <td>2010</td>\n",
       "      <td>2016</td>\n",
       "      <td>Toronto, ON</td>\n",
       "      <td>Male</td>\n",
       "      <td>RBC</td>\n",
       "      <td>Fintech</td>\n",
       "      <td>Connected</td>\n",
       "      <td>False</td>\n",
       "      <td>True</td>\n",
       "      <td>False</td>\n",
       "      <td>University of Delaware</td>\n",
       "      <td>Wednesday</td>\n",
       "      <td>June</td>\n",
       "    </tr>\n",
       "    <tr>\n",
       "      <th>2</th>\n",
       "      <td>3</td>\n",
       "      <td>2022-06-01</td>\n",
       "      <td>Beren U</td>\n",
       "      <td>Ambassador</td>\n",
       "      <td>2022</td>\n",
       "      <td>2022</td>\n",
       "      <td>Toronto, ON</td>\n",
       "      <td>Male</td>\n",
       "      <td>Crypto.com</td>\n",
       "      <td>Fintech</td>\n",
       "      <td>Connected</td>\n",
       "      <td>True</td>\n",
       "      <td>True</td>\n",
       "      <td>False</td>\n",
       "      <td>University of Toronto</td>\n",
       "      <td>Wednesday</td>\n",
       "      <td>June</td>\n",
       "    </tr>\n",
       "    <tr>\n",
       "      <th>3</th>\n",
       "      <td>4</td>\n",
       "      <td>2022-06-01</td>\n",
       "      <td>Yili Z</td>\n",
       "      <td>Analyst</td>\n",
       "      <td>2021</td>\n",
       "      <td>2021</td>\n",
       "      <td>Toronto, ON</td>\n",
       "      <td>Female</td>\n",
       "      <td>Purpose Investments</td>\n",
       "      <td>Fintech</td>\n",
       "      <td>Unconnected</td>\n",
       "      <td>False</td>\n",
       "      <td>True</td>\n",
       "      <td>False</td>\n",
       "      <td>York University</td>\n",
       "      <td>Wednesday</td>\n",
       "      <td>June</td>\n",
       "    </tr>\n",
       "    <tr>\n",
       "      <th>4</th>\n",
       "      <td>5</td>\n",
       "      <td>2022-06-01</td>\n",
       "      <td>Jeffery S</td>\n",
       "      <td>Manager</td>\n",
       "      <td>2017</td>\n",
       "      <td>2021</td>\n",
       "      <td>Toronto, ON</td>\n",
       "      <td>Male</td>\n",
       "      <td>OPTrust</td>\n",
       "      <td>Fintech</td>\n",
       "      <td>Connected</td>\n",
       "      <td>False</td>\n",
       "      <td>True</td>\n",
       "      <td>False</td>\n",
       "      <td>Georgia Institute of Technology</td>\n",
       "      <td>Wednesday</td>\n",
       "      <td>June</td>\n",
       "    </tr>\n",
       "    <tr>\n",
       "      <th>...</th>\n",
       "      <td>...</td>\n",
       "      <td>...</td>\n",
       "      <td>...</td>\n",
       "      <td>...</td>\n",
       "      <td>...</td>\n",
       "      <td>...</td>\n",
       "      <td>...</td>\n",
       "      <td>...</td>\n",
       "      <td>...</td>\n",
       "      <td>...</td>\n",
       "      <td>...</td>\n",
       "      <td>...</td>\n",
       "      <td>...</td>\n",
       "      <td>...</td>\n",
       "      <td>...</td>\n",
       "      <td>...</td>\n",
       "      <td>...</td>\n",
       "    </tr>\n",
       "    <tr>\n",
       "      <th>308</th>\n",
       "      <td>309</td>\n",
       "      <td>2022-07-05</td>\n",
       "      <td>Costas G</td>\n",
       "      <td>Founder/CEO/President</td>\n",
       "      <td>2017</td>\n",
       "      <td>2017</td>\n",
       "      <td>Beijing, China</td>\n",
       "      <td>Male</td>\n",
       "      <td>BeHive</td>\n",
       "      <td>Education</td>\n",
       "      <td>Connected</td>\n",
       "      <td>False</td>\n",
       "      <td>False</td>\n",
       "      <td>False</td>\n",
       "      <td>UCL</td>\n",
       "      <td>Tuesday</td>\n",
       "      <td>July</td>\n",
       "    </tr>\n",
       "    <tr>\n",
       "      <th>309</th>\n",
       "      <td>310</td>\n",
       "      <td>2022-07-05</td>\n",
       "      <td>Ryan W</td>\n",
       "      <td>Founder/CEO/President</td>\n",
       "      <td>2022</td>\n",
       "      <td>2022</td>\n",
       "      <td>Toronto, ON</td>\n",
       "      <td>Male</td>\n",
       "      <td>Wavemaker</td>\n",
       "      <td>Marketing</td>\n",
       "      <td>Connected</td>\n",
       "      <td>False</td>\n",
       "      <td>False</td>\n",
       "      <td>False</td>\n",
       "      <td>Griffith University</td>\n",
       "      <td>Tuesday</td>\n",
       "      <td>July</td>\n",
       "    </tr>\n",
       "    <tr>\n",
       "      <th>310</th>\n",
       "      <td>311</td>\n",
       "      <td>2022-07-05</td>\n",
       "      <td>Idil Y</td>\n",
       "      <td>Specialist</td>\n",
       "      <td>2021</td>\n",
       "      <td>2021</td>\n",
       "      <td>Toronto, ON</td>\n",
       "      <td>Male</td>\n",
       "      <td>MediaCom Canada</td>\n",
       "      <td>Marketing</td>\n",
       "      <td>Connected</td>\n",
       "      <td>False</td>\n",
       "      <td>False</td>\n",
       "      <td>False</td>\n",
       "      <td>Humber College</td>\n",
       "      <td>Tuesday</td>\n",
       "      <td>July</td>\n",
       "    </tr>\n",
       "    <tr>\n",
       "      <th>311</th>\n",
       "      <td>312</td>\n",
       "      <td>2022-07-05</td>\n",
       "      <td>Nitsan B</td>\n",
       "      <td>Founder/CEO/President</td>\n",
       "      <td>2022</td>\n",
       "      <td>2022</td>\n",
       "      <td>Toronto, ON</td>\n",
       "      <td>Female</td>\n",
       "      <td>Brand &amp; Co.</td>\n",
       "      <td>Marketing</td>\n",
       "      <td>Connected</td>\n",
       "      <td>False</td>\n",
       "      <td>False</td>\n",
       "      <td>False</td>\n",
       "      <td>Queen's University</td>\n",
       "      <td>Tuesday</td>\n",
       "      <td>July</td>\n",
       "    </tr>\n",
       "    <tr>\n",
       "      <th>312</th>\n",
       "      <td>313</td>\n",
       "      <td>2022-07-05</td>\n",
       "      <td>Kieran Miles</td>\n",
       "      <td>CSO</td>\n",
       "      <td>2015</td>\n",
       "      <td>2022</td>\n",
       "      <td>Toronto, ON</td>\n",
       "      <td>Male</td>\n",
       "      <td>MediaCom Canada</td>\n",
       "      <td>Marketing</td>\n",
       "      <td>Connected</td>\n",
       "      <td>False</td>\n",
       "      <td>False</td>\n",
       "      <td>False</td>\n",
       "      <td>University of Sheffield</td>\n",
       "      <td>Tuesday</td>\n",
       "      <td>July</td>\n",
       "    </tr>\n",
       "  </tbody>\n",
       "</table>\n",
       "<p>313 rows × 17 columns</p>\n",
       "</div>"
      ],
      "text/plain": [
       "     Number Reach-outDate          Name               Position  \\\n",
       "0         1    2022-06-01       Faria R  Founder/CEO/President   \n",
       "1         2    2022-06-01        Mike D                     VP   \n",
       "2         3    2022-06-01       Beren U             Ambassador   \n",
       "3         4    2022-06-01        Yili Z                Analyst   \n",
       "4         5    2022-06-01     Jeffery S                Manager   \n",
       "..      ...           ...           ...                    ...   \n",
       "308     309    2022-07-05      Costas G  Founder/CEO/President   \n",
       "309     310    2022-07-05        Ryan W  Founder/CEO/President   \n",
       "310     311    2022-07-05        Idil Y             Specialist   \n",
       "311     312    2022-07-05      Nitsan B  Founder/CEO/President   \n",
       "312     313    2022-07-05  Kieran Miles                    CSO   \n",
       "\n",
       "     CompanyStartTime  PositionStartTime        Location  Gender  \\\n",
       "0                2018               2018     Toronto, ON  Female   \n",
       "1                2010               2016     Toronto, ON    Male   \n",
       "2                2022               2022     Toronto, ON    Male   \n",
       "3                2021               2021     Toronto, ON  Female   \n",
       "4                2017               2021     Toronto, ON    Male   \n",
       "..                ...                ...             ...     ...   \n",
       "308              2017               2017  Beijing, China    Male   \n",
       "309              2022               2022     Toronto, ON    Male   \n",
       "310              2021               2021     Toronto, ON    Male   \n",
       "311              2022               2022     Toronto, ON  Female   \n",
       "312              2015               2022     Toronto, ON    Male   \n",
       "\n",
       "             CompanyName   Industry       Status  Reply  W/Message  \\\n",
       "0                  Mydoh    Fintech    Connected  False       True   \n",
       "1                    RBC    Fintech    Connected  False       True   \n",
       "2             Crypto.com    Fintech    Connected   True       True   \n",
       "3    Purpose Investments    Fintech  Unconnected  False       True   \n",
       "4                OPTrust    Fintech    Connected  False       True   \n",
       "..                   ...        ...          ...    ...        ...   \n",
       "308               BeHive  Education    Connected  False      False   \n",
       "309           Wavemaker   Marketing    Connected  False      False   \n",
       "310      MediaCom Canada  Marketing    Connected  False      False   \n",
       "311          Brand & Co.  Marketing    Connected  False      False   \n",
       "312      MediaCom Canada  Marketing    Connected  False      False   \n",
       "\n",
       "     Potentially                        Education        Day Month  \n",
       "0          False            University of Toronto  Wednesday  June  \n",
       "1          False           University of Delaware  Wednesday  June  \n",
       "2          False            University of Toronto  Wednesday  June  \n",
       "3          False                  York University  Wednesday  June  \n",
       "4          False  Georgia Institute of Technology  Wednesday  June  \n",
       "..           ...                              ...        ...   ...  \n",
       "308        False                              UCL    Tuesday  July  \n",
       "309        False              Griffith University    Tuesday  July  \n",
       "310        False                   Humber College    Tuesday  July  \n",
       "311        False               Queen's University    Tuesday  July  \n",
       "312        False          University of Sheffield    Tuesday  July  \n",
       "\n",
       "[313 rows x 17 columns]"
      ]
     },
     "execution_count": 54,
     "metadata": {},
     "output_type": "execute_result"
    }
   ],
   "source": [
    "dfRaw"
   ]
  },
  {
   "cell_type": "code",
   "execution_count": 55,
   "id": "a1f7584e-5b4e-47d2-a23c-2299fd78a51c",
   "metadata": {},
   "outputs": [
    {
     "ename": "TypeError",
     "evalue": "the dtypes of parameters x (object) and width (float64) are incompatible",
     "output_type": "error",
     "traceback": [
      "\u001b[1;31m---------------------------------------------------------------------------\u001b[0m",
      "\u001b[1;31mTypeError\u001b[0m                                 Traceback (most recent call last)",
      "File \u001b[1;32mc:\\Users\\Cube Statistica\\anaconda3\\lib\\site-packages\\matplotlib\\axes\\_axes.py:2373\u001b[0m, in \u001b[0;36mAxes.bar\u001b[1;34m(self, x, height, width, bottom, align, **kwargs)\u001b[0m\n\u001b[0;32m   2372\u001b[0m \u001b[39mtry\u001b[39;00m:\n\u001b[1;32m-> 2373\u001b[0m     left \u001b[39m=\u001b[39m x \u001b[39m-\u001b[39;49m width \u001b[39m/\u001b[39;49m \u001b[39m2\u001b[39;49m\n\u001b[0;32m   2374\u001b[0m \u001b[39mexcept\u001b[39;00m \u001b[39mTypeError\u001b[39;00m \u001b[39mas\u001b[39;00m e:\n",
      "\u001b[1;31mTypeError\u001b[0m: unsupported operand type(s) for -: 'Timestamp' and 'float'",
      "\nThe above exception was the direct cause of the following exception:\n",
      "\u001b[1;31mTypeError\u001b[0m                                 Traceback (most recent call last)",
      "\u001b[1;32me:\\CubeStatistica\\LessonsAndBooks\\Learning-Data-Science-Properly-for-Work-and-Production-Using-Python\\EDA.ipynb Cell 62'\u001b[0m in \u001b[0;36m<cell line: 2>\u001b[1;34m()\u001b[0m\n\u001b[0;32m      <a href='vscode-notebook-cell:/e%3A/CubeStatistica/LessonsAndBooks/Learning-Data-Science-Properly-for-Work-and-Production-Using-Python/EDA.ipynb#ch0000061?line=0'>1</a>\u001b[0m fig \u001b[39m=\u001b[39m plt\u001b[39m.\u001b[39mfigure()\n\u001b[1;32m----> <a href='vscode-notebook-cell:/e%3A/CubeStatistica/LessonsAndBooks/Learning-Data-Science-Properly-for-Work-and-Production-Using-Python/EDA.ipynb#ch0000061?line=1'>2</a>\u001b[0m plt\u001b[39m.\u001b[39;49mbar(dfRaw, \u001b[39m'\u001b[39;49m\u001b[39mPosition\u001b[39;49m\u001b[39m'\u001b[39;49m)\n\u001b[0;32m      <a href='vscode-notebook-cell:/e%3A/CubeStatistica/LessonsAndBooks/Learning-Data-Science-Properly-for-Work-and-Production-Using-Python/EDA.ipynb#ch0000061?line=2'>3</a>\u001b[0m plt\u001b[39m.\u001b[39mshow()\n",
      "File \u001b[1;32mc:\\Users\\Cube Statistica\\anaconda3\\lib\\site-packages\\matplotlib\\pyplot.py:2387\u001b[0m, in \u001b[0;36mbar\u001b[1;34m(x, height, width, bottom, align, data, **kwargs)\u001b[0m\n\u001b[0;32m   2383\u001b[0m \u001b[39m@_copy_docstring_and_deprecators\u001b[39m(Axes\u001b[39m.\u001b[39mbar)\n\u001b[0;32m   2384\u001b[0m \u001b[39mdef\u001b[39;00m \u001b[39mbar\u001b[39m(\n\u001b[0;32m   2385\u001b[0m         x, height, width\u001b[39m=\u001b[39m\u001b[39m0.8\u001b[39m, bottom\u001b[39m=\u001b[39m\u001b[39mNone\u001b[39;00m, \u001b[39m*\u001b[39m, align\u001b[39m=\u001b[39m\u001b[39m'\u001b[39m\u001b[39mcenter\u001b[39m\u001b[39m'\u001b[39m,\n\u001b[0;32m   2386\u001b[0m         data\u001b[39m=\u001b[39m\u001b[39mNone\u001b[39;00m, \u001b[39m*\u001b[39m\u001b[39m*\u001b[39mkwargs):\n\u001b[1;32m-> 2387\u001b[0m     \u001b[39mreturn\u001b[39;00m gca()\u001b[39m.\u001b[39mbar(\n\u001b[0;32m   2388\u001b[0m         x, height, width\u001b[39m=\u001b[39mwidth, bottom\u001b[39m=\u001b[39mbottom, align\u001b[39m=\u001b[39malign,\n\u001b[0;32m   2389\u001b[0m         \u001b[39m*\u001b[39m\u001b[39m*\u001b[39m({\u001b[39m\"\u001b[39m\u001b[39mdata\u001b[39m\u001b[39m\"\u001b[39m: data} \u001b[39mif\u001b[39;00m data \u001b[39mis\u001b[39;00m \u001b[39mnot\u001b[39;00m \u001b[39mNone\u001b[39;00m \u001b[39melse\u001b[39;00m {}), \u001b[39m*\u001b[39m\u001b[39m*\u001b[39mkwargs)\n",
      "File \u001b[1;32mc:\\Users\\Cube Statistica\\anaconda3\\lib\\site-packages\\matplotlib\\__init__.py:1412\u001b[0m, in \u001b[0;36m_preprocess_data.<locals>.inner\u001b[1;34m(ax, data, *args, **kwargs)\u001b[0m\n\u001b[0;32m   1409\u001b[0m \u001b[39m@functools\u001b[39m\u001b[39m.\u001b[39mwraps(func)\n\u001b[0;32m   1410\u001b[0m \u001b[39mdef\u001b[39;00m \u001b[39minner\u001b[39m(ax, \u001b[39m*\u001b[39margs, data\u001b[39m=\u001b[39m\u001b[39mNone\u001b[39;00m, \u001b[39m*\u001b[39m\u001b[39m*\u001b[39mkwargs):\n\u001b[0;32m   1411\u001b[0m     \u001b[39mif\u001b[39;00m data \u001b[39mis\u001b[39;00m \u001b[39mNone\u001b[39;00m:\n\u001b[1;32m-> 1412\u001b[0m         \u001b[39mreturn\u001b[39;00m func(ax, \u001b[39m*\u001b[39m\u001b[39mmap\u001b[39m(sanitize_sequence, args), \u001b[39m*\u001b[39m\u001b[39m*\u001b[39mkwargs)\n\u001b[0;32m   1414\u001b[0m     bound \u001b[39m=\u001b[39m new_sig\u001b[39m.\u001b[39mbind(ax, \u001b[39m*\u001b[39margs, \u001b[39m*\u001b[39m\u001b[39m*\u001b[39mkwargs)\n\u001b[0;32m   1415\u001b[0m     auto_label \u001b[39m=\u001b[39m (bound\u001b[39m.\u001b[39marguments\u001b[39m.\u001b[39mget(label_namer)\n\u001b[0;32m   1416\u001b[0m                   \u001b[39mor\u001b[39;00m bound\u001b[39m.\u001b[39mkwargs\u001b[39m.\u001b[39mget(label_namer))\n",
      "File \u001b[1;32mc:\\Users\\Cube Statistica\\anaconda3\\lib\\site-packages\\matplotlib\\axes\\_axes.py:2375\u001b[0m, in \u001b[0;36mAxes.bar\u001b[1;34m(self, x, height, width, bottom, align, **kwargs)\u001b[0m\n\u001b[0;32m   2373\u001b[0m         left \u001b[39m=\u001b[39m x \u001b[39m-\u001b[39m width \u001b[39m/\u001b[39m \u001b[39m2\u001b[39m\n\u001b[0;32m   2374\u001b[0m     \u001b[39mexcept\u001b[39;00m \u001b[39mTypeError\u001b[39;00m \u001b[39mas\u001b[39;00m e:\n\u001b[1;32m-> 2375\u001b[0m         \u001b[39mraise\u001b[39;00m \u001b[39mTypeError\u001b[39;00m(\u001b[39mf\u001b[39m\u001b[39m'\u001b[39m\u001b[39mthe dtypes of parameters x (\u001b[39m\u001b[39m{\u001b[39;00mx\u001b[39m.\u001b[39mdtype\u001b[39m}\u001b[39;00m\u001b[39m) \u001b[39m\u001b[39m'\u001b[39m\n\u001b[0;32m   2376\u001b[0m                         \u001b[39mf\u001b[39m\u001b[39m'\u001b[39m\u001b[39mand width (\u001b[39m\u001b[39m{\u001b[39;00mwidth\u001b[39m.\u001b[39mdtype\u001b[39m}\u001b[39;00m\u001b[39m) \u001b[39m\u001b[39m'\u001b[39m\n\u001b[0;32m   2377\u001b[0m                         \u001b[39mf\u001b[39m\u001b[39m'\u001b[39m\u001b[39mare incompatible\u001b[39m\u001b[39m'\u001b[39m) \u001b[39mfrom\u001b[39;00m \u001b[39me\u001b[39;00m\n\u001b[0;32m   2378\u001b[0m     bottom \u001b[39m=\u001b[39m y\n\u001b[0;32m   2379\u001b[0m \u001b[39melif\u001b[39;00m orientation \u001b[39m==\u001b[39m \u001b[39m'\u001b[39m\u001b[39mhorizontal\u001b[39m\u001b[39m'\u001b[39m:\n",
      "\u001b[1;31mTypeError\u001b[0m: the dtypes of parameters x (object) and width (float64) are incompatible"
     ]
    },
    {
     "data": {
      "image/png": "[encoded data removed]",
      "text/plain": [
       "<Figure size 432x288 with 1 Axes>"
      ]
     },
     "metadata": {
      "needs_background": "light"
     },
     "output_type": "display_data"
    }
   ],
   "source": [
    "fig = plt.figure()\n",
    "plt.bar(dfRaw, 'Position')\n",
    "plt.show()"
   ]
  },
  {
   "cell_type": "code",
   "execution_count": 56,
   "id": "664c39a5-ec10-48c9-ab32-d6fdb5878501",
   "metadata": {},
   "outputs": [
    {
     "ename": "ValueError",
     "evalue": "Invalid color W/Message",
     "output_type": "error",
     "traceback": [
      "\u001b[1;31m---------------------------------------------------------------------------\u001b[0m",
      "\u001b[1;31mValueError\u001b[0m                                Traceback (most recent call last)",
      "\u001b[1;32me:\\CubeStatistica\\LessonsAndBooks\\Learning-Data-Science-Properly-for-Work-and-Production-Using-Python\\EDA.ipynb Cell 63'\u001b[0m in \u001b[0;36m<cell line: 1>\u001b[1;34m()\u001b[0m\n\u001b[1;32m----> <a href='vscode-notebook-cell:/e%3A/CubeStatistica/LessonsAndBooks/Learning-Data-Science-Properly-for-Work-and-Production-Using-Python/EDA.ipynb#ch0000062?line=0'>1</a>\u001b[0m dfRaw\u001b[39m.\u001b[39;49mPosition\u001b[39m.\u001b[39;49mvalue_counts()\u001b[39m.\u001b[39;49mplot(kind \u001b[39m=\u001b[39;49m \u001b[39m'\u001b[39;49m\u001b[39mbar\u001b[39;49m\u001b[39m'\u001b[39;49m, color \u001b[39m=\u001b[39;49m \u001b[39m'\u001b[39;49m\u001b[39mW/Message\u001b[39;49m\u001b[39m'\u001b[39;49m)\n",
      "File \u001b[1;32mc:\\Users\\Cube Statistica\\anaconda3\\lib\\site-packages\\pandas\\plotting\\_core.py:972\u001b[0m, in \u001b[0;36mPlotAccessor.__call__\u001b[1;34m(self, *args, **kwargs)\u001b[0m\n\u001b[0;32m    969\u001b[0m             label_name \u001b[39m=\u001b[39m label_kw \u001b[39mor\u001b[39;00m data\u001b[39m.\u001b[39mcolumns\n\u001b[0;32m    970\u001b[0m             data\u001b[39m.\u001b[39mcolumns \u001b[39m=\u001b[39m label_name\n\u001b[1;32m--> 972\u001b[0m \u001b[39mreturn\u001b[39;00m plot_backend\u001b[39m.\u001b[39mplot(data, kind\u001b[39m=\u001b[39mkind, \u001b[39m*\u001b[39m\u001b[39m*\u001b[39mkwargs)\n",
      "File \u001b[1;32mc:\\Users\\Cube Statistica\\anaconda3\\lib\\site-packages\\pandas\\plotting\\_matplotlib\\__init__.py:71\u001b[0m, in \u001b[0;36mplot\u001b[1;34m(data, kind, **kwargs)\u001b[0m\n\u001b[0;32m     69\u001b[0m         kwargs[\u001b[39m\"\u001b[39m\u001b[39max\u001b[39m\u001b[39m\"\u001b[39m] \u001b[39m=\u001b[39m \u001b[39mgetattr\u001b[39m(ax, \u001b[39m\"\u001b[39m\u001b[39mleft_ax\u001b[39m\u001b[39m\"\u001b[39m, ax)\n\u001b[0;32m     70\u001b[0m plot_obj \u001b[39m=\u001b[39m PLOT_CLASSES[kind](data, \u001b[39m*\u001b[39m\u001b[39m*\u001b[39mkwargs)\n\u001b[1;32m---> 71\u001b[0m plot_obj\u001b[39m.\u001b[39;49mgenerate()\n\u001b[0;32m     72\u001b[0m plot_obj\u001b[39m.\u001b[39mdraw()\n\u001b[0;32m     73\u001b[0m \u001b[39mreturn\u001b[39;00m plot_obj\u001b[39m.\u001b[39mresult\n",
      "File \u001b[1;32mc:\\Users\\Cube Statistica\\anaconda3\\lib\\site-packages\\pandas\\plotting\\_matplotlib\\core.py:329\u001b[0m, in \u001b[0;36mMPLPlot.generate\u001b[1;34m(self)\u001b[0m\n\u001b[0;32m    327\u001b[0m \u001b[39mself\u001b[39m\u001b[39m.\u001b[39m_compute_plot_data()\n\u001b[0;32m    328\u001b[0m \u001b[39mself\u001b[39m\u001b[39m.\u001b[39m_setup_subplots()\n\u001b[1;32m--> 329\u001b[0m \u001b[39mself\u001b[39;49m\u001b[39m.\u001b[39;49m_make_plot()\n\u001b[0;32m    330\u001b[0m \u001b[39mself\u001b[39m\u001b[39m.\u001b[39m_add_table()\n\u001b[0;32m    331\u001b[0m \u001b[39mself\u001b[39m\u001b[39m.\u001b[39m_make_legend()\n",
      "File \u001b[1;32mc:\\Users\\Cube Statistica\\anaconda3\\lib\\site-packages\\pandas\\plotting\\_matplotlib\\core.py:1497\u001b[0m, in \u001b[0;36mBarPlot._make_plot\u001b[1;34m(self)\u001b[0m\n\u001b[0;32m   1494\u001b[0m \u001b[39mdef\u001b[39;00m \u001b[39m_make_plot\u001b[39m(\u001b[39mself\u001b[39m):\n\u001b[0;32m   1495\u001b[0m     \u001b[39mimport\u001b[39;00m \u001b[39mmatplotlib\u001b[39;00m \u001b[39mas\u001b[39;00m \u001b[39mmpl\u001b[39;00m\n\u001b[1;32m-> 1497\u001b[0m     colors \u001b[39m=\u001b[39m \u001b[39mself\u001b[39;49m\u001b[39m.\u001b[39;49m_get_colors()\n\u001b[0;32m   1498\u001b[0m     ncolors \u001b[39m=\u001b[39m \u001b[39mlen\u001b[39m(colors)\n\u001b[0;32m   1500\u001b[0m     pos_prior \u001b[39m=\u001b[39m neg_prior \u001b[39m=\u001b[39m np\u001b[39m.\u001b[39mzeros(\u001b[39mlen\u001b[39m(\u001b[39mself\u001b[39m\u001b[39m.\u001b[39mdata))\n",
      "File \u001b[1;32mc:\\Users\\Cube Statistica\\anaconda3\\lib\\site-packages\\pandas\\plotting\\_matplotlib\\core.py:842\u001b[0m, in \u001b[0;36mMPLPlot._get_colors\u001b[1;34m(self, num_colors, color_kwds)\u001b[0m\n\u001b[0;32m    839\u001b[0m \u001b[39mif\u001b[39;00m num_colors \u001b[39mis\u001b[39;00m \u001b[39mNone\u001b[39;00m:\n\u001b[0;32m    840\u001b[0m     num_colors \u001b[39m=\u001b[39m \u001b[39mself\u001b[39m\u001b[39m.\u001b[39mnseries\n\u001b[1;32m--> 842\u001b[0m \u001b[39mreturn\u001b[39;00m get_standard_colors(\n\u001b[0;32m    843\u001b[0m     num_colors\u001b[39m=\u001b[39;49mnum_colors,\n\u001b[0;32m    844\u001b[0m     colormap\u001b[39m=\u001b[39;49m\u001b[39mself\u001b[39;49m\u001b[39m.\u001b[39;49mcolormap,\n\u001b[0;32m    845\u001b[0m     color\u001b[39m=\u001b[39;49m\u001b[39mself\u001b[39;49m\u001b[39m.\u001b[39;49mkwds\u001b[39m.\u001b[39;49mget(color_kwds),\n\u001b[0;32m    846\u001b[0m )\n",
      "File \u001b[1;32mc:\\Users\\Cube Statistica\\anaconda3\\lib\\site-packages\\pandas\\plotting\\_matplotlib\\style.py:70\u001b[0m, in \u001b[0;36mget_standard_colors\u001b[1;34m(num_colors, colormap, color_type, color)\u001b[0m\n\u001b[0;32m     67\u001b[0m \u001b[39mif\u001b[39;00m \u001b[39misinstance\u001b[39m(color, \u001b[39mdict\u001b[39m):\n\u001b[0;32m     68\u001b[0m     \u001b[39mreturn\u001b[39;00m color\n\u001b[1;32m---> 70\u001b[0m colors \u001b[39m=\u001b[39m _derive_colors(\n\u001b[0;32m     71\u001b[0m     color\u001b[39m=\u001b[39;49mcolor,\n\u001b[0;32m     72\u001b[0m     colormap\u001b[39m=\u001b[39;49mcolormap,\n\u001b[0;32m     73\u001b[0m     color_type\u001b[39m=\u001b[39;49mcolor_type,\n\u001b[0;32m     74\u001b[0m     num_colors\u001b[39m=\u001b[39;49mnum_colors,\n\u001b[0;32m     75\u001b[0m )\n\u001b[0;32m     77\u001b[0m \u001b[39mreturn\u001b[39;00m \u001b[39mlist\u001b[39m(_cycle_colors(colors, num_colors\u001b[39m=\u001b[39mnum_colors))\n",
      "File \u001b[1;32mc:\\Users\\Cube Statistica\\anaconda3\\lib\\site-packages\\pandas\\plotting\\_matplotlib\\style.py:126\u001b[0m, in \u001b[0;36m_derive_colors\u001b[1;34m(color, colormap, color_type, num_colors)\u001b[0m\n\u001b[0;32m    122\u001b[0m     \u001b[39mif\u001b[39;00m colormap \u001b[39mis\u001b[39;00m \u001b[39mnot\u001b[39;00m \u001b[39mNone\u001b[39;00m:\n\u001b[0;32m    123\u001b[0m         warnings\u001b[39m.\u001b[39mwarn(\n\u001b[0;32m    124\u001b[0m             \u001b[39m\"\u001b[39m\u001b[39m'\u001b[39m\u001b[39mcolor\u001b[39m\u001b[39m'\u001b[39m\u001b[39m and \u001b[39m\u001b[39m'\u001b[39m\u001b[39mcolormap\u001b[39m\u001b[39m'\u001b[39m\u001b[39m cannot be used simultaneously. Using \u001b[39m\u001b[39m'\u001b[39m\u001b[39mcolor\u001b[39m\u001b[39m'\u001b[39m\u001b[39m\"\u001b[39m\n\u001b[0;32m    125\u001b[0m         )\n\u001b[1;32m--> 126\u001b[0m     \u001b[39mreturn\u001b[39;00m _get_colors_from_color(color)\n\u001b[0;32m    127\u001b[0m \u001b[39melse\u001b[39;00m:\n\u001b[0;32m    128\u001b[0m     \u001b[39mreturn\u001b[39;00m _get_colors_from_color_type(color_type, num_colors\u001b[39m=\u001b[39mnum_colors)\n",
      "File \u001b[1;32mc:\\Users\\Cube Statistica\\anaconda3\\lib\\site-packages\\pandas\\plotting\\_matplotlib\\style.py:172\u001b[0m, in \u001b[0;36m_get_colors_from_color\u001b[1;34m(color)\u001b[0m\n\u001b[0;32m    169\u001b[0m     \u001b[39mreturn\u001b[39;00m [color]\n\u001b[0;32m    171\u001b[0m color \u001b[39m=\u001b[39m cast(Collection[Color], color)\n\u001b[1;32m--> 172\u001b[0m \u001b[39mreturn\u001b[39;00m \u001b[39mlist\u001b[39;49m(_gen_list_of_colors_from_iterable(color))\n",
      "File \u001b[1;32mc:\\Users\\Cube Statistica\\anaconda3\\lib\\site-packages\\pandas\\plotting\\_matplotlib\\style.py:205\u001b[0m, in \u001b[0;36m_gen_list_of_colors_from_iterable\u001b[1;34m(color)\u001b[0m\n\u001b[0;32m    203\u001b[0m     \u001b[39myield\u001b[39;00m x\n\u001b[0;32m    204\u001b[0m \u001b[39melse\u001b[39;00m:\n\u001b[1;32m--> 205\u001b[0m     \u001b[39mraise\u001b[39;00m \u001b[39mValueError\u001b[39;00m(\u001b[39mf\u001b[39m\u001b[39m\"\u001b[39m\u001b[39mInvalid color \u001b[39m\u001b[39m{\u001b[39;00mx\u001b[39m}\u001b[39;00m\u001b[39m\"\u001b[39m)\n",
      "\u001b[1;31mValueError\u001b[0m: Invalid color W/Message"
     ]
    },
    {
     "data": {
      "image/png": "[encoded data removed]",
      "text/plain": [
       "<Figure size 432x288 with 1 Axes>"
      ]
     },
     "metadata": {
      "needs_background": "light"
     },
     "output_type": "display_data"
    }
   ],
   "source": [
    "dfRaw.Position.value_counts().plot(kind = 'bar', color = 'W/Message')"
   ]
  },
  {
   "cell_type": "code",
   "execution_count": 57,
   "id": "8b844f46-9f28-44ab-a3ad-366f96f6df53",
   "metadata": {},
   "outputs": [
    {
     "ename": "TypeError",
     "evalue": "no numeric data to plot",
     "output_type": "error",
     "traceback": [
      "\u001b[1;31m---------------------------------------------------------------------------\u001b[0m",
      "\u001b[1;31mTypeError\u001b[0m                                 Traceback (most recent call last)",
      "\u001b[1;32me:\\CubeStatistica\\LessonsAndBooks\\Learning-Data-Science-Properly-for-Work-and-Production-Using-Python\\EDA.ipynb Cell 64'\u001b[0m in \u001b[0;36m<cell line: 1>\u001b[1;34m()\u001b[0m\n\u001b[1;32m----> <a href='vscode-notebook-cell:/e%3A/CubeStatistica/LessonsAndBooks/Learning-Data-Science-Properly-for-Work-and-Production-Using-Python/EDA.ipynb#ch0000063?line=0'>1</a>\u001b[0m dfRaw\u001b[39m.\u001b[39;49mPosition\u001b[39m.\u001b[39;49mplot\u001b[39m.\u001b[39;49mbar()\n",
      "File \u001b[1;32mc:\\Users\\Cube Statistica\\anaconda3\\lib\\site-packages\\pandas\\plotting\\_core.py:1131\u001b[0m, in \u001b[0;36mPlotAccessor.bar\u001b[1;34m(self, x, y, **kwargs)\u001b[0m\n\u001b[0;32m   1043\u001b[0m \u001b[39m@Appender\u001b[39m(\n\u001b[0;32m   1044\u001b[0m     \u001b[39m\"\"\"\u001b[39;00m\n\u001b[0;32m   1045\u001b[0m \u001b[39m    See Also\u001b[39;00m\n\u001b[1;32m   (...)\u001b[0m\n\u001b[0;32m   1120\u001b[0m \u001b[39m@Appender\u001b[39m(_bar_or_line_doc)\n\u001b[0;32m   1121\u001b[0m \u001b[39mdef\u001b[39;00m \u001b[39mbar\u001b[39m(\u001b[39mself\u001b[39m, x\u001b[39m=\u001b[39m\u001b[39mNone\u001b[39;00m, y\u001b[39m=\u001b[39m\u001b[39mNone\u001b[39;00m, \u001b[39m*\u001b[39m\u001b[39m*\u001b[39mkwargs):\n\u001b[0;32m   1122\u001b[0m     \u001b[39m\"\"\"\u001b[39;00m\n\u001b[0;32m   1123\u001b[0m \u001b[39m    Vertical bar plot.\u001b[39;00m\n\u001b[0;32m   1124\u001b[0m \n\u001b[1;32m   (...)\u001b[0m\n\u001b[0;32m   1129\u001b[0m \u001b[39m    other axis represents a measured value.\u001b[39;00m\n\u001b[0;32m   1130\u001b[0m \u001b[39m    \"\"\"\u001b[39;00m\n\u001b[1;32m-> 1131\u001b[0m     \u001b[39mreturn\u001b[39;00m \u001b[39mself\u001b[39m(kind\u001b[39m=\u001b[39m\u001b[39m\"\u001b[39m\u001b[39mbar\u001b[39m\u001b[39m\"\u001b[39m, x\u001b[39m=\u001b[39mx, y\u001b[39m=\u001b[39my, \u001b[39m*\u001b[39m\u001b[39m*\u001b[39mkwargs)\n",
      "File \u001b[1;32mc:\\Users\\Cube Statistica\\anaconda3\\lib\\site-packages\\pandas\\plotting\\_core.py:972\u001b[0m, in \u001b[0;36mPlotAccessor.__call__\u001b[1;34m(self, *args, **kwargs)\u001b[0m\n\u001b[0;32m    969\u001b[0m             label_name \u001b[39m=\u001b[39m label_kw \u001b[39mor\u001b[39;00m data\u001b[39m.\u001b[39mcolumns\n\u001b[0;32m    970\u001b[0m             data\u001b[39m.\u001b[39mcolumns \u001b[39m=\u001b[39m label_name\n\u001b[1;32m--> 972\u001b[0m \u001b[39mreturn\u001b[39;00m plot_backend\u001b[39m.\u001b[39mplot(data, kind\u001b[39m=\u001b[39mkind, \u001b[39m*\u001b[39m\u001b[39m*\u001b[39mkwargs)\n",
      "File \u001b[1;32mc:\\Users\\Cube Statistica\\anaconda3\\lib\\site-packages\\pandas\\plotting\\_matplotlib\\__init__.py:71\u001b[0m, in \u001b[0;36mplot\u001b[1;34m(data, kind, **kwargs)\u001b[0m\n\u001b[0;32m     69\u001b[0m         kwargs[\u001b[39m\"\u001b[39m\u001b[39max\u001b[39m\u001b[39m\"\u001b[39m] \u001b[39m=\u001b[39m \u001b[39mgetattr\u001b[39m(ax, \u001b[39m\"\u001b[39m\u001b[39mleft_ax\u001b[39m\u001b[39m\"\u001b[39m, ax)\n\u001b[0;32m     70\u001b[0m plot_obj \u001b[39m=\u001b[39m PLOT_CLASSES[kind](data, \u001b[39m*\u001b[39m\u001b[39m*\u001b[39mkwargs)\n\u001b[1;32m---> 71\u001b[0m plot_obj\u001b[39m.\u001b[39;49mgenerate()\n\u001b[0;32m     72\u001b[0m plot_obj\u001b[39m.\u001b[39mdraw()\n\u001b[0;32m     73\u001b[0m \u001b[39mreturn\u001b[39;00m plot_obj\u001b[39m.\u001b[39mresult\n",
      "File \u001b[1;32mc:\\Users\\Cube Statistica\\anaconda3\\lib\\site-packages\\pandas\\plotting\\_matplotlib\\core.py:327\u001b[0m, in \u001b[0;36mMPLPlot.generate\u001b[1;34m(self)\u001b[0m\n\u001b[0;32m    325\u001b[0m \u001b[39mdef\u001b[39;00m \u001b[39mgenerate\u001b[39m(\u001b[39mself\u001b[39m):\n\u001b[0;32m    326\u001b[0m     \u001b[39mself\u001b[39m\u001b[39m.\u001b[39m_args_adjust()\n\u001b[1;32m--> 327\u001b[0m     \u001b[39mself\u001b[39;49m\u001b[39m.\u001b[39;49m_compute_plot_data()\n\u001b[0;32m    328\u001b[0m     \u001b[39mself\u001b[39m\u001b[39m.\u001b[39m_setup_subplots()\n\u001b[0;32m    329\u001b[0m     \u001b[39mself\u001b[39m\u001b[39m.\u001b[39m_make_plot()\n",
      "File \u001b[1;32mc:\\Users\\Cube Statistica\\anaconda3\\lib\\site-packages\\pandas\\plotting\\_matplotlib\\core.py:506\u001b[0m, in \u001b[0;36mMPLPlot._compute_plot_data\u001b[1;34m(self)\u001b[0m\n\u001b[0;32m    504\u001b[0m \u001b[39m# no non-numeric frames or series allowed\u001b[39;00m\n\u001b[0;32m    505\u001b[0m \u001b[39mif\u001b[39;00m is_empty:\n\u001b[1;32m--> 506\u001b[0m     \u001b[39mraise\u001b[39;00m \u001b[39mTypeError\u001b[39;00m(\u001b[39m\"\u001b[39m\u001b[39mno numeric data to plot\u001b[39m\u001b[39m\"\u001b[39m)\n\u001b[0;32m    508\u001b[0m \u001b[39mself\u001b[39m\u001b[39m.\u001b[39mdata \u001b[39m=\u001b[39m numeric_data\u001b[39m.\u001b[39mapply(\u001b[39mself\u001b[39m\u001b[39m.\u001b[39m_convert_to_ndarray)\n",
      "\u001b[1;31mTypeError\u001b[0m: no numeric data to plot"
     ]
    }
   ],
   "source": [
    "dfRaw.Position.plot.bar()"
   ]
  },
  {
   "cell_type": "code",
   "execution_count": 58,
   "id": "56d3246b-dc3d-4733-826a-3e74c0118b03",
   "metadata": {},
   "outputs": [
    {
     "data": {
      "text/plain": [
       "98"
      ]
     },
     "execution_count": 58,
     "metadata": {},
     "output_type": "execute_result"
    }
   ],
   "source": [
    "int(98.6)"
   ]
  },
  {
   "cell_type": "code",
   "execution_count": null,
   "id": "65cd172e-ebf6-4dab-ad6a-cee1d7204e6d",
   "metadata": {},
   "outputs": [],
   "source": []
  }
 ],
 "metadata": {
  "kernelspec": {
   "display_name": "Python 3.9.12 ('base')",
   "language": "python",
   "name": "python3"
  },
  "language_info": {
   "codemirror_mode": {
    "name": "ipython",
    "version": 3
   },
   "file_extension": ".py",
   "mimetype": "text/x-python",
   "name": "python",
   "nbconvert_exporter": "python",
   "pygments_lexer": "ipython3",
   "version": "3.9.12"
  },
  "vscode": {
   "interpreter": {
    "hash": "76bb00d6d08df64c86bdf98fd3de826b388aaaed1822eae3cac2a78d94631853"
   }
  }
 },
 "nbformat": 4,
 "nbformat_minor": 5
}
