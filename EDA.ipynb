{
 "cells": [
  {
   "cell_type": "code",
   "execution_count": 1,
   "id": "e434ee37-7abd-497d-8661-4e4849161984",
   "metadata": {},
   "outputs": [],
   "source": [
    "import pandas as pd"
   ]
  },
  {
   "cell_type": "code",
   "execution_count": 2,
   "id": "8fe1fbc0-b8a5-4863-b219-9f0cd0bd3ca0",
   "metadata": {},
   "outputs": [],
   "source": [
    "dfRaw = pd.read_excel('https://github.com/CubeStatistica/Business-Development/blob/main/ClientResearch/Challenges%20Research%20LinkedIn.xlsx?raw=true')"
   ]
  },
  {
   "cell_type": "code",
   "execution_count": 3,
   "id": "4b4e0f97-7e13-4a0d-a562-f87336f761e6",
   "metadata": {},
   "outputs": [
    {
     "data": {
      "text/html": [
       "<div>\n",
       "<style scoped>\n",
       "    .dataframe tbody tr th:only-of-type {\n",
       "        vertical-align: middle;\n",
       "    }\n",
       "\n",
       "    .dataframe tbody tr th {\n",
       "        vertical-align: top;\n",
       "    }\n",
       "\n",
       "    .dataframe thead th {\n",
       "        text-align: right;\n",
       "    }\n",
       "</style>\n",
       "<table border=\"1\" class=\"dataframe\">\n",
       "  <thead>\n",
       "    <tr style=\"text-align: right;\">\n",
       "      <th></th>\n",
       "      <th>Unnamed: 0</th>\n",
       "      <th>Reach-outDate</th>\n",
       "      <th>Name</th>\n",
       "      <th>Position</th>\n",
       "      <th>TimeAtCompany</th>\n",
       "      <th>TimeAtPosition</th>\n",
       "      <th>CompanyName</th>\n",
       "      <th>Industry</th>\n",
       "      <th>Status</th>\n",
       "      <th>Reply</th>\n",
       "      <th>W/Message</th>\n",
       "      <th>Potentially</th>\n",
       "    </tr>\n",
       "  </thead>\n",
       "  <tbody>\n",
       "    <tr>\n",
       "      <th>0</th>\n",
       "      <td>1</td>\n",
       "      <td>2022-06-01</td>\n",
       "      <td>Faria R</td>\n",
       "      <td>Founder</td>\n",
       "      <td>2018-present</td>\n",
       "      <td>2018-present</td>\n",
       "      <td>Mydoh</td>\n",
       "      <td>Fintech</td>\n",
       "      <td>Connected</td>\n",
       "      <td>0.0</td>\n",
       "      <td>True</td>\n",
       "      <td>NaN</td>\n",
       "    </tr>\n",
       "    <tr>\n",
       "      <th>1</th>\n",
       "      <td>2</td>\n",
       "      <td>2022-06-01</td>\n",
       "      <td>Mike D</td>\n",
       "      <td>VP</td>\n",
       "      <td>2010-presnet</td>\n",
       "      <td>2016-present</td>\n",
       "      <td>RBC</td>\n",
       "      <td>Fintech</td>\n",
       "      <td>Connected</td>\n",
       "      <td>0.0</td>\n",
       "      <td>True</td>\n",
       "      <td>NaN</td>\n",
       "    </tr>\n",
       "    <tr>\n",
       "      <th>2</th>\n",
       "      <td>3</td>\n",
       "      <td>2022-06-01</td>\n",
       "      <td>Beren U</td>\n",
       "      <td>Ambassador</td>\n",
       "      <td>2022-present</td>\n",
       "      <td>2022-present</td>\n",
       "      <td>Crypto.com</td>\n",
       "      <td>Fintech</td>\n",
       "      <td>Connected</td>\n",
       "      <td>1.0</td>\n",
       "      <td>True</td>\n",
       "      <td>NaN</td>\n",
       "    </tr>\n",
       "    <tr>\n",
       "      <th>3</th>\n",
       "      <td>4</td>\n",
       "      <td>2022-06-01</td>\n",
       "      <td>Yili Z</td>\n",
       "      <td>Analyst</td>\n",
       "      <td>2021-present</td>\n",
       "      <td>2021-present</td>\n",
       "      <td>Purpose Investments</td>\n",
       "      <td>Fintech</td>\n",
       "      <td>Unconnected</td>\n",
       "      <td>NaN</td>\n",
       "      <td>True</td>\n",
       "      <td>NaN</td>\n",
       "    </tr>\n",
       "    <tr>\n",
       "      <th>4</th>\n",
       "      <td>5</td>\n",
       "      <td>2022-06-01</td>\n",
       "      <td>Jeffery S</td>\n",
       "      <td>Manager</td>\n",
       "      <td>2017-present</td>\n",
       "      <td>2021-present</td>\n",
       "      <td>OPTrust</td>\n",
       "      <td>Fintech</td>\n",
       "      <td>Connected</td>\n",
       "      <td>0.0</td>\n",
       "      <td>True</td>\n",
       "      <td>NaN</td>\n",
       "    </tr>\n",
       "    <tr>\n",
       "      <th>...</th>\n",
       "      <td>...</td>\n",
       "      <td>...</td>\n",
       "      <td>...</td>\n",
       "      <td>...</td>\n",
       "      <td>...</td>\n",
       "      <td>...</td>\n",
       "      <td>...</td>\n",
       "      <td>...</td>\n",
       "      <td>...</td>\n",
       "      <td>...</td>\n",
       "      <td>...</td>\n",
       "      <td>...</td>\n",
       "    </tr>\n",
       "    <tr>\n",
       "      <th>158</th>\n",
       "      <td>159</td>\n",
       "      <td>2022-06-08</td>\n",
       "      <td>Michael R</td>\n",
       "      <td>NaN</td>\n",
       "      <td>NaN</td>\n",
       "      <td>NaN</td>\n",
       "      <td>NaN</td>\n",
       "      <td>Logisitics</td>\n",
       "      <td>Connected</td>\n",
       "      <td>0.0</td>\n",
       "      <td>False</td>\n",
       "      <td>NaN</td>\n",
       "    </tr>\n",
       "    <tr>\n",
       "      <th>159</th>\n",
       "      <td>160</td>\n",
       "      <td>2022-06-08</td>\n",
       "      <td>Karen B</td>\n",
       "      <td>NaN</td>\n",
       "      <td>NaN</td>\n",
       "      <td>NaN</td>\n",
       "      <td>NaN</td>\n",
       "      <td>Logisitics</td>\n",
       "      <td>Unconnected</td>\n",
       "      <td>NaN</td>\n",
       "      <td>False</td>\n",
       "      <td>NaN</td>\n",
       "    </tr>\n",
       "    <tr>\n",
       "      <th>160</th>\n",
       "      <td>161</td>\n",
       "      <td>2022-06-08</td>\n",
       "      <td>Patrick S</td>\n",
       "      <td>NaN</td>\n",
       "      <td>NaN</td>\n",
       "      <td>NaN</td>\n",
       "      <td>NaN</td>\n",
       "      <td>Logisitics</td>\n",
       "      <td>Unconnected</td>\n",
       "      <td>NaN</td>\n",
       "      <td>False</td>\n",
       "      <td>NaN</td>\n",
       "    </tr>\n",
       "    <tr>\n",
       "      <th>161</th>\n",
       "      <td>162</td>\n",
       "      <td>2022-06-08</td>\n",
       "      <td>Mihir M</td>\n",
       "      <td>NaN</td>\n",
       "      <td>NaN</td>\n",
       "      <td>NaN</td>\n",
       "      <td>NaN</td>\n",
       "      <td>Logisitics</td>\n",
       "      <td>Connected</td>\n",
       "      <td>0.0</td>\n",
       "      <td>False</td>\n",
       "      <td>NaN</td>\n",
       "    </tr>\n",
       "    <tr>\n",
       "      <th>162</th>\n",
       "      <td>163</td>\n",
       "      <td>2022-06-08</td>\n",
       "      <td>Jeffery T</td>\n",
       "      <td>NaN</td>\n",
       "      <td>NaN</td>\n",
       "      <td>NaN</td>\n",
       "      <td>NaN</td>\n",
       "      <td>Logisitics</td>\n",
       "      <td>Connected</td>\n",
       "      <td>0.0</td>\n",
       "      <td>False</td>\n",
       "      <td>NaN</td>\n",
       "    </tr>\n",
       "  </tbody>\n",
       "</table>\n",
       "<p>163 rows × 12 columns</p>\n",
       "</div>"
      ],
      "text/plain": [
       "     Unnamed: 0 Reach-outDate       Name    Position TimeAtCompany  \\\n",
       "0             1    2022-06-01    Faria R     Founder  2018-present   \n",
       "1             2    2022-06-01     Mike D          VP  2010-presnet   \n",
       "2             3    2022-06-01    Beren U  Ambassador  2022-present   \n",
       "3             4    2022-06-01     Yili Z     Analyst  2021-present   \n",
       "4             5    2022-06-01  Jeffery S     Manager  2017-present   \n",
       "..          ...           ...        ...         ...           ...   \n",
       "158         159    2022-06-08  Michael R         NaN           NaN   \n",
       "159         160    2022-06-08    Karen B         NaN           NaN   \n",
       "160         161    2022-06-08  Patrick S         NaN           NaN   \n",
       "161         162    2022-06-08    Mihir M         NaN           NaN   \n",
       "162         163    2022-06-08  Jeffery T         NaN           NaN   \n",
       "\n",
       "    TimeAtPosition          CompanyName    Industry       Status  Reply  \\\n",
       "0     2018-present                Mydoh     Fintech    Connected    0.0   \n",
       "1     2016-present                  RBC     Fintech    Connected    0.0   \n",
       "2     2022-present           Crypto.com     Fintech    Connected    1.0   \n",
       "3     2021-present  Purpose Investments     Fintech  Unconnected    NaN   \n",
       "4     2021-present              OPTrust     Fintech    Connected    0.0   \n",
       "..             ...                  ...         ...          ...    ...   \n",
       "158            NaN                  NaN  Logisitics    Connected    0.0   \n",
       "159            NaN                  NaN  Logisitics  Unconnected    NaN   \n",
       "160            NaN                  NaN  Logisitics  Unconnected    NaN   \n",
       "161            NaN                  NaN  Logisitics    Connected    0.0   \n",
       "162            NaN                  NaN  Logisitics    Connected    0.0   \n",
       "\n",
       "     W/Message  Potentially  \n",
       "0         True          NaN  \n",
       "1         True          NaN  \n",
       "2         True          NaN  \n",
       "3         True          NaN  \n",
       "4         True          NaN  \n",
       "..         ...          ...  \n",
       "158      False          NaN  \n",
       "159      False          NaN  \n",
       "160      False          NaN  \n",
       "161      False          NaN  \n",
       "162      False          NaN  \n",
       "\n",
       "[163 rows x 12 columns]"
      ]
     },
     "execution_count": 3,
     "metadata": {},
     "output_type": "execute_result"
    }
   ],
   "source": [
    "dfRaw"
   ]
  },
  {
   "cell_type": "code",
   "execution_count": 5,
   "id": "cb1281db-7425-424d-9cbc-f08a694f98ad",
   "metadata": {},
   "outputs": [
    {
     "data": {
      "text/plain": [
       "<bound method DataFrame.info of      Unnamed: 0 Reach-outDate       Name    Position TimeAtCompany  \\\n",
       "0             1    2022-06-01    Faria R     Founder  2018-present   \n",
       "1             2    2022-06-01     Mike D          VP  2010-presnet   \n",
       "2             3    2022-06-01    Beren U  Ambassador  2022-present   \n",
       "3             4    2022-06-01     Yili Z     Analyst  2021-present   \n",
       "4             5    2022-06-01  Jeffery S     Manager  2017-present   \n",
       "..          ...           ...        ...         ...           ...   \n",
       "158         159    2022-06-08  Michael R         NaN           NaN   \n",
       "159         160    2022-06-08    Karen B         NaN           NaN   \n",
       "160         161    2022-06-08  Patrick S         NaN           NaN   \n",
       "161         162    2022-06-08    Mihir M         NaN           NaN   \n",
       "162         163    2022-06-08  Jeffery T         NaN           NaN   \n",
       "\n",
       "    TimeAtPosition          CompanyName    Industry       Status  Reply  \\\n",
       "0     2018-present                Mydoh     Fintech    Connected    0.0   \n",
       "1     2016-present                  RBC     Fintech    Connected    0.0   \n",
       "2     2022-present           Crypto.com     Fintech    Connected    1.0   \n",
       "3     2021-present  Purpose Investments     Fintech  Unconnected    NaN   \n",
       "4     2021-present              OPTrust     Fintech    Connected    0.0   \n",
       "..             ...                  ...         ...          ...    ...   \n",
       "158            NaN                  NaN  Logisitics    Connected    0.0   \n",
       "159            NaN                  NaN  Logisitics  Unconnected    NaN   \n",
       "160            NaN                  NaN  Logisitics  Unconnected    NaN   \n",
       "161            NaN                  NaN  Logisitics    Connected    0.0   \n",
       "162            NaN                  NaN  Logisitics    Connected    0.0   \n",
       "\n",
       "     W/Message  Potentially  \n",
       "0         True          NaN  \n",
       "1         True          NaN  \n",
       "2         True          NaN  \n",
       "3         True          NaN  \n",
       "4         True          NaN  \n",
       "..         ...          ...  \n",
       "158      False          NaN  \n",
       "159      False          NaN  \n",
       "160      False          NaN  \n",
       "161      False          NaN  \n",
       "162      False          NaN  \n",
       "\n",
       "[163 rows x 12 columns]>"
      ]
     },
     "execution_count": 5,
     "metadata": {},
     "output_type": "execute_result"
    }
   ],
   "source": [
    "dfRaw.info"
   ]
  },
  {
   "cell_type": "code",
   "execution_count": 6,
   "id": "fcde3851-a08b-4097-886e-1e1e77e4fe08",
   "metadata": {},
   "outputs": [
    {
     "data": {
      "text/plain": [
       "Unnamed: 0                 int64\n",
       "Reach-outDate     datetime64[ns]\n",
       "Name                      object\n",
       "Position                  object\n",
       "TimeAtCompany             object\n",
       "TimeAtPosition            object\n",
       "CompanyName               object\n",
       "Industry                  object\n",
       "Status                    object\n",
       "Reply                    float64\n",
       "W/Message                   bool\n",
       "Potentially              float64\n",
       "dtype: object"
      ]
     },
     "execution_count": 6,
     "metadata": {},
     "output_type": "execute_result"
    }
   ],
   "source": [
    "dfRaw.dtypes"
   ]
  },
  {
   "cell_type": "code",
   "execution_count": 7,
   "id": "ad7505d8-72c1-43e5-8fae-3e33e99742a2",
   "metadata": {},
   "outputs": [
    {
     "data": {
      "text/html": [
       "<div>\n",
       "<style scoped>\n",
       "    .dataframe tbody tr th:only-of-type {\n",
       "        vertical-align: middle;\n",
       "    }\n",
       "\n",
       "    .dataframe tbody tr th {\n",
       "        vertical-align: top;\n",
       "    }\n",
       "\n",
       "    .dataframe thead th {\n",
       "        text-align: right;\n",
       "    }\n",
       "</style>\n",
       "<table border=\"1\" class=\"dataframe\">\n",
       "  <thead>\n",
       "    <tr style=\"text-align: right;\">\n",
       "      <th></th>\n",
       "      <th>Unnamed: 0</th>\n",
       "      <th>Reply</th>\n",
       "      <th>Potentially</th>\n",
       "    </tr>\n",
       "  </thead>\n",
       "  <tbody>\n",
       "    <tr>\n",
       "      <th>count</th>\n",
       "      <td>163.000000</td>\n",
       "      <td>47.000000</td>\n",
       "      <td>1.0</td>\n",
       "    </tr>\n",
       "    <tr>\n",
       "      <th>mean</th>\n",
       "      <td>82.000000</td>\n",
       "      <td>0.148936</td>\n",
       "      <td>1.0</td>\n",
       "    </tr>\n",
       "    <tr>\n",
       "      <th>std</th>\n",
       "      <td>47.198164</td>\n",
       "      <td>0.359875</td>\n",
       "      <td>NaN</td>\n",
       "    </tr>\n",
       "    <tr>\n",
       "      <th>min</th>\n",
       "      <td>1.000000</td>\n",
       "      <td>0.000000</td>\n",
       "      <td>1.0</td>\n",
       "    </tr>\n",
       "    <tr>\n",
       "      <th>25%</th>\n",
       "      <td>41.500000</td>\n",
       "      <td>0.000000</td>\n",
       "      <td>1.0</td>\n",
       "    </tr>\n",
       "    <tr>\n",
       "      <th>50%</th>\n",
       "      <td>82.000000</td>\n",
       "      <td>0.000000</td>\n",
       "      <td>1.0</td>\n",
       "    </tr>\n",
       "    <tr>\n",
       "      <th>75%</th>\n",
       "      <td>122.500000</td>\n",
       "      <td>0.000000</td>\n",
       "      <td>1.0</td>\n",
       "    </tr>\n",
       "    <tr>\n",
       "      <th>max</th>\n",
       "      <td>163.000000</td>\n",
       "      <td>1.000000</td>\n",
       "      <td>1.0</td>\n",
       "    </tr>\n",
       "  </tbody>\n",
       "</table>\n",
       "</div>"
      ],
      "text/plain": [
       "       Unnamed: 0      Reply  Potentially\n",
       "count  163.000000  47.000000          1.0\n",
       "mean    82.000000   0.148936          1.0\n",
       "std     47.198164   0.359875          NaN\n",
       "min      1.000000   0.000000          1.0\n",
       "25%     41.500000   0.000000          1.0\n",
       "50%     82.000000   0.000000          1.0\n",
       "75%    122.500000   0.000000          1.0\n",
       "max    163.000000   1.000000          1.0"
      ]
     },
     "execution_count": 7,
     "metadata": {},
     "output_type": "execute_result"
    }
   ],
   "source": [
    "dfRaw.describe()"
   ]
  },
  {
   "cell_type": "code",
   "execution_count": 8,
   "id": "cf2503e5-d2c6-443d-bef4-65a93bfc157a",
   "metadata": {},
   "outputs": [
    {
     "data": {
      "text/plain": [
       "1956"
      ]
     },
     "execution_count": 8,
     "metadata": {},
     "output_type": "execute_result"
    }
   ],
   "source": [
    "dfRaw.size"
   ]
  },
  {
   "cell_type": "code",
   "execution_count": 9,
   "id": "2be8d0a9-edb2-4287-bfd4-c71e1fe5521d",
   "metadata": {},
   "outputs": [
    {
     "data": {
      "text/plain": [
       "(163, 12)"
      ]
     },
     "execution_count": 9,
     "metadata": {},
     "output_type": "execute_result"
    }
   ],
   "source": [
    "dfRaw.shape"
   ]
  },
  {
   "cell_type": "code",
   "execution_count": 10,
   "id": "69bc44b7-458b-493e-a408-8aa461dd036f",
   "metadata": {},
   "outputs": [
    {
     "data": {
      "text/plain": [
       "1956"
      ]
     },
     "execution_count": 10,
     "metadata": {},
     "output_type": "execute_result"
    }
   ],
   "source": [
    "dfRaw.shape[0] * dfRaw.shape[1]"
   ]
  },
  {
   "cell_type": "code",
   "execution_count": 11,
   "id": "44603cfd-7be1-42d9-8790-83d8582996ac",
   "metadata": {},
   "outputs": [
    {
     "data": {
      "text/plain": [
       "Index(['Unnamed: 0', 'Reach-outDate', 'Name', 'Position', 'TimeAtCompany',\n",
       "       'TimeAtPosition', 'CompanyName', 'Industry', 'Status', 'Reply',\n",
       "       'W/Message', 'Potentially'],\n",
       "      dtype='object')"
      ]
     },
     "execution_count": 11,
     "metadata": {},
     "output_type": "execute_result"
    }
   ],
   "source": [
    "dfRaw.columns"
   ]
  },
  {
   "cell_type": "code",
   "execution_count": 12,
   "id": "4441c136-75d2-4797-9f29-bf0919431d13",
   "metadata": {},
   "outputs": [
    {
     "data": {
      "text/plain": [
       "Unconnected    116\n",
       "Connected       47\n",
       "Name: Status, dtype: int64"
      ]
     },
     "execution_count": 12,
     "metadata": {},
     "output_type": "execute_result"
    }
   ],
   "source": [
    "dfRaw['Status'].value_counts()"
   ]
  },
  {
   "cell_type": "code",
   "execution_count": 13,
   "id": "0ed9176b-73d0-4af7-a64a-f20818e2157e",
   "metadata": {},
   "outputs": [
    {
     "data": {
      "text/plain": [
       "Status\n",
       "Connected       47\n",
       "Unconnected    116\n",
       "dtype: int64"
      ]
     },
     "execution_count": 13,
     "metadata": {},
     "output_type": "execute_result"
    }
   ],
   "source": [
    "dfRaw.groupby(['Status']).size()"
   ]
  },
  {
   "cell_type": "code",
   "execution_count": 14,
   "id": "09f453f1-63d6-42a9-9fa4-ef1f7840435c",
   "metadata": {},
   "outputs": [
    {
     "data": {
      "text/plain": [
       "Industry\n",
       "Accounting        2\n",
       "Consulting        3\n",
       "DS/Fintech        1\n",
       "DS/ML             1\n",
       "Engineering      18\n",
       "Fintech          22\n",
       "HR                1\n",
       "Healthcare       44\n",
       "Logisitics       20\n",
       "Manufacturing     2\n",
       "Marketing        41\n",
       "Technology        7\n",
       "Travel            1\n",
       "dtype: int64"
      ]
     },
     "execution_count": 14,
     "metadata": {},
     "output_type": "execute_result"
    }
   ],
   "source": [
    "dfRaw.groupby(['Industry']).size()"
   ]
  },
  {
   "cell_type": "code",
   "execution_count": 15,
   "id": "ca05671b-ae02-4609-b7ca-c268a64909f2",
   "metadata": {},
   "outputs": [
    {
     "data": {
      "text/plain": [
       "Reach-outDate  Industry     \n",
       "2022-06-01     DS/Fintech        1\n",
       "               DS/ML             1\n",
       "               Fintech          21\n",
       "2022-06-02     Marketing        36\n",
       "2022-06-03     Accounting        2\n",
       "               Consulting        3\n",
       "               Engineering      18\n",
       "               Fintech           1\n",
       "               HR                1\n",
       "               Manufacturing     2\n",
       "               Marketing         5\n",
       "               Technology        7\n",
       "               Travel            1\n",
       "2022-06-04     Healthcare       44\n",
       "2022-06-08     Logisitics       20\n",
       "dtype: int64"
      ]
     },
     "execution_count": 15,
     "metadata": {},
     "output_type": "execute_result"
    }
   ],
   "source": [
    "dfRaw.groupby(['Reach-outDate', 'Industry']).size()"
   ]
  },
  {
   "cell_type": "code",
   "execution_count": 16,
   "id": "87854fe3-fbe4-43b5-96a5-7b6d53a732ab",
   "metadata": {},
   "outputs": [
    {
     "data": {
      "text/plain": [
       "Reach-outDate  Industry    Reply\n",
       "2022-06-01     DS/Fintech  0.0       1\n",
       "               Fintech     0.0       3\n",
       "                           1.0       2\n",
       "2022-06-02     Marketing   0.0       9\n",
       "                           1.0       3\n",
       "2022-06-03     Accounting  0.0       1\n",
       "               Consulting  0.0       1\n",
       "               Marketing   0.0       3\n",
       "               Technology  0.0       2\n",
       "                           1.0       1\n",
       "2022-06-04     Healthcare  0.0      15\n",
       "                           1.0       1\n",
       "2022-06-08     Logisitics  0.0       5\n",
       "dtype: int64"
      ]
     },
     "execution_count": 16,
     "metadata": {},
     "output_type": "execute_result"
    }
   ],
   "source": [
    "dfRaw.groupby(['Reach-outDate', 'Industry', 'Reply']).size()"
   ]
  },
  {
   "cell_type": "code",
   "execution_count": 17,
   "id": "7574143a-a278-4533-9d41-bd477e71444e",
   "metadata": {},
   "outputs": [
    {
     "data": {
      "text/plain": [
       "Position\n",
       "Ambassador               1\n",
       "Analyst                  4\n",
       "Associate                1\n",
       "Business Development     1\n",
       "CMO                      1\n",
       "CTO                      1\n",
       "Consultant               5\n",
       "Coordinator              4\n",
       "Director                 4\n",
       "Engineer                 2\n",
       "Founder                 83\n",
       "Head of Marketing        1\n",
       "Manager                 18\n",
       "Partner                  3\n",
       "Specialist               9\n",
       "Strategist               1\n",
       "VP                       4\n",
       "dtype: int64"
      ]
     },
     "execution_count": 17,
     "metadata": {},
     "output_type": "execute_result"
    }
   ],
   "source": [
    "dfRaw.groupby(['Position']).size()"
   ]
  },
  {
   "cell_type": "code",
   "execution_count": 18,
   "id": "fc858279-94f8-44cc-afde-d780ceb2eb0c",
   "metadata": {},
   "outputs": [
    {
     "data": {
      "text/plain": [
       "<AxesSubplot:xlabel='Position'>"
      ]
     },
     "execution_count": 18,
     "metadata": {},
     "output_type": "execute_result"
    },
    {
     "data": {
      "image/png": "[encoded data removed]",
      "text/plain": [
       "<Figure size 432x288 with 1 Axes>"
      ]
     },
     "metadata": {
      "needs_background": "light"
     },
     "output_type": "display_data"
    }
   ],
   "source": [
    "dfRaw.groupby(['Position']).size().plot(kind = 'bar')"
   ]
  },
  {
   "cell_type": "code",
   "execution_count": 19,
   "id": "47375671-abe8-47e8-8df8-c940837f2605",
   "metadata": {},
   "outputs": [
    {
     "data": {
      "text/plain": [
       "Position    Reply\n",
       "Ambassador  1.0       1\n",
       "Consultant  0.0       2\n",
       "            1.0       1\n",
       "Director    0.0       1\n",
       "Founder     0.0      21\n",
       "            1.0       2\n",
       "Manager     0.0       2\n",
       "            1.0       3\n",
       "Partner     0.0       1\n",
       "Specialist  0.0       5\n",
       "Strategist  0.0       1\n",
       "VP          0.0       2\n",
       "dtype: int64"
      ]
     },
     "execution_count": 19,
     "metadata": {},
     "output_type": "execute_result"
    }
   ],
   "source": [
    "dfRaw.groupby(['Position', 'Reply']).size()"
   ]
  },
  {
   "cell_type": "code",
   "execution_count": null,
   "id": "469000d5-3b03-4f17-9d51-b8d210fb9ca4",
   "metadata": {},
   "outputs": [],
   "source": []
  },
  {
   "cell_type": "code",
   "execution_count": 20,
   "id": "8b5fa89f-2a50-4bdc-b862-894690d412ba",
   "metadata": {},
   "outputs": [
    {
     "data": {
      "text/plain": [
       "<AxesSubplot:xlabel='Industry'>"
      ]
     },
     "execution_count": 20,
     "metadata": {},
     "output_type": "execute_result"
    },
    {
     "data": {
      "image/png": "[encoded data removed]",
      "text/plain": [
       "<Figure size 432x288 with 1 Axes>"
      ]
     },
     "metadata": {
      "needs_background": "light"
     },
     "output_type": "display_data"
    }
   ],
   "source": [
    "dfRaw.groupby(['Industry']).size().plot(kind = 'bar')"
   ]
  },
  {
   "cell_type": "code",
   "execution_count": 21,
   "id": "3ca705bb-5e90-423a-83a7-2da8ab87deec",
   "metadata": {},
   "outputs": [
    {
     "data": {
      "text/plain": [
       "Index(['Unnamed: 0', 'Reach-outDate', 'Name', 'Position', 'TimeAtCompany',\n",
       "       'TimeAtPosition', 'CompanyName', 'Industry', 'Status', 'Reply',\n",
       "       'W/Message', 'Potentially'],\n",
       "      dtype='object')"
      ]
     },
     "execution_count": 21,
     "metadata": {},
     "output_type": "execute_result"
    }
   ],
   "source": [
    "dfRaw.columns"
   ]
  },
  {
   "cell_type": "code",
   "execution_count": 22,
   "id": "7ea75d8c-d97c-40ca-9f6e-68afd16fedd8",
   "metadata": {},
   "outputs": [],
   "source": [
    "mask = dfRaw.groupby(['CompanyName']).size() > 1"
   ]
  },
  {
   "cell_type": "code",
   "execution_count": 23,
   "id": "376480c1-cbce-4e72-b989-eb65c3b53edb",
   "metadata": {},
   "outputs": [
    {
     "data": {
      "text/plain": [
       "CompanyName\n",
       "2Social Inc.              False\n",
       "A-MM                      False\n",
       "Accenture                 False\n",
       "Acorn Biolabs             False\n",
       "AcuityAds Inc.            False\n",
       "                          ...  \n",
       "Wolfson Equity            False\n",
       "Wrapperz District         False\n",
       "Yurek Pharmacy Limited    False\n",
       "actiTIME                  False\n",
       "uCarenet                  False\n",
       "Length: 142, dtype: bool"
      ]
     },
     "execution_count": 23,
     "metadata": {},
     "output_type": "execute_result"
    }
   ],
   "source": [
    "dfRaw.groupby(['CompanyName']).size() > 1"
   ]
  },
  {
   "cell_type": "code",
   "execution_count": 24,
   "id": "0784538f-4ef0-45af-ae36-988960bac9a4",
   "metadata": {},
   "outputs": [],
   "source": [
    "mask = dfRaw.CompanyName.value_counts() > 1"
   ]
  },
  {
   "cell_type": "code",
   "execution_count": 25,
   "id": "e44bc051-18b3-43ab-b5c8-91d4ec3e6674",
   "metadata": {},
   "outputs": [
    {
     "data": {
      "text/plain": [
       "(142,)"
      ]
     },
     "execution_count": 25,
     "metadata": {},
     "output_type": "execute_result"
    }
   ],
   "source": [
    "mask.shape"
   ]
  },
  {
   "cell_type": "code",
   "execution_count": 26,
   "id": "fe375f4b-2ee3-4a47-8f2c-402ed8537fef",
   "metadata": {},
   "outputs": [
    {
     "data": {
      "text/plain": [
       "(163,)"
      ]
     },
     "execution_count": 26,
     "metadata": {},
     "output_type": "execute_result"
    }
   ],
   "source": [
    "dfRaw.Name.shape"
   ]
  },
  {
   "cell_type": "code",
   "execution_count": 27,
   "id": "f1d65a80-404b-481b-8ec4-3b060c690827",
   "metadata": {},
   "outputs": [
    {
     "data": {
      "text/plain": [
       "(142,)"
      ]
     },
     "execution_count": 27,
     "metadata": {},
     "output_type": "execute_result"
    }
   ],
   "source": [
    "mask.ravel().shape"
   ]
  },
  {
   "cell_type": "code",
   "execution_count": 28,
   "id": "6a3f9a5d-9733-4014-b8c4-d344cba4b268",
   "metadata": {},
   "outputs": [
    {
     "data": {
      "text/plain": [
       "<bound method NDFrame._add_numeric_operations.<locals>.kurt of LifeSpeak Inc.                       True\n",
       "Mydoh                               False\n",
       "Northern Transformer Corporation    False\n",
       "Saimen                              False\n",
       "MNP                                 False\n",
       "                                    ...  \n",
       "A-MM                                False\n",
       "Phyxable                            False\n",
       "VVF Group                           False\n",
       "actiTIME                            False\n",
       "Memoryz                             False\n",
       "Name: CompanyName, Length: 142, dtype: bool>"
      ]
     },
     "execution_count": 28,
     "metadata": {},
     "output_type": "execute_result"
    }
   ],
   "source": [
    "mask.kurtosis"
   ]
  },
  {
   "cell_type": "code",
   "execution_count": 29,
   "id": "90baafad-7cf2-4a1c-ac4c-cb4650b426ff",
   "metadata": {},
   "outputs": [
    {
     "data": {
      "text/plain": [
       "array([ True, False, False, False, False, False, False, False, False,\n",
       "       False, False, False, False, False, False, False, False, False,\n",
       "       False, False, False, False, False, False, False, False, False,\n",
       "       False, False, False, False, False, False, False, False, False,\n",
       "       False, False, False, False, False, False, False, False, False,\n",
       "       False, False, False, False, False, False, False, False, False,\n",
       "       False, False, False, False, False, False, False, False, False,\n",
       "       False, False, False, False, False, False, False, False, False,\n",
       "       False, False, False, False, False, False, False, False, False,\n",
       "       False, False, False, False, False, False, False, False, False,\n",
       "       False, False, False, False, False, False, False, False, False,\n",
       "       False, False, False, False, False, False, False, False, False,\n",
       "       False, False, False, False, False, False, False, False, False,\n",
       "       False, False, False, False, False, False, False, False, False,\n",
       "       False, False, False, False, False, False, False, False, False,\n",
       "       False, False, False, False, False, False, False])"
      ]
     },
     "execution_count": 29,
     "metadata": {},
     "output_type": "execute_result"
    }
   ],
   "source": [
    "mask.to_numpy()"
   ]
  },
  {
   "cell_type": "code",
   "execution_count": 88,
   "id": "b1660fe7-3613-456a-8178-d46d3ef6c10c",
   "metadata": {},
   "outputs": [
    {
     "ename": "ValueError",
     "evalue": "Item wrong length 142 instead of 163.",
     "output_type": "error",
     "traceback": [
      "\u001b[1;31m---------------------------------------------------------------------------\u001b[0m",
      "\u001b[1;31mValueError\u001b[0m                                Traceback (most recent call last)",
      "Input \u001b[1;32mIn [88]\u001b[0m, in \u001b[0;36m<cell line: 1>\u001b[1;34m()\u001b[0m\n\u001b[1;32m----> 1\u001b[0m \u001b[43mdfRaw\u001b[49m\u001b[43m[\u001b[49m\u001b[43mmask\u001b[49m\u001b[38;5;241;43m.\u001b[39;49m\u001b[43mravel\u001b[49m\u001b[43m(\u001b[49m\u001b[43m)\u001b[49m\u001b[43m]\u001b[49m\n",
      "File \u001b[1;32m~\\anaconda3\\lib\\site-packages\\pandas\\core\\frame.py:3496\u001b[0m, in \u001b[0;36mDataFrame.__getitem__\u001b[1;34m(self, key)\u001b[0m\n\u001b[0;32m   3494\u001b[0m \u001b[38;5;66;03m# Do we have a (boolean) 1d indexer?\u001b[39;00m\n\u001b[0;32m   3495\u001b[0m \u001b[38;5;28;01mif\u001b[39;00m com\u001b[38;5;241m.\u001b[39mis_bool_indexer(key):\n\u001b[1;32m-> 3496\u001b[0m     \u001b[38;5;28;01mreturn\u001b[39;00m \u001b[38;5;28;43mself\u001b[39;49m\u001b[38;5;241;43m.\u001b[39;49m\u001b[43m_getitem_bool_array\u001b[49m\u001b[43m(\u001b[49m\u001b[43mkey\u001b[49m\u001b[43m)\u001b[49m\n\u001b[0;32m   3498\u001b[0m \u001b[38;5;66;03m# We are left with two options: a single key, and a collection of keys,\u001b[39;00m\n\u001b[0;32m   3499\u001b[0m \u001b[38;5;66;03m# We interpret tuples as collections only for non-MultiIndex\u001b[39;00m\n\u001b[0;32m   3500\u001b[0m is_single_key \u001b[38;5;241m=\u001b[39m \u001b[38;5;28misinstance\u001b[39m(key, \u001b[38;5;28mtuple\u001b[39m) \u001b[38;5;129;01mor\u001b[39;00m \u001b[38;5;129;01mnot\u001b[39;00m is_list_like(key)\n",
      "File \u001b[1;32m~\\anaconda3\\lib\\site-packages\\pandas\\core\\frame.py:3543\u001b[0m, in \u001b[0;36mDataFrame._getitem_bool_array\u001b[1;34m(self, key)\u001b[0m\n\u001b[0;32m   3537\u001b[0m     warnings\u001b[38;5;241m.\u001b[39mwarn(\n\u001b[0;32m   3538\u001b[0m         \u001b[38;5;124m\"\u001b[39m\u001b[38;5;124mBoolean Series key will be reindexed to match DataFrame index.\u001b[39m\u001b[38;5;124m\"\u001b[39m,\n\u001b[0;32m   3539\u001b[0m         \u001b[38;5;167;01mUserWarning\u001b[39;00m,\n\u001b[0;32m   3540\u001b[0m         stacklevel\u001b[38;5;241m=\u001b[39mfind_stack_level(),\n\u001b[0;32m   3541\u001b[0m     )\n\u001b[0;32m   3542\u001b[0m \u001b[38;5;28;01melif\u001b[39;00m \u001b[38;5;28mlen\u001b[39m(key) \u001b[38;5;241m!=\u001b[39m \u001b[38;5;28mlen\u001b[39m(\u001b[38;5;28mself\u001b[39m\u001b[38;5;241m.\u001b[39mindex):\n\u001b[1;32m-> 3543\u001b[0m     \u001b[38;5;28;01mraise\u001b[39;00m \u001b[38;5;167;01mValueError\u001b[39;00m(\n\u001b[0;32m   3544\u001b[0m         \u001b[38;5;124mf\u001b[39m\u001b[38;5;124m\"\u001b[39m\u001b[38;5;124mItem wrong length \u001b[39m\u001b[38;5;132;01m{\u001b[39;00m\u001b[38;5;28mlen\u001b[39m(key)\u001b[38;5;132;01m}\u001b[39;00m\u001b[38;5;124m instead of \u001b[39m\u001b[38;5;132;01m{\u001b[39;00m\u001b[38;5;28mlen\u001b[39m(\u001b[38;5;28mself\u001b[39m\u001b[38;5;241m.\u001b[39mindex)\u001b[38;5;132;01m}\u001b[39;00m\u001b[38;5;124m.\u001b[39m\u001b[38;5;124m\"\u001b[39m\n\u001b[0;32m   3545\u001b[0m     )\n\u001b[0;32m   3547\u001b[0m \u001b[38;5;66;03m# check_bool_indexer will throw exception if Series key cannot\u001b[39;00m\n\u001b[0;32m   3548\u001b[0m \u001b[38;5;66;03m# be reindexed to match DataFrame rows\u001b[39;00m\n\u001b[0;32m   3549\u001b[0m key \u001b[38;5;241m=\u001b[39m check_bool_indexer(\u001b[38;5;28mself\u001b[39m\u001b[38;5;241m.\u001b[39mindex, key)\n",
      "\u001b[1;31mValueError\u001b[0m: Item wrong length 142 instead of 163."
     ]
    }
   ],
   "source": [
    "dfRaw[mask.ravel()]"
   ]
  },
  {
   "cell_type": "code",
   "execution_count": null,
   "id": "7bb76e1f-c7fd-4fcb-9e91-f90954d4d813",
   "metadata": {},
   "outputs": [],
   "source": []
  },
  {
   "cell_type": "markdown",
   "id": "96d5a67a-f28a-4706-904e-a53beda4be8d",
   "metadata": {},
   "source": [
    "# Date manipulation"
   ]
  },
  {
   "cell_type": "markdown",
   "id": "ece8658a-73d6-4ab8-a44b-86239aebfa90",
   "metadata": {},
   "source": [
    "Adding column with name of month, name of day, and year. "
   ]
  },
  {
   "cell_type": "code",
   "execution_count": 30,
   "id": "d2fc6102-7621-4b6e-8f6f-c7efb1ce3ae4",
   "metadata": {},
   "outputs": [
    {
     "data": {
      "text/plain": [
       "Index(['Unnamed: 0', 'Reach-outDate', 'Name', 'Position', 'TimeAtCompany',\n",
       "       'TimeAtPosition', 'CompanyName', 'Industry', 'Status', 'Reply',\n",
       "       'W/Message', 'Potentially'],\n",
       "      dtype='object')"
      ]
     },
     "execution_count": 30,
     "metadata": {},
     "output_type": "execute_result"
    }
   ],
   "source": [
    "dfRaw.columns"
   ]
  },
  {
   "cell_type": "code",
   "execution_count": 32,
   "id": "86a4dc58-be77-4434-95ce-9dc57c12d2fe",
   "metadata": {},
   "outputs": [
    {
     "data": {
      "text/plain": [
       "0        Faria R\n",
       "1         Mike D\n",
       "2        Beren U\n",
       "3         Yili Z\n",
       "4      Jeffery S\n",
       "         ...    \n",
       "158    Michael R\n",
       "159      Karen B\n",
       "160    Patrick S\n",
       "161      Mihir M\n",
       "162    Jeffery T\n",
       "Name: Name, Length: 163, dtype: object"
      ]
     },
     "execution_count": 32,
     "metadata": {},
     "output_type": "execute_result"
    }
   ],
   "source": [
    "dfRaw.Name"
   ]
  },
  {
   "cell_type": "code",
   "execution_count": 49,
   "id": "3479c1f9-4412-42d6-ab39-27383d34e08b",
   "metadata": {},
   "outputs": [
    {
     "data": {
      "text/plain": [
       "0     2022-06-01\n",
       "1     2022-06-01\n",
       "2     2022-06-01\n",
       "3     2022-06-01\n",
       "4     2022-06-01\n",
       "         ...    \n",
       "158   2022-06-08\n",
       "159   2022-06-08\n",
       "160   2022-06-08\n",
       "161   2022-06-08\n",
       "162   2022-06-08\n",
       "Name: Reach-outDate, Length: 163, dtype: datetime64[ns]"
      ]
     },
     "execution_count": 49,
     "metadata": {},
     "output_type": "execute_result"
    }
   ],
   "source": [
    "dfRaw.iloc[:,1]"
   ]
  },
  {
   "cell_type": "code",
   "execution_count": 50,
   "id": "6a8b524a-7ef4-4b8c-b698-b95185025fe7",
   "metadata": {},
   "outputs": [
    {
     "data": {
      "text/plain": [
       "dtype('<M8[ns]')"
      ]
     },
     "execution_count": 50,
     "metadata": {},
     "output_type": "execute_result"
    }
   ],
   "source": [
    "dfRaw.iloc[:,1].dtypes"
   ]
  },
  {
   "cell_type": "code",
   "execution_count": 56,
   "id": "fb0fd573-c016-4ff0-97bf-0857762db0b1",
   "metadata": {},
   "outputs": [
    {
     "data": {
      "text/plain": [
       "0     2022-06-01\n",
       "1     2022-06-01\n",
       "2     2022-06-01\n",
       "3     2022-06-01\n",
       "4     2022-06-01\n",
       "         ...    \n",
       "158   2022-06-08\n",
       "159   2022-06-08\n",
       "160   2022-06-08\n",
       "161   2022-06-08\n",
       "162   2022-06-08\n",
       "Name: Reach-outDate, Length: 163, dtype: datetime64[ns]"
      ]
     },
     "execution_count": 56,
     "metadata": {},
     "output_type": "execute_result"
    }
   ],
   "source": [
    "dfRaw.iloc[:,1] # This extracts a specific column and converts that to a pandas Series. We can now apply all the methods of a pandas Series to this."
   ]
  },
  {
   "cell_type": "code",
   "execution_count": 57,
   "id": "19419080-137a-4854-b50e-fc3fe36df155",
   "metadata": {},
   "outputs": [
    {
     "data": {
      "text/plain": [
       "pandas.core.series.Series"
      ]
     },
     "execution_count": 57,
     "metadata": {},
     "output_type": "execute_result"
    }
   ],
   "source": [
    "type(dfRaw.iloc[:,1])"
   ]
  },
  {
   "cell_type": "code",
   "execution_count": 58,
   "id": "58867a14-9797-42e5-abce-65932dc68673",
   "metadata": {},
   "outputs": [
    {
     "data": {
      "text/plain": [
       "0      Wednesday\n",
       "1      Wednesday\n",
       "2      Wednesday\n",
       "3      Wednesday\n",
       "4      Wednesday\n",
       "         ...    \n",
       "158    Wednesday\n",
       "159    Wednesday\n",
       "160    Wednesday\n",
       "161    Wednesday\n",
       "162    Wednesday\n",
       "Name: Reach-outDate, Length: 163, dtype: object"
      ]
     },
     "execution_count": 58,
     "metadata": {},
     "output_type": "execute_result"
    }
   ],
   "source": [
    "dfRaw.iloc[:,1].dt.day_name()"
   ]
  },
  {
   "cell_type": "code",
   "execution_count": 52,
   "id": "822bea3a-c3c4-4d0b-afbb-1685b1ed2c0d",
   "metadata": {},
   "outputs": [
    {
     "data": {
      "text/plain": [
       "pandas.core.frame.DataFrame"
      ]
     },
     "execution_count": 52,
     "metadata": {},
     "output_type": "execute_result"
    }
   ],
   "source": [
    "type(dfRaw)"
   ]
  },
  {
   "cell_type": "code",
   "execution_count": 42,
   "id": "d1dd07d5-f6b0-46da-a64c-147f78e628a6",
   "metadata": {},
   "outputs": [],
   "source": [
    "Reach_Out_Date = dfRaw.iloc[:,[1]] # This extracts the specific column but keeps it as a dataframe."
   ]
  },
  {
   "cell_type": "code",
   "execution_count": 43,
   "id": "04ba1416-be0e-43a1-b63d-16a128f8bdce",
   "metadata": {},
   "outputs": [
    {
     "data": {
      "text/html": [
       "<div>\n",
       "<style scoped>\n",
       "    .dataframe tbody tr th:only-of-type {\n",
       "        vertical-align: middle;\n",
       "    }\n",
       "\n",
       "    .dataframe tbody tr th {\n",
       "        vertical-align: top;\n",
       "    }\n",
       "\n",
       "    .dataframe thead th {\n",
       "        text-align: right;\n",
       "    }\n",
       "</style>\n",
       "<table border=\"1\" class=\"dataframe\">\n",
       "  <thead>\n",
       "    <tr style=\"text-align: right;\">\n",
       "      <th></th>\n",
       "      <th>Reach-outDate</th>\n",
       "    </tr>\n",
       "  </thead>\n",
       "  <tbody>\n",
       "    <tr>\n",
       "      <th>0</th>\n",
       "      <td>2022-06-01</td>\n",
       "    </tr>\n",
       "    <tr>\n",
       "      <th>1</th>\n",
       "      <td>2022-06-01</td>\n",
       "    </tr>\n",
       "    <tr>\n",
       "      <th>2</th>\n",
       "      <td>2022-06-01</td>\n",
       "    </tr>\n",
       "    <tr>\n",
       "      <th>3</th>\n",
       "      <td>2022-06-01</td>\n",
       "    </tr>\n",
       "    <tr>\n",
       "      <th>4</th>\n",
       "      <td>2022-06-01</td>\n",
       "    </tr>\n",
       "    <tr>\n",
       "      <th>...</th>\n",
       "      <td>...</td>\n",
       "    </tr>\n",
       "    <tr>\n",
       "      <th>158</th>\n",
       "      <td>2022-06-08</td>\n",
       "    </tr>\n",
       "    <tr>\n",
       "      <th>159</th>\n",
       "      <td>2022-06-08</td>\n",
       "    </tr>\n",
       "    <tr>\n",
       "      <th>160</th>\n",
       "      <td>2022-06-08</td>\n",
       "    </tr>\n",
       "    <tr>\n",
       "      <th>161</th>\n",
       "      <td>2022-06-08</td>\n",
       "    </tr>\n",
       "    <tr>\n",
       "      <th>162</th>\n",
       "      <td>2022-06-08</td>\n",
       "    </tr>\n",
       "  </tbody>\n",
       "</table>\n",
       "<p>163 rows × 1 columns</p>\n",
       "</div>"
      ],
      "text/plain": [
       "    Reach-outDate\n",
       "0      2022-06-01\n",
       "1      2022-06-01\n",
       "2      2022-06-01\n",
       "3      2022-06-01\n",
       "4      2022-06-01\n",
       "..            ...\n",
       "158    2022-06-08\n",
       "159    2022-06-08\n",
       "160    2022-06-08\n",
       "161    2022-06-08\n",
       "162    2022-06-08\n",
       "\n",
       "[163 rows x 1 columns]"
      ]
     },
     "execution_count": 43,
     "metadata": {},
     "output_type": "execute_result"
    }
   ],
   "source": [
    "Reach_Out_Date"
   ]
  },
  {
   "cell_type": "code",
   "execution_count": 55,
   "id": "ff5953a6-949f-463e-b013-6494029350ef",
   "metadata": {},
   "outputs": [
    {
     "data": {
      "text/plain": [
       "pandas.core.frame.DataFrame"
      ]
     },
     "execution_count": 55,
     "metadata": {},
     "output_type": "execute_result"
    }
   ],
   "source": [
    "Reach_Out_Date.dtypes\n",
    "type(Reach_Out_Date)\n",
    "#type(dfRaw.Name)\n"
   ]
  },
  {
   "cell_type": "code",
   "execution_count": 48,
   "id": "ba7434f5-7a2f-4d95-bb3a-462b292d684b",
   "metadata": {},
   "outputs": [
    {
     "ename": "AttributeError",
     "evalue": "'DataFrame' object has no attribute 'dt'",
     "output_type": "error",
     "traceback": [
      "\u001b[1;31m---------------------------------------------------------------------------\u001b[0m",
      "\u001b[1;31mAttributeError\u001b[0m                            Traceback (most recent call last)",
      "Input \u001b[1;32mIn [48]\u001b[0m, in \u001b[0;36m<cell line: 1>\u001b[1;34m()\u001b[0m\n\u001b[1;32m----> 1\u001b[0m \u001b[43mReach_Out_Date\u001b[49m\u001b[38;5;241;43m.\u001b[39;49m\u001b[43mdt\u001b[49m\u001b[38;5;241m.\u001b[39mday_name()\n",
      "File \u001b[1;32m~\\anaconda3\\lib\\site-packages\\pandas\\core\\generic.py:5575\u001b[0m, in \u001b[0;36mNDFrame.__getattr__\u001b[1;34m(self, name)\u001b[0m\n\u001b[0;32m   5568\u001b[0m \u001b[38;5;28;01mif\u001b[39;00m (\n\u001b[0;32m   5569\u001b[0m     name \u001b[38;5;129;01mnot\u001b[39;00m \u001b[38;5;129;01min\u001b[39;00m \u001b[38;5;28mself\u001b[39m\u001b[38;5;241m.\u001b[39m_internal_names_set\n\u001b[0;32m   5570\u001b[0m     \u001b[38;5;129;01mand\u001b[39;00m name \u001b[38;5;129;01mnot\u001b[39;00m \u001b[38;5;129;01min\u001b[39;00m \u001b[38;5;28mself\u001b[39m\u001b[38;5;241m.\u001b[39m_metadata\n\u001b[0;32m   5571\u001b[0m     \u001b[38;5;129;01mand\u001b[39;00m name \u001b[38;5;129;01mnot\u001b[39;00m \u001b[38;5;129;01min\u001b[39;00m \u001b[38;5;28mself\u001b[39m\u001b[38;5;241m.\u001b[39m_accessors\n\u001b[0;32m   5572\u001b[0m     \u001b[38;5;129;01mand\u001b[39;00m \u001b[38;5;28mself\u001b[39m\u001b[38;5;241m.\u001b[39m_info_axis\u001b[38;5;241m.\u001b[39m_can_hold_identifiers_and_holds_name(name)\n\u001b[0;32m   5573\u001b[0m ):\n\u001b[0;32m   5574\u001b[0m     \u001b[38;5;28;01mreturn\u001b[39;00m \u001b[38;5;28mself\u001b[39m[name]\n\u001b[1;32m-> 5575\u001b[0m \u001b[38;5;28;01mreturn\u001b[39;00m \u001b[38;5;28;43mobject\u001b[39;49m\u001b[38;5;241;43m.\u001b[39;49m\u001b[38;5;21;43m__getattribute__\u001b[39;49m\u001b[43m(\u001b[49m\u001b[38;5;28;43mself\u001b[39;49m\u001b[43m,\u001b[49m\u001b[43m \u001b[49m\u001b[43mname\u001b[49m\u001b[43m)\u001b[49m\n",
      "\u001b[1;31mAttributeError\u001b[0m: 'DataFrame' object has no attribute 'dt'"
     ]
    }
   ],
   "source": [
    "Reach_Out_Date.dt.day_name() # This is a dataframe which does not have .dt method. Only Series do."
   ]
  },
  {
   "cell_type": "markdown",
   "id": "caab1caf-6329-4949-84d3-a14862e96a08",
   "metadata": {},
   "source": [
    "### Adding the day to the dataframe"
   ]
  },
  {
   "cell_type": "code",
   "execution_count": 59,
   "id": "37be9a8b-a598-4282-b5f8-f11c126cd9c5",
   "metadata": {},
   "outputs": [],
   "source": [
    "dfRaw['Day'] = dfRaw.iloc[:,1].dt.day_name()"
   ]
  },
  {
   "cell_type": "code",
   "execution_count": 60,
   "id": "707a1dfd-6470-43a4-93f7-f44079924230",
   "metadata": {},
   "outputs": [
    {
     "data": {
      "text/html": [
       "<div>\n",
       "<style scoped>\n",
       "    .dataframe tbody tr th:only-of-type {\n",
       "        vertical-align: middle;\n",
       "    }\n",
       "\n",
       "    .dataframe tbody tr th {\n",
       "        vertical-align: top;\n",
       "    }\n",
       "\n",
       "    .dataframe thead th {\n",
       "        text-align: right;\n",
       "    }\n",
       "</style>\n",
       "<table border=\"1\" class=\"dataframe\">\n",
       "  <thead>\n",
       "    <tr style=\"text-align: right;\">\n",
       "      <th></th>\n",
       "      <th>Unnamed: 0</th>\n",
       "      <th>Reach-outDate</th>\n",
       "      <th>Name</th>\n",
       "      <th>Position</th>\n",
       "      <th>TimeAtCompany</th>\n",
       "      <th>TimeAtPosition</th>\n",
       "      <th>CompanyName</th>\n",
       "      <th>Industry</th>\n",
       "      <th>Status</th>\n",
       "      <th>Reply</th>\n",
       "      <th>W/Message</th>\n",
       "      <th>Potentially</th>\n",
       "      <th>Day</th>\n",
       "    </tr>\n",
       "  </thead>\n",
       "  <tbody>\n",
       "    <tr>\n",
       "      <th>0</th>\n",
       "      <td>1</td>\n",
       "      <td>2022-06-01</td>\n",
       "      <td>Faria R</td>\n",
       "      <td>Founder</td>\n",
       "      <td>2018-present</td>\n",
       "      <td>2018-present</td>\n",
       "      <td>Mydoh</td>\n",
       "      <td>Fintech</td>\n",
       "      <td>Connected</td>\n",
       "      <td>0.0</td>\n",
       "      <td>True</td>\n",
       "      <td>NaN</td>\n",
       "      <td>Wednesday</td>\n",
       "    </tr>\n",
       "    <tr>\n",
       "      <th>1</th>\n",
       "      <td>2</td>\n",
       "      <td>2022-06-01</td>\n",
       "      <td>Mike D</td>\n",
       "      <td>VP</td>\n",
       "      <td>2010-presnet</td>\n",
       "      <td>2016-present</td>\n",
       "      <td>RBC</td>\n",
       "      <td>Fintech</td>\n",
       "      <td>Connected</td>\n",
       "      <td>0.0</td>\n",
       "      <td>True</td>\n",
       "      <td>NaN</td>\n",
       "      <td>Wednesday</td>\n",
       "    </tr>\n",
       "    <tr>\n",
       "      <th>2</th>\n",
       "      <td>3</td>\n",
       "      <td>2022-06-01</td>\n",
       "      <td>Beren U</td>\n",
       "      <td>Ambassador</td>\n",
       "      <td>2022-present</td>\n",
       "      <td>2022-present</td>\n",
       "      <td>Crypto.com</td>\n",
       "      <td>Fintech</td>\n",
       "      <td>Connected</td>\n",
       "      <td>1.0</td>\n",
       "      <td>True</td>\n",
       "      <td>NaN</td>\n",
       "      <td>Wednesday</td>\n",
       "    </tr>\n",
       "    <tr>\n",
       "      <th>3</th>\n",
       "      <td>4</td>\n",
       "      <td>2022-06-01</td>\n",
       "      <td>Yili Z</td>\n",
       "      <td>Analyst</td>\n",
       "      <td>2021-present</td>\n",
       "      <td>2021-present</td>\n",
       "      <td>Purpose Investments</td>\n",
       "      <td>Fintech</td>\n",
       "      <td>Unconnected</td>\n",
       "      <td>NaN</td>\n",
       "      <td>True</td>\n",
       "      <td>NaN</td>\n",
       "      <td>Wednesday</td>\n",
       "    </tr>\n",
       "    <tr>\n",
       "      <th>4</th>\n",
       "      <td>5</td>\n",
       "      <td>2022-06-01</td>\n",
       "      <td>Jeffery S</td>\n",
       "      <td>Manager</td>\n",
       "      <td>2017-present</td>\n",
       "      <td>2021-present</td>\n",
       "      <td>OPTrust</td>\n",
       "      <td>Fintech</td>\n",
       "      <td>Connected</td>\n",
       "      <td>0.0</td>\n",
       "      <td>True</td>\n",
       "      <td>NaN</td>\n",
       "      <td>Wednesday</td>\n",
       "    </tr>\n",
       "    <tr>\n",
       "      <th>...</th>\n",
       "      <td>...</td>\n",
       "      <td>...</td>\n",
       "      <td>...</td>\n",
       "      <td>...</td>\n",
       "      <td>...</td>\n",
       "      <td>...</td>\n",
       "      <td>...</td>\n",
       "      <td>...</td>\n",
       "      <td>...</td>\n",
       "      <td>...</td>\n",
       "      <td>...</td>\n",
       "      <td>...</td>\n",
       "      <td>...</td>\n",
       "    </tr>\n",
       "    <tr>\n",
       "      <th>158</th>\n",
       "      <td>159</td>\n",
       "      <td>2022-06-08</td>\n",
       "      <td>Michael R</td>\n",
       "      <td>NaN</td>\n",
       "      <td>NaN</td>\n",
       "      <td>NaN</td>\n",
       "      <td>NaN</td>\n",
       "      <td>Logisitics</td>\n",
       "      <td>Connected</td>\n",
       "      <td>0.0</td>\n",
       "      <td>False</td>\n",
       "      <td>NaN</td>\n",
       "      <td>Wednesday</td>\n",
       "    </tr>\n",
       "    <tr>\n",
       "      <th>159</th>\n",
       "      <td>160</td>\n",
       "      <td>2022-06-08</td>\n",
       "      <td>Karen B</td>\n",
       "      <td>NaN</td>\n",
       "      <td>NaN</td>\n",
       "      <td>NaN</td>\n",
       "      <td>NaN</td>\n",
       "      <td>Logisitics</td>\n",
       "      <td>Unconnected</td>\n",
       "      <td>NaN</td>\n",
       "      <td>False</td>\n",
       "      <td>NaN</td>\n",
       "      <td>Wednesday</td>\n",
       "    </tr>\n",
       "    <tr>\n",
       "      <th>160</th>\n",
       "      <td>161</td>\n",
       "      <td>2022-06-08</td>\n",
       "      <td>Patrick S</td>\n",
       "      <td>NaN</td>\n",
       "      <td>NaN</td>\n",
       "      <td>NaN</td>\n",
       "      <td>NaN</td>\n",
       "      <td>Logisitics</td>\n",
       "      <td>Unconnected</td>\n",
       "      <td>NaN</td>\n",
       "      <td>False</td>\n",
       "      <td>NaN</td>\n",
       "      <td>Wednesday</td>\n",
       "    </tr>\n",
       "    <tr>\n",
       "      <th>161</th>\n",
       "      <td>162</td>\n",
       "      <td>2022-06-08</td>\n",
       "      <td>Mihir M</td>\n",
       "      <td>NaN</td>\n",
       "      <td>NaN</td>\n",
       "      <td>NaN</td>\n",
       "      <td>NaN</td>\n",
       "      <td>Logisitics</td>\n",
       "      <td>Connected</td>\n",
       "      <td>0.0</td>\n",
       "      <td>False</td>\n",
       "      <td>NaN</td>\n",
       "      <td>Wednesday</td>\n",
       "    </tr>\n",
       "    <tr>\n",
       "      <th>162</th>\n",
       "      <td>163</td>\n",
       "      <td>2022-06-08</td>\n",
       "      <td>Jeffery T</td>\n",
       "      <td>NaN</td>\n",
       "      <td>NaN</td>\n",
       "      <td>NaN</td>\n",
       "      <td>NaN</td>\n",
       "      <td>Logisitics</td>\n",
       "      <td>Connected</td>\n",
       "      <td>0.0</td>\n",
       "      <td>False</td>\n",
       "      <td>NaN</td>\n",
       "      <td>Wednesday</td>\n",
       "    </tr>\n",
       "  </tbody>\n",
       "</table>\n",
       "<p>163 rows × 13 columns</p>\n",
       "</div>"
      ],
      "text/plain": [
       "     Unnamed: 0 Reach-outDate       Name    Position TimeAtCompany  \\\n",
       "0             1    2022-06-01    Faria R     Founder  2018-present   \n",
       "1             2    2022-06-01     Mike D          VP  2010-presnet   \n",
       "2             3    2022-06-01    Beren U  Ambassador  2022-present   \n",
       "3             4    2022-06-01     Yili Z     Analyst  2021-present   \n",
       "4             5    2022-06-01  Jeffery S     Manager  2017-present   \n",
       "..          ...           ...        ...         ...           ...   \n",
       "158         159    2022-06-08  Michael R         NaN           NaN   \n",
       "159         160    2022-06-08    Karen B         NaN           NaN   \n",
       "160         161    2022-06-08  Patrick S         NaN           NaN   \n",
       "161         162    2022-06-08    Mihir M         NaN           NaN   \n",
       "162         163    2022-06-08  Jeffery T         NaN           NaN   \n",
       "\n",
       "    TimeAtPosition          CompanyName    Industry       Status  Reply  \\\n",
       "0     2018-present                Mydoh     Fintech    Connected    0.0   \n",
       "1     2016-present                  RBC     Fintech    Connected    0.0   \n",
       "2     2022-present           Crypto.com     Fintech    Connected    1.0   \n",
       "3     2021-present  Purpose Investments     Fintech  Unconnected    NaN   \n",
       "4     2021-present              OPTrust     Fintech    Connected    0.0   \n",
       "..             ...                  ...         ...          ...    ...   \n",
       "158            NaN                  NaN  Logisitics    Connected    0.0   \n",
       "159            NaN                  NaN  Logisitics  Unconnected    NaN   \n",
       "160            NaN                  NaN  Logisitics  Unconnected    NaN   \n",
       "161            NaN                  NaN  Logisitics    Connected    0.0   \n",
       "162            NaN                  NaN  Logisitics    Connected    0.0   \n",
       "\n",
       "     W/Message  Potentially        Day  \n",
       "0         True          NaN  Wednesday  \n",
       "1         True          NaN  Wednesday  \n",
       "2         True          NaN  Wednesday  \n",
       "3         True          NaN  Wednesday  \n",
       "4         True          NaN  Wednesday  \n",
       "..         ...          ...        ...  \n",
       "158      False          NaN  Wednesday  \n",
       "159      False          NaN  Wednesday  \n",
       "160      False          NaN  Wednesday  \n",
       "161      False          NaN  Wednesday  \n",
       "162      False          NaN  Wednesday  \n",
       "\n",
       "[163 rows x 13 columns]"
      ]
     },
     "execution_count": 60,
     "metadata": {},
     "output_type": "execute_result"
    }
   ],
   "source": [
    "dfRaw"
   ]
  },
  {
   "cell_type": "code",
   "execution_count": 62,
   "id": "7fc60590-59d7-468f-a330-f6f6cf80a8b4",
   "metadata": {},
   "outputs": [
    {
     "data": {
      "text/plain": [
       "Saturday     44\n",
       "Wednesday    43\n",
       "Friday       40\n",
       "Thursday     36\n",
       "Name: Day, dtype: int64"
      ]
     },
     "execution_count": 62,
     "metadata": {},
     "output_type": "execute_result"
    }
   ],
   "source": [
    "dfRaw.Day.value_counts()"
   ]
  },
  {
   "cell_type": "code",
   "execution_count": 63,
   "id": "8240af88-2a5a-47fb-b035-7f1bd2bd039b",
   "metadata": {},
   "outputs": [
    {
     "data": {
      "text/plain": [
       "<AxesSubplot:>"
      ]
     },
     "execution_count": 63,
     "metadata": {},
     "output_type": "execute_result"
    },
    {
     "data": {
      "image/png": "[encoded data removed]",
      "text/plain": [
       "<Figure size 432x288 with 1 Axes>"
      ]
     },
     "metadata": {
      "needs_background": "light"
     },
     "output_type": "display_data"
    }
   ],
   "source": [
    "dfRaw.Day.value_counts().plot(kind = 'bar')"
   ]
  },
  {
   "cell_type": "code",
   "execution_count": 64,
   "id": "3da89aea-d126-4f21-a5cf-67d4bcc7fb4c",
   "metadata": {},
   "outputs": [
    {
     "data": {
      "text/plain": [
       "0      June\n",
       "1      June\n",
       "2      June\n",
       "3      June\n",
       "4      June\n",
       "       ... \n",
       "158    June\n",
       "159    June\n",
       "160    June\n",
       "161    June\n",
       "162    June\n",
       "Name: Reach-outDate, Length: 163, dtype: object"
      ]
     },
     "execution_count": 64,
     "metadata": {},
     "output_type": "execute_result"
    }
   ],
   "source": [
    "dfRaw.iloc[:,1].dt.month_name()"
   ]
  },
  {
   "cell_type": "code",
   "execution_count": 65,
   "id": "170dada9-76ac-4750-896d-7e126fb60bea",
   "metadata": {},
   "outputs": [],
   "source": [
    "dfRaw['Month'] = dfRaw.iloc[:,1].dt.month_name()"
   ]
  },
  {
   "cell_type": "code",
   "execution_count": 66,
   "id": "1b6ee3e4-3121-49fb-950f-374272513f0e",
   "metadata": {},
   "outputs": [
    {
     "data": {
      "text/html": [
       "<div>\n",
       "<style scoped>\n",
       "    .dataframe tbody tr th:only-of-type {\n",
       "        vertical-align: middle;\n",
       "    }\n",
       "\n",
       "    .dataframe tbody tr th {\n",
       "        vertical-align: top;\n",
       "    }\n",
       "\n",
       "    .dataframe thead th {\n",
       "        text-align: right;\n",
       "    }\n",
       "</style>\n",
       "<table border=\"1\" class=\"dataframe\">\n",
       "  <thead>\n",
       "    <tr style=\"text-align: right;\">\n",
       "      <th></th>\n",
       "      <th>Unnamed: 0</th>\n",
       "      <th>Reach-outDate</th>\n",
       "      <th>Name</th>\n",
       "      <th>Position</th>\n",
       "      <th>TimeAtCompany</th>\n",
       "      <th>TimeAtPosition</th>\n",
       "      <th>CompanyName</th>\n",
       "      <th>Industry</th>\n",
       "      <th>Status</th>\n",
       "      <th>Reply</th>\n",
       "      <th>W/Message</th>\n",
       "      <th>Potentially</th>\n",
       "      <th>Day</th>\n",
       "      <th>Month</th>\n",
       "    </tr>\n",
       "  </thead>\n",
       "  <tbody>\n",
       "    <tr>\n",
       "      <th>0</th>\n",
       "      <td>1</td>\n",
       "      <td>2022-06-01</td>\n",
       "      <td>Faria R</td>\n",
       "      <td>Founder</td>\n",
       "      <td>2018-present</td>\n",
       "      <td>2018-present</td>\n",
       "      <td>Mydoh</td>\n",
       "      <td>Fintech</td>\n",
       "      <td>Connected</td>\n",
       "      <td>0.0</td>\n",
       "      <td>True</td>\n",
       "      <td>NaN</td>\n",
       "      <td>Wednesday</td>\n",
       "      <td>June</td>\n",
       "    </tr>\n",
       "    <tr>\n",
       "      <th>1</th>\n",
       "      <td>2</td>\n",
       "      <td>2022-06-01</td>\n",
       "      <td>Mike D</td>\n",
       "      <td>VP</td>\n",
       "      <td>2010-presnet</td>\n",
       "      <td>2016-present</td>\n",
       "      <td>RBC</td>\n",
       "      <td>Fintech</td>\n",
       "      <td>Connected</td>\n",
       "      <td>0.0</td>\n",
       "      <td>True</td>\n",
       "      <td>NaN</td>\n",
       "      <td>Wednesday</td>\n",
       "      <td>June</td>\n",
       "    </tr>\n",
       "    <tr>\n",
       "      <th>2</th>\n",
       "      <td>3</td>\n",
       "      <td>2022-06-01</td>\n",
       "      <td>Beren U</td>\n",
       "      <td>Ambassador</td>\n",
       "      <td>2022-present</td>\n",
       "      <td>2022-present</td>\n",
       "      <td>Crypto.com</td>\n",
       "      <td>Fintech</td>\n",
       "      <td>Connected</td>\n",
       "      <td>1.0</td>\n",
       "      <td>True</td>\n",
       "      <td>NaN</td>\n",
       "      <td>Wednesday</td>\n",
       "      <td>June</td>\n",
       "    </tr>\n",
       "    <tr>\n",
       "      <th>3</th>\n",
       "      <td>4</td>\n",
       "      <td>2022-06-01</td>\n",
       "      <td>Yili Z</td>\n",
       "      <td>Analyst</td>\n",
       "      <td>2021-present</td>\n",
       "      <td>2021-present</td>\n",
       "      <td>Purpose Investments</td>\n",
       "      <td>Fintech</td>\n",
       "      <td>Unconnected</td>\n",
       "      <td>NaN</td>\n",
       "      <td>True</td>\n",
       "      <td>NaN</td>\n",
       "      <td>Wednesday</td>\n",
       "      <td>June</td>\n",
       "    </tr>\n",
       "    <tr>\n",
       "      <th>4</th>\n",
       "      <td>5</td>\n",
       "      <td>2022-06-01</td>\n",
       "      <td>Jeffery S</td>\n",
       "      <td>Manager</td>\n",
       "      <td>2017-present</td>\n",
       "      <td>2021-present</td>\n",
       "      <td>OPTrust</td>\n",
       "      <td>Fintech</td>\n",
       "      <td>Connected</td>\n",
       "      <td>0.0</td>\n",
       "      <td>True</td>\n",
       "      <td>NaN</td>\n",
       "      <td>Wednesday</td>\n",
       "      <td>June</td>\n",
       "    </tr>\n",
       "    <tr>\n",
       "      <th>...</th>\n",
       "      <td>...</td>\n",
       "      <td>...</td>\n",
       "      <td>...</td>\n",
       "      <td>...</td>\n",
       "      <td>...</td>\n",
       "      <td>...</td>\n",
       "      <td>...</td>\n",
       "      <td>...</td>\n",
       "      <td>...</td>\n",
       "      <td>...</td>\n",
       "      <td>...</td>\n",
       "      <td>...</td>\n",
       "      <td>...</td>\n",
       "      <td>...</td>\n",
       "    </tr>\n",
       "    <tr>\n",
       "      <th>158</th>\n",
       "      <td>159</td>\n",
       "      <td>2022-06-08</td>\n",
       "      <td>Michael R</td>\n",
       "      <td>NaN</td>\n",
       "      <td>NaN</td>\n",
       "      <td>NaN</td>\n",
       "      <td>NaN</td>\n",
       "      <td>Logisitics</td>\n",
       "      <td>Connected</td>\n",
       "      <td>0.0</td>\n",
       "      <td>False</td>\n",
       "      <td>NaN</td>\n",
       "      <td>Wednesday</td>\n",
       "      <td>June</td>\n",
       "    </tr>\n",
       "    <tr>\n",
       "      <th>159</th>\n",
       "      <td>160</td>\n",
       "      <td>2022-06-08</td>\n",
       "      <td>Karen B</td>\n",
       "      <td>NaN</td>\n",
       "      <td>NaN</td>\n",
       "      <td>NaN</td>\n",
       "      <td>NaN</td>\n",
       "      <td>Logisitics</td>\n",
       "      <td>Unconnected</td>\n",
       "      <td>NaN</td>\n",
       "      <td>False</td>\n",
       "      <td>NaN</td>\n",
       "      <td>Wednesday</td>\n",
       "      <td>June</td>\n",
       "    </tr>\n",
       "    <tr>\n",
       "      <th>160</th>\n",
       "      <td>161</td>\n",
       "      <td>2022-06-08</td>\n",
       "      <td>Patrick S</td>\n",
       "      <td>NaN</td>\n",
       "      <td>NaN</td>\n",
       "      <td>NaN</td>\n",
       "      <td>NaN</td>\n",
       "      <td>Logisitics</td>\n",
       "      <td>Unconnected</td>\n",
       "      <td>NaN</td>\n",
       "      <td>False</td>\n",
       "      <td>NaN</td>\n",
       "      <td>Wednesday</td>\n",
       "      <td>June</td>\n",
       "    </tr>\n",
       "    <tr>\n",
       "      <th>161</th>\n",
       "      <td>162</td>\n",
       "      <td>2022-06-08</td>\n",
       "      <td>Mihir M</td>\n",
       "      <td>NaN</td>\n",
       "      <td>NaN</td>\n",
       "      <td>NaN</td>\n",
       "      <td>NaN</td>\n",
       "      <td>Logisitics</td>\n",
       "      <td>Connected</td>\n",
       "      <td>0.0</td>\n",
       "      <td>False</td>\n",
       "      <td>NaN</td>\n",
       "      <td>Wednesday</td>\n",
       "      <td>June</td>\n",
       "    </tr>\n",
       "    <tr>\n",
       "      <th>162</th>\n",
       "      <td>163</td>\n",
       "      <td>2022-06-08</td>\n",
       "      <td>Jeffery T</td>\n",
       "      <td>NaN</td>\n",
       "      <td>NaN</td>\n",
       "      <td>NaN</td>\n",
       "      <td>NaN</td>\n",
       "      <td>Logisitics</td>\n",
       "      <td>Connected</td>\n",
       "      <td>0.0</td>\n",
       "      <td>False</td>\n",
       "      <td>NaN</td>\n",
       "      <td>Wednesday</td>\n",
       "      <td>June</td>\n",
       "    </tr>\n",
       "  </tbody>\n",
       "</table>\n",
       "<p>163 rows × 14 columns</p>\n",
       "</div>"
      ],
      "text/plain": [
       "     Unnamed: 0 Reach-outDate       Name    Position TimeAtCompany  \\\n",
       "0             1    2022-06-01    Faria R     Founder  2018-present   \n",
       "1             2    2022-06-01     Mike D          VP  2010-presnet   \n",
       "2             3    2022-06-01    Beren U  Ambassador  2022-present   \n",
       "3             4    2022-06-01     Yili Z     Analyst  2021-present   \n",
       "4             5    2022-06-01  Jeffery S     Manager  2017-present   \n",
       "..          ...           ...        ...         ...           ...   \n",
       "158         159    2022-06-08  Michael R         NaN           NaN   \n",
       "159         160    2022-06-08    Karen B         NaN           NaN   \n",
       "160         161    2022-06-08  Patrick S         NaN           NaN   \n",
       "161         162    2022-06-08    Mihir M         NaN           NaN   \n",
       "162         163    2022-06-08  Jeffery T         NaN           NaN   \n",
       "\n",
       "    TimeAtPosition          CompanyName    Industry       Status  Reply  \\\n",
       "0     2018-present                Mydoh     Fintech    Connected    0.0   \n",
       "1     2016-present                  RBC     Fintech    Connected    0.0   \n",
       "2     2022-present           Crypto.com     Fintech    Connected    1.0   \n",
       "3     2021-present  Purpose Investments     Fintech  Unconnected    NaN   \n",
       "4     2021-present              OPTrust     Fintech    Connected    0.0   \n",
       "..             ...                  ...         ...          ...    ...   \n",
       "158            NaN                  NaN  Logisitics    Connected    0.0   \n",
       "159            NaN                  NaN  Logisitics  Unconnected    NaN   \n",
       "160            NaN                  NaN  Logisitics  Unconnected    NaN   \n",
       "161            NaN                  NaN  Logisitics    Connected    0.0   \n",
       "162            NaN                  NaN  Logisitics    Connected    0.0   \n",
       "\n",
       "     W/Message  Potentially        Day Month  \n",
       "0         True          NaN  Wednesday  June  \n",
       "1         True          NaN  Wednesday  June  \n",
       "2         True          NaN  Wednesday  June  \n",
       "3         True          NaN  Wednesday  June  \n",
       "4         True          NaN  Wednesday  June  \n",
       "..         ...          ...        ...   ...  \n",
       "158      False          NaN  Wednesday  June  \n",
       "159      False          NaN  Wednesday  June  \n",
       "160      False          NaN  Wednesday  June  \n",
       "161      False          NaN  Wednesday  June  \n",
       "162      False          NaN  Wednesday  June  \n",
       "\n",
       "[163 rows x 14 columns]"
      ]
     },
     "execution_count": 66,
     "metadata": {},
     "output_type": "execute_result"
    }
   ],
   "source": [
    "dfRaw"
   ]
  },
  {
   "cell_type": "code",
   "execution_count": 68,
   "id": "0edf9810-9514-49ab-b405-022fe6134140",
   "metadata": {},
   "outputs": [
    {
     "data": {
      "text/plain": [
       "<AxesSubplot:>"
      ]
     },
     "execution_count": 68,
     "metadata": {},
     "output_type": "execute_result"
    },
    {
     "data": {
      "image/png": "[encoded data removed]",
      "text/plain": [
       "<Figure size 432x288 with 1 Axes>"
      ]
     },
     "metadata": {
      "needs_background": "light"
     },
     "output_type": "display_data"
    }
   ],
   "source": [
    "dfRaw.Month.value_counts().plot(kind = 'bar')"
   ]
  },
  {
   "cell_type": "code",
   "execution_count": 70,
   "id": "7019eb24-f692-4250-8fae-bf34bd112c19",
   "metadata": {},
   "outputs": [
    {
     "name": "stderr",
     "output_type": "stream",
     "text": [
      "'cat' is not recognized as an internal or external command,\n",
      "operable program or batch file.\n"
     ]
    }
   ],
   "source": [
    "!cat https://github.com/CubeStatistica/Business-Development/blob/main/ClientResearch/Challenges%20Research%20LinkedIn.xlsx?raw=true"
   ]
  },
  {
   "cell_type": "markdown",
   "id": "2ca3547a-4f4d-4767-bffe-999a9092cdd1",
   "metadata": {},
   "source": [
    "## Converting the raw data into a JSON data."
   ]
  },
  {
   "cell_type": "code",
   "execution_count": 75,
   "id": "5197669f-8b93-4285-bcdb-14e3f323ae3b",
   "metadata": {},
   "outputs": [],
   "source": [
    "import json\n"
   ]
  },
  {
   "cell_type": "code",
   "execution_count": 85,
   "id": "a1381fde-60c7-4a72-b6be-87cbe64d36eb",
   "metadata": {},
   "outputs": [],
   "source": [
    "#dfRaw.to_json()"
   ]
  },
  {
   "cell_type": "markdown",
   "id": "91043851-d3d6-4268-b6c6-afe7e3893816",
   "metadata": {},
   "source": [
    "## More Advanced Visualizations"
   ]
  },
  {
   "cell_type": "code",
   "execution_count": 78,
   "id": "a1c4da54-2051-4a02-aa2b-f64b64bb8cb5",
   "metadata": {},
   "outputs": [],
   "source": [
    "import matplotlib.pyplot as plt"
   ]
  },
  {
   "cell_type": "code",
   "execution_count": 80,
   "id": "77d1ccdf-6687-4b53-878b-21cc4026ebae",
   "metadata": {},
   "outputs": [
    {
     "data": {
      "text/html": [
       "<div>\n",
       "<style scoped>\n",
       "    .dataframe tbody tr th:only-of-type {\n",
       "        vertical-align: middle;\n",
       "    }\n",
       "\n",
       "    .dataframe tbody tr th {\n",
       "        vertical-align: top;\n",
       "    }\n",
       "\n",
       "    .dataframe thead th {\n",
       "        text-align: right;\n",
       "    }\n",
       "</style>\n",
       "<table border=\"1\" class=\"dataframe\">\n",
       "  <thead>\n",
       "    <tr style=\"text-align: right;\">\n",
       "      <th></th>\n",
       "      <th>Unnamed: 0</th>\n",
       "      <th>Reach-outDate</th>\n",
       "      <th>Name</th>\n",
       "      <th>Position</th>\n",
       "      <th>TimeAtCompany</th>\n",
       "      <th>TimeAtPosition</th>\n",
       "      <th>CompanyName</th>\n",
       "      <th>Industry</th>\n",
       "      <th>Status</th>\n",
       "      <th>Reply</th>\n",
       "      <th>W/Message</th>\n",
       "      <th>Potentially</th>\n",
       "      <th>Day</th>\n",
       "      <th>Month</th>\n",
       "    </tr>\n",
       "  </thead>\n",
       "  <tbody>\n",
       "    <tr>\n",
       "      <th>0</th>\n",
       "      <td>1</td>\n",
       "      <td>2022-06-01</td>\n",
       "      <td>Faria R</td>\n",
       "      <td>Founder</td>\n",
       "      <td>2018-present</td>\n",
       "      <td>2018-present</td>\n",
       "      <td>Mydoh</td>\n",
       "      <td>Fintech</td>\n",
       "      <td>Connected</td>\n",
       "      <td>0.0</td>\n",
       "      <td>True</td>\n",
       "      <td>NaN</td>\n",
       "      <td>Wednesday</td>\n",
       "      <td>June</td>\n",
       "    </tr>\n",
       "    <tr>\n",
       "      <th>1</th>\n",
       "      <td>2</td>\n",
       "      <td>2022-06-01</td>\n",
       "      <td>Mike D</td>\n",
       "      <td>VP</td>\n",
       "      <td>2010-presnet</td>\n",
       "      <td>2016-present</td>\n",
       "      <td>RBC</td>\n",
       "      <td>Fintech</td>\n",
       "      <td>Connected</td>\n",
       "      <td>0.0</td>\n",
       "      <td>True</td>\n",
       "      <td>NaN</td>\n",
       "      <td>Wednesday</td>\n",
       "      <td>June</td>\n",
       "    </tr>\n",
       "    <tr>\n",
       "      <th>2</th>\n",
       "      <td>3</td>\n",
       "      <td>2022-06-01</td>\n",
       "      <td>Beren U</td>\n",
       "      <td>Ambassador</td>\n",
       "      <td>2022-present</td>\n",
       "      <td>2022-present</td>\n",
       "      <td>Crypto.com</td>\n",
       "      <td>Fintech</td>\n",
       "      <td>Connected</td>\n",
       "      <td>1.0</td>\n",
       "      <td>True</td>\n",
       "      <td>NaN</td>\n",
       "      <td>Wednesday</td>\n",
       "      <td>June</td>\n",
       "    </tr>\n",
       "    <tr>\n",
       "      <th>3</th>\n",
       "      <td>4</td>\n",
       "      <td>2022-06-01</td>\n",
       "      <td>Yili Z</td>\n",
       "      <td>Analyst</td>\n",
       "      <td>2021-present</td>\n",
       "      <td>2021-present</td>\n",
       "      <td>Purpose Investments</td>\n",
       "      <td>Fintech</td>\n",
       "      <td>Unconnected</td>\n",
       "      <td>NaN</td>\n",
       "      <td>True</td>\n",
       "      <td>NaN</td>\n",
       "      <td>Wednesday</td>\n",
       "      <td>June</td>\n",
       "    </tr>\n",
       "    <tr>\n",
       "      <th>4</th>\n",
       "      <td>5</td>\n",
       "      <td>2022-06-01</td>\n",
       "      <td>Jeffery S</td>\n",
       "      <td>Manager</td>\n",
       "      <td>2017-present</td>\n",
       "      <td>2021-present</td>\n",
       "      <td>OPTrust</td>\n",
       "      <td>Fintech</td>\n",
       "      <td>Connected</td>\n",
       "      <td>0.0</td>\n",
       "      <td>True</td>\n",
       "      <td>NaN</td>\n",
       "      <td>Wednesday</td>\n",
       "      <td>June</td>\n",
       "    </tr>\n",
       "    <tr>\n",
       "      <th>...</th>\n",
       "      <td>...</td>\n",
       "      <td>...</td>\n",
       "      <td>...</td>\n",
       "      <td>...</td>\n",
       "      <td>...</td>\n",
       "      <td>...</td>\n",
       "      <td>...</td>\n",
       "      <td>...</td>\n",
       "      <td>...</td>\n",
       "      <td>...</td>\n",
       "      <td>...</td>\n",
       "      <td>...</td>\n",
       "      <td>...</td>\n",
       "      <td>...</td>\n",
       "    </tr>\n",
       "    <tr>\n",
       "      <th>158</th>\n",
       "      <td>159</td>\n",
       "      <td>2022-06-08</td>\n",
       "      <td>Michael R</td>\n",
       "      <td>NaN</td>\n",
       "      <td>NaN</td>\n",
       "      <td>NaN</td>\n",
       "      <td>NaN</td>\n",
       "      <td>Logisitics</td>\n",
       "      <td>Connected</td>\n",
       "      <td>0.0</td>\n",
       "      <td>False</td>\n",
       "      <td>NaN</td>\n",
       "      <td>Wednesday</td>\n",
       "      <td>June</td>\n",
       "    </tr>\n",
       "    <tr>\n",
       "      <th>159</th>\n",
       "      <td>160</td>\n",
       "      <td>2022-06-08</td>\n",
       "      <td>Karen B</td>\n",
       "      <td>NaN</td>\n",
       "      <td>NaN</td>\n",
       "      <td>NaN</td>\n",
       "      <td>NaN</td>\n",
       "      <td>Logisitics</td>\n",
       "      <td>Unconnected</td>\n",
       "      <td>NaN</td>\n",
       "      <td>False</td>\n",
       "      <td>NaN</td>\n",
       "      <td>Wednesday</td>\n",
       "      <td>June</td>\n",
       "    </tr>\n",
       "    <tr>\n",
       "      <th>160</th>\n",
       "      <td>161</td>\n",
       "      <td>2022-06-08</td>\n",
       "      <td>Patrick S</td>\n",
       "      <td>NaN</td>\n",
       "      <td>NaN</td>\n",
       "      <td>NaN</td>\n",
       "      <td>NaN</td>\n",
       "      <td>Logisitics</td>\n",
       "      <td>Unconnected</td>\n",
       "      <td>NaN</td>\n",
       "      <td>False</td>\n",
       "      <td>NaN</td>\n",
       "      <td>Wednesday</td>\n",
       "      <td>June</td>\n",
       "    </tr>\n",
       "    <tr>\n",
       "      <th>161</th>\n",
       "      <td>162</td>\n",
       "      <td>2022-06-08</td>\n",
       "      <td>Mihir M</td>\n",
       "      <td>NaN</td>\n",
       "      <td>NaN</td>\n",
       "      <td>NaN</td>\n",
       "      <td>NaN</td>\n",
       "      <td>Logisitics</td>\n",
       "      <td>Connected</td>\n",
       "      <td>0.0</td>\n",
       "      <td>False</td>\n",
       "      <td>NaN</td>\n",
       "      <td>Wednesday</td>\n",
       "      <td>June</td>\n",
       "    </tr>\n",
       "    <tr>\n",
       "      <th>162</th>\n",
       "      <td>163</td>\n",
       "      <td>2022-06-08</td>\n",
       "      <td>Jeffery T</td>\n",
       "      <td>NaN</td>\n",
       "      <td>NaN</td>\n",
       "      <td>NaN</td>\n",
       "      <td>NaN</td>\n",
       "      <td>Logisitics</td>\n",
       "      <td>Connected</td>\n",
       "      <td>0.0</td>\n",
       "      <td>False</td>\n",
       "      <td>NaN</td>\n",
       "      <td>Wednesday</td>\n",
       "      <td>June</td>\n",
       "    </tr>\n",
       "  </tbody>\n",
       "</table>\n",
       "<p>163 rows × 14 columns</p>\n",
       "</div>"
      ],
      "text/plain": [
       "     Unnamed: 0 Reach-outDate       Name    Position TimeAtCompany  \\\n",
       "0             1    2022-06-01    Faria R     Founder  2018-present   \n",
       "1             2    2022-06-01     Mike D          VP  2010-presnet   \n",
       "2             3    2022-06-01    Beren U  Ambassador  2022-present   \n",
       "3             4    2022-06-01     Yili Z     Analyst  2021-present   \n",
       "4             5    2022-06-01  Jeffery S     Manager  2017-present   \n",
       "..          ...           ...        ...         ...           ...   \n",
       "158         159    2022-06-08  Michael R         NaN           NaN   \n",
       "159         160    2022-06-08    Karen B         NaN           NaN   \n",
       "160         161    2022-06-08  Patrick S         NaN           NaN   \n",
       "161         162    2022-06-08    Mihir M         NaN           NaN   \n",
       "162         163    2022-06-08  Jeffery T         NaN           NaN   \n",
       "\n",
       "    TimeAtPosition          CompanyName    Industry       Status  Reply  \\\n",
       "0     2018-present                Mydoh     Fintech    Connected    0.0   \n",
       "1     2016-present                  RBC     Fintech    Connected    0.0   \n",
       "2     2022-present           Crypto.com     Fintech    Connected    1.0   \n",
       "3     2021-present  Purpose Investments     Fintech  Unconnected    NaN   \n",
       "4     2021-present              OPTrust     Fintech    Connected    0.0   \n",
       "..             ...                  ...         ...          ...    ...   \n",
       "158            NaN                  NaN  Logisitics    Connected    0.0   \n",
       "159            NaN                  NaN  Logisitics  Unconnected    NaN   \n",
       "160            NaN                  NaN  Logisitics  Unconnected    NaN   \n",
       "161            NaN                  NaN  Logisitics    Connected    0.0   \n",
       "162            NaN                  NaN  Logisitics    Connected    0.0   \n",
       "\n",
       "     W/Message  Potentially        Day Month  \n",
       "0         True          NaN  Wednesday  June  \n",
       "1         True          NaN  Wednesday  June  \n",
       "2         True          NaN  Wednesday  June  \n",
       "3         True          NaN  Wednesday  June  \n",
       "4         True          NaN  Wednesday  June  \n",
       "..         ...          ...        ...   ...  \n",
       "158      False          NaN  Wednesday  June  \n",
       "159      False          NaN  Wednesday  June  \n",
       "160      False          NaN  Wednesday  June  \n",
       "161      False          NaN  Wednesday  June  \n",
       "162      False          NaN  Wednesday  June  \n",
       "\n",
       "[163 rows x 14 columns]"
      ]
     },
     "execution_count": 80,
     "metadata": {},
     "output_type": "execute_result"
    }
   ],
   "source": [
    "dfRaw"
   ]
  },
  {
   "cell_type": "code",
   "execution_count": 82,
   "id": "a1f7584e-5b4e-47d2-a23c-2299fd78a51c",
   "metadata": {},
   "outputs": [
    {
     "ename": "TypeError",
     "evalue": "the dtypes of parameters x (object) and width (float64) are incompatible",
     "output_type": "error",
     "traceback": [
      "\u001b[1;31m---------------------------------------------------------------------------\u001b[0m",
      "\u001b[1;31mTypeError\u001b[0m                                 Traceback (most recent call last)",
      "File \u001b[1;32m~\\anaconda3\\lib\\site-packages\\matplotlib\\axes\\_axes.py:2373\u001b[0m, in \u001b[0;36mAxes.bar\u001b[1;34m(self, x, height, width, bottom, align, **kwargs)\u001b[0m\n\u001b[0;32m   2372\u001b[0m \u001b[38;5;28;01mtry\u001b[39;00m:\n\u001b[1;32m-> 2373\u001b[0m     left \u001b[38;5;241m=\u001b[39m \u001b[43mx\u001b[49m\u001b[43m \u001b[49m\u001b[38;5;241;43m-\u001b[39;49m\u001b[43m \u001b[49m\u001b[43mwidth\u001b[49m\u001b[43m \u001b[49m\u001b[38;5;241;43m/\u001b[39;49m\u001b[43m \u001b[49m\u001b[38;5;241;43m2\u001b[39;49m\n\u001b[0;32m   2374\u001b[0m \u001b[38;5;28;01mexcept\u001b[39;00m \u001b[38;5;167;01mTypeError\u001b[39;00m \u001b[38;5;28;01mas\u001b[39;00m e:\n",
      "\u001b[1;31mTypeError\u001b[0m: unsupported operand type(s) for -: 'Timestamp' and 'float'",
      "\nThe above exception was the direct cause of the following exception:\n",
      "\u001b[1;31mTypeError\u001b[0m                                 Traceback (most recent call last)",
      "Input \u001b[1;32mIn [82]\u001b[0m, in \u001b[0;36m<cell line: 2>\u001b[1;34m()\u001b[0m\n\u001b[0;32m      1\u001b[0m fig \u001b[38;5;241m=\u001b[39m plt\u001b[38;5;241m.\u001b[39mfigure()\n\u001b[1;32m----> 2\u001b[0m \u001b[43mplt\u001b[49m\u001b[38;5;241;43m.\u001b[39;49m\u001b[43mbar\u001b[49m\u001b[43m(\u001b[49m\u001b[43mdfRaw\u001b[49m\u001b[43m,\u001b[49m\u001b[43m \u001b[49m\u001b[38;5;124;43m'\u001b[39;49m\u001b[38;5;124;43mPosition\u001b[39;49m\u001b[38;5;124;43m'\u001b[39;49m\u001b[43m)\u001b[49m\n\u001b[0;32m      3\u001b[0m plt\u001b[38;5;241m.\u001b[39mshow()\n",
      "File \u001b[1;32m~\\anaconda3\\lib\\site-packages\\matplotlib\\pyplot.py:2387\u001b[0m, in \u001b[0;36mbar\u001b[1;34m(x, height, width, bottom, align, data, **kwargs)\u001b[0m\n\u001b[0;32m   2383\u001b[0m \u001b[38;5;129m@_copy_docstring_and_deprecators\u001b[39m(Axes\u001b[38;5;241m.\u001b[39mbar)\n\u001b[0;32m   2384\u001b[0m \u001b[38;5;28;01mdef\u001b[39;00m \u001b[38;5;21mbar\u001b[39m(\n\u001b[0;32m   2385\u001b[0m         x, height, width\u001b[38;5;241m=\u001b[39m\u001b[38;5;241m0.8\u001b[39m, bottom\u001b[38;5;241m=\u001b[39m\u001b[38;5;28;01mNone\u001b[39;00m, \u001b[38;5;241m*\u001b[39m, align\u001b[38;5;241m=\u001b[39m\u001b[38;5;124m'\u001b[39m\u001b[38;5;124mcenter\u001b[39m\u001b[38;5;124m'\u001b[39m,\n\u001b[0;32m   2386\u001b[0m         data\u001b[38;5;241m=\u001b[39m\u001b[38;5;28;01mNone\u001b[39;00m, \u001b[38;5;241m*\u001b[39m\u001b[38;5;241m*\u001b[39mkwargs):\n\u001b[1;32m-> 2387\u001b[0m     \u001b[38;5;28;01mreturn\u001b[39;00m gca()\u001b[38;5;241m.\u001b[39mbar(\n\u001b[0;32m   2388\u001b[0m         x, height, width\u001b[38;5;241m=\u001b[39mwidth, bottom\u001b[38;5;241m=\u001b[39mbottom, align\u001b[38;5;241m=\u001b[39malign,\n\u001b[0;32m   2389\u001b[0m         \u001b[38;5;241m*\u001b[39m\u001b[38;5;241m*\u001b[39m({\u001b[38;5;124m\"\u001b[39m\u001b[38;5;124mdata\u001b[39m\u001b[38;5;124m\"\u001b[39m: data} \u001b[38;5;28;01mif\u001b[39;00m data \u001b[38;5;129;01mis\u001b[39;00m \u001b[38;5;129;01mnot\u001b[39;00m \u001b[38;5;28;01mNone\u001b[39;00m \u001b[38;5;28;01melse\u001b[39;00m {}), \u001b[38;5;241m*\u001b[39m\u001b[38;5;241m*\u001b[39mkwargs)\n",
      "File \u001b[1;32m~\\anaconda3\\lib\\site-packages\\matplotlib\\__init__.py:1412\u001b[0m, in \u001b[0;36m_preprocess_data.<locals>.inner\u001b[1;34m(ax, data, *args, **kwargs)\u001b[0m\n\u001b[0;32m   1409\u001b[0m \u001b[38;5;129m@functools\u001b[39m\u001b[38;5;241m.\u001b[39mwraps(func)\n\u001b[0;32m   1410\u001b[0m \u001b[38;5;28;01mdef\u001b[39;00m \u001b[38;5;21minner\u001b[39m(ax, \u001b[38;5;241m*\u001b[39margs, data\u001b[38;5;241m=\u001b[39m\u001b[38;5;28;01mNone\u001b[39;00m, \u001b[38;5;241m*\u001b[39m\u001b[38;5;241m*\u001b[39mkwargs):\n\u001b[0;32m   1411\u001b[0m     \u001b[38;5;28;01mif\u001b[39;00m data \u001b[38;5;129;01mis\u001b[39;00m \u001b[38;5;28;01mNone\u001b[39;00m:\n\u001b[1;32m-> 1412\u001b[0m         \u001b[38;5;28;01mreturn\u001b[39;00m func(ax, \u001b[38;5;241m*\u001b[39m\u001b[38;5;28mmap\u001b[39m(sanitize_sequence, args), \u001b[38;5;241m*\u001b[39m\u001b[38;5;241m*\u001b[39mkwargs)\n\u001b[0;32m   1414\u001b[0m     bound \u001b[38;5;241m=\u001b[39m new_sig\u001b[38;5;241m.\u001b[39mbind(ax, \u001b[38;5;241m*\u001b[39margs, \u001b[38;5;241m*\u001b[39m\u001b[38;5;241m*\u001b[39mkwargs)\n\u001b[0;32m   1415\u001b[0m     auto_label \u001b[38;5;241m=\u001b[39m (bound\u001b[38;5;241m.\u001b[39marguments\u001b[38;5;241m.\u001b[39mget(label_namer)\n\u001b[0;32m   1416\u001b[0m                   \u001b[38;5;129;01mor\u001b[39;00m bound\u001b[38;5;241m.\u001b[39mkwargs\u001b[38;5;241m.\u001b[39mget(label_namer))\n",
      "File \u001b[1;32m~\\anaconda3\\lib\\site-packages\\matplotlib\\axes\\_axes.py:2375\u001b[0m, in \u001b[0;36mAxes.bar\u001b[1;34m(self, x, height, width, bottom, align, **kwargs)\u001b[0m\n\u001b[0;32m   2373\u001b[0m         left \u001b[38;5;241m=\u001b[39m x \u001b[38;5;241m-\u001b[39m width \u001b[38;5;241m/\u001b[39m \u001b[38;5;241m2\u001b[39m\n\u001b[0;32m   2374\u001b[0m     \u001b[38;5;28;01mexcept\u001b[39;00m \u001b[38;5;167;01mTypeError\u001b[39;00m \u001b[38;5;28;01mas\u001b[39;00m e:\n\u001b[1;32m-> 2375\u001b[0m         \u001b[38;5;28;01mraise\u001b[39;00m \u001b[38;5;167;01mTypeError\u001b[39;00m(\u001b[38;5;124mf\u001b[39m\u001b[38;5;124m'\u001b[39m\u001b[38;5;124mthe dtypes of parameters x (\u001b[39m\u001b[38;5;132;01m{\u001b[39;00mx\u001b[38;5;241m.\u001b[39mdtype\u001b[38;5;132;01m}\u001b[39;00m\u001b[38;5;124m) \u001b[39m\u001b[38;5;124m'\u001b[39m\n\u001b[0;32m   2376\u001b[0m                         \u001b[38;5;124mf\u001b[39m\u001b[38;5;124m'\u001b[39m\u001b[38;5;124mand width (\u001b[39m\u001b[38;5;132;01m{\u001b[39;00mwidth\u001b[38;5;241m.\u001b[39mdtype\u001b[38;5;132;01m}\u001b[39;00m\u001b[38;5;124m) \u001b[39m\u001b[38;5;124m'\u001b[39m\n\u001b[0;32m   2377\u001b[0m                         \u001b[38;5;124mf\u001b[39m\u001b[38;5;124m'\u001b[39m\u001b[38;5;124mare incompatible\u001b[39m\u001b[38;5;124m'\u001b[39m) \u001b[38;5;28;01mfrom\u001b[39;00m \u001b[38;5;21;01me\u001b[39;00m\n\u001b[0;32m   2378\u001b[0m     bottom \u001b[38;5;241m=\u001b[39m y\n\u001b[0;32m   2379\u001b[0m \u001b[38;5;28;01melif\u001b[39;00m orientation \u001b[38;5;241m==\u001b[39m \u001b[38;5;124m'\u001b[39m\u001b[38;5;124mhorizontal\u001b[39m\u001b[38;5;124m'\u001b[39m:\n",
      "\u001b[1;31mTypeError\u001b[0m: the dtypes of parameters x (object) and width (float64) are incompatible"
     ]
    },
    {
     "data": {
      "image/png": "[encoded data removed]",
      "text/plain": [
       "<Figure size 432x288 with 1 Axes>"
      ]
     },
     "metadata": {
      "needs_background": "light"
     },
     "output_type": "display_data"
    }
   ],
   "source": [
    "fig = plt.figure()\n",
    "plt.bar(dfRaw, 'Position')\n",
    "plt.show()"
   ]
  },
  {
   "cell_type": "code",
   "execution_count": 88,
   "id": "664c39a5-ec10-48c9-ab32-d6fdb5878501",
   "metadata": {},
   "outputs": [
    {
     "ename": "ValueError",
     "evalue": "Invalid color W/Message",
     "output_type": "error",
     "traceback": [
      "\u001b[1;31m---------------------------------------------------------------------------\u001b[0m",
      "\u001b[1;31mValueError\u001b[0m                                Traceback (most recent call last)",
      "Input \u001b[1;32mIn [88]\u001b[0m, in \u001b[0;36m<cell line: 1>\u001b[1;34m()\u001b[0m\n\u001b[1;32m----> 1\u001b[0m \u001b[43mdfRaw\u001b[49m\u001b[38;5;241;43m.\u001b[39;49m\u001b[43mPosition\u001b[49m\u001b[38;5;241;43m.\u001b[39;49m\u001b[43mvalue_counts\u001b[49m\u001b[43m(\u001b[49m\u001b[43m)\u001b[49m\u001b[38;5;241;43m.\u001b[39;49m\u001b[43mplot\u001b[49m\u001b[43m(\u001b[49m\u001b[43mkind\u001b[49m\u001b[43m \u001b[49m\u001b[38;5;241;43m=\u001b[39;49m\u001b[43m \u001b[49m\u001b[38;5;124;43m'\u001b[39;49m\u001b[38;5;124;43mbar\u001b[39;49m\u001b[38;5;124;43m'\u001b[39;49m\u001b[43m,\u001b[49m\u001b[43m \u001b[49m\u001b[43mcolor\u001b[49m\u001b[43m \u001b[49m\u001b[38;5;241;43m=\u001b[39;49m\u001b[43m \u001b[49m\u001b[38;5;124;43m'\u001b[39;49m\u001b[38;5;124;43mW/Message\u001b[39;49m\u001b[38;5;124;43m'\u001b[39;49m\u001b[43m)\u001b[49m\n",
      "File \u001b[1;32m~\\anaconda3\\lib\\site-packages\\pandas\\plotting\\_core.py:972\u001b[0m, in \u001b[0;36mPlotAccessor.__call__\u001b[1;34m(self, *args, **kwargs)\u001b[0m\n\u001b[0;32m    969\u001b[0m             label_name \u001b[38;5;241m=\u001b[39m label_kw \u001b[38;5;129;01mor\u001b[39;00m data\u001b[38;5;241m.\u001b[39mcolumns\n\u001b[0;32m    970\u001b[0m             data\u001b[38;5;241m.\u001b[39mcolumns \u001b[38;5;241m=\u001b[39m label_name\n\u001b[1;32m--> 972\u001b[0m \u001b[38;5;28;01mreturn\u001b[39;00m plot_backend\u001b[38;5;241m.\u001b[39mplot(data, kind\u001b[38;5;241m=\u001b[39mkind, \u001b[38;5;241m*\u001b[39m\u001b[38;5;241m*\u001b[39mkwargs)\n",
      "File \u001b[1;32m~\\anaconda3\\lib\\site-packages\\pandas\\plotting\\_matplotlib\\__init__.py:71\u001b[0m, in \u001b[0;36mplot\u001b[1;34m(data, kind, **kwargs)\u001b[0m\n\u001b[0;32m     69\u001b[0m         kwargs[\u001b[38;5;124m\"\u001b[39m\u001b[38;5;124max\u001b[39m\u001b[38;5;124m\"\u001b[39m] \u001b[38;5;241m=\u001b[39m \u001b[38;5;28mgetattr\u001b[39m(ax, \u001b[38;5;124m\"\u001b[39m\u001b[38;5;124mleft_ax\u001b[39m\u001b[38;5;124m\"\u001b[39m, ax)\n\u001b[0;32m     70\u001b[0m plot_obj \u001b[38;5;241m=\u001b[39m PLOT_CLASSES[kind](data, \u001b[38;5;241m*\u001b[39m\u001b[38;5;241m*\u001b[39mkwargs)\n\u001b[1;32m---> 71\u001b[0m \u001b[43mplot_obj\u001b[49m\u001b[38;5;241;43m.\u001b[39;49m\u001b[43mgenerate\u001b[49m\u001b[43m(\u001b[49m\u001b[43m)\u001b[49m\n\u001b[0;32m     72\u001b[0m plot_obj\u001b[38;5;241m.\u001b[39mdraw()\n\u001b[0;32m     73\u001b[0m \u001b[38;5;28;01mreturn\u001b[39;00m plot_obj\u001b[38;5;241m.\u001b[39mresult\n",
      "File \u001b[1;32m~\\anaconda3\\lib\\site-packages\\pandas\\plotting\\_matplotlib\\core.py:329\u001b[0m, in \u001b[0;36mMPLPlot.generate\u001b[1;34m(self)\u001b[0m\n\u001b[0;32m    327\u001b[0m \u001b[38;5;28mself\u001b[39m\u001b[38;5;241m.\u001b[39m_compute_plot_data()\n\u001b[0;32m    328\u001b[0m \u001b[38;5;28mself\u001b[39m\u001b[38;5;241m.\u001b[39m_setup_subplots()\n\u001b[1;32m--> 329\u001b[0m \u001b[38;5;28;43mself\u001b[39;49m\u001b[38;5;241;43m.\u001b[39;49m\u001b[43m_make_plot\u001b[49m\u001b[43m(\u001b[49m\u001b[43m)\u001b[49m\n\u001b[0;32m    330\u001b[0m \u001b[38;5;28mself\u001b[39m\u001b[38;5;241m.\u001b[39m_add_table()\n\u001b[0;32m    331\u001b[0m \u001b[38;5;28mself\u001b[39m\u001b[38;5;241m.\u001b[39m_make_legend()\n",
      "File \u001b[1;32m~\\anaconda3\\lib\\site-packages\\pandas\\plotting\\_matplotlib\\core.py:1497\u001b[0m, in \u001b[0;36mBarPlot._make_plot\u001b[1;34m(self)\u001b[0m\n\u001b[0;32m   1494\u001b[0m \u001b[38;5;28;01mdef\u001b[39;00m \u001b[38;5;21m_make_plot\u001b[39m(\u001b[38;5;28mself\u001b[39m):\n\u001b[0;32m   1495\u001b[0m     \u001b[38;5;28;01mimport\u001b[39;00m \u001b[38;5;21;01mmatplotlib\u001b[39;00m \u001b[38;5;28;01mas\u001b[39;00m \u001b[38;5;21;01mmpl\u001b[39;00m\n\u001b[1;32m-> 1497\u001b[0m     colors \u001b[38;5;241m=\u001b[39m \u001b[38;5;28;43mself\u001b[39;49m\u001b[38;5;241;43m.\u001b[39;49m\u001b[43m_get_colors\u001b[49m\u001b[43m(\u001b[49m\u001b[43m)\u001b[49m\n\u001b[0;32m   1498\u001b[0m     ncolors \u001b[38;5;241m=\u001b[39m \u001b[38;5;28mlen\u001b[39m(colors)\n\u001b[0;32m   1500\u001b[0m     pos_prior \u001b[38;5;241m=\u001b[39m neg_prior \u001b[38;5;241m=\u001b[39m np\u001b[38;5;241m.\u001b[39mzeros(\u001b[38;5;28mlen\u001b[39m(\u001b[38;5;28mself\u001b[39m\u001b[38;5;241m.\u001b[39mdata))\n",
      "File \u001b[1;32m~\\anaconda3\\lib\\site-packages\\pandas\\plotting\\_matplotlib\\core.py:842\u001b[0m, in \u001b[0;36mMPLPlot._get_colors\u001b[1;34m(self, num_colors, color_kwds)\u001b[0m\n\u001b[0;32m    839\u001b[0m \u001b[38;5;28;01mif\u001b[39;00m num_colors \u001b[38;5;129;01mis\u001b[39;00m \u001b[38;5;28;01mNone\u001b[39;00m:\n\u001b[0;32m    840\u001b[0m     num_colors \u001b[38;5;241m=\u001b[39m \u001b[38;5;28mself\u001b[39m\u001b[38;5;241m.\u001b[39mnseries\n\u001b[1;32m--> 842\u001b[0m \u001b[38;5;28;01mreturn\u001b[39;00m \u001b[43mget_standard_colors\u001b[49m\u001b[43m(\u001b[49m\n\u001b[0;32m    843\u001b[0m \u001b[43m    \u001b[49m\u001b[43mnum_colors\u001b[49m\u001b[38;5;241;43m=\u001b[39;49m\u001b[43mnum_colors\u001b[49m\u001b[43m,\u001b[49m\n\u001b[0;32m    844\u001b[0m \u001b[43m    \u001b[49m\u001b[43mcolormap\u001b[49m\u001b[38;5;241;43m=\u001b[39;49m\u001b[38;5;28;43mself\u001b[39;49m\u001b[38;5;241;43m.\u001b[39;49m\u001b[43mcolormap\u001b[49m\u001b[43m,\u001b[49m\n\u001b[0;32m    845\u001b[0m \u001b[43m    \u001b[49m\u001b[43mcolor\u001b[49m\u001b[38;5;241;43m=\u001b[39;49m\u001b[38;5;28;43mself\u001b[39;49m\u001b[38;5;241;43m.\u001b[39;49m\u001b[43mkwds\u001b[49m\u001b[38;5;241;43m.\u001b[39;49m\u001b[43mget\u001b[49m\u001b[43m(\u001b[49m\u001b[43mcolor_kwds\u001b[49m\u001b[43m)\u001b[49m\u001b[43m,\u001b[49m\n\u001b[0;32m    846\u001b[0m \u001b[43m\u001b[49m\u001b[43m)\u001b[49m\n",
      "File \u001b[1;32m~\\anaconda3\\lib\\site-packages\\pandas\\plotting\\_matplotlib\\style.py:70\u001b[0m, in \u001b[0;36mget_standard_colors\u001b[1;34m(num_colors, colormap, color_type, color)\u001b[0m\n\u001b[0;32m     67\u001b[0m \u001b[38;5;28;01mif\u001b[39;00m \u001b[38;5;28misinstance\u001b[39m(color, \u001b[38;5;28mdict\u001b[39m):\n\u001b[0;32m     68\u001b[0m     \u001b[38;5;28;01mreturn\u001b[39;00m color\n\u001b[1;32m---> 70\u001b[0m colors \u001b[38;5;241m=\u001b[39m \u001b[43m_derive_colors\u001b[49m\u001b[43m(\u001b[49m\n\u001b[0;32m     71\u001b[0m \u001b[43m    \u001b[49m\u001b[43mcolor\u001b[49m\u001b[38;5;241;43m=\u001b[39;49m\u001b[43mcolor\u001b[49m\u001b[43m,\u001b[49m\n\u001b[0;32m     72\u001b[0m \u001b[43m    \u001b[49m\u001b[43mcolormap\u001b[49m\u001b[38;5;241;43m=\u001b[39;49m\u001b[43mcolormap\u001b[49m\u001b[43m,\u001b[49m\n\u001b[0;32m     73\u001b[0m \u001b[43m    \u001b[49m\u001b[43mcolor_type\u001b[49m\u001b[38;5;241;43m=\u001b[39;49m\u001b[43mcolor_type\u001b[49m\u001b[43m,\u001b[49m\n\u001b[0;32m     74\u001b[0m \u001b[43m    \u001b[49m\u001b[43mnum_colors\u001b[49m\u001b[38;5;241;43m=\u001b[39;49m\u001b[43mnum_colors\u001b[49m\u001b[43m,\u001b[49m\n\u001b[0;32m     75\u001b[0m \u001b[43m\u001b[49m\u001b[43m)\u001b[49m\n\u001b[0;32m     77\u001b[0m \u001b[38;5;28;01mreturn\u001b[39;00m \u001b[38;5;28mlist\u001b[39m(_cycle_colors(colors, num_colors\u001b[38;5;241m=\u001b[39mnum_colors))\n",
      "File \u001b[1;32m~\\anaconda3\\lib\\site-packages\\pandas\\plotting\\_matplotlib\\style.py:126\u001b[0m, in \u001b[0;36m_derive_colors\u001b[1;34m(color, colormap, color_type, num_colors)\u001b[0m\n\u001b[0;32m    122\u001b[0m     \u001b[38;5;28;01mif\u001b[39;00m colormap \u001b[38;5;129;01mis\u001b[39;00m \u001b[38;5;129;01mnot\u001b[39;00m \u001b[38;5;28;01mNone\u001b[39;00m:\n\u001b[0;32m    123\u001b[0m         warnings\u001b[38;5;241m.\u001b[39mwarn(\n\u001b[0;32m    124\u001b[0m             \u001b[38;5;124m\"\u001b[39m\u001b[38;5;124m'\u001b[39m\u001b[38;5;124mcolor\u001b[39m\u001b[38;5;124m'\u001b[39m\u001b[38;5;124m and \u001b[39m\u001b[38;5;124m'\u001b[39m\u001b[38;5;124mcolormap\u001b[39m\u001b[38;5;124m'\u001b[39m\u001b[38;5;124m cannot be used simultaneously. Using \u001b[39m\u001b[38;5;124m'\u001b[39m\u001b[38;5;124mcolor\u001b[39m\u001b[38;5;124m'\u001b[39m\u001b[38;5;124m\"\u001b[39m\n\u001b[0;32m    125\u001b[0m         )\n\u001b[1;32m--> 126\u001b[0m     \u001b[38;5;28;01mreturn\u001b[39;00m \u001b[43m_get_colors_from_color\u001b[49m\u001b[43m(\u001b[49m\u001b[43mcolor\u001b[49m\u001b[43m)\u001b[49m\n\u001b[0;32m    127\u001b[0m \u001b[38;5;28;01melse\u001b[39;00m:\n\u001b[0;32m    128\u001b[0m     \u001b[38;5;28;01mreturn\u001b[39;00m _get_colors_from_color_type(color_type, num_colors\u001b[38;5;241m=\u001b[39mnum_colors)\n",
      "File \u001b[1;32m~\\anaconda3\\lib\\site-packages\\pandas\\plotting\\_matplotlib\\style.py:172\u001b[0m, in \u001b[0;36m_get_colors_from_color\u001b[1;34m(color)\u001b[0m\n\u001b[0;32m    169\u001b[0m     \u001b[38;5;28;01mreturn\u001b[39;00m [color]\n\u001b[0;32m    171\u001b[0m color \u001b[38;5;241m=\u001b[39m cast(Collection[Color], color)\n\u001b[1;32m--> 172\u001b[0m \u001b[38;5;28;01mreturn\u001b[39;00m \u001b[38;5;28;43mlist\u001b[39;49m\u001b[43m(\u001b[49m\u001b[43m_gen_list_of_colors_from_iterable\u001b[49m\u001b[43m(\u001b[49m\u001b[43mcolor\u001b[49m\u001b[43m)\u001b[49m\u001b[43m)\u001b[49m\n",
      "File \u001b[1;32m~\\anaconda3\\lib\\site-packages\\pandas\\plotting\\_matplotlib\\style.py:205\u001b[0m, in \u001b[0;36m_gen_list_of_colors_from_iterable\u001b[1;34m(color)\u001b[0m\n\u001b[0;32m    203\u001b[0m     \u001b[38;5;28;01myield\u001b[39;00m x\n\u001b[0;32m    204\u001b[0m \u001b[38;5;28;01melse\u001b[39;00m:\n\u001b[1;32m--> 205\u001b[0m     \u001b[38;5;28;01mraise\u001b[39;00m \u001b[38;5;167;01mValueError\u001b[39;00m(\u001b[38;5;124mf\u001b[39m\u001b[38;5;124m\"\u001b[39m\u001b[38;5;124mInvalid color \u001b[39m\u001b[38;5;132;01m{\u001b[39;00mx\u001b[38;5;132;01m}\u001b[39;00m\u001b[38;5;124m\"\u001b[39m)\n",
      "\u001b[1;31mValueError\u001b[0m: Invalid color W/Message"
     ]
    },
    {
     "data": {
      "image/png": "[encoded data removed]",
      "text/plain": [
       "<Figure size 432x288 with 1 Axes>"
      ]
     },
     "metadata": {
      "needs_background": "light"
     },
     "output_type": "display_data"
    }
   ],
   "source": [
    "dfRaw.Position.value_counts().plot(kind = 'bar', color = 'W/Message')"
   ]
  },
  {
   "cell_type": "code",
   "execution_count": 83,
   "id": "8b844f46-9f28-44ab-a3ad-366f96f6df53",
   "metadata": {},
   "outputs": [
    {
     "ename": "TypeError",
     "evalue": "no numeric data to plot",
     "output_type": "error",
     "traceback": [
      "\u001b[1;31m---------------------------------------------------------------------------\u001b[0m",
      "\u001b[1;31mTypeError\u001b[0m                                 Traceback (most recent call last)",
      "Input \u001b[1;32mIn [83]\u001b[0m, in \u001b[0;36m<cell line: 1>\u001b[1;34m()\u001b[0m\n\u001b[1;32m----> 1\u001b[0m \u001b[43mdfRaw\u001b[49m\u001b[38;5;241;43m.\u001b[39;49m\u001b[43mPosition\u001b[49m\u001b[38;5;241;43m.\u001b[39;49m\u001b[43mplot\u001b[49m\u001b[38;5;241;43m.\u001b[39;49m\u001b[43mbar\u001b[49m\u001b[43m(\u001b[49m\u001b[43m)\u001b[49m\n",
      "File \u001b[1;32m~\\anaconda3\\lib\\site-packages\\pandas\\plotting\\_core.py:1131\u001b[0m, in \u001b[0;36mPlotAccessor.bar\u001b[1;34m(self, x, y, **kwargs)\u001b[0m\n\u001b[0;32m   1043\u001b[0m \u001b[38;5;129m@Appender\u001b[39m(\n\u001b[0;32m   1044\u001b[0m     \u001b[38;5;124;03m\"\"\"\u001b[39;00m\n\u001b[0;32m   1045\u001b[0m \u001b[38;5;124;03m    See Also\u001b[39;00m\n\u001b[1;32m   (...)\u001b[0m\n\u001b[0;32m   1120\u001b[0m \u001b[38;5;129m@Appender\u001b[39m(_bar_or_line_doc)\n\u001b[0;32m   1121\u001b[0m \u001b[38;5;28;01mdef\u001b[39;00m \u001b[38;5;21mbar\u001b[39m(\u001b[38;5;28mself\u001b[39m, x\u001b[38;5;241m=\u001b[39m\u001b[38;5;28;01mNone\u001b[39;00m, y\u001b[38;5;241m=\u001b[39m\u001b[38;5;28;01mNone\u001b[39;00m, \u001b[38;5;241m*\u001b[39m\u001b[38;5;241m*\u001b[39mkwargs):\n\u001b[0;32m   1122\u001b[0m     \u001b[38;5;124;03m\"\"\"\u001b[39;00m\n\u001b[0;32m   1123\u001b[0m \u001b[38;5;124;03m    Vertical bar plot.\u001b[39;00m\n\u001b[0;32m   1124\u001b[0m \n\u001b[1;32m   (...)\u001b[0m\n\u001b[0;32m   1129\u001b[0m \u001b[38;5;124;03m    other axis represents a measured value.\u001b[39;00m\n\u001b[0;32m   1130\u001b[0m \u001b[38;5;124;03m    \"\"\"\u001b[39;00m\n\u001b[1;32m-> 1131\u001b[0m     \u001b[38;5;28;01mreturn\u001b[39;00m \u001b[38;5;28mself\u001b[39m(kind\u001b[38;5;241m=\u001b[39m\u001b[38;5;124m\"\u001b[39m\u001b[38;5;124mbar\u001b[39m\u001b[38;5;124m\"\u001b[39m, x\u001b[38;5;241m=\u001b[39mx, y\u001b[38;5;241m=\u001b[39my, \u001b[38;5;241m*\u001b[39m\u001b[38;5;241m*\u001b[39mkwargs)\n",
      "File \u001b[1;32m~\\anaconda3\\lib\\site-packages\\pandas\\plotting\\_core.py:972\u001b[0m, in \u001b[0;36mPlotAccessor.__call__\u001b[1;34m(self, *args, **kwargs)\u001b[0m\n\u001b[0;32m    969\u001b[0m             label_name \u001b[38;5;241m=\u001b[39m label_kw \u001b[38;5;129;01mor\u001b[39;00m data\u001b[38;5;241m.\u001b[39mcolumns\n\u001b[0;32m    970\u001b[0m             data\u001b[38;5;241m.\u001b[39mcolumns \u001b[38;5;241m=\u001b[39m label_name\n\u001b[1;32m--> 972\u001b[0m \u001b[38;5;28;01mreturn\u001b[39;00m plot_backend\u001b[38;5;241m.\u001b[39mplot(data, kind\u001b[38;5;241m=\u001b[39mkind, \u001b[38;5;241m*\u001b[39m\u001b[38;5;241m*\u001b[39mkwargs)\n",
      "File \u001b[1;32m~\\anaconda3\\lib\\site-packages\\pandas\\plotting\\_matplotlib\\__init__.py:71\u001b[0m, in \u001b[0;36mplot\u001b[1;34m(data, kind, **kwargs)\u001b[0m\n\u001b[0;32m     69\u001b[0m         kwargs[\u001b[38;5;124m\"\u001b[39m\u001b[38;5;124max\u001b[39m\u001b[38;5;124m\"\u001b[39m] \u001b[38;5;241m=\u001b[39m \u001b[38;5;28mgetattr\u001b[39m(ax, \u001b[38;5;124m\"\u001b[39m\u001b[38;5;124mleft_ax\u001b[39m\u001b[38;5;124m\"\u001b[39m, ax)\n\u001b[0;32m     70\u001b[0m plot_obj \u001b[38;5;241m=\u001b[39m PLOT_CLASSES[kind](data, \u001b[38;5;241m*\u001b[39m\u001b[38;5;241m*\u001b[39mkwargs)\n\u001b[1;32m---> 71\u001b[0m \u001b[43mplot_obj\u001b[49m\u001b[38;5;241;43m.\u001b[39;49m\u001b[43mgenerate\u001b[49m\u001b[43m(\u001b[49m\u001b[43m)\u001b[49m\n\u001b[0;32m     72\u001b[0m plot_obj\u001b[38;5;241m.\u001b[39mdraw()\n\u001b[0;32m     73\u001b[0m \u001b[38;5;28;01mreturn\u001b[39;00m plot_obj\u001b[38;5;241m.\u001b[39mresult\n",
      "File \u001b[1;32m~\\anaconda3\\lib\\site-packages\\pandas\\plotting\\_matplotlib\\core.py:327\u001b[0m, in \u001b[0;36mMPLPlot.generate\u001b[1;34m(self)\u001b[0m\n\u001b[0;32m    325\u001b[0m \u001b[38;5;28;01mdef\u001b[39;00m \u001b[38;5;21mgenerate\u001b[39m(\u001b[38;5;28mself\u001b[39m):\n\u001b[0;32m    326\u001b[0m     \u001b[38;5;28mself\u001b[39m\u001b[38;5;241m.\u001b[39m_args_adjust()\n\u001b[1;32m--> 327\u001b[0m     \u001b[38;5;28;43mself\u001b[39;49m\u001b[38;5;241;43m.\u001b[39;49m\u001b[43m_compute_plot_data\u001b[49m\u001b[43m(\u001b[49m\u001b[43m)\u001b[49m\n\u001b[0;32m    328\u001b[0m     \u001b[38;5;28mself\u001b[39m\u001b[38;5;241m.\u001b[39m_setup_subplots()\n\u001b[0;32m    329\u001b[0m     \u001b[38;5;28mself\u001b[39m\u001b[38;5;241m.\u001b[39m_make_plot()\n",
      "File \u001b[1;32m~\\anaconda3\\lib\\site-packages\\pandas\\plotting\\_matplotlib\\core.py:506\u001b[0m, in \u001b[0;36mMPLPlot._compute_plot_data\u001b[1;34m(self)\u001b[0m\n\u001b[0;32m    504\u001b[0m \u001b[38;5;66;03m# no non-numeric frames or series allowed\u001b[39;00m\n\u001b[0;32m    505\u001b[0m \u001b[38;5;28;01mif\u001b[39;00m is_empty:\n\u001b[1;32m--> 506\u001b[0m     \u001b[38;5;28;01mraise\u001b[39;00m \u001b[38;5;167;01mTypeError\u001b[39;00m(\u001b[38;5;124m\"\u001b[39m\u001b[38;5;124mno numeric data to plot\u001b[39m\u001b[38;5;124m\"\u001b[39m)\n\u001b[0;32m    508\u001b[0m \u001b[38;5;28mself\u001b[39m\u001b[38;5;241m.\u001b[39mdata \u001b[38;5;241m=\u001b[39m numeric_data\u001b[38;5;241m.\u001b[39mapply(\u001b[38;5;28mself\u001b[39m\u001b[38;5;241m.\u001b[39m_convert_to_ndarray)\n",
      "\u001b[1;31mTypeError\u001b[0m: no numeric data to plot"
     ]
    }
   ],
   "source": [
    "dfRaw.Position.plot.bar()"
   ]
  },
  {
   "cell_type": "code",
   "execution_count": 1,
   "id": "56d3246b-dc3d-4733-826a-3e74c0118b03",
   "metadata": {},
   "outputs": [
    {
     "data": {
      "text/plain": [
       "98"
      ]
     },
     "execution_count": 1,
     "metadata": {},
     "output_type": "execute_result"
    }
   ],
   "source": [
    "int(98.6)"
   ]
  },
  {
   "cell_type": "code",
   "execution_count": null,
   "id": "65cd172e-ebf6-4dab-ad6a-cee1d7204e6d",
   "metadata": {},
   "outputs": [],
   "source": []
  }
 ],
 "metadata": {
  "kernelspec": {
   "display_name": "Python 3 (ipykernel)",
   "language": "python",
   "name": "python3"
  },
  "language_info": {
   "codemirror_mode": {
    "name": "ipython",
    "version": 3
   },
   "file_extension": ".py",
   "mimetype": "text/x-python",
   "name": "python",
   "nbconvert_exporter": "python",
   "pygments_lexer": "ipython3",
   "version": "3.9.12"
  }
 },
 "nbformat": 4,
 "nbformat_minor": 5
}
