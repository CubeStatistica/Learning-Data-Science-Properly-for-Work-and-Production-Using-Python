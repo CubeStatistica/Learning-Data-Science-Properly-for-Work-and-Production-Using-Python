{
 "cells": [
  {
   "cell_type": "markdown",
   "id": "0c56e311-0ca6-46fd-b339-67e7cf0fe369",
   "metadata": {},
   "source": [
    "# Learning Python"
   ]
  },
  {
   "cell_type": "markdown",
   "id": "57ff144a-4610-40c9-81df-7ac89375ab0c",
   "metadata": {},
   "source": [
    "Some basics"
   ]
  },
  {
   "cell_type": "code",
   "execution_count": 5,
   "id": "0200d38c-4b5d-4748-a014-f3b273612635",
   "metadata": {},
   "outputs": [],
   "source": [
    "#Camel Case\n",
    "myVariableName = \"John\"\n",
    "\n",
    "#Pascal Case\n",
    "MyVariableName = \"John\"\n",
    "\n",
    "#Snake Case\n",
    "my_variable_name = \"John\""
   ]
  },
  {
   "cell_type": "code",
   "execution_count": 9,
   "id": "0e3f03e2-329f-4a88-bf37-7c67539ad182",
   "metadata": {},
   "outputs": [
    {
     "name": "stdout",
     "output_type": "stream",
     "text": [
      "156\n",
      "['ArithmeticError', 'AssertionError', 'AttributeError', 'BaseException', 'BlockingIOError', 'BrokenPipeError', 'BufferError', 'BytesWarning', 'ChildProcessError', 'ConnectionAbortedError', 'ConnectionError', 'ConnectionRefusedError', 'ConnectionResetError', 'DeprecationWarning', 'EOFError', 'Ellipsis', 'EnvironmentError', 'Exception', 'False', 'FileExistsError', 'FileNotFoundError', 'FloatingPointError', 'FutureWarning', 'GeneratorExit', 'IOError', 'ImportError', 'ImportWarning', 'IndentationError', 'IndexError', 'InterruptedError', 'IsADirectoryError', 'KeyError', 'KeyboardInterrupt', 'LookupError', 'MemoryError', 'ModuleNotFoundError', 'NameError', 'None', 'NotADirectoryError', 'NotImplemented', 'NotImplementedError', 'OSError', 'OverflowError', 'PendingDeprecationWarning', 'PermissionError', 'ProcessLookupError', 'RecursionError', 'ReferenceError', 'ResourceWarning', 'RuntimeError', 'RuntimeWarning', 'StopAsyncIteration', 'StopIteration', 'SyntaxError', 'SyntaxWarning', 'SystemError', 'SystemExit', 'TabError', 'TimeoutError', 'True', 'TypeError', 'UnboundLocalError', 'UnicodeDecodeError', 'UnicodeEncodeError', 'UnicodeError', 'UnicodeTranslateError', 'UnicodeWarning', 'UserWarning', 'ValueError', 'Warning', 'WindowsError', 'ZeroDivisionError', '__IPYTHON__', '__build_class__', '__debug__', '__doc__', '__import__', '__loader__', '__name__', '__package__', '__spec__', 'abs', 'all', 'any', 'ascii', 'bin', 'bool', 'breakpoint', 'bytearray', 'bytes', 'callable', 'chr', 'classmethod', 'compile', 'complex', 'copyright', 'credits', 'delattr', 'dict', 'dir', 'display', 'divmod', 'enumerate', 'eval', 'exec', 'execfile', 'filter', 'float', 'format', 'frozenset', 'get_ipython', 'getattr', 'globals', 'hasattr', 'hash', 'help', 'hex', 'id', 'input', 'int', 'isinstance', 'issubclass', 'iter', 'len', 'license', 'list', 'locals', 'map', 'max', 'memoryview', 'min', 'next', 'object', 'oct', 'open', 'ord', 'pow', 'print', 'property', 'range', 'repr', 'reversed', 'round', 'runfile', 'set', 'setattr', 'slice', 'sorted', 'staticmethod', 'str', 'sum', 'super', 'tuple', 'type', 'vars', 'zip']\n"
     ]
    }
   ],
   "source": [
    "print(len(dir(__builtins__))) # Number of python builtin functions\n",
    "print(dir(__builtins__))"
   ]
  },
  {
   "cell_type": "code",
   "execution_count": 6,
   "id": "345b02a6-e700-4c73-9917-8d15feaf7776",
   "metadata": {},
   "outputs": [
    {
     "name": "stdout",
     "output_type": "stream",
     "text": [
      "['ArithmeticError', 'AssertionError', 'AttributeError', 'BaseException', 'BlockingIOError', 'BrokenPipeError', 'BufferError', 'BytesWarning', 'ChildProcessError', 'ConnectionAbortedError', 'ConnectionError', 'ConnectionRefusedError', 'ConnectionResetError', 'DeprecationWarning', 'EOFError', 'Ellipsis', 'EnvironmentError', 'Exception', 'False', 'FileExistsError', 'FileNotFoundError', 'FloatingPointError', 'FutureWarning', 'GeneratorExit', 'IOError', 'ImportError', 'ImportWarning', 'IndentationError', 'IndexError', 'InterruptedError', 'IsADirectoryError', 'KeyError', 'KeyboardInterrupt', 'LookupError', 'MemoryError', 'ModuleNotFoundError', 'NameError', 'None', 'NotADirectoryError', 'NotImplemented', 'NotImplementedError', 'OSError', 'OverflowError', 'PendingDeprecationWarning', 'PermissionError', 'ProcessLookupError', 'RecursionError', 'ReferenceError', 'ResourceWarning', 'RuntimeError', 'RuntimeWarning', 'StopAsyncIteration', 'StopIteration', 'SyntaxError', 'SyntaxWarning', 'SystemError', 'SystemExit', 'TabError', 'TimeoutError', 'True', 'TypeError', 'UnboundLocalError', 'UnicodeDecodeError', 'UnicodeEncodeError', 'UnicodeError', 'UnicodeTranslateError', 'UnicodeWarning', 'UserWarning', 'ValueError', 'Warning', 'WindowsError', 'ZeroDivisionError', '__IPYTHON__', '__build_class__', '__debug__', '__doc__', '__import__', '__loader__', '__name__', '__package__', '__spec__', 'abs', 'all', 'any', 'ascii', 'bin', 'bool', 'breakpoint', 'bytearray', 'bytes', 'callable', 'chr', 'classmethod', 'compile', 'complex', 'copyright', 'credits', 'delattr', 'dict', 'dir', 'display', 'divmod', 'enumerate', 'eval', 'exec', 'execfile', 'filter', 'float', 'format', 'frozenset', 'get_ipython', 'getattr', 'globals', 'hasattr', 'hash', 'help', 'hex', 'id', 'input', 'int', 'isinstance', 'issubclass', 'iter', 'len', 'license', 'list', 'locals', 'map', 'max', 'memoryview', 'min', 'next', 'object', 'oct', 'open', 'ord', 'pow', 'print', 'property', 'range', 'repr', 'reversed', 'round', 'runfile', 'set', 'setattr', 'slice', 'sorted', 'staticmethod', 'str', 'sum', 'super', 'tuple', 'type', 'vars', 'zip']\n"
     ]
    }
   ],
   "source": [
    "builtin_funs = [x for x in dir(__builtins__) if not x.startswith(\"__\") or not x.endswith(\"Error\")]\n",
    "print(builtin_funs)"
   ]
  },
  {
   "cell_type": "code",
   "execution_count": 3,
   "id": "1c4d8430-9554-4a57-a082-da9287d638ed",
   "metadata": {},
   "outputs": [
    {
     "name": "stderr",
     "output_type": "stream",
     "text": [
      "<>:1: SyntaxWarning: 'bool' object is not callable; perhaps you missed a comma?\n",
      "<>:1: SyntaxWarning: 'bool' object is not callable; perhaps you missed a comma?\n",
      "C:\\Users\\Cube Statistica\\AppData\\Local\\Temp\\ipykernel_12436\\704655258.py:1: SyntaxWarning: 'bool' object is not callable; perhaps you missed a comma?\n",
      "  True()\n",
      "C:\\Users\\Cube Statistica\\AppData\\Local\\Temp\\ipykernel_12436\\704655258.py:1: SyntaxWarning: 'bool' object is not callable; perhaps you missed a comma?\n",
      "  True()\n",
      "C:\\Users\\Cube Statistica\\AppData\\Local\\Temp\\ipykernel_12436\\704655258.py:1: SyntaxWarning: 'bool' object is not callable; perhaps you missed a comma?\n",
      "  True()\n"
     ]
    },
    {
     "ename": "TypeError",
     "evalue": "'bool' object is not callable",
     "output_type": "error",
     "traceback": [
      "\u001b[1;31m---------------------------------------------------------------------------\u001b[0m",
      "\u001b[1;31mTypeError\u001b[0m                                 Traceback (most recent call last)",
      "Input \u001b[1;32mIn [3]\u001b[0m, in \u001b[0;36m<cell line: 1>\u001b[1;34m()\u001b[0m\n\u001b[1;32m----> 1\u001b[0m \u001b[38;5;28;43;01mTrue\u001b[39;49;00m\u001b[43m(\u001b[49m\u001b[43m)\u001b[49m\n",
      "\u001b[1;31mTypeError\u001b[0m: 'bool' object is not callable"
     ]
    }
   ],
   "source": []
  },
  {
   "cell_type": "markdown",
   "id": "3f4a7a5b-29ad-4418-99ae-ee5ef47983fa",
   "metadata": {},
   "source": [
    "# W 3 Schools Lessons"
   ]
  },
  {
   "cell_type": "markdown",
   "id": "487ebca0-c442-48a0-b4fc-c1f30c8c323c",
   "metadata": {},
   "source": [
    "#### Multi-assignment in python"
   ]
  },
  {
   "cell_type": "code",
   "execution_count": 3,
   "id": "b1567808-197f-4508-bce4-92cc30d0449c",
   "metadata": {},
   "outputs": [
    {
     "name": "stdout",
     "output_type": "stream",
     "text": [
      "1 2 3\n"
     ]
    }
   ],
   "source": [
    "x, y, z, = 1, 2, 3\n",
    "print(x, y, z)"
   ]
  },
  {
   "cell_type": "markdown",
   "id": "b2ac68be-27cf-43a0-be32-d17c17c5e73f",
   "metadata": {},
   "source": [
    "#### Unpack a Collection\n",
    "\n",
    "If you have a collection of values in a list, tuple etc. Python allows you to extract the values into variables. This is called unpacking."
   ]
  },
  {
   "cell_type": "code",
   "execution_count": null,
   "id": "8a6d3940-5408-4747-88f5-3dab1e192539",
   "metadata": {},
   "outputs": [],
   "source": [
    "fruits = [\"apple\", \"banana\", \"cherry\"]\n",
    "x, y, z = fruits\n",
    "print(x)\n",
    "print(y)\n",
    "print(z)"
   ]
  },
  {
   "cell_type": "markdown",
   "id": "92caaaa7-a64a-4104-8419-7d23e4a046be",
   "metadata": {},
   "source": [
    "Built-in Data Types\n",
    "In programming, data type is an important concept.\n",
    "\n",
    "Variables can store data of different types, and different types can do different things.\n",
    "\n",
    "Python has the following data types built-in by default, in these categories:\n",
    "\n",
    "1. Text Type:\tstr\n",
    "2. Numeric Types:\tint, float, complex\n",
    "3. Sequence Types:\tlist, tuple, range\n",
    "4. Mapping Type:\tdict\n",
    "5. Set Types:\tset, frozenset\n",
    "6. Boolean Type:\tbool\n",
    "7. Binary Types:\tbytes, bytearray, memoryview\n",
    "8. None Type:\tNoneType"
   ]
  },
  {
   "cell_type": "code",
   "execution_count": null,
   "id": "96f30a78-2be8-428d-9c0a-f25a58cf02ef",
   "metadata": {},
   "outputs": [],
   "source": [
    "x = 1    # int\n",
    "y = 2.8  # float\n",
    "z = 1j   # complex"
   ]
  },
  {
   "cell_type": "markdown",
   "id": "fae8e07b-56f0-49c8-bdb5-ed01c9d6e873",
   "metadata": {},
   "source": [
    "#### Float and scientific notation for writing floats\n",
    "\n",
    "Float can also be scientific numbers with an \"e\" or \"E\" to indicate the power of 10."
   ]
  },
  {
   "cell_type": "code",
   "execution_count": 21,
   "id": "644c8437-3d37-477d-821f-1931626d8291",
   "metadata": {},
   "outputs": [
    {
     "name": "stdout",
     "output_type": "stream",
     "text": [
      "35000.0 \n",
      " 120000.0 \n",
      " -8.77e+101\n"
     ]
    }
   ],
   "source": [
    "x = 35e3\n",
    "y = 12E4\n",
    "z = -87.7e100\n",
    "\n",
    "print(x, \"\\n\", y, \"\\n\", z)"
   ]
  },
  {
   "cell_type": "code",
   "execution_count": 10,
   "id": "ea051b9a-4e7f-4c2a-a14d-756c141509c9",
   "metadata": {},
   "outputs": [
    {
     "name": "stdout",
     "output_type": "stream",
     "text": [
      "Did not define the dict correctly. \n",
      "\n",
      "{'name': 'Faizan', 'age': 34}\n",
      "Learning with errors. \n",
      "\n"
     ]
    }
   ],
   "source": [
    "# Get the datatype\n",
    "try:\n",
    "    x1 = {name:\"Faizan\", \"age\":34}\n",
    "except:\n",
    "    print(\"Did not define the dict correctly.\", \"\\n\")\n",
    "\n",
    "x1 = {\"name\":\"Faizan\", \"age\":34}\n",
    "print(x1)\n",
    "\n",
    "try:\n",
    "    for obj in list:\n",
    "        try:\n",
    "            print(type(obj))\n",
    "        except:\n",
    "            print(\"The obj is not assinged anything.|\")\n",
    "except:\n",
    "    print(\"Learning with errors.\", \"\\n\")"
   ]
  },
  {
   "cell_type": "markdown",
   "id": "5ad75eec-bdae-48e9-a27e-9f08d9e49422",
   "metadata": {},
   "source": [
    "#### The correct way of creating a dictionary obj\n",
    "\n",
    "Use this `x = dict(name = \"Faizan\", age = 34)`\n",
    "\n",
    "Instead of `x = {\"name\" = \"Faizan\", \"age\" = 34}`\n",
    "\n",
    "There is a lot less typing invovled in the first method. Also, not making the key a string feels more natural to me, though for automation it is of course better to have the key entered as a string. Also, using the equal sign `=` instead of the colon `:` for linking the key with the value also feels more natural.\n"
   ]
  },
  {
   "cell_type": "code",
   "execution_count": 11,
   "id": "b41855f6-cad2-429f-88fb-f8bc7d77294d",
   "metadata": {},
   "outputs": [
    {
     "name": "stdout",
     "output_type": "stream",
     "text": [
      "{'name': 'John', 'age': 36} <class 'dict'>\n"
     ]
    }
   ],
   "source": [
    "x = dict(name=\"John\", age=36)\n",
    "print(x, type(x))"
   ]
  },
  {
   "cell_type": "code",
   "execution_count": 3,
   "id": "239fd189-6ce4-4b4b-bbe8-f4f381f5140c",
   "metadata": {},
   "outputs": [
    {
     "data": {
      "text/plain": [
       "<memory at 0x000001D0F82F1C40>"
      ]
     },
     "execution_count": 3,
     "metadata": {},
     "output_type": "execute_result"
    }
   ],
   "source": [
    "x = memoryview(bytes(5))\n",
    "x"
   ]
  },
  {
   "cell_type": "markdown",
   "id": "8eb78618-b03c-44f2-b973-5d0f5f7983e4",
   "metadata": {},
   "source": [
    "### Random Numbers in Python\n",
    "\n",
    "Python does not have a random() function to make a random number, but Python has a built-in module called random that can be used to make random numbers:\n",
    "Import the random module, and display a random number between 1 and 9:"
   ]
  },
  {
   "cell_type": "code",
   "execution_count": 22,
   "id": "dc06d465-b490-4504-b4a9-4a580d96c56d",
   "metadata": {},
   "outputs": [
    {
     "name": "stdout",
     "output_type": "stream",
     "text": [
      "1\n"
     ]
    }
   ],
   "source": [
    "import random\n",
    "\n",
    "print(random.randrange(1, 10))"
   ]
  },
  {
   "cell_type": "markdown",
   "id": "4b3a4d35-cb2c-4020-841f-dcb1896d178a",
   "metadata": {},
   "source": [
    "## Strings, String Methods, and manipulation in python\n",
    "\n",
    "String manipulation is amazing in python. It is next level in my humble opinion."
   ]
  },
  {
   "cell_type": "code",
   "execution_count": 23,
   "id": "34d71cd4-afad-4b03-8970-5e0773a1188c",
   "metadata": {},
   "outputs": [
    {
     "name": "stdout",
     "output_type": "stream",
     "text": [
      "True\n"
     ]
    }
   ],
   "source": [
    "txt = \"The best things in life are free!\"\n",
    "print(\"free\" in txt)"
   ]
  },
  {
   "cell_type": "code",
   "execution_count": 24,
   "id": "4e86b627-2c0e-4ff3-b77b-dabf1e9b35c8",
   "metadata": {},
   "outputs": [
    {
     "name": "stdout",
     "output_type": "stream",
     "text": [
      "Yes, 'free' is present.\n"
     ]
    }
   ],
   "source": [
    "txt = \"The best things in life are free!\"\n",
    "if \"free\" in txt:\n",
    "  print(\"Yes, 'free' is present.\")"
   ]
  },
  {
   "cell_type": "code",
   "execution_count": null,
   "id": "e4a41015-b34e-4ae4-8ba9-8fd3e4a2e8b4",
   "metadata": {},
   "outputs": [],
   "source": [
    "txt = \"The best things in life are free!\"\n",
    "print(\"expensive\" not in txt)"
   ]
  },
  {
   "cell_type": "code",
   "execution_count": null,
   "id": "5ef527ac-7eb4-4407-9582-462a3bd7a904",
   "metadata": {},
   "outputs": [],
   "source": [
    "txt = \"The best things in life are free!\"\n",
    "if \"expensive\" not in txt:\n",
    "  print(\"No, 'expensive' is NOT present.\")"
   ]
  },
  {
   "cell_type": "code",
   "execution_count": null,
   "id": "301f90e3-e57d-4225-8aee-7aa140faa428",
   "metadata": {},
   "outputs": [],
   "source": [
    "a = \"Hello, World!\"\n",
    "print(a.upper())"
   ]
  },
  {
   "cell_type": "code",
   "execution_count": null,
   "id": "c0a5d932-3d22-4c8e-8769-0949433f62c0",
   "metadata": {},
   "outputs": [],
   "source": [
    "a = \"Hello, World!\"\n",
    "print(a.lower())"
   ]
  },
  {
   "cell_type": "code",
   "execution_count": null,
   "id": "ef8016b5-4f17-49f9-bbbd-c098d860b456",
   "metadata": {},
   "outputs": [],
   "source": [
    "a = \" Hello, World! \"\n",
    "print(a.strip()) # returns \"Hello, World!\""
   ]
  },
  {
   "cell_type": "code",
   "execution_count": null,
   "id": "e95d8d42-7e76-456d-ae62-c4f0e5a9f6c3",
   "metadata": {},
   "outputs": [],
   "source": [
    "a = \"Hello, World!\"\n",
    "print(a.replace(\"H\", \"J\"))"
   ]
  },
  {
   "cell_type": "code",
   "execution_count": null,
   "id": "9720ced6-b4bc-4e50-a268-3e7f39909c62",
   "metadata": {},
   "outputs": [],
   "source": [
    "a = \"Hello, World!\"\n",
    "print(a.split(\",\")) # returns ['Hello', ' World!']"
   ]
  },
  {
   "cell_type": "code",
   "execution_count": null,
   "id": "18c8a596-8a6e-4d7e-910e-054ff1e6a119",
   "metadata": {},
   "outputs": [],
   "source": []
  },
  {
   "cell_type": "code",
   "execution_count": 25,
   "id": "647a84e7-ed62-4fa5-9721-fdf886d34749",
   "metadata": {},
   "outputs": [
    {
     "ename": "TypeError",
     "evalue": "can only concatenate str (not \"int\") to str",
     "output_type": "error",
     "traceback": [
      "\u001b[1;31m---------------------------------------------------------------------------\u001b[0m",
      "\u001b[1;31mTypeError\u001b[0m                                 Traceback (most recent call last)",
      "Input \u001b[1;32mIn [25]\u001b[0m, in \u001b[0;36m<cell line: 2>\u001b[1;34m()\u001b[0m\n\u001b[0;32m      1\u001b[0m age \u001b[38;5;241m=\u001b[39m \u001b[38;5;241m36\u001b[39m\n\u001b[1;32m----> 2\u001b[0m txt \u001b[38;5;241m=\u001b[39m \u001b[38;5;124;43m\"\u001b[39;49m\u001b[38;5;124;43mMy name is John, I am \u001b[39;49m\u001b[38;5;124;43m\"\u001b[39;49m\u001b[43m \u001b[49m\u001b[38;5;241;43m+\u001b[39;49m\u001b[43m \u001b[49m\u001b[43mage\u001b[49m\n\u001b[0;32m      3\u001b[0m \u001b[38;5;28mprint\u001b[39m(txt)\n",
      "\u001b[1;31mTypeError\u001b[0m: can only concatenate str (not \"int\") to str"
     ]
    }
   ],
   "source": [
    "age = 36\n",
    "txt = \"My name is John, I am \" + age\n",
    "print(txt)"
   ]
  },
  {
   "cell_type": "markdown",
   "id": "1c62e075-1861-4461-9deb-ef801afdb8b7",
   "metadata": {},
   "source": [
    "We can combine strings and numbers by using the format() method!\n",
    "\n",
    "The format() method takes the passed arguments, formats them, and places them in the string where the placeholders {} are:"
   ]
  },
  {
   "cell_type": "code",
   "execution_count": null,
   "id": "ac23dafb-9940-48d9-beca-858307b049be",
   "metadata": {},
   "outputs": [],
   "source": [
    "age = 36\n",
    "txt = \"My name is John, and I am {}\"\n",
    "print(txt.format(age))"
   ]
  },
  {
   "cell_type": "code",
   "execution_count": null,
   "id": "544ebd23-c21e-41fc-8598-44a00be5bacf",
   "metadata": {},
   "outputs": [],
   "source": []
  },
  {
   "cell_type": "markdown",
   "id": "b6adb186-d6e6-4c36-930a-953743d2d85f",
   "metadata": {},
   "source": [
    "The format() method takes unlimited number of arguments, and are placed into the respective placeholders:"
   ]
  },
  {
   "cell_type": "code",
   "execution_count": 26,
   "id": "9c583940-0ad1-4bbe-b91a-a37b6074ad2c",
   "metadata": {},
   "outputs": [
    {
     "name": "stdout",
     "output_type": "stream",
     "text": [
      "I want 3 pieces of item 567 for 49.95 dollars.\n"
     ]
    }
   ],
   "source": [
    "quantity = 3\n",
    "itemno = 567\n",
    "price = 49.95\n",
    "myorder = \"I want {} pieces of item {} for {} dollars.\"\n",
    "print(myorder.format(quantity, itemno, price))"
   ]
  },
  {
   "cell_type": "markdown",
   "id": "3a4c0d6f-7fa4-4974-bb0a-6bbd42f6e697",
   "metadata": {},
   "source": [
    "You can use index numbers {0} to be sure the arguments are placed in the correct placeholders:"
   ]
  },
  {
   "cell_type": "code",
   "execution_count": 27,
   "id": "9cb50f31-3cbf-43f4-803d-07de173915fd",
   "metadata": {},
   "outputs": [
    {
     "name": "stdout",
     "output_type": "stream",
     "text": [
      "I want to pay 49.95 dollars for 3 pieces of item 567.\n"
     ]
    }
   ],
   "source": [
    "quantity = 3\n",
    "itemno = 567\n",
    "price = 49.95\n",
    "myorder = \"I want to pay {2} dollars for {0} pieces of item {1}.\"\n",
    "print(myorder.format(quantity, itemno, price))"
   ]
  },
  {
   "cell_type": "code",
   "execution_count": null,
   "id": "cafbd77d-ad39-4815-87c6-2dd156febf22",
   "metadata": {},
   "outputs": [],
   "source": []
  },
  {
   "cell_type": "markdown",
   "id": "6ed24226-a7fb-4016-9653-5c3f11e371dc",
   "metadata": {},
   "source": [
    "To insert characters that are illegal in a string, use an escape character.\n",
    "\n",
    "An escape character is a backslash \\ followed by the character you want to insert.\n",
    "\n",
    "An example of an illegal character is a double quote inside a string that is surrounded by double quotes:"
   ]
  },
  {
   "cell_type": "code",
   "execution_count": 28,
   "id": "06f863c8-4c1c-48b2-803d-c39d0892d8cc",
   "metadata": {},
   "outputs": [
    {
     "ename": "SyntaxError",
     "evalue": "invalid syntax (7934146.py, line 1)",
     "output_type": "error",
     "traceback": [
      "\u001b[1;36m  Input \u001b[1;32mIn [28]\u001b[1;36m\u001b[0m\n\u001b[1;33m    txt = \"We are the so-called \"Vikings\" from the north.\"\u001b[0m\n\u001b[1;37m                                 ^\u001b[0m\n\u001b[1;31mSyntaxError\u001b[0m\u001b[1;31m:\u001b[0m invalid syntax\n"
     ]
    }
   ],
   "source": [
    "txt = \"We are the so-called \"Vikings\" from the north.\""
   ]
  },
  {
   "cell_type": "code",
   "execution_count": 30,
   "id": "ad3439a3-5140-4602-ae6e-676332aa745f",
   "metadata": {},
   "outputs": [
    {
     "name": "stdout",
     "output_type": "stream",
     "text": [
      "We are the so-called \"Vikings\" from the north.\n"
     ]
    }
   ],
   "source": [
    "txt = \"We are the so-called \\\"Vikings\\\" from the north.\"\n",
    "print(txt)"
   ]
  },
  {
   "cell_type": "markdown",
   "id": "bb9920b7-003b-4ef4-b8cc-c1bca474faca",
   "metadata": {},
   "source": [
    "Illegal characters\n",
    "\n",
    "\\'\tSingle Quote\t\n",
    "\\\\\tBackslash\t\n",
    "\\n\tNew Line\t\n",
    "\\r\tCarriage Return\t\n",
    "\\t\tTab\t\n",
    "\\b\tBackspace\t\n",
    "\\f\tForm Feed\t\n",
    "\\ooo\tOctal value\t\n",
    "\\xhh\tHex value"
   ]
  },
  {
   "cell_type": "markdown",
   "id": "f24453c8-42ba-4e4a-9c60-7b288ed80906",
   "metadata": {},
   "source": [
    "Method\tDescription\n",
    "* capitalize()\tConverts the first character to upper case\n",
    "* casefold()\tConverts string into lower case\n",
    "* center()\tReturns a centered string\n",
    "* count()\tReturns the number of times a specified value occurs in a string\n",
    "* encode()\tReturns an encoded version of the string\n",
    "* endswith()\tReturns true if the string ends with the specified value\n",
    "* expandtabs()\tSets the tab size of the string\n",
    "* find()\tSearches the string for a specified value and returns the position of where it was found\n",
    "* format()\tFormats specified values in a string\n",
    "* format_map()\tFormats specified values in a string\n",
    "* index()\tSearches the string for a specified value and returns the position of where it was found\n",
    "* isalnum()\tReturns True if all characters in the string are alphanumeric\n",
    "* isalpha()\tReturns True if all characters in the string are in the alphabet\n",
    "* isdecimal()\tReturns True if all characters in the string are decimals\n",
    "* isdigit()\tReturns True if all characters in the string are digits\n",
    "* isidentifier()\tReturns True if the string is an identifier\n",
    "* islower()\tReturns True if all characters in the string are lower case\n",
    "* isnumeric()\tReturns True if all characters in the string are numeric\n",
    "* isprintable()\tReturns True if all characters in the string are printable\n",
    "* isspace()\tReturns True if all characters in the string are whitespaces\n",
    "* istitle()\tReturns True if the string follows the rules of a title\n",
    "* isupper()\tReturns True if all characters in the string are upper case\n",
    "* join()\tJoins the elements of an iterable to the end of the string\n",
    "* ljust()\tReturns a left justified version of the string\n",
    "* lower()\tConverts a string into lower case\n",
    "* lstrip()\tReturns a left trim version of the string\n",
    "* maketrans()\tReturns a translation table to be used in translations\n",
    "* partition()\tReturns a tuple where the string is parted into three parts\n",
    "* replace()\tReturns a string where a specified value is replaced with a specified value\n",
    "* rfind()\tSearches the string for a specified value and returns the last position of where it was found\n",
    "* rindex()\tSearches the string for a specified value and returns the last position of where it was found\n",
    "* rjust()\tReturns a right justified version of the string\n",
    "* rpartition()\tReturns a tuple where the string is parted into three parts\n",
    "* rsplit()\tSplits the string at the specified separator, and returns a list\n",
    "* rstrip()\tReturns a right trim version of the string\n",
    "* split()\tSplits the string at the specified separator, and returns a list\n",
    "* splitlines()\tSplits the string at line breaks and returns a list\n",
    "* startswith()\tReturns true if the string starts with the specified value\n",
    "* strip()\tReturns a trimmed version of the string\n",
    "* swapcase()\tSwaps cases, lower case becomes upper case and vice versa\n",
    "* title()\tConverts the first character of each word to upper case\n",
    "* translate()\tReturns a translated string\n",
    "* upper()\tConverts a string into upper case\n",
    "* zfill()\tFills the string with a specified number of 0 values at the beginning"
   ]
  },
  {
   "cell_type": "code",
   "execution_count": null,
   "id": "0cb083ed-4612-41c2-b14d-464b7ea01d01",
   "metadata": {},
   "outputs": [],
   "source": []
  },
  {
   "cell_type": "code",
   "execution_count": null,
   "id": "3549ebb5-d468-43d9-af63-bdcd271f42a6",
   "metadata": {},
   "outputs": [],
   "source": []
  },
  {
   "cell_type": "markdown",
   "id": "5c6c352b-71ad-4b25-a8bd-3f6516248b31",
   "metadata": {},
   "source": [
    "## Format String {}\n",
    "\n",
    "Index Numbers\n",
    "You can use index numbers (a number inside the curly brackets {0}) to be sure the values are placed in the correct placeholders:"
   ]
  },
  {
   "cell_type": "code",
   "execution_count": 2,
   "id": "ad8c9cd0-5f33-4e3a-9eac-925130cee2b2",
   "metadata": {},
   "outputs": [
    {
     "name": "stdout",
     "output_type": "stream",
     "text": [
      "I want 3 pieces of item number 567 for 49.00 dollars.\n"
     ]
    }
   ],
   "source": [
    "quantity = 3\n",
    "itemno = 567\n",
    "price = 49\n",
    "myorder = \"I want {0} pieces of item number {1} for {2:.2f} dollars.\"\n",
    "print(myorder.format(quantity, itemno, price))"
   ]
  },
  {
   "cell_type": "markdown",
   "id": "ab7c15c6-921e-46f9-b850-ef6b49c35362",
   "metadata": {},
   "source": [
    "Also, if you want to refer to the same value more than once, use the index number:"
   ]
  },
  {
   "cell_type": "code",
   "execution_count": 3,
   "id": "5fc0bc94-b8f8-414d-8ff0-489bd04ac8dd",
   "metadata": {},
   "outputs": [
    {
     "name": "stdout",
     "output_type": "stream",
     "text": [
      "His name is John. John is 36 years old.\n"
     ]
    }
   ],
   "source": [
    "age = 36\n",
    "name = \"John\"\n",
    "txt = \"His name is {1}. {1} is {0} years old.\"\n",
    "print(txt.format(age, name))"
   ]
  },
  {
   "cell_type": "markdown",
   "id": "436f70e1-5a5f-465d-9ce0-697055fa043c",
   "metadata": {},
   "source": [
    "### Named Indexes\n",
    "You can also use named indexes by entering a name inside the curly brackets {carname}, but then you must use names when you pass the parameter values txt.format(carname = \"Ford\"):"
   ]
  },
  {
   "cell_type": "code",
   "execution_count": 4,
   "id": "1b2e9391-d7ad-447f-b9c3-dce67b52a1a3",
   "metadata": {},
   "outputs": [
    {
     "name": "stdout",
     "output_type": "stream",
     "text": [
      "I have a Ford, it is a Mustang.\n"
     ]
    }
   ],
   "source": [
    "myorder = \"I have a {carname}, it is a {model}.\"\n",
    "print(myorder.format(carname = \"Ford\", model = \"Mustang\"))"
   ]
  },
  {
   "cell_type": "code",
   "execution_count": null,
   "id": "5bf3fc1f-5d0c-4337-bbda-1bdad80e4390",
   "metadata": {},
   "outputs": [],
   "source": []
  },
  {
   "cell_type": "code",
   "execution_count": null,
   "id": "4a8ace5e-1059-43c7-adca-51bc005ec0b6",
   "metadata": {},
   "outputs": [],
   "source": []
  },
  {
   "cell_type": "code",
   "execution_count": null,
   "id": "07e89c92-8a20-458e-8dae-9a3db8c46bf9",
   "metadata": {},
   "outputs": [],
   "source": []
  },
  {
   "cell_type": "code",
   "execution_count": null,
   "id": "094de06a-cca1-4ead-949b-be38c90bc022",
   "metadata": {},
   "outputs": [],
   "source": []
  },
  {
   "cell_type": "markdown",
   "id": "c867378b-9407-4c6f-ae5a-d99d274d4446",
   "metadata": {},
   "source": [
    "## Boolians"
   ]
  },
  {
   "cell_type": "code",
   "execution_count": 1,
   "id": "d5fb738c-12aa-4aa3-abe4-cd44ef6f77f9",
   "metadata": {},
   "outputs": [
    {
     "name": "stdout",
     "output_type": "stream",
     "text": [
      "True\n",
      "True\n"
     ]
    }
   ],
   "source": [
    "print(bool(\"Hello\"))\n",
    "print(bool(15))"
   ]
  },
  {
   "cell_type": "code",
   "execution_count": 9,
   "id": "110f6f79-f68d-426f-a43b-45e6cef83888",
   "metadata": {},
   "outputs": [
    {
     "name": "stdout",
     "output_type": "stream",
     "text": [
      "Hello 15 -1  0 None\n",
      "True True True False False False\n"
     ]
    }
   ],
   "source": [
    "x, y, z, z1, z2, z3 = \"Hello\", 15, -1, \"\", 0, None\n",
    "print(x, y, z, z1, z2, z3)\n",
    "print( bool(x), bool(y), bool(z), bool(z1), bool(z2), bool(z3) )\n",
    "\n"
   ]
  },
  {
   "cell_type": "markdown",
   "id": "fe081d8f-96b1-4a1e-bd29-010bd41fb967",
   "metadata": {
    "tags": []
   },
   "source": [
    "In fact, there are not many values that evaluate to False, except empty values, such as (), [], {}, \"\", the number 0, and the value None. And of course the value False evaluates to False."
   ]
  },
  {
   "cell_type": "markdown",
   "id": "f88aff7c-a352-4db1-9eca-056df12ce83e",
   "metadata": {},
   "source": [
    "One more value, or object in this case, evaluates to False, and that is if you have an object that is made from a class with a __len__ function that returns 0 or False:"
   ]
  },
  {
   "cell_type": "code",
   "execution_count": 11,
   "id": "e44cd89d-71f9-44cf-8523-158c1c451556",
   "metadata": {},
   "outputs": [
    {
     "name": "stdout",
     "output_type": "stream",
     "text": [
      "False\n"
     ]
    }
   ],
   "source": [
    "class myclass():\n",
    "  def __len__(self):\n",
    "    return 0\n",
    "\n",
    "myobj = myclass()\n",
    "print(bool(myobj))"
   ]
  },
  {
   "cell_type": "markdown",
   "id": "725cbc3f-204e-4151-bbd6-e5b19231f346",
   "metadata": {},
   "source": [
    "## Functions Can also return Boolans\n",
    "You can create functions that returns a Boolean Value:"
   ]
  },
  {
   "cell_type": "code",
   "execution_count": null,
   "id": "d4618ccb-bdad-4908-8606-b19ab0601337",
   "metadata": {},
   "outputs": [],
   "source": []
  },
  {
   "cell_type": "markdown",
   "id": "96d92c65-445e-44b3-bf03-2fa4859d68ff",
   "metadata": {},
   "source": [
    "Also, You can execute code based on the Boolean answer of a function:  !!!!"
   ]
  },
  {
   "cell_type": "code",
   "execution_count": 12,
   "id": "2d297211-73c9-4c69-824a-359d60fd3d7a",
   "metadata": {},
   "outputs": [
    {
     "name": "stdout",
     "output_type": "stream",
     "text": [
      "YES!\n"
     ]
    }
   ],
   "source": [
    "def myFunction() :\n",
    "  return True\n",
    "\n",
    "if myFunction():\n",
    "  print(\"YES!\")\n",
    "else:\n",
    "  print(\"NO!\")"
   ]
  },
  {
   "cell_type": "markdown",
   "id": "953e32a5-44c7-4a46-8b12-29108e619790",
   "metadata": {},
   "source": [
    "Python also has many built-in functions that return a boolean value, like the isinstance() function, which can be used to determine if an object is of a certain data type:\n",
    "\n",
    "This is useful for automation where the type and the obj can be passed into the function isinstance():"
   ]
  },
  {
   "cell_type": "code",
   "execution_count": 13,
   "id": "e17616d1-19a7-4bc0-8288-46e1f491c481",
   "metadata": {},
   "outputs": [
    {
     "name": "stdout",
     "output_type": "stream",
     "text": [
      "True\n"
     ]
    }
   ],
   "source": [
    "x = 200\n",
    "print(isinstance(x, int))"
   ]
  },
  {
   "cell_type": "markdown",
   "id": "8ca206ed-2a6b-4349-8ab2-65fe68010fc6",
   "metadata": {},
   "source": [
    "## Python divides the operators in the following groups:\n",
    "\n",
    "* Arithmetic operators\n",
    "* Assignment operators\n",
    "* Comparison operators\n",
    "* Logical operators\n",
    "* Identity operators\n",
    "* Membership operators\n",
    "* Bitwise operators"
   ]
  },
  {
   "cell_type": "markdown",
   "id": "e56b869f-e2bc-4cfb-b71b-82832878adcb",
   "metadata": {},
   "source": [
    "%\t         Modulus\t     x % y This is the remainder operator the percent sign %\n"
   ]
  },
  {
   "cell_type": "code",
   "execution_count": 14,
   "id": "9bcedd9c-a67e-4398-ae50-69c114b3f636",
   "metadata": {},
   "outputs": [
    {
     "data": {
      "text/plain": [
       "0"
      ]
     },
     "execution_count": 14,
     "metadata": {},
     "output_type": "execute_result"
    }
   ],
   "source": [
    "4%2"
   ]
  },
  {
   "cell_type": "code",
   "execution_count": 15,
   "id": "e246a51e-c1db-47d6-acad-bcdac1be796b",
   "metadata": {},
   "outputs": [
    {
     "data": {
      "text/plain": [
       "1"
      ]
     },
     "execution_count": 15,
     "metadata": {},
     "output_type": "execute_result"
    }
   ],
   "source": [
    "5%2"
   ]
  },
  {
   "cell_type": "code",
   "execution_count": 16,
   "id": "9439fe88-e125-4d10-adc2-bb291e23da8d",
   "metadata": {},
   "outputs": [
    {
     "data": {
      "text/plain": [
       "1"
      ]
     },
     "execution_count": 16,
     "metadata": {},
     "output_type": "execute_result"
    }
   ],
   "source": [
    "15%2"
   ]
  },
  {
   "cell_type": "markdown",
   "id": "90d354ee-b355-4c24-b8be-0d2869d1c6f5",
   "metadata": {},
   "source": [
    "//\tFloor division\tx // y"
   ]
  },
  {
   "cell_type": "code",
   "execution_count": 20,
   "id": "40c8f8f5-be32-4b38-b779-33b7d38c56dc",
   "metadata": {},
   "outputs": [
    {
     "data": {
      "text/plain": [
       "(2, 1, 2, 7)"
      ]
     },
     "execution_count": 20,
     "metadata": {},
     "output_type": "execute_result"
    }
   ],
   "source": [
    "4//2, 3//2, 5//2, 15//2"
   ]
  },
  {
   "cell_type": "code",
   "execution_count": 23,
   "id": "d1202a82-9e96-432e-82b6-543909e1f39d",
   "metadata": {},
   "outputs": [
    {
     "name": "stdout",
     "output_type": "stream",
     "text": [
      "Yes, apple is a fruit!\n"
     ]
    }
   ],
   "source": [
    "fruits = [\"apple\", \"banana\"]\n",
    "if \"apple\" in fruits:\n",
    "    print(\"Yes, apple is a fruit!\")"
   ]
  },
  {
   "cell_type": "code",
   "execution_count": null,
   "id": "860c7243-b521-4836-9ad5-2b83b2500cf3",
   "metadata": {},
   "outputs": [],
   "source": []
  },
  {
   "cell_type": "markdown",
   "id": "5f463b2d-f3a9-4ee4-87b9-87879ff142c9",
   "metadata": {},
   "source": [
    "## Lists Allow Duplicates\n",
    "Since lists are indexed, lists can have items with the same value:"
   ]
  },
  {
   "cell_type": "code",
   "execution_count": 24,
   "id": "de642e1a-9532-45ba-a05d-14945b7f26f5",
   "metadata": {},
   "outputs": [
    {
     "data": {
      "text/plain": [
       "['apple', 'banana', 'cherry', 'apple', 'cherry']"
      ]
     },
     "execution_count": 24,
     "metadata": {},
     "output_type": "execute_result"
    }
   ],
   "source": [
    "[\"apple\", \"banana\", \"cherry\", \"apple\", \"cherry\"]"
   ]
  },
  {
   "cell_type": "markdown",
   "id": "83dd9ce6-8a57-4a07-bc65-0c8b254ac002",
   "metadata": {},
   "source": [
    "A list can contain different data types:"
   ]
  },
  {
   "cell_type": "code",
   "execution_count": 25,
   "id": "6d5b842a-b621-4936-b558-2f7dde236f3b",
   "metadata": {},
   "outputs": [
    {
     "data": {
      "text/plain": [
       "['abc', 34, True, 40, 'male']"
      ]
     },
     "execution_count": 25,
     "metadata": {},
     "output_type": "execute_result"
    }
   ],
   "source": [
    "[\"abc\", 34, True, 40, \"male\"]"
   ]
  },
  {
   "cell_type": "markdown",
   "id": "460828a6-e6eb-4864-9b8a-0337c86a760b",
   "metadata": {},
   "source": [
    "## Python Collections (Arrays) Summary\n",
    "\n",
    "There are four collection data types in the Python programming language:\n",
    "\n",
    "- **List** is a collection which is ordered and changeable. Allows duplicate members.\n",
    "- **Tuple** is a collection which is ordered and unchangeable. Allows duplicate members.\n",
    "- **Set** is a collection which is unordered, unchangeable**, and unindexed. No duplicate members.\n",
    "- **Dictionary** is a collection which is ordered*** and changeable. No duplicate members.\n",
    "\n",
    "** Set items are unchangeable, but you can remove and/or add items whenever you like.\n",
    "\n",
    "*** As of Python version 3.7, dictionaries are ordered. In Python 3.6 and earlier, dictionaries are unordered."
   ]
  },
  {
   "cell_type": "code",
   "execution_count": 27,
   "id": "5c1d6fff-8575-4bbd-8cfa-b8fddf23664c",
   "metadata": {},
   "outputs": [
    {
     "name": "stdout",
     "output_type": "stream",
     "text": [
      "['cherry', 'orange', 'kiwi']\n"
     ]
    }
   ],
   "source": [
    "thislist = [\"apple\", \"banana\", \"cherry\", \"orange\", \"kiwi\", \"melon\", \"mango\"]\n",
    "print(thislist[2:5])"
   ]
  },
  {
   "cell_type": "markdown",
   "id": "30c5e263-c1da-499a-860a-4f0b9f7b9386",
   "metadata": {},
   "source": [
    "This example returns the items from \"orange\" (-4) to, but NOT including \"mango\" (-1):"
   ]
  },
  {
   "cell_type": "code",
   "execution_count": 28,
   "id": "73c0404f-f385-4c00-8e66-e1ad8868dd70",
   "metadata": {},
   "outputs": [
    {
     "name": "stdout",
     "output_type": "stream",
     "text": [
      "['orange', 'kiwi', 'melon']\n"
     ]
    }
   ],
   "source": [
    "thislist = [\"apple\", \"banana\", \"cherry\", \"orange\", \"kiwi\", \"melon\", \"mango\"]\n",
    "print(thislist[-4:-1])"
   ]
  },
  {
   "cell_type": "code",
   "execution_count": null,
   "id": "a351e2c2-6d4d-4e1f-a923-5229e9640f96",
   "metadata": {},
   "outputs": [],
   "source": []
  },
  {
   "cell_type": "markdown",
   "id": "c7f2eff7-780e-4eaa-a65d-20eb5e1c5467",
   "metadata": {},
   "source": [
    "## List Methods\n",
    "\n",
    "### Sort()\n",
    "\n",
    "This reverse argument can be very usefull: `thislist.sort(reverse = True)`"
   ]
  },
  {
   "cell_type": "code",
   "execution_count": 36,
   "id": "6441306d-5272-43d1-a2ae-51e3c5c53b19",
   "metadata": {},
   "outputs": [
    {
     "name": "stdout",
     "output_type": "stream",
     "text": [
      "['pineapple', 'orange', 'mango', 'kiwi', 'banana']\n"
     ]
    }
   ],
   "source": [
    "thislist = [\"orange\", \"mango\", \"kiwi\", \"pineapple\", \"banana\"]\n",
    "thislist.sort(reverse = True)\n",
    "print(thislist)"
   ]
  },
  {
   "cell_type": "markdown",
   "id": "66f25f63-c268-4ccf-a024-b5dd39b4687f",
   "metadata": {},
   "source": [
    "## Append Items"
   ]
  },
  {
   "cell_type": "code",
   "execution_count": 34,
   "id": "a636fdbd-d9cf-4fe9-9ef3-6b19c3403a77",
   "metadata": {},
   "outputs": [
    {
     "name": "stdout",
     "output_type": "stream",
     "text": [
      "['apple', 'banana', 'cherry', 'orange']\n"
     ]
    }
   ],
   "source": [
    "# We can append\n",
    "thislist = [\"apple\", \"banana\", \"cherry\"]\n",
    "thislist.append(\"orange\")\n",
    "print(thislist)"
   ]
  },
  {
   "cell_type": "markdown",
   "id": "4d64caec-0f74-412a-8238-f24871ab5c97",
   "metadata": {},
   "source": [
    "## Insert Items\n",
    "\n",
    "To insert a new list item, without replacing any of the existing values, we can use the insert() method.\n",
    "\n",
    "The insert() method inserts an item at the specified index:"
   ]
  },
  {
   "cell_type": "code",
   "execution_count": 35,
   "id": "59e4d10e-d691-42ec-809a-5d1ccff05dac",
   "metadata": {},
   "outputs": [
    {
     "name": "stdout",
     "output_type": "stream",
     "text": [
      "['apple', 'banana', 'watermelon', 'cherry']\n"
     ]
    }
   ],
   "source": [
    "# Insert \"watermelon\" as the third item: \n",
    "thislist = [\"apple\", \"banana\", \"cherry\"]\n",
    "thislist.insert(2, \"watermelon\")\n",
    "print(thislist)"
   ]
  },
  {
   "cell_type": "markdown",
   "id": "27884ec8-cf90-493e-9de7-226bba8d812e",
   "metadata": {},
   "source": [
    "## Extend List\n",
    "\n",
    "To append elements from another list to the current list, use the extend() method.\n",
    "\n",
    "Add the elements of tropical to thislist:"
   ]
  },
  {
   "cell_type": "code",
   "execution_count": 36,
   "id": "e8b54c63-1a35-426e-9211-d347ac385124",
   "metadata": {},
   "outputs": [
    {
     "name": "stdout",
     "output_type": "stream",
     "text": [
      "['apple', 'banana', 'cherry', 'mango', 'pineapple', 'papaya']\n"
     ]
    }
   ],
   "source": [
    "thislist = [\"apple\", \"banana\", \"cherry\"]\n",
    "tropical = [\"mango\", \"pineapple\", \"papaya\"]\n",
    "thislist.extend(tropical)\n",
    "print(thislist)"
   ]
  },
  {
   "cell_type": "markdown",
   "id": "aa48287e-fc01-4c48-9cce-24d71745b1bb",
   "metadata": {},
   "source": [
    "The extend() method does not have to append lists, you can add any iterable object (tuples, sets, dictionaries etc.).\n",
    "\n",
    "Add elements of a tuple to a list:"
   ]
  },
  {
   "cell_type": "code",
   "execution_count": 37,
   "id": "ccdd47d4-beda-4041-a469-0e7d5e2d27b7",
   "metadata": {},
   "outputs": [
    {
     "name": "stdout",
     "output_type": "stream",
     "text": [
      "['apple', 'banana', 'cherry', 'kiwi', 'orange']\n"
     ]
    }
   ],
   "source": [
    "thislist = [\"apple\", \"banana\", \"cherry\"]\n",
    "thistuple = (\"kiwi\", \"orange\")\n",
    "thislist.extend(thistuple)\n",
    "print(thislist)"
   ]
  },
  {
   "cell_type": "markdown",
   "id": "850854cb-0d16-4f5d-8b36-799dc0292612",
   "metadata": {},
   "source": [
    "Now try adding elements from a dictionary to the list."
   ]
  },
  {
   "cell_type": "markdown",
   "id": "004effaf-2c6e-46d6-8f3d-912e6202cd4c",
   "metadata": {},
   "source": [
    "## Remove Specified Item by specifying the actual object\n",
    "\n",
    "The str.remove() method removes the specified item.\n",
    "\n",
    "This list method modifies the actual list!!"
   ]
  },
  {
   "cell_type": "code",
   "execution_count": 43,
   "id": "0a311886-4463-4b01-8ae1-4a5e797cb301",
   "metadata": {},
   "outputs": [
    {
     "name": "stdout",
     "output_type": "stream",
     "text": [
      "['apple', 'cherry']\n"
     ]
    }
   ],
   "source": [
    "thislist = [\"apple\", \"banana\", \"cherry\"]\n",
    "thislist.remove(\"banana\")\n",
    "print(thislist)"
   ]
  },
  {
   "cell_type": "markdown",
   "id": "cc92235f-d9a7-4c61-92bd-d2e37fa23aab",
   "metadata": {},
   "source": [
    "## Remove Specified Index\n",
    "\n",
    "The str.pop() method removes the specified index.\n",
    "\n",
    "If you do not specify the index, the pop() method removes the last item.\n",
    "\n",
    "This list method modifies the actual list!!!!!"
   ]
  },
  {
   "cell_type": "code",
   "execution_count": 44,
   "id": "01b12f24-88eb-4a26-916b-20fdebca555e",
   "metadata": {},
   "outputs": [
    {
     "name": "stdout",
     "output_type": "stream",
     "text": [
      "['apple', 'banana', 'cherry']\n",
      "['apple', 'cherry']\n",
      "['apple']\n"
     ]
    }
   ],
   "source": [
    "thislist = [\"apple\", \"banana\", \"cherry\"]\n",
    "print(thislist)\n",
    "thislist.pop(1)\n",
    "print(thislist)\n",
    "thislist.pop()\n",
    "print(thislist)"
   ]
  },
  {
   "cell_type": "markdown",
   "id": "bbf01a85-d3b1-437a-93ea-9def90241861",
   "metadata": {},
   "source": [
    "### The del keyword\n",
    "\n",
    "The del keyword also removes the specified index:\n",
    "\n",
    "`del thislist[0]`\n",
    "\n",
    "The del keyword can also delete the list completely.\n",
    "\n",
    "`del thislist`"
   ]
  },
  {
   "cell_type": "markdown",
   "id": "a02d5978-bbdc-4282-b57d-4452ce0caa71",
   "metadata": {},
   "source": [
    "## Clear the List\n",
    "\n",
    "The clear() method empties the list.\n",
    "\n",
    "The list still remains, but it has no content."
   ]
  },
  {
   "cell_type": "code",
   "execution_count": 45,
   "id": "f2f70fc9-8197-4ad5-b36a-0ffcec24eb3c",
   "metadata": {},
   "outputs": [
    {
     "name": "stdout",
     "output_type": "stream",
     "text": [
      "[]\n"
     ]
    }
   ],
   "source": [
    "thislist = [\"apple\", \"banana\", \"cherry\"]\n",
    "thislist.clear()\n",
    "print(thislist)"
   ]
  },
  {
   "cell_type": "markdown",
   "id": "091303f3-cf6c-4a1c-8eb2-083a946fb6d5",
   "metadata": {},
   "source": [
    "## Case Insensitive Sort\n",
    "\n",
    "Case sensitive sorting can give an unexpected result.\n",
    "\n",
    "Perform a case-insensitive sort of the list:"
   ]
  },
  {
   "cell_type": "code",
   "execution_count": 38,
   "id": "69282a72-c0f5-4d8a-b7c9-328d1f1bb775",
   "metadata": {},
   "outputs": [
    {
     "name": "stdout",
     "output_type": "stream",
     "text": [
      "['banana', 'cherry', 'Kiwi', 'Orange']\n"
     ]
    }
   ],
   "source": [
    "thislist = [\"banana\", \"Orange\", \"Kiwi\", \"cherry\"]\n",
    "thislist.sort(key = str.lower)\n",
    "print(thislist)"
   ]
  },
  {
   "cell_type": "markdown",
   "id": "cbc99540-2f0c-4499-b4bf-df7a3db38408",
   "metadata": {},
   "source": [
    "Reverse Order\n",
    "What if you want to reverse the order of a list, regardless of the alphabet?\n",
    "\n",
    "The reverse() method reverses the current sorting order of the elements."
   ]
  },
  {
   "cell_type": "code",
   "execution_count": null,
   "id": "73f96f8b-d8be-4eac-ac82-eeb9cd19086a",
   "metadata": {},
   "outputs": [],
   "source": [
    "thislist = [\"banana\", \"Orange\", \"Kiwi\", \"cherry\"]\n",
    "thislist.reverse()\n",
    "print(thislist)"
   ]
  },
  {
   "cell_type": "markdown",
   "id": "3f195821-0800-43e8-b1bf-1c34237f2739",
   "metadata": {},
   "source": [
    "## Copy a List\n",
    "\n",
    "You cannot copy a list simply by typing list2 = list1, because: list2 will only be a reference to list1, and changes made in list1 will automatically also be made in list2.\n",
    "\n",
    "There are ways to make a copy, one way is to use the built-in List method copy()."
   ]
  },
  {
   "cell_type": "code",
   "execution_count": null,
   "id": "03c607ec-ef80-457b-83a0-b8e3daf6a64a",
   "metadata": {},
   "outputs": [],
   "source": [
    "thislist = [\"apple\", \"banana\", \"cherry\"]\n",
    "mylist = thislist.copy()\n",
    "print(mylist)"
   ]
  },
  {
   "cell_type": "markdown",
   "id": "0be7689e-10c6-4de9-b606-f6b257408412",
   "metadata": {},
   "source": [
    "Another way to make a copy is to use the built-in method list().\n",
    "Make a copy of a list with the list() method:"
   ]
  },
  {
   "cell_type": "code",
   "execution_count": null,
   "id": "79b39e53-211a-433b-9131-13285e078a69",
   "metadata": {},
   "outputs": [],
   "source": [
    "thislist = [\"apple\", \"banana\", \"cherry\"]\n",
    "mylist = list(thislist)\n",
    "print(mylist)"
   ]
  },
  {
   "cell_type": "markdown",
   "id": "7f607014-8a34-4ef4-90b2-0f6441654612",
   "metadata": {},
   "source": [
    "## List Comprehension\n",
    "\n",
    "Makes syntax concise!! So useful and beautiful.\n",
    "\n",
    "#### The Syntax\n",
    "`newlist = [expression for item in iterable if condition == True]`\n",
    "\n",
    "Same list but make everything lower or upper if the word contains the letter \"a\".\n",
    "\n",
    "`ulist = [x.upper() for x in list_of_strings if a in x]`\n",
    "\n",
    "This is really amazing and interesting."
   ]
  },
  {
   "cell_type": "markdown",
   "id": "bcd9021e-9a65-4410-8568-7240670edb8f",
   "metadata": {},
   "source": [
    "\n",
    "The expression can also contain conditions, not like a filter, but as a way to manipulate the outcome:"
   ]
  },
  {
   "cell_type": "code",
   "execution_count": 34,
   "id": "8d650435-577c-4f13-8a28-db1324faf6b4",
   "metadata": {},
   "outputs": [
    {
     "name": "stdout",
     "output_type": "stream",
     "text": [
      "['apple', 'orange', 'cherry', 'kiwi', 'mango']\n"
     ]
    }
   ],
   "source": [
    "newlist = [x if x != \"banana\" else \"orange\" for x in fruits]\n",
    "print(newlist)"
   ]
  },
  {
   "cell_type": "code",
   "execution_count": 25,
   "id": "2440460a-fed4-464f-819a-863324964d17",
   "metadata": {},
   "outputs": [
    {
     "name": "stdout",
     "output_type": "stream",
     "text": [
      "apple\n",
      "banana\n",
      "cherry\n"
     ]
    },
    {
     "data": {
      "text/plain": [
       "[None, None, None]"
      ]
     },
     "execution_count": 25,
     "metadata": {},
     "output_type": "execute_result"
    }
   ],
   "source": [
    "thislist = [\"apple\", \"banana\", \"cherry\"]\n",
    "[print(x) for x in thislist] # Quickest way to loop and create list"
   ]
  },
  {
   "cell_type": "code",
   "execution_count": 31,
   "id": "99e56070-4670-448a-ac9b-b997f17b3bd2",
   "metadata": {},
   "outputs": [
    {
     "name": "stdout",
     "output_type": "stream",
     "text": [
      "['apple', 'banana', 'mango']\n"
     ]
    }
   ],
   "source": [
    "# Long way of making a list with only fruits containing the letter \"a\".\n",
    "\n",
    "fruits = [\"apple\", \"banana\", \"cherry\", \"kiwi\", \"mango\"]\n",
    "newlist = []\n",
    "\n",
    "for x in fruits:\n",
    "    if \"a\" in x:\n",
    "        newlist.append(x)\n",
    "\n",
    "print(newlist)"
   ]
  },
  {
   "cell_type": "code",
   "execution_count": 32,
   "id": "25c76151-11e8-4903-ad3f-5e970c2687e3",
   "metadata": {},
   "outputs": [
    {
     "name": "stdout",
     "output_type": "stream",
     "text": [
      "['apple', 'banana', 'cherry', 'kiwi', 'mango']\n",
      "['apple', 'banana', 'mango']\n"
     ]
    }
   ],
   "source": [
    "# With list comprehension you can do all that with only one line of code:\n",
    "\n",
    "# complete list\n",
    "print([x for x in fruits])\n",
    "\n",
    "# list with if condition\n",
    "print([x for x in fruits if 'a' in x])"
   ]
  },
  {
   "cell_type": "markdown",
   "id": "740b842e-e71e-4193-a5c0-e12eb0a19b59",
   "metadata": {
    "tags": []
   },
   "source": [
    "### Join Two Lists\n",
    "There are several ways to join, or concatenate, two or more lists in Python.\n",
    "\n",
    "One of the easiest ways are by using the + operator.\n",
    "\n",
    "Another way to join two lists is by appending all the items from list2 into list1, one by one:\n",
    "\n"
   ]
  },
  {
   "cell_type": "code",
   "execution_count": 56,
   "id": "f076c576-b890-4340-bbd4-31aab681d731",
   "metadata": {},
   "outputs": [
    {
     "name": "stdout",
     "output_type": "stream",
     "text": [
      "['a', 'b', 'c', 1, 2, 3]\n",
      "['a', 'b', 'c', 1, 2, 3]\n"
     ]
    }
   ],
   "source": [
    "list1 = [\"a\", \"b\" , \"c\"]\n",
    "list2 = [1, 2, 3]\n",
    "\n",
    "lists = list1 + list2\n",
    "print(lists)\n",
    "\n",
    "for x in list2:\n",
    "    list1.append(x)\n",
    "\n",
    "print(list1)"
   ]
  },
  {
   "cell_type": "markdown",
   "id": "fd473701-747a-45ec-8145-8ec40313e5d6",
   "metadata": {},
   "source": [
    "Or you can use the extend() method, which purpose is to add elements from one list to another list.\n",
    "\n",
    "Use the extend() method to add list2 at the end of list1:"
   ]
  },
  {
   "cell_type": "code",
   "execution_count": 51,
   "id": "55717c9a-b927-43b9-9678-1ee92a8a9abb",
   "metadata": {},
   "outputs": [
    {
     "name": "stdout",
     "output_type": "stream",
     "text": [
      "['a', 'b', 'c', 1, 2, 3]\n"
     ]
    }
   ],
   "source": [
    "list1 = [\"a\", \"b\" , \"c\"]\n",
    "list2 = [1, 2, 3]\n",
    "\n",
    "list1.extend(list2)\n",
    "print(list1)"
   ]
  },
  {
   "cell_type": "markdown",
   "id": "25413cfd-4878-45ab-92f9-7a2649a18d3d",
   "metadata": {},
   "source": [
    "Method\tDescription\n",
    "\n",
    "- append()\tAdds an element at the end of the list\n",
    "- clear()\tRemoves all the elements from the list\n",
    "- copy()\tReturns a copy of the list\n",
    "- count()\tReturns the number of elements with the specified value\n",
    "- extend()\tAdd the elements of a list (or any iterable), to the end of the current list\n",
    "- index()\tReturns the index of the first element with the specified value\n",
    "- insert()\tAdds an element at the specified position\n",
    "- pop()\tRemoves the element at the specified position\n",
    "- remove()\tRemoves the item with the specified value\n",
    "- reverse()\tReverses the order of the list\n",
    "- sort()\tSorts the list\n",
    "\n",
    "#### Notice that the find method that exists for the string method does not exist here as a list method. So for lists need to use the index() method."
   ]
  },
  {
   "cell_type": "code",
   "execution_count": 54,
   "id": "2b6f9909-78e4-4306-883d-73b7842d8362",
   "metadata": {},
   "outputs": [
    {
     "name": "stdout",
     "output_type": "stream",
     "text": [
      "range(0, 5)\n"
     ]
    }
   ],
   "source": [
    "x = range(5)\n",
    "print(range(5))"
   ]
  },
  {
   "cell_type": "code",
   "execution_count": 55,
   "id": "b7bd92fe-db79-46f1-bd09-e4640056021a",
   "metadata": {},
   "outputs": [
    {
     "data": {
      "text/plain": [
       "[0, 1, 2, 3, 4]"
      ]
     },
     "execution_count": 55,
     "metadata": {},
     "output_type": "execute_result"
    }
   ],
   "source": [
    "x = list(range(5))\n",
    "x"
   ]
  },
  {
   "cell_type": "code",
   "execution_count": 58,
   "id": "ad55461d-b6b4-42c9-a70b-3aefdbb34f8f",
   "metadata": {},
   "outputs": [
    {
     "name": "stdout",
     "output_type": "stream",
     "text": [
      "['Glenn', 'Joseph', 'Sally']\n"
     ]
    }
   ],
   "source": [
    "friends = [ 'Joseph', 'Glenn', 'Sally' ]\n",
    "friends.sort()\n",
    "print(friends)"
   ]
  },
  {
   "cell_type": "code",
   "execution_count": null,
   "id": "1add6196-be12-4ee7-b740-9eeacada579a",
   "metadata": {},
   "outputs": [],
   "source": []
  },
  {
   "cell_type": "code",
   "execution_count": 14,
   "id": "d253513c-28fd-41ae-a054-67edd0b1ac76",
   "metadata": {},
   "outputs": [
    {
     "name": "stdout",
     "output_type": "stream",
     "text": [
      "<class 'list'> [range(0, 6)]\n",
      "<class 'range'>\n",
      "[range(0, 6)]\n"
     ]
    }
   ],
   "source": [
    "a = [range(6)]\n",
    "print(type(a), a)\n",
    "print(type(range(6)))\n",
    "a.reverse()\n",
    "a.sort(reverse = True)\n",
    "print(a)"
   ]
  },
  {
   "cell_type": "code",
   "execution_count": 21,
   "id": "6e80c0e7-62c6-420f-b15d-b1f50af76c70",
   "metadata": {},
   "outputs": [
    {
     "name": "stdout",
     "output_type": "stream",
     "text": [
      "None\n",
      "[0, 1, 2, 3, 4]\n",
      "[0, 1, 2, 3, 4]\n"
     ]
    }
   ],
   "source": [
    "a = list(range(5))\n",
    "a.reverse()\n",
    "# a.sort().reverse() # This does not work. Why?\n",
    "print(a.sort()) # Why is this None. This has no type?\n",
    "print(a)\n",
    "\n",
    "a.sort()\n",
    "print(a)\n",
    "\n",
    "#.reverse()"
   ]
  },
  {
   "cell_type": "markdown",
   "id": "f2bc57ec-d27c-41f4-8be7-30665196f22b",
   "metadata": {},
   "source": [
    "## Tuples\n",
    "\n",
    "A tuple can contain different data types.\n",
    "\n",
    "Create Tuple With One Item\n",
    "\n",
    "To create a tuple with only one item, you have to add a comma after the item, otherwise Python will not recognize it as a tuple.\n",
    "\n"
   ]
  },
  {
   "cell_type": "code",
   "execution_count": 36,
   "id": "7d31853a-c5f3-48fb-bca4-52e1ef75bbad",
   "metadata": {},
   "outputs": [
    {
     "name": "stdout",
     "output_type": "stream",
     "text": [
      "<class 'tuple'>\n",
      "<class 'str'>\n"
     ]
    }
   ],
   "source": [
    "thistuple = (\"apple\",)\n",
    "print(type(thistuple))\n",
    "\n",
    "#NOT a tuple\n",
    "thistuple = (\"apple\")\n",
    "print(type(thistuple))"
   ]
  },
  {
   "cell_type": "markdown",
   "id": "2702667e-6e43-4608-bbd4-34acbda2f737",
   "metadata": {},
   "source": [
    "Add tuple to a tuple. You are allowed to add tuples to tuples, so if you want to add one item, (or many), create a new tuple with the item(s), and add it to the existing tuple:"
   ]
  },
  {
   "cell_type": "code",
   "execution_count": 10,
   "id": "69772c41-89bc-41fc-ace9-335911c83a95",
   "metadata": {},
   "outputs": [
    {
     "name": "stdout",
     "output_type": "stream",
     "text": [
      "('apple', 'banana', 'cherry', 'orange')\n"
     ]
    }
   ],
   "source": [
    "thistuple = (\"apple\", \"banana\", \"cherry\")\n",
    "y = (\"orange\",)\n",
    "thistuple += y\n",
    "\n",
    "print(thistuple)\n",
    "\n",
    "# When creating a tuple with only one item, remember to include a comma after the item, otherwise it will not be identified as a tuple."
   ]
  },
  {
   "cell_type": "markdown",
   "id": "b610f388-2747-4590-8042-33e485e815e4",
   "metadata": {},
   "source": [
    "The del keyword can delete the tuple completely:"
   ]
  },
  {
   "cell_type": "code",
   "execution_count": null,
   "id": "b5d88009-7c17-49b7-842b-9c30eb1d4796",
   "metadata": {},
   "outputs": [],
   "source": [
    "thistuple = (\"apple\", \"banana\", \"cherry\")\n",
    "del thistuple\n",
    "print(thistuple) #this will raise an error because the tuple no longer exists"
   ]
  },
  {
   "cell_type": "markdown",
   "id": "7cf920ef-14d9-4b34-aff8-127fbf0220c5",
   "metadata": {},
   "source": [
    "## Unpacking a Tuple\n",
    "\n",
    "When we create a tuple, we normally assign values to it. This is called \"packing\" a tuple.\n",
    "\n",
    "But, in Python, we are also allowed to extract the values back into variables. This is called \"unpacking\":"
   ]
  },
  {
   "cell_type": "code",
   "execution_count": 12,
   "id": "2f25c01f-593c-45b4-beba-bb54e58a3e22",
   "metadata": {},
   "outputs": [
    {
     "name": "stdout",
     "output_type": "stream",
     "text": [
      "apple\n",
      "banana\n",
      "cherry\n",
      "apple banana cherry\n"
     ]
    }
   ],
   "source": [
    "fruits = (\"apple\", \"banana\", \"cherry\")\n",
    "\n",
    "(green, yellow, red) = fruits\n",
    "\n",
    "print(green)\n",
    "print(yellow)\n",
    "print(red)\n",
    "\n",
    "green1, yellow1, red1 = fruits\n",
    "\n",
    "print(green1, yellow1, red1)\n",
    "\n",
    "# Note: The number of variables must match the number of values in the tuple, if not, you must use an asterisk to collect the remaining values as a list."
   ]
  },
  {
   "cell_type": "markdown",
   "id": "e34f838a-0efe-465f-af17-7a99313c2681",
   "metadata": {},
   "source": [
    "## Using Asterisk*\n",
    "\n",
    "If the number of variables is less than the number of values, you can add an * to the variable name and the values will be assigned to the variable as a list:\n",
    "    \n",
    "Assign the rest of the values as a list called \"red\":"
   ]
  },
  {
   "cell_type": "code",
   "execution_count": 15,
   "id": "7245a9a8-fbc0-4e6d-a359-ee25eb789143",
   "metadata": {},
   "outputs": [
    {
     "name": "stdout",
     "output_type": "stream",
     "text": [
      "apple\n",
      "banana\n",
      "['cherry', 'strawberry', 'raspberry']\n"
     ]
    }
   ],
   "source": [
    "fruits = (\"apple\", \"banana\", \"cherry\", \"strawberry\", \"raspberry\")\n",
    "\n",
    "(green, yellow, *red) = fruits\n",
    "\n",
    "print(green)\n",
    "print(yellow)\n",
    "print(red)"
   ]
  },
  {
   "cell_type": "markdown",
   "id": "32e66760-02aa-4b33-b4fb-51961456c29d",
   "metadata": {},
   "source": [
    "If the asterisk is added to another variable name than the last, Python will assign values to the variable until the number of values left matches the number of variables left.\n",
    "Add a list of values the \"tropic\" variable"
   ]
  },
  {
   "cell_type": "code",
   "execution_count": 16,
   "id": "8791f2b1-f980-4204-924f-6a5f5c1825e9",
   "metadata": {},
   "outputs": [
    {
     "name": "stdout",
     "output_type": "stream",
     "text": [
      "apple\n",
      "['mango', 'papaya', 'pineapple']\n",
      "cherry\n"
     ]
    }
   ],
   "source": [
    "fruits = (\"apple\", \"mango\", \"papaya\", \"pineapple\", \"cherry\")\n",
    "\n",
    "(green, *tropic, red) = fruits\n",
    "\n",
    "print(green)\n",
    "print(tropic)\n",
    "print(red)"
   ]
  },
  {
   "cell_type": "code",
   "execution_count": null,
   "id": "82239cab-62b8-4cb0-8a11-668045619e75",
   "metadata": {},
   "outputs": [],
   "source": [
    "Join Two Tuples\n",
    "\n",
    "To join two or more tuples you can use the + operator:\n",
    "    \n",
    "Multiply Tuples\n",
    "\n",
    "If you want to multiply the content of a tuple a given number of times, you can use the * operator:"
   ]
  },
  {
   "cell_type": "code",
   "execution_count": 17,
   "id": "2c0bbfed-e22d-4b06-aab9-e84eac89dcf7",
   "metadata": {},
   "outputs": [
    {
     "name": "stdout",
     "output_type": "stream",
     "text": [
      "('a', 'b', 'c', 1, 2, 3)\n",
      "('apple', 'banana', 'cherry', 'apple', 'banana', 'cherry')\n"
     ]
    }
   ],
   "source": [
    "tuple1 = (\"a\", \"b\" , \"c\")\n",
    "tuple2 = (1, 2, 3)\n",
    "\n",
    "tuple3 = tuple1 + tuple2\n",
    "print(tuple3)\n",
    "\n",
    "fruits = (\"apple\", \"banana\", \"cherry\")\n",
    "mytuple = fruits * 2\n",
    "\n",
    "print(mytuple)"
   ]
  },
  {
   "cell_type": "markdown",
   "id": "d098031a-be68-4b37-bf0d-c78b3facdbfd",
   "metadata": {},
   "source": [
    "Tuple Methods\n",
    "Python only has two built-in methods that you can use on tuples.\n",
    "\n",
    "count()\tReturns the number of times a specified value occurs in a tuple\n",
    "index()\tSearches the tuple for a specified value and returns the position of where it was found"
   ]
  },
  {
   "cell_type": "code",
   "execution_count": null,
   "id": "f2b892f6-7a78-4791-920b-f20b51392308",
   "metadata": {},
   "outputs": [],
   "source": []
  },
  {
   "cell_type": "markdown",
   "id": "4648892d-b4ee-482c-92c5-ca7cd707d59c",
   "metadata": {},
   "source": [
    "## Python Dictionaries\n",
    "\n",
    "Dictionary is a collection which is ordered** and changeable. No duplicate members.\n",
    "\n",
    "When choosing a collection type, it is useful to understand the properties of that type. Choosing the right type for a particular data set could mean retention of meaning, and, it could mean an increase in efficiency or security.\n",
    "\n",
    "**As of Python version 3.7, dictionaries are ordered. In Python 3.6 and earlier, dictionaries are unordered.\n",
    "\n",
    "The values in dictionary items can be of any data type:"
   ]
  },
  {
   "cell_type": "code",
   "execution_count": 22,
   "id": "a77cfef7-6573-412f-a805-c477bdb225d8",
   "metadata": {},
   "outputs": [
    {
     "name": "stdout",
     "output_type": "stream",
     "text": [
      "{'brand': 'Ford', 'model': 'Mustang', 'year': 2020}\n",
      "Ford\n"
     ]
    }
   ],
   "source": [
    "thisdict = {\n",
    "  \"brand\": \"Ford\",\n",
    "  \"model\": \"Mustang\",\n",
    "  \"year\": 1964,\n",
    "  \"year\": 2020\n",
    "}\n",
    "print(thisdict)\n",
    "\n",
    "print(thisdict['brand']) # Dictionary elements are indexed via the key. You cannot access or refer to it via numerical integer."
   ]
  },
  {
   "cell_type": "markdown",
   "id": "f4489e5f-ba67-4bbf-8890-0f5f047bb2d5",
   "metadata": {},
   "source": [
    "To determine how many items a dictionary has, use the len() function:"
   ]
  },
  {
   "cell_type": "code",
   "execution_count": 23,
   "id": "24314ff2-03ed-47af-b5fa-9ad8131232e9",
   "metadata": {},
   "outputs": [
    {
     "name": "stdout",
     "output_type": "stream",
     "text": [
      "3\n"
     ]
    }
   ],
   "source": [
    "print(len(thisdict))"
   ]
  },
  {
   "cell_type": "markdown",
   "id": "6f2e8a9b-32f0-4570-9133-d04a000cc132",
   "metadata": {},
   "source": [
    "You can access the items of a dictionary by referring to its key name, inside square brackets:\n",
    "\n",
    "There is also a method called get() that will give you the same result:\n",
    "    \n",
    "`x = thisdict.get(\"model\")`\n",
    "\n",
    "The keys() method will return a list of all the keys in the dictionary. Get a list of the keys:\n",
    "\n",
    "`x = thisdict.keys()`\n",
    "\n",
    "The values() method will return a list of all the values in the dictionary.\n",
    "\n",
    "`x = thisdict.values()`\n",
    "\n",
    "The list of the keys is a view of the dictionary, meaning that any changes done to the dictionary will be reflected in the keys list.\n",
    "\n",
    "Add a new item or a change to the original values to the original dictionary, and see that the keys list gets updated as well:\n"
   ]
  },
  {
   "cell_type": "code",
   "execution_count": 26,
   "id": "a02987ec-2011-4665-9553-5e82d93ea8c7",
   "metadata": {},
   "outputs": [
    {
     "name": "stdout",
     "output_type": "stream",
     "text": [
      "dict_keys(['brand', 'model', 'year'])\n",
      "{'brand': 'Ford', 'model': 'Mustang', 'year': 2020, 'color': 'white'}\n"
     ]
    }
   ],
   "source": [
    "car = {\n",
    "\"brand\": \"Ford\",\n",
    "\"model\": \"Mustang\",\n",
    "\"year\": 1964\n",
    "}\n",
    "\n",
    "x = car.keys()\n",
    "\n",
    "print(x) #before the change\n",
    "\n",
    "car[\"color\"] = \"white\"\n",
    "car[\"year\"] = 2020\n",
    "\n",
    "print(car) #after the change"
   ]
  },
  {
   "cell_type": "markdown",
   "id": "be393de9-0155-47df-83b0-2996fe6d7e93",
   "metadata": {},
   "source": [
    "### Get Items\n",
    "\n",
    "The items() method will return each item in a dictionary, as tuples in a list."
   ]
  },
  {
   "cell_type": "code",
   "execution_count": 28,
   "id": "eb778fc2-782d-4fa4-a337-a93c1557a580",
   "metadata": {},
   "outputs": [
    {
     "name": "stdout",
     "output_type": "stream",
     "text": [
      "dict_items([('brand', 'Ford'), ('model', 'Mustang'), ('year', 2020)])\n"
     ]
    }
   ],
   "source": [
    "x = thisdict.items()\n",
    "print(x)"
   ]
  },
  {
   "cell_type": "markdown",
   "id": "076c177d-5a64-4de3-afac-f8f2db8dae07",
   "metadata": {},
   "source": [
    "Check if Key Exists\n",
    "To determine if a specified key is present in a dictionary use the in keyword:\n"
   ]
  },
  {
   "cell_type": "code",
   "execution_count": 29,
   "id": "79334cbb-1a73-4f0d-8538-ae4109f2c82a",
   "metadata": {},
   "outputs": [
    {
     "name": "stdout",
     "output_type": "stream",
     "text": [
      "Yes, 'model' is one of the keys in the thisdict dictionary\n"
     ]
    }
   ],
   "source": [
    "thisdict = {\n",
    "  \"brand\": \"Ford\",\n",
    "  \"model\": \"Mustang\",\n",
    "  \"year\": 1964\n",
    "}\n",
    "if \"model\" in thisdict:\n",
    "  print(\"Yes, 'model' is one of the keys in the thisdict dictionary\")"
   ]
  },
  {
   "cell_type": "code",
   "execution_count": null,
   "id": "9570fe5b-c000-407d-8ec9-1fd74c51c415",
   "metadata": {},
   "outputs": [],
   "source": [
    "Change Values\n",
    "\n",
    "You can change the value of a specific item by referring to its key name.\n",
    "    \n",
    "The update() method will update the dictionary with the items from the given argument.\n",
    "\n"
   ]
  },
  {
   "cell_type": "code",
   "execution_count": 30,
   "id": "f8b6dfd0-85c9-4830-a561-9c7c6780ef4a",
   "metadata": {},
   "outputs": [
    {
     "name": "stdout",
     "output_type": "stream",
     "text": [
      "{'brand': 'Ford', 'model': 'Mustang', 'year': 2018}\n",
      "{'brand': 'Ford', 'model': 'Mustang', 'year': 2020}\n"
     ]
    }
   ],
   "source": [
    "thisdict = {\n",
    "  \"brand\": \"Ford\",\n",
    "  \"model\": \"Mustang\",\n",
    "  \"year\": 1964\n",
    "}\n",
    "\n",
    "thisdict[\"year\"] = 2018\n",
    "\n",
    "print(thisdict)\n",
    "\n",
    "thisdict.update({\"year\": 2020})\n",
    "\n",
    "print(thisdict)"
   ]
  },
  {
   "cell_type": "code",
   "execution_count": null,
   "id": "1c1ce30f-0e69-4ea4-ab8f-51720e31979b",
   "metadata": {},
   "outputs": [],
   "source": [
    "## Remove Dictionary Items\n",
    "\n",
    "The pop() method removes the item with the specified key name."
   ]
  },
  {
   "cell_type": "code",
   "execution_count": 32,
   "id": "05e0edad-5a64-4956-b73a-56d5be6b1640",
   "metadata": {},
   "outputs": [
    {
     "name": "stdout",
     "output_type": "stream",
     "text": [
      "{'brand': 'Ford', 'year': 1964}\n",
      "{'brand': 'Ford', 'year': 1964}\n"
     ]
    }
   ],
   "source": [
    "thisdict = {\n",
    "  \"brand\": \"Ford\",\n",
    "  \"model\": \"Mustang\",\n",
    "  \"year\": 1964\n",
    "}\n",
    "thisdict.pop(\"model\")\n",
    "print(thisdict)\n",
    "\n",
    "# thisdict.pop() # Will give error # This unfortunately does not have any default behaviour. That is with .popitem()\n",
    "print(thisdict)"
   ]
  },
  {
   "cell_type": "code",
   "execution_count": 33,
   "id": "35f9b15a-844b-4c46-bebf-e3f20de18f61",
   "metadata": {},
   "outputs": [
    {
     "ename": "SyntaxError",
     "evalue": "invalid syntax (2074781666.py, line 1)",
     "output_type": "error",
     "traceback": [
      "\u001b[1;36m  Input \u001b[1;32mIn [33]\u001b[1;36m\u001b[0m\n\u001b[1;33m    The popitem() method removes the last inserted item (in versions before 3.7, a random item is removed instead)\u001b[0m\n\u001b[1;37m        ^\u001b[0m\n\u001b[1;31mSyntaxError\u001b[0m\u001b[1;31m:\u001b[0m invalid syntax\n"
     ]
    }
   ],
   "source": [
    "The popitem() method removes the last inserted item (in versions before 3.7, a random item is removed instead)"
   ]
  },
  {
   "cell_type": "code",
   "execution_count": null,
   "id": "e1694d88-d31e-4174-8b0a-47767b73b809",
   "metadata": {},
   "outputs": [],
   "source": [
    "thisdict = {\n",
    "  \"brand\": \"Ford\",\n",
    "  \"model\": \"Mustang\",\n",
    "  \"year\": 1964\n",
    "}\n",
    "thisdict.popitem()\n",
    "print(thisdict)"
   ]
  },
  {
   "cell_type": "code",
   "execution_count": null,
   "id": "84951092-3e24-45f8-afa6-b60fad87db97",
   "metadata": {},
   "outputs": [],
   "source": [
    "The del keyword removes the item with the specified key name:"
   ]
  },
  {
   "cell_type": "code",
   "execution_count": null,
   "id": "bae7a4a0-4c1e-4f69-8fc4-b79e05f9a469",
   "metadata": {},
   "outputs": [],
   "source": [
    "thisdict = {\n",
    "  \"brand\": \"Ford\",\n",
    "  \"model\": \"Mustang\",\n",
    "  \"year\": 1964\n",
    "}\n",
    "del thisdict[\"model\"]\n",
    "print(thisdict)"
   ]
  },
  {
   "cell_type": "code",
   "execution_count": null,
   "id": "a06e448a-0339-4d04-a612-4e3d2c425c09",
   "metadata": {},
   "outputs": [],
   "source": [
    "The del keyword can also delete the dictionary completely:"
   ]
  },
  {
   "cell_type": "code",
   "execution_count": null,
   "id": "0f30a1df-25ab-4342-b860-26f955d476fe",
   "metadata": {},
   "outputs": [],
   "source": [
    "thisdict = {\n",
    "  \"brand\": \"Ford\",\n",
    "  \"model\": \"Mustang\",\n",
    "  \"year\": 1964\n",
    "}\n",
    "del thisdict\n",
    "print(thisdict) #this will cause an error because \"thisdict\" no longer exists."
   ]
  },
  {
   "cell_type": "code",
   "execution_count": null,
   "id": "2776e971-d2e0-4e59-8f34-475da077f462",
   "metadata": {},
   "outputs": [],
   "source": [
    "The clear() method empties the dictionary:"
   ]
  },
  {
   "cell_type": "code",
   "execution_count": null,
   "id": "19c47b56-abbd-48c7-bb52-ea13e528cb82",
   "metadata": {},
   "outputs": [],
   "source": [
    "thisdict = {\n",
    "  \"brand\": \"Ford\",\n",
    "  \"model\": \"Mustang\",\n",
    "  \"year\": 1964\n",
    "}\n",
    "thisdict.clear()\n",
    "print(thisdict)"
   ]
  },
  {
   "cell_type": "code",
   "execution_count": 36,
   "id": "9411cb0a-98f2-4491-9a6b-00bd031e23d3",
   "metadata": {},
   "outputs": [
    {
     "name": "stdout",
     "output_type": "stream",
     "text": [
      "brand\n",
      "year\n",
      "Ford\n",
      "1964\n",
      "Ford\n",
      "1964\n"
     ]
    }
   ],
   "source": [
    "# The below prints the keys not the value.\n",
    "\n",
    "\n",
    "thisdict = {\n",
    "  \"brand\": \"Ford\",\n",
    "  \"model\": \"Mustang\",\n",
    "  \"year\": 1964\n",
    "}\n",
    "\n",
    "\n",
    "for x in thisdict:\n",
    "    print(x)\n",
    "    \n",
    "# For the value you need to do this or use the .get() method\n",
    "\n",
    "for x in thisdict:\n",
    "    print(thisdict[x])\n",
    "    \n",
    "for x in thisdict:\n",
    "    print(thisdict.get(x))"
   ]
  },
  {
   "cell_type": "markdown",
   "id": "951231cb-34a2-4ddf-b59b-31bde35e6dc3",
   "metadata": {},
   "source": [
    "### Dictionary Items\n",
    "\n",
    "Also, the .values(), .keys(), and .items() methods are very useful.\n",
    "\n",
    "```\n",
    "for x in thisdict.values():\n",
    "    print(x)\n",
    "\n",
    "\n",
    "for x in thisdict.keys():\n",
    "    print(x)\n",
    "\n",
    "\n",
    "for x, y in thisdict.items():\n",
    "    print(x, y)\n",
    "    \n",
    "    \n",
    "```\n",
    "\n",
    "\n",
    "### Copy Dictionaries\n",
    "\n",
    "You cannot copy a dictionary simply by typing dict2 = dict1, because: dict2 will only be a reference to dict1, and changes made in dict1 will automatically also be made in dict2.\n",
    "\n",
    "There are ways to make a copy, one way is to use the built-in Dictionary method copy().\n",
    "\n",
    "\n",
    "`mydict = thisdict.copy()`\n",
    "\n",
    "Another way to make a copy is to use the built-in function dict(). Similar to how we can copy lists using the list() function.\n",
    "\n",
    "`mydict = dict(thisdict)`\n",
    "\n",
    "\n",
    "### Nested Dictionaries\n",
    "\n",
    "A dictionary can contain dictionaries, this is called nested dictionaries.\n",
    "\n",
    "Create a dictionary that contain three dictionaries:"
   ]
  },
  {
   "cell_type": "code",
   "execution_count": 38,
   "id": "ff29930d-4945-4a68-b882-42e469f4f303",
   "metadata": {},
   "outputs": [],
   "source": [
    "myfamily = {\n",
    "  \"child1\" : {\n",
    "    \"name\" : \"Emil\",\n",
    "    \"year\" : 2004\n",
    "  },\n",
    "  \"child2\" : {\n",
    "    \"name\" : \"Tobias\",\n",
    "    \"year\" : 2007\n",
    "  },\n",
    "  \"child3\" : {\n",
    "    \"name\" : \"Linus\",\n",
    "    \"year\" : 2011\n",
    "  }\n",
    "}"
   ]
  },
  {
   "cell_type": "markdown",
   "id": "a536d3e5-64de-4116-ae7e-540ba3add578",
   "metadata": {},
   "source": [
    "Or, more practically, you can store three dictionaries in a new dictionary:"
   ]
  },
  {
   "cell_type": "code",
   "execution_count": 40,
   "id": "7af297f8-d838-4253-8639-1bdf7dc41e68",
   "metadata": {},
   "outputs": [
    {
     "name": "stdout",
     "output_type": "stream",
     "text": [
      "{'child1': {'name': 'Emil', 'year': 2004}, 'child2': {'name': 'Tobias', 'year': 2007}, 'child3': {'name': 'Linus', 'year': 2011}}\n"
     ]
    }
   ],
   "source": [
    "child1 = {\n",
    "  \"name\" : \"Emil\",\n",
    "  \"year\" : 2004\n",
    "}\n",
    "child2 = {\n",
    "  \"name\" : \"Tobias\",\n",
    "  \"year\" : 2007\n",
    "}\n",
    "child3 = {\n",
    "  \"name\" : \"Linus\",\n",
    "  \"year\" : 2011\n",
    "}\n",
    "\n",
    "myfamily = {\n",
    "  \"child1\" : child1,\n",
    "  \"child2\" : child2,\n",
    "  \"child3\" : child3\n",
    "}\n",
    "\n",
    "print(myfamily)"
   ]
  },
  {
   "cell_type": "markdown",
   "id": "13639a67-b86e-444c-a234-899512580706",
   "metadata": {},
   "source": [
    "### Dictionary Methods\n",
    "\n",
    "Python has a set of built-in methods that you can use on dictionaries.\n",
    "\n",
    "| Method       | Description                                                                                                 |\n",
    "|--------------|-------------------------------------------------------------------------------------------------------------|\n",
    "| clear()      | Removes all the elements from the dictionary                                                                |\n",
    "| copy()       | Returns a copy of the dictionary                                                                            |\n",
    "| fromkeys()   | Returns a dictionary with the specified keys and value                                                      |\n",
    "| get()        | Returns the value of the specified key                                                                      |\n",
    "| items()      | Returns a list containing a tuple for each key value pair                                                   |\n",
    "| keys()       | Returns a list containing the dictionary's keys                                                             |\n",
    "| pop()        | Removes the element with the specified key                                                                  |\n",
    "| popitem()    | Removes the last inserted key-value pair                                                                    |\n",
    "| setdefault() | Returns the value of the specified key. If the key does not exist: insert the key, with the specified value |\n",
    "| update()     | Updates the dictionary with the specified key-value pairs                                                   |\n",
    "| values()     | Returns a list of all the values in the dictionary                                                          |\n",
    "\n",
    "\n",
    "\n",
    " Tip: Creating tables with hyphens and pipes can be tedious. To speed up the process, try using the Markdown Tables Generator or AnyWayData Markdown Export. Build a table using the graphical interface, and then copy the generated Markdown-formatted text into your file."
   ]
  },
  {
   "cell_type": "markdown",
   "id": "6a41ebdc-5418-4606-94f6-6ad55c93f0a5",
   "metadata": {},
   "source": [
    "### Short Hand If\n",
    "\n",
    "If you have only one statement to execute, you can put it on the same line as the if statement."
   ]
  },
  {
   "cell_type": "code",
   "execution_count": 9,
   "id": "22408615-85c0-4b2a-9455-dc83290134e6",
   "metadata": {},
   "outputs": [
    {
     "name": "stdout",
     "output_type": "stream",
     "text": [
      "a is greater than b\n"
     ]
    }
   ],
   "source": [
    "a = 21\n",
    "b = 3\n",
    "\n",
    "if a > b: print(\"a is greater than b\")"
   ]
  },
  {
   "cell_type": "markdown",
   "id": "87a21853-566b-4876-8c54-561a4743cd59",
   "metadata": {},
   "source": [
    "### Short Hand If ... Else\n",
    "\n",
    "If you have only one statement to execute, one for if, and one for else, you can put it all on the same line:"
   ]
  },
  {
   "cell_type": "code",
   "execution_count": 6,
   "id": "d289952b-b10f-4907-b836-e49e94c469ff",
   "metadata": {},
   "outputs": [
    {
     "name": "stdout",
     "output_type": "stream",
     "text": [
      "B\n"
     ]
    }
   ],
   "source": [
    "a = 2\n",
    "b = 330\n",
    "print(\"A\") if a > b else print(\"B\")"
   ]
  },
  {
   "cell_type": "markdown",
   "id": "b898cf36-e83f-47f3-bb18-dbcb8f6f687f",
   "metadata": {},
   "source": [
    "You can also have multiple else statements on the same line:"
   ]
  },
  {
   "cell_type": "code",
   "execution_count": 5,
   "id": "4818800f-795c-4a2d-bb78-e48e11665133",
   "metadata": {},
   "outputs": [
    {
     "name": "stdout",
     "output_type": "stream",
     "text": [
      "=\n"
     ]
    }
   ],
   "source": [
    "a = 330\n",
    "b = 330\n",
    "print(\"A\") if a > b else print(\"=\") if a == b else print(\"B\")"
   ]
  },
  {
   "cell_type": "code",
   "execution_count": 2,
   "id": "24a223df-02fb-42c0-b959-046d53dbbfe7",
   "metadata": {},
   "outputs": [
    {
     "name": "stdout",
     "output_type": "stream",
     "text": [
      "Both conditions are True\n"
     ]
    }
   ],
   "source": [
    "a = 200\n",
    "b = 33\n",
    "c = 500\n",
    "if a > b and c > a:\n",
    "    print(\"Both conditions are True\")"
   ]
  },
  {
   "cell_type": "markdown",
   "id": "c17b07f3-c09d-4925-ab2b-f5dca81f9ee7",
   "metadata": {},
   "source": [
    "The pass Statement\n",
    "if statements cannot be empty, but if you for some reason have an if statement with no content, put in the pass statement to avoid getting an error.\n",
    "\n"
   ]
  },
  {
   "cell_type": "code",
   "execution_count": 3,
   "id": "07da959f-fe41-4906-ab15-192f69feb727",
   "metadata": {},
   "outputs": [],
   "source": [
    "a = 33\n",
    "b = 200\n",
    "\n",
    "if b > a:\n",
    "    pass"
   ]
  },
  {
   "cell_type": "markdown",
   "id": "7d858978-3d06-474b-8821-d465e1bfc5cd",
   "metadata": {},
   "source": [
    "### Else in For Loop\n",
    "The else keyword in a for loop specifies a block of code to be executed when the loop is finished.\n",
    "\n",
    "The else block will NOT be executed if the loop is stopped by a break statement."
   ]
  },
  {
   "cell_type": "code",
   "execution_count": 10,
   "id": "f62c4edc-77b6-4f29-8293-cd9a2c71951f",
   "metadata": {},
   "outputs": [
    {
     "name": "stdout",
     "output_type": "stream",
     "text": [
      "0\n",
      "1\n",
      "2\n",
      "3\n",
      "4\n",
      "5\n",
      "Finally finished!\n"
     ]
    }
   ],
   "source": [
    "for x in range(6):\n",
    "  print(x)\n",
    "else:\n",
    "  print(\"Finally finished!\")"
   ]
  },
  {
   "cell_type": "markdown",
   "id": "80eb1b1d-e9bb-4a57-8c5c-a130d52b3dfb",
   "metadata": {},
   "source": [
    "## Nested Loops for permutations"
   ]
  },
  {
   "cell_type": "code",
   "execution_count": 12,
   "id": "368b0f6a-c033-4ac9-9957-2c506ce12536",
   "metadata": {},
   "outputs": [
    {
     "name": "stdout",
     "output_type": "stream",
     "text": [
      "red apple\n",
      "red banana\n",
      "red cherry\n",
      "big apple\n",
      "big banana\n",
      "big cherry\n",
      "tasty apple\n",
      "tasty banana\n",
      "tasty cherry\n"
     ]
    }
   ],
   "source": [
    "adj = [\"red\", \"big\", \"tasty\"]\n",
    "fruits = [\"apple\", \"banana\", \"cherry\"]\n",
    "\n",
    "for x in adj:\n",
    "    for y in fruits:\n",
    "        print(x, y)"
   ]
  },
  {
   "cell_type": "markdown",
   "id": "2bd33b42-ad76-409b-a183-9d579a478b22",
   "metadata": {},
   "source": [
    "## Python Functions\n",
    "\n",
    "Arbitrary Arguments, *args\n",
    "If you do not know how many arguments that will be passed into your function, add a * before the parameter name in the function definition.\n",
    "\n",
    "This way the function will receive a tuple of arguments, and can access the items accordingly.\n",
    "\n",
    "If the number of arguments is unknown, add a * before the parameter name:"
   ]
  },
  {
   "cell_type": "code",
   "execution_count": null,
   "id": "8e53beea-9834-44cb-9803-60227c6c1387",
   "metadata": {},
   "outputs": [],
   "source": [
    "def my_function(*kids):\n",
    "    print(\"The youngest child is \" + kids[2])\n",
    "\n",
    "my_function(\"Emil\", \"Tobias\", \"Linus\")"
   ]
  },
  {
   "cell_type": "markdown",
   "id": "246a123e-b7d0-430a-a2f0-2e51dbe55e95",
   "metadata": {},
   "source": [
    "Keyword Arguments\n",
    "You can also send arguments with the key = value syntax.\n",
    "\n",
    "This way the order of the arguments does not matter.\n",
    "\n",
    "The phrase Keyword Arguments are often shortened to kwargs in Python documentations."
   ]
  },
  {
   "cell_type": "code",
   "execution_count": null,
   "id": "c94a44bd-36f7-4b43-9550-083c2bc4b96c",
   "metadata": {},
   "outputs": [],
   "source": [
    "def my_function(child3, child2, child1):\n",
    "  print(\"The youngest child is \" + child3)\n",
    "\n",
    "my_function(child1 = \"Emil\", child2 = \"Tobias\", child3 = \"Linus\")"
   ]
  },
  {
   "cell_type": "markdown",
   "id": "c75c0309-ae13-42ef-b50a-3dc035749672",
   "metadata": {},
   "source": [
    "Arbitrary Keyword Arguments, **kwargs\n",
    "If you do not know how many keyword arguments that will be passed into your function, add two asterisk: ** before the parameter name in the function definition.\n",
    "\n",
    "This way the function will receive a dictionary of arguments, and can access the items accordingly:\n",
    "\n",
    "Example\n",
    "If the number of keyword arguments is unknown, add a double ** before the parameter name:\n",
    "\n",
    "```\n",
    "def my_function(**kid):\n",
    "  print(\"His last name is \" + kid[\"lname\"])\n",
    "\n",
    "my_function(fname = \"Tobias\", lname = \"Refsnes\")\n",
    "```"
   ]
  },
  {
   "cell_type": "markdown",
   "id": "576978ad-505a-4ef3-874b-8a754b30d42d",
   "metadata": {},
   "source": [
    "## Default Parameter Value\n",
    "\n",
    "The following example shows how to use a default parameter value.\n",
    "\n",
    "If we call the function without argument, it uses the default value:\n",
    "\n",
    "```\n",
    "def my_function(country = \"Norway\"):\n",
    "  print(\"I am from \" + country)\n",
    "```\n",
    "\n",
    "\n",
    "### Passing a List as an Argument\n",
    "\n",
    "You can send any data types of argument to a function (string, number, list, dictionary etc.), and it will be treated as the same data type inside the function.\n",
    "\n",
    "E.g. if you send a List as an argument, it will still be a List when it reaches the function:"
   ]
  },
  {
   "cell_type": "code",
   "execution_count": 13,
   "id": "ab282edf-f368-435e-8df5-6b413ae2f4e3",
   "metadata": {},
   "outputs": [
    {
     "name": "stdout",
     "output_type": "stream",
     "text": [
      "15\n",
      "25\n",
      "45\n"
     ]
    }
   ],
   "source": [
    "def my_function(x):\n",
    "  return 5 * x\n",
    "\n",
    "print(my_function(3))\n",
    "print(my_function(5))\n",
    "print(my_function(9))"
   ]
  },
  {
   "cell_type": "markdown",
   "id": "8496c508-5c57-43f2-a0ed-a6cc2bcf5bb1",
   "metadata": {},
   "source": [
    "## Recursion\n",
    "\n",
    "Python also accepts function recursion, which means a defined function can call itself.\n",
    "\n",
    "Recursion is a common mathematical and programming concept. It means that a function calls itself. This has the benefit of meaning that you can loop through data to reach a result.\n",
    "\n",
    "The developer should be very careful with recursion as it can be quite easy to slip into writing a function which never terminates, or one that uses excess amounts of memory or processor power. However, when written correctly recursion can be a very efficient and mathematically-elegant approach to programming.\n",
    "\n",
    "In this example, tri_recursion() is a function that we have defined to call itself (\"recurse\"). We use the k variable as the data, which decrements (-1) every time we recurse. The recursion ends when the condition is not greater than 0 (i.e. when it is 0).\n",
    "\n",
    "To a new developer it can take some time to work out how exactly this works, best way to find out is by testing and modifying it."
   ]
  },
  {
   "cell_type": "code",
   "execution_count": 14,
   "id": "bd0803c2-f252-4564-89a8-481bc4ed3fed",
   "metadata": {},
   "outputs": [
    {
     "name": "stdout",
     "output_type": "stream",
     "text": [
      "\n",
      "\n",
      "Recursion Example Results\n",
      "1\n",
      "3\n",
      "6\n",
      "10\n",
      "15\n",
      "21\n"
     ]
    },
    {
     "data": {
      "text/plain": [
       "21"
      ]
     },
     "execution_count": 14,
     "metadata": {},
     "output_type": "execute_result"
    }
   ],
   "source": [
    "def tri_recursion(k):\n",
    "  if(k > 0):\n",
    "    result = k + tri_recursion(k - 1)\n",
    "    print(result)\n",
    "  else:\n",
    "    result = 0\n",
    "  return result\n",
    "\n",
    "print(\"\\n\\nRecursion Example Results\")\n",
    "tri_recursion(6)"
   ]
  },
  {
   "cell_type": "markdown",
   "id": "ddf18cc7-0d15-4579-aff0-fba29d408fbe",
   "metadata": {},
   "source": [
    "## Python Lambda\n",
    "\n",
    "A lambda function is a small anonymous function.\n",
    "\n",
    "A lambda function can take any number of arguments, but can only have one expression.\n",
    "\n",
    "#### Syntax\n",
    "\n",
    "lambda arguments : expression\n",
    "The expression is executed and the result is returned:\n",
    "    \n",
    "Add 10 to argument a, and return the result:"
   ]
  },
  {
   "cell_type": "code",
   "execution_count": 15,
   "id": "dd07dd6b-29ef-4fd6-b6b8-af707384c502",
   "metadata": {},
   "outputs": [
    {
     "name": "stdout",
     "output_type": "stream",
     "text": [
      "15\n"
     ]
    }
   ],
   "source": [
    "x = lambda a : a + 10\n",
    "print(x(5))"
   ]
  },
  {
   "cell_type": "markdown",
   "id": "4295b6dc-d5b5-47cc-a3d9-8ed598cd2f3c",
   "metadata": {},
   "source": [
    "Lambda functions can take any number of arguments:"
   ]
  },
  {
   "cell_type": "code",
   "execution_count": 16,
   "id": "aec2f077-1e92-41ff-9857-b59b5ff53d02",
   "metadata": {},
   "outputs": [
    {
     "name": "stdout",
     "output_type": "stream",
     "text": [
      "13\n"
     ]
    }
   ],
   "source": [
    "x = lambda a, b, c : a + b + c\n",
    "print(x(5, 6, 2))"
   ]
  },
  {
   "cell_type": "code",
   "execution_count": null,
   "id": "5b43c84f-ea8f-480f-b7aa-15d5e868c1ea",
   "metadata": {},
   "outputs": [],
   "source": [
    "Why Use Lambda Functions?\n",
    "The power of lambda is better shown when you use them as an anonymous function inside another function.\n",
    "\n",
    "Say you have a function definition that takes one argument, and that argument will be multiplied with an unknown number:"
   ]
  },
  {
   "cell_type": "code",
   "execution_count": 17,
   "id": "51385855-982b-4da7-89b4-d3f4dbbe04c7",
   "metadata": {},
   "outputs": [],
   "source": [
    "def myfunc(n):\n",
    "  return lambda a : a * n"
   ]
  },
  {
   "cell_type": "markdown",
   "id": "1a439e60-9122-49b4-8e52-4b3ed7a883a4",
   "metadata": {},
   "source": [
    "Use that function definition to make a function that always doubles the number you send in:"
   ]
  },
  {
   "cell_type": "code",
   "execution_count": 18,
   "id": "e8d3581b-ca05-420c-b7d6-20c67d959c06",
   "metadata": {},
   "outputs": [
    {
     "name": "stdout",
     "output_type": "stream",
     "text": [
      "22\n"
     ]
    }
   ],
   "source": [
    "def myfunc(n):\n",
    "    return lambda a : a * n\n",
    "\n",
    "mydoubler = myfunc(2)\n",
    "\n",
    "print(mydoubler(11))"
   ]
  },
  {
   "cell_type": "markdown",
   "id": "cbfabed7-7aa5-45cf-9b76-cde64a6770fd",
   "metadata": {},
   "source": [
    "Or, use the same function definition to make a function that always triples the number you send in:"
   ]
  },
  {
   "cell_type": "code",
   "execution_count": 19,
   "id": "a97a3318-2e79-4db6-8e25-174c4f31bb31",
   "metadata": {},
   "outputs": [
    {
     "name": "stdout",
     "output_type": "stream",
     "text": [
      "33\n"
     ]
    }
   ],
   "source": [
    "def myfunc(n):\n",
    "    return lambda a : a * n\n",
    "\n",
    "mytripler = myfunc(3)\n",
    "\n",
    "print(mytripler(11))"
   ]
  },
  {
   "cell_type": "markdown",
   "id": "52554988-7894-4c3d-a095-5061b1012a65",
   "metadata": {},
   "source": [
    "Or, use the same function definition to make both functions, in the same program:"
   ]
  },
  {
   "cell_type": "code",
   "execution_count": 20,
   "id": "cc7f2533-2659-4376-9aa3-8cec467966c4",
   "metadata": {},
   "outputs": [
    {
     "name": "stdout",
     "output_type": "stream",
     "text": [
      "22\n",
      "33\n"
     ]
    }
   ],
   "source": [
    "def myfunc(n):\n",
    "    return lambda a : a * n\n",
    "\n",
    "mydoubler = myfunc(2)\n",
    "mytripler = myfunc(3)\n",
    "\n",
    "print(mydoubler(11))\n",
    "print(mytripler(11))"
   ]
  },
  {
   "cell_type": "code",
   "execution_count": 22,
   "id": "079eb534-f493-4532-88dd-27578a91503e",
   "metadata": {},
   "outputs": [
    {
     "name": "stdout",
     "output_type": "stream",
     "text": [
      "121\n",
      "25\n"
     ]
    }
   ],
   "source": [
    "def myfunc(n):\n",
    "    return lambda a : a ** n\n",
    "\n",
    "mydoubler = myfunc(2)\n",
    "\n",
    "print(mydoubler(11))\n",
    "print(mydoubler(5))"
   ]
  },
  {
   "cell_type": "code",
   "execution_count": 25,
   "id": "35db98dd-d5a0-4c29-93d1-09aa5ba2f318",
   "metadata": {},
   "outputs": [
    {
     "name": "stdout",
     "output_type": "stream",
     "text": [
      "<function myfunc.<locals>.<lambda> at 0x000001F470532A60>\n"
     ]
    },
    {
     "data": {
      "text/plain": [
       "9"
      ]
     },
     "execution_count": 25,
     "metadata": {},
     "output_type": "execute_result"
    }
   ],
   "source": [
    "print(myfunc(2))\n",
    "myfunc(2)(3)"
   ]
  },
  {
   "cell_type": "code",
   "execution_count": null,
   "id": "16e3112e-2a54-4f40-9805-d7f7ee6d0235",
   "metadata": {},
   "outputs": [],
   "source": []
  },
  {
   "cell_type": "code",
   "execution_count": null,
   "id": "dde5aff2-064c-4c84-97c6-ef41dfd77476",
   "metadata": {},
   "outputs": [],
   "source": []
  },
  {
   "cell_type": "code",
   "execution_count": null,
   "id": "14ac7413-6f21-478d-a7f3-d46b4ecf6de9",
   "metadata": {},
   "outputs": [],
   "source": []
  },
  {
   "cell_type": "code",
   "execution_count": null,
   "id": "a01aec00-8897-4010-83b1-1bb34d4a2626",
   "metadata": {},
   "outputs": [],
   "source": []
  },
  {
   "cell_type": "code",
   "execution_count": null,
   "id": "871ca5a2-8d3c-4771-ae57-3539bbefe933",
   "metadata": {},
   "outputs": [],
   "source": []
  },
  {
   "cell_type": "code",
   "execution_count": null,
   "id": "77f6fdf3-b2c9-4b10-9fb2-7eea939ee53d",
   "metadata": {},
   "outputs": [],
   "source": []
  },
  {
   "cell_type": "markdown",
   "id": "2b19feaf-2dd1-4ff5-97da-ef777b2eba22",
   "metadata": {},
   "source": [
    "## I. Lesson 1"
   ]
  },
  {
   "cell_type": "markdown",
   "id": "17d0ed5c-9f73-4883-b8ef-24bdd362633c",
   "metadata": {},
   "source": [
    "The `.dtypes` dataframe method for dataframes from the Pandas library is different from the builtin python function `type()` "
   ]
  },
  {
   "cell_type": "code",
   "execution_count": 1,
   "id": "24b5e15f-4588-4871-b528-a0ae2565990a",
   "metadata": {},
   "outputs": [],
   "source": [
    "import pandas as pd"
   ]
  },
  {
   "cell_type": "code",
   "execution_count": 4,
   "id": "49663a43-d927-4024-990d-b4a65a40e193",
   "metadata": {},
   "outputs": [],
   "source": [
    "df = pd.DataFrame()"
   ]
  },
  {
   "cell_type": "markdown",
   "id": "707f9995-075a-45d7-9d0e-683366d5b3f9",
   "metadata": {},
   "source": [
    "df\n",
    "df.dtypes"
   ]
  },
  {
   "cell_type": "markdown",
   "id": "c55a9932-4293-4b9d-af45-898116bd95cc",
   "metadata": {},
   "source": [
    "## II. Chuck Severance Python for Everyone Assignments."
   ]
  },
  {
   "cell_type": "markdown",
   "id": "65866745-d957-4ea7-a39e-8dd188ed7577",
   "metadata": {},
   "source": [
    "### As the user for his total hours and rate per hour thenb calculate their pay."
   ]
  },
  {
   "cell_type": "code",
   "execution_count": 2,
   "id": "47dd5487-6337-48c4-8b9f-b00bdfe6da42",
   "metadata": {},
   "outputs": [
    {
     "name": "stdin",
     "output_type": "stream",
     "text": [
      "Enter hours: 35\n",
      "Enter rate per hour: 2.75\n"
     ]
    },
    {
     "name": "stdout",
     "output_type": "stream",
     "text": [
      "Pay: 96.25\n"
     ]
    }
   ],
   "source": [
    "hrs = input(\"Enter hours:\")\n",
    "rate_per_hr = input(\"Enter rate per hour:\")\n",
    "print(\"Pay:\", float(hrs) * float(rate_per_hr))\n",
    "# use 35 hrs and 2.75 for rate_per_hr. Answer: 96.25"
   ]
  },
  {
   "cell_type": "code",
   "execution_count": 3,
   "id": "5e45d1c6-9d91-4de2-bca3-fb6488ffdfed",
   "metadata": {},
   "outputs": [
    {
     "data": {
      "text/plain": [
       "'\\x01'"
      ]
     },
     "execution_count": 3,
     "metadata": {},
     "output_type": "execute_result"
    }
   ],
   "source": [
    "chr(1)"
   ]
  },
  {
   "cell_type": "markdown",
   "id": "d13840ce-0964-4207-9d39-e1f5041dabc6",
   "metadata": {},
   "source": [
    "3.1 Write a program to prompt the user for hours and rate per hour using input to compute gross pay. Pay the hourly rate for the hours up to 40 and 1.5 times the hourly rate for all hours worked above 40 hours. Use 45 hours and a rate of 10.50 per hour to test the program (the pay should be 498.75). You should use input to read a string and float() to convert the string to a number. Do not worry about error checking the user input - assume the user types numbers properly.\n"
   ]
  },
  {
   "cell_type": "code",
   "execution_count": 35,
   "id": "715b81c1-7d0c-4698-b295-a9679a5fcc6d",
   "metadata": {},
   "outputs": [
    {
     "name": "stdin",
     "output_type": "stream",
     "text": [
      "Enter Hours: 45\n",
      "Enter Hours: 10.5\n"
     ]
    },
    {
     "name": "stdout",
     "output_type": "stream",
     "text": [
      "498.75\n"
     ]
    }
   ],
   "source": [
    "hrs = input(\"Enter Hours:\")\n",
    "rate_per_hour = input(\"Enter Hours:\")\n",
    "rate_per_hour = float(rate_per_hour)\n",
    "h = float(hrs)\n",
    "\n",
    "if h <= 40:\n",
    "    print(h*rate_per_hour)\n",
    "else:\n",
    "    print(40*rate_per_hour + (h-40)*rate_per_hour*1.5)"
   ]
  },
  {
   "cell_type": "markdown",
   "id": "7e7422f5-6c11-4db6-a7f3-e49f3be3f036",
   "metadata": {},
   "source": [
    "3.3 Write a program to prompt for a score between 0.0 and 1.0. If the score is out of range, print an error. If the score is between 0.0 and 1.0, print a grade using the following table:\n",
    "Score Grade\n",
    ">= 0.9 A\n",
    ">= 0.8 B\n",
    ">= 0.7 C\n",
    ">= 0.6 D\n",
    "< 0.6 F\n",
    "If the user enters a value out of range, print a suitable error message and exit. For the test, enter a score of 0.85.\n"
   ]
  },
  {
   "cell_type": "code",
   "execution_count": 38,
   "id": "1aa739c4-bce9-497f-8e7b-b2f1a594c056",
   "metadata": {},
   "outputs": [
    {
     "name": "stdin",
     "output_type": "stream",
     "text": [
      "Enter Score:  .1\n",
      "You did not enter a number please enter a number: 0\n"
     ]
    },
    {
     "name": "stdout",
     "output_type": "stream",
     "text": [
      "F\n"
     ]
    }
   ],
   "source": [
    "# This does not work correctly.\n",
    "\n",
    "score = input(\"Enter Score: \")\n",
    "\n",
    "try:\n",
    "    fs = float(score)\n",
    "    if fs > 1 | fs < 0 :\n",
    "        print(\"Error, you are out of bounds.\")\n",
    "        quite()\n",
    "except:\n",
    "    score = input(\"You did not enter a number please enter a number:\")\n",
    "    \n",
    "if fs >= .9:\n",
    "    print(\"A\")\n",
    "elif fs >= .8:\n",
    "    print('B')\n",
    "elif fs >= .7:\n",
    "    print('C')\n",
    "elif fs >= .6:\n",
    "    print('D')\n",
    "else:\n",
    "    print('F')\n",
    "\n",
    "    \n"
   ]
  },
  {
   "cell_type": "code",
   "execution_count": 1,
   "id": "720c5cfb-b783-448b-a5ef-0b59df35e334",
   "metadata": {},
   "outputs": [
    {
     "name": "stdin",
     "output_type": "stream",
     "text": [
      "Enter Score:  10\n"
     ]
    },
    {
     "name": "stdout",
     "output_type": "stream",
     "text": [
      "Error, you are out of bounds.\n"
     ]
    }
   ],
   "source": [
    "score = input(\"Enter Score: \")\n",
    "fs = float(score)\n",
    "#try:\n",
    "#    fs = float(score)\n",
    "#except:\n",
    "    #score = input(\"You did not enter a number please enter a number:\")    \n",
    "\n",
    "# This does not work properly because the try except block should be in a while loop so that the score is fedback\n",
    "# to the fs=float(score)\n",
    "\n",
    "if fs > 1 or fs < 0 :\n",
    "    print(\"Error, you are out of bounds.\")\n",
    "    quit()\n",
    "else: \n",
    "    if fs >= .9:\n",
    "        print(\"A\")\n",
    "    elif fs >= .8:\n",
    "        print('B')\n",
    "    elif fs >= .7:\n",
    "        print('C')\n",
    "    elif fs >= .6:\n",
    "        print('D')\n",
    "    else:\n",
    "        print('F')\n"
   ]
  },
  {
   "cell_type": "code",
   "execution_count": 2,
   "id": "1a19c456-bac9-4abb-8627-2d713a725c02",
   "metadata": {},
   "outputs": [
    {
     "name": "stdin",
     "output_type": "stream",
     "text": [
      "Enter Score:  .85\n"
     ]
    },
    {
     "name": "stdout",
     "output_type": "stream",
     "text": [
      "B\n"
     ]
    }
   ],
   "source": [
    "score = input(\"Enter Score: \")\n",
    "fs = float(score)\n",
    "\n",
    "if fs > 1 or fs < 0 :\n",
    "    print(\"Error, you are out of bounds.\")\n",
    "    quit()\n",
    "else: \n",
    "    if fs >= .9:\n",
    "        print(\"A\")\n",
    "    elif fs >= .8:\n",
    "        print('B')\n",
    "    elif fs >= .7:\n",
    "        print('C')\n",
    "    elif fs >= .6:\n",
    "        print('D')\n",
    "    else:\n",
    "        print('F')"
   ]
  },
  {
   "cell_type": "markdown",
   "id": "72d18843-e690-46a2-a55b-237ba9f974c7",
   "metadata": {},
   "source": []
  },
  {
   "cell_type": "markdown",
   "id": "c572bb3a-b583-4656-9e15-e449e755b1c5",
   "metadata": {},
   "source": [
    "4.6 Write a program to prompt the user for hours and rate per hour using input to compute gross pay. Pay should be the normal rate for hours up to 40 and time-and-a-half for the hourly rate for all hours worked above 40 hours. Put the logic to do the computation of pay in a function called computepay() and use the function to do the computation. The function should return a value. Use 45 hours and a rate of 10.50 per hour to test the program (the pay should be 498.75). You should use input to read a string and float() to convert the string to a number. Do not worry about error checking the user input unless you want to - you can assume the user types numbers properly. Do not name your variable sum or use the sum() function."
   ]
  },
  {
   "cell_type": "code",
   "execution_count": null,
   "id": "529f65f9-9fb9-400b-9c1b-5c1f0a2f381a",
   "metadata": {},
   "outputs": [],
   "source": [
    "def computepay(h, r):\n",
    "    return 42.37\n",
    "\n",
    "hrs = input(\"Enter Hours:\")\n",
    "p = computepay(45, 10.5)\n",
    "print(\"Pay\", p)"
   ]
  },
  {
   "cell_type": "code",
   "execution_count": 34,
   "id": "cbb53831-6b45-4019-84e9-2b609512490a",
   "metadata": {},
   "outputs": [
    {
     "name": "stdin",
     "output_type": "stream",
     "text": [
      "Enter Hours: 45\n",
      "Enter you pay rate: 10.5\n"
     ]
    },
    {
     "name": "stdout",
     "output_type": "stream",
     "text": [
      "Pay 498.75\n"
     ]
    }
   ],
   "source": [
    "def computepay():\n",
    "    hrs = input(\"Enter Hours:\")\n",
    "    payRate = input(\"Enter you pay rate:\")\n",
    "    \n",
    "    h = float(hrs)\n",
    "    p = float(payRate)\n",
    "    \n",
    "    if h > 40:\n",
    "        pay = 40 * p + (h - 40) * p * 1.5\n",
    "    else:\n",
    "        pay = p * h\n",
    "        \n",
    "    return pay\n",
    "\n",
    "#hrs = input(\"Enter Hours:\")\n",
    "p = computepay()\n",
    "print(\"Pay\", p)"
   ]
  },
  {
   "cell_type": "code",
   "execution_count": 2,
   "id": "23ac4ef1-7d55-49ed-981d-a71b438de98e",
   "metadata": {},
   "outputs": [],
   "source": [
    "def computepay():\n",
    "    hrs = input(\"Enter Hours:\")\n",
    "    \n",
    "    \n",
    "    try:\n",
    "        h = float(hrs)\n",
    "    except:\n",
    "        print(\"Error! You need to enter the hours as numbers - e.g. 45\")\n",
    "        quit()\n",
    "        \n",
    "    payRate = input(\"Enter you pay rate:\")    \n",
    "    try:\n",
    "        p = float(payRate)\n",
    "    except:\n",
    "        print(\"Error! You need to enter your pay rate in numbers, e.g. 10.50\")\n",
    "        quit()\n",
    "    \n",
    "    if h > 40:\n",
    "        pay = 40 * p + (h - 40) * p * 1.5\n",
    "    else:\n",
    "        pay = p * h\n",
    "        \n",
    "    return pay\n",
    "\n"
   ]
  },
  {
   "cell_type": "code",
   "execution_count": 3,
   "id": "795b4a6b-dd05-4a91-a0c4-8cdde64df681",
   "metadata": {},
   "outputs": [
    {
     "name": "stdin",
     "output_type": "stream",
     "text": [
      "Enter Hours: 45\n",
      "Enter you pay rate: 10.5\n"
     ]
    },
    {
     "name": "stdout",
     "output_type": "stream",
     "text": [
      "Pay 498.75\n"
     ]
    }
   ],
   "source": [
    "#hrs = input(\"Enter Hours:\")\n",
    "p = computepay()\n",
    "print(\"Pay\", p)"
   ]
  },
  {
   "cell_type": "code",
   "execution_count": null,
   "id": "fef52cbc-6a05-4e9f-9fc0-b29ba334eb43",
   "metadata": {},
   "outputs": [],
   "source": []
  },
  {
   "cell_type": "code",
   "execution_count": 4,
   "id": "6596ffcb-94b5-4502-8bdd-37b3e084c6e8",
   "metadata": {},
   "outputs": [
    {
     "name": "stdin",
     "output_type": "stream",
     "text": [
      "Enter Hours: ten\n"
     ]
    },
    {
     "name": "stdout",
     "output_type": "stream",
     "text": [
      "Error! You need to enter the hours as numbers - e.g. 45\n"
     ]
    },
    {
     "name": "stdin",
     "output_type": "stream",
     "text": [
      "Enter you pay rate: 10\n"
     ]
    },
    {
     "ename": "UnboundLocalError",
     "evalue": "local variable 'h' referenced before assignment",
     "output_type": "error",
     "traceback": [
      "\u001b[1;31m---------------------------------------------------------------------------\u001b[0m",
      "\u001b[1;31mUnboundLocalError\u001b[0m                         Traceback (most recent call last)",
      "Input \u001b[1;32mIn [4]\u001b[0m, in \u001b[0;36m<cell line: 1>\u001b[1;34m()\u001b[0m\n\u001b[1;32m----> 1\u001b[0m p \u001b[38;5;241m=\u001b[39m \u001b[43mcomputepay\u001b[49m\u001b[43m(\u001b[49m\u001b[43m)\u001b[49m\n\u001b[0;32m      2\u001b[0m \u001b[38;5;28mprint\u001b[39m(\u001b[38;5;124m\"\u001b[39m\u001b[38;5;124mPay\u001b[39m\u001b[38;5;124m\"\u001b[39m, p)\n",
      "Input \u001b[1;32mIn [2]\u001b[0m, in \u001b[0;36mcomputepay\u001b[1;34m()\u001b[0m\n\u001b[0;32m     15\u001b[0m     \u001b[38;5;28mprint\u001b[39m(\u001b[38;5;124m\"\u001b[39m\u001b[38;5;124mError! You need to enter your pay rate in numbers, e.g. 10.50\u001b[39m\u001b[38;5;124m\"\u001b[39m)\n\u001b[0;32m     16\u001b[0m     quit()\n\u001b[1;32m---> 18\u001b[0m \u001b[38;5;28;01mif\u001b[39;00m \u001b[43mh\u001b[49m \u001b[38;5;241m>\u001b[39m \u001b[38;5;241m40\u001b[39m:\n\u001b[0;32m     19\u001b[0m     pay \u001b[38;5;241m=\u001b[39m \u001b[38;5;241m40\u001b[39m \u001b[38;5;241m*\u001b[39m p \u001b[38;5;241m+\u001b[39m (h \u001b[38;5;241m-\u001b[39m \u001b[38;5;241m40\u001b[39m) \u001b[38;5;241m*\u001b[39m p \u001b[38;5;241m*\u001b[39m \u001b[38;5;241m1.5\u001b[39m\n\u001b[0;32m     20\u001b[0m \u001b[38;5;28;01melse\u001b[39;00m:\n",
      "\u001b[1;31mUnboundLocalError\u001b[0m: local variable 'h' referenced before assignment"
     ]
    }
   ],
   "source": [
    "p = computepay()\n",
    "print(\"Pay\", p)"
   ]
  },
  {
   "cell_type": "code",
   "execution_count": null,
   "id": "a451977a-f2cf-4385-92b2-5a08b13fed9a",
   "metadata": {},
   "outputs": [],
   "source": []
  },
  {
   "cell_type": "markdown",
   "id": "ed1e4e16-fc2f-45cf-a281-5f7c1e5041e6",
   "metadata": {},
   "source": [
    "### Find the largest number in a list"
   ]
  },
  {
   "cell_type": "code",
   "execution_count": 48,
   "id": "57b14519-1ffd-417d-890a-e65af821fe4c",
   "metadata": {},
   "outputs": [
    {
     "name": "stdout",
     "output_type": "stream",
     "text": [
      "232\n"
     ]
    },
    {
     "data": {
      "text/plain": [
       "10000000000.0"
      ]
     },
     "execution_count": 48,
     "metadata": {},
     "output_type": "execute_result"
    }
   ],
   "source": [
    "numbers = [23, 232, 12, 43, 44, -1, -3]\n",
    "\n",
    "largestNum = numbers[0]\n",
    "for num in numbers:\n",
    "    if num > largestNum:\n",
    "        largestNum = num\n",
    "print(largestNum)\n",
    "\n",
    "# Making the above into a function\n",
    "\n",
    "def find_largNum(list_of_num) :\n",
    "    \n",
    "    largestNum = list_of_num[0]\n",
    "    \n",
    "    for num in list_of_num :\n",
    "        if num > largestNum :\n",
    "            largestNum = num\n",
    "    \n",
    "    return(largestNum)\n",
    "\n",
    "find_largNum(numbers)\n",
    "find_largNum([5, -1, 324, 1e10, -1e20])"
   ]
  },
  {
   "cell_type": "markdown",
   "id": "6692f83d-170e-434c-88b6-bb9192d1f07f",
   "metadata": {},
   "source": [
    "5.2 Write a program that repeatedly prompts a user for integer numbers until the user enters 'done'. Once 'done' is entered, print out the largest and smallest of the numbers. If the user enters anything other than a valid number catch it with a try/except and put out an appropriate message and ignore the number. Enter 7, 2, bob, 10, and 4 and match the output below."
   ]
  },
  {
   "cell_type": "code",
   "execution_count": 5,
   "id": "7f149a15-4cb6-4424-b6e1-b210cc640d6b",
   "metadata": {},
   "outputs": [
    {
     "name": "stdin",
     "output_type": "stream",
     "text": [
      "Enter a number:  7\n",
      "Enter a number:  2\n",
      "Enter a number:  bob\n"
     ]
    },
    {
     "name": "stdout",
     "output_type": "stream",
     "text": [
      "Invalid input\n"
     ]
    },
    {
     "name": "stdin",
     "output_type": "stream",
     "text": [
      "Enter a number:  10\n",
      "Enter a number:  4\n",
      "Enter a number:  done\n"
     ]
    },
    {
     "name": "stdout",
     "output_type": "stream",
     "text": [
      "Maximum is 10\n",
      "Minimum is 2\n"
     ]
    }
   ],
   "source": [
    "largest = None\n",
    "smallest = None\n",
    "\n",
    "while True:\n",
    "    \n",
    "    num = input(\"Enter a number: \")\n",
    "    if num == \"done\":\n",
    "        break\n",
    "        \n",
    "    #print(num)\n",
    "    \n",
    "    try:\n",
    "        num = int(num)\n",
    "    except:\n",
    "        print(\"Invalid input\")\n",
    "        continue\n",
    "    \n",
    "    if largest is None:\n",
    "        largest = num\n",
    "    if largest < num:\n",
    "        largest = num\n",
    "    if smallest is None:\n",
    "        smallest = num\n",
    "    if smallest > num:\n",
    "        smallest = num\n",
    "        \n",
    "\n",
    "print(\"Maximum is\", largest)\n",
    "print(\"Minimum is\", smallest)"
   ]
  },
  {
   "cell_type": "code",
   "execution_count": null,
   "id": "09d9b127-7630-44fe-a015-45ecb07efbdf",
   "metadata": {},
   "outputs": [],
   "source": [
    "largest = None\n",
    "smallest = None\n",
    "while True:\n",
    "    num = input(\"Enter a number: \")\n",
    "\n",
    "    if num == \"done\":\n",
    "        break\n",
    "    print(num)\n",
    "              \n",
    "    try:\n",
    "        num\n",
    "    except: \n",
    "\n",
    "print(\"Maximum\", largest)"
   ]
  },
  {
   "cell_type": "markdown",
   "id": "0da8f94e-a6f1-4c7d-8a68-587bb362de2e",
   "metadata": {},
   "source": [
    "### Find all the string methods"
   ]
  },
  {
   "cell_type": "code",
   "execution_count": 1,
   "id": "a875159b-cd76-4793-901d-44efd062ef05",
   "metadata": {},
   "outputs": [
    {
     "data": {
      "text/plain": [
       "['__add__',\n",
       " '__class__',\n",
       " '__contains__',\n",
       " '__delattr__',\n",
       " '__dir__',\n",
       " '__doc__',\n",
       " '__eq__',\n",
       " '__format__',\n",
       " '__ge__',\n",
       " '__getattribute__',\n",
       " '__getitem__',\n",
       " '__getnewargs__',\n",
       " '__gt__',\n",
       " '__hash__',\n",
       " '__init__',\n",
       " '__init_subclass__',\n",
       " '__iter__',\n",
       " '__le__',\n",
       " '__len__',\n",
       " '__lt__',\n",
       " '__mod__',\n",
       " '__mul__',\n",
       " '__ne__',\n",
       " '__new__',\n",
       " '__reduce__',\n",
       " '__reduce_ex__',\n",
       " '__repr__',\n",
       " '__rmod__',\n",
       " '__rmul__',\n",
       " '__setattr__',\n",
       " '__sizeof__',\n",
       " '__str__',\n",
       " '__subclasshook__',\n",
       " 'capitalize',\n",
       " 'casefold',\n",
       " 'center',\n",
       " 'count',\n",
       " 'encode',\n",
       " 'endswith',\n",
       " 'expandtabs',\n",
       " 'find',\n",
       " 'format',\n",
       " 'format_map',\n",
       " 'index',\n",
       " 'isalnum',\n",
       " 'isalpha',\n",
       " 'isascii',\n",
       " 'isdecimal',\n",
       " 'isdigit',\n",
       " 'isidentifier',\n",
       " 'islower',\n",
       " 'isnumeric',\n",
       " 'isprintable',\n",
       " 'isspace',\n",
       " 'istitle',\n",
       " 'isupper',\n",
       " 'join',\n",
       " 'ljust',\n",
       " 'lower',\n",
       " 'lstrip',\n",
       " 'maketrans',\n",
       " 'partition',\n",
       " 'removeprefix',\n",
       " 'removesuffix',\n",
       " 'replace',\n",
       " 'rfind',\n",
       " 'rindex',\n",
       " 'rjust',\n",
       " 'rpartition',\n",
       " 'rsplit',\n",
       " 'rstrip',\n",
       " 'split',\n",
       " 'splitlines',\n",
       " 'startswith',\n",
       " 'strip',\n",
       " 'swapcase',\n",
       " 'title',\n",
       " 'translate',\n",
       " 'upper',\n",
       " 'zfill']"
      ]
     },
     "execution_count": 1,
     "metadata": {},
     "output_type": "execute_result"
    }
   ],
   "source": [
    "dir(\"string\")"
   ]
  },
  {
   "cell_type": "markdown",
   "id": "8fa9173d-b2b9-4e39-8edc-502b3a1a7ea5",
   "metadata": {},
   "source": [
    "### Some methods that look weird to me now 2022-06-29\n",
    "\n",
    "#### zfill()\n",
    "\n",
    "The zfill() method adds zeros (0) at the beginning of the string, until it reaches the specified length.\n",
    "\n",
    "If the value of the len parameter is less than the length of the string, no filling is done.\n",
    "\n"
   ]
  },
  {
   "cell_type": "code",
   "execution_count": 7,
   "id": "775c5afe-91b6-4705-9c8d-9d07d2d43146",
   "metadata": {},
   "outputs": [
    {
     "name": "stdout",
     "output_type": "stream",
     "text": [
      "string\n",
      "string\n",
      "string\n",
      "00000000000000string\n"
     ]
    }
   ],
   "source": [
    "print(\"string\".zfill(0))\n",
    "print(\"string\".zfill(5))\n",
    "print(\"string\".zfill(1))\n",
    "print(\"string\".zfill(20))"
   ]
  },
  {
   "cell_type": "markdown",
   "id": "f127027d-0c2c-4072-95f5-f533068eeb85",
   "metadata": {},
   "source": [
    "#### index() vs find()\n",
    "\n",
    "index()\tfind()\n",
    "Returns an exception if substring isn’t found\tReturns -1 if substring isn’t found\n",
    "It shouldn’t be used if you are not sure about the presence of the substring\tIt is the correct function to use when you are not sure about the presence of a substring\n",
    "This can be applied to strings, lists and tuples\tThis can only be applied to strings\n",
    "It cannot be used with conditional statement\tIt can be used with conditional statement to execute a statement if a substring is found as well if it is not"
   ]
  },
  {
   "cell_type": "code",
   "execution_count": null,
   "id": "95605139-3c96-432a-b572-16ffcb00f1f6",
   "metadata": {},
   "outputs": [],
   "source": []
  },
  {
   "cell_type": "code",
   "execution_count": 8,
   "id": "b2639817-5068-4fa8-97c0-fd6a808c0f42",
   "metadata": {},
   "outputs": [
    {
     "name": "stdout",
     "output_type": "stream",
     "text": [
      "Hellothere\n"
     ]
    }
   ],
   "source": [
    "str1 = \"Hello\"\n",
    "str2 = 'there'\n",
    "bob = str1 + str2\n",
    "print(bob)"
   ]
  },
  {
   "cell_type": "markdown",
   "id": "2af9f920-d9bd-49f5-ad99-4d8e3f2f1fe6",
   "metadata": {},
   "source": [
    "## Dictionaries {}"
   ]
  },
  {
   "cell_type": "code",
   "execution_count": 84,
   "id": "ef169138-0d7d-449e-bd75-6b5466fbb8d0",
   "metadata": {},
   "outputs": [
    {
     "name": "stdout",
     "output_type": "stream",
     "text": [
      "{'x1': 2, 'x2': 4}\n",
      "2\n"
     ]
    }
   ],
   "source": [
    "first_dict = dict(x1 = 2, x2 = 4)\n",
    "print(first_dict)\n",
    "print(first_dict['x1'])\n",
    "\n",
    "# print(first_dict[0]) # Indexing using integer does not work for dictionaries."
   ]
  },
  {
   "cell_type": "code",
   "execution_count": 80,
   "id": "982dabc6-ed18-4f53-a65e-0f0e9e64a44c",
   "metadata": {},
   "outputs": [
    {
     "name": "stdout",
     "output_type": "stream",
     "text": [
      "{}\n"
     ]
    }
   ],
   "source": [
    "# Empty dict\n",
    "\n",
    "dict_empty = {}\n",
    "print(dict_empty)"
   ]
  },
  {
   "cell_type": "code",
   "execution_count": 86,
   "id": "2fc30350-57eb-46d9-a2a7-2116e4197c71",
   "metadata": {},
   "outputs": [
    {
     "name": "stdout",
     "output_type": "stream",
     "text": [
      "-1\n",
      "{}\n"
     ]
    }
   ],
   "source": [
    "stuff = dict()\n",
    "print(stuff.get('candy',-1))\n",
    "print(stuff)"
   ]
  },
  {
   "cell_type": "markdown",
   "id": "1db35ec0-89dc-4740-bb77-e1bb360b50dd",
   "metadata": {},
   "source": [
    "## Difference between range() and a list of data types.\n",
    "\n",
    "In Python 3.x ,\n",
    "\n",
    "range(0,3) returns a class of immutable iterable objects that lets you iterate over them, it does not produce lists, and they do not store all the elements in the range in memory, instead they produce the elements on the fly (as you are iterating over them) , whereas list(range(0,3)) produces a list (by iterating over all the elements and appending to the list internally) .\n",
    "\n",
    "Example -\n",
    "\n",
    "```\n",
    ">>> range(0,3)\n",
    "range(0, 3)\n",
    ">>> list(range(0,3))\n",
    "[0, 1, 2]\n",
    "```\n",
    "\n",
    "Ideally, if you only want to iterate over that range of values , range(0,3) would be faster than (list(range(0,3)) because the latter has the overhead of producing a list before you start iterating over it."
   ]
  },
  {
   "cell_type": "markdown",
   "id": "16e9a57f-415d-4674-abfb-8378418a4e8c",
   "metadata": {},
   "source": [
    "## Python Regular Expression Quick Guide\n",
    "\n",
    "| RE       |  Functionality                                      |    \n",
    "|----------|-----------------------------------------------------|\n",
    "| ^        | Matches the beginning of a line                     |\n",
    "| $        | Matches the end of the line                         |\n",
    "| .        | Matches any character                               |\n",
    "| \\s       | Matches whitespace                                  |\n",
    "| \\S       | Matches any non-whitespace character                |\n",
    "| *        | Repeats a character zero or more times              |\n",
    "| *?       | Repeats a character zero or more times (non-greedy) |\n",
    "| +        | Repeats a character one or more times               |\n",
    "| +?       | Repeats a character one or more times (non-greedy)  |\n",
    "| [aeiou]  | Matches a single character in the listed set        |\n",
    "| [^XYZ]   | Matches a single character not in the listed set    |\n",
    "| [a-z0-9] | The set of characters can include a range           |\n",
    "| (        | Indicates where string extraction is to start       |\n",
    "| )        | Indicates where string extraction is to end         |\n",
    "\n",
    "\n",
    "\n",
    "Used the website https://www.tablesgenerator.com/markdown_tables to get the markdown syntax for creating the above markdown table.\n"
   ]
  },
  {
   "cell_type": "code",
   "execution_count": 42,
   "id": "f99ce3da-2811-4dae-b6d1-96edf2a34bc3",
   "metadata": {},
   "outputs": [
    {
     "name": "stdout",
     "output_type": "stream",
     "text": [
      "['From: Using the :']\n"
     ]
    }
   ],
   "source": [
    "import re\n",
    "\n",
    "x = 'From: Using the : character'\n",
    "y = re.findall('^F.+:', x)\n",
    "print(y)"
   ]
  },
  {
   "cell_type": "code",
   "execution_count": null,
   "id": "09ee4a2e-3e76-455e-befc-391692fdc304",
   "metadata": {},
   "outputs": [],
   "source": []
  },
  {
   "cell_type": "code",
   "execution_count": null,
   "id": "969b5fed-fb87-47b3-b5d8-8166b5cf25e3",
   "metadata": {},
   "outputs": [],
   "source": []
  },
  {
   "cell_type": "markdown",
   "id": "cfb7844a-a8c8-435f-a207-9525f51b0909",
   "metadata": {},
   "source": [
    "## Assignment Questions\n",
    "\n",
    "Write code using find() and string slicing (see section 6.10) to extract the number at the end of the line below. Convert the extracted value to a floating point number and print it out."
   ]
  },
  {
   "cell_type": "code",
   "execution_count": 13,
   "id": "833c2fa5-4229-43bf-a924-75eee8750eae",
   "metadata": {},
   "outputs": [
    {
     "name": "stdout",
     "output_type": "stream",
     "text": [
      "0.8475\n"
     ]
    }
   ],
   "source": [
    "text = \"X-DSPAM-Confidence:    0.8475\"\n",
    "\n",
    "idx_start = text.find('0')\n",
    "num = float(text[idx_start:])\n",
    "print(num)"
   ]
  },
  {
   "cell_type": "code",
   "execution_count": 22,
   "id": "94c1e63e-80ec-4826-ac08-98ed9b6e438e",
   "metadata": {},
   "outputs": [
    {
     "name": "stdout",
     "output_type": "stream",
     "text": [
      "idx_start: 18\n",
      "0.8475\n",
      "\n",
      "\n",
      ":    0.847\n",
      "\n",
      "\n",
      "\n",
      "\n"
     ]
    }
   ],
   "source": [
    "idx_start = text.find(':')\n",
    "print(\"idx_start:\", idx_start)\n",
    "print(text[idx_start+1:].strip())\n",
    "print('\\n')\n",
    "print(text[idx_start:-1])\n",
    "print('\\n')\n",
    "num = text[-1:idx_start].strip()\n",
    "print(num)\n",
    "#num = float(num)\n",
    "print(num)"
   ]
  },
  {
   "cell_type": "markdown",
   "id": "71948c99-9c43-41b1-9e76-07bb676fa77f",
   "metadata": {},
   "source": [
    "7.1 Write a program that prompts for a file name, then opens that file and reads through the file, and print the contents of the file in upper case. Use the file words.txt to produce the output below.\n",
    "You can download the sample data at http://www.py4e.com/code3/words.txt"
   ]
  },
  {
   "cell_type": "code",
   "execution_count": null,
   "id": "90c56b34-f834-4d22-99df-597555deaf62",
   "metadata": {},
   "outputs": [],
   "source": [
    "# Use words.txt as the file name\n",
    "fname = input(\"Enter file name: \")\n",
    "fh = open(fname)\n",
    "for line in fh:\n",
    "    print(line.upper().strip())\n"
   ]
  },
  {
   "cell_type": "markdown",
   "id": "d997e905-20aa-4ada-ae58-ad5a710d2868",
   "metadata": {},
   "source": [
    "7.2 Write a program that prompts for a file name, then opens that file and reads through the file, looking for lines of the form:\n",
    "X-DSPAM-Confidence:    0.8475\n",
    "Count these lines and extract the floating point values from each of the lines and compute the average of those values and produce an output as shown below. Do not use the sum() function or a variable named sum in your solution.\n",
    "You can download the sample data at http://www.py4e.com/code3/mbox-short.txt when you are testing below enter mbox-short.txt as the file name."
   ]
  },
  {
   "cell_type": "code",
   "execution_count": 48,
   "id": "000b876d-1524-4a5e-a57a-61d408f22f37",
   "metadata": {},
   "outputs": [
    {
     "name": "stdin",
     "output_type": "stream",
     "text": [
      "Enter file name:  mbox-short.txt\n"
     ]
    },
    {
     "name": "stdout",
     "output_type": "stream",
     "text": [
      "Average spam confidence: 0.7507185185185187\n",
      "Done\n"
     ]
    }
   ],
   "source": [
    "url = 'https://www.py4e.com/code3/mbox-short.txt?PHPSESSID=248eee7bab36cec6d43cfec96e80bc40'\n",
    "\n",
    "# Use the file name mbox-short.txt as the file name\n",
    "fname = input(\"Enter file name: \")\n",
    "fh = open(fname)\n",
    "count = 0\n",
    "value = 0\n",
    "for line in fh:\n",
    "    if not line.startswith(\"X-DSPAM-Confidence:\"):\n",
    "        continue\n",
    "        count += 1\n",
    "    #print(line)\n",
    "    \n",
    "    idx_start = line.find(':')\n",
    "    \n",
    "    line_value = line[idx_start+1:].strip()\n",
    "    line_value = float(line_value)\n",
    "    #print(type(line_value), line_value)\n",
    "    value += line_value\n",
    "    count += 1\n",
    "    #print(value)\n",
    "    #print(count)\n",
    "    \n",
    "mean = value/count\n",
    "print(\"Average spam confidence:\", mean)\n",
    "print(\"Done\")\n"
   ]
  },
  {
   "cell_type": "markdown",
   "id": "95eac493-4e89-401b-8453-9ec2b3390832",
   "metadata": {},
   "source": [
    "### Question 8.4 \n",
    "\n",
    "Open the file romeo.txt and read it line by line. For each line, split the line into a list of words using the split() method. The program should build a list of words. For each word on each line check to see if the word is already in the list and if not append it to the list. When the program completes, sort and print the resulting words in alphabetical order.\n",
    "You can download the sample data at http://www.py4e.com/code3/romeo.txt"
   ]
  },
  {
   "cell_type": "code",
   "execution_count": 71,
   "id": "eab7a8be-ca4b-408e-80b5-4f5f25823c8f",
   "metadata": {},
   "outputs": [
    {
     "name": "stdin",
     "output_type": "stream",
     "text": [
      "Enter file name:  romeo.txt\n"
     ]
    },
    {
     "name": "stdout",
     "output_type": "stream",
     "text": [
      "['Arise', 'But', 'It', 'Juliet', 'Who', 'already', 'and', 'breaks', 'east', 'envious', 'fair', 'grief', 'is', 'kill', 'light', 'moon', 'pale', 'sick', 'soft', 'sun', 'the', 'through', 'what', 'window', 'with', 'yonder']\n"
     ]
    }
   ],
   "source": [
    "fname = input(\"Enter file name: \")\n",
    "fh = open(fname)\n",
    "\n",
    "lst = list()\n",
    "\n",
    "for line in fh:\n",
    "    \n",
    "    #print(line)\n",
    "    line.rstrip()\n",
    "    #print(line.rstrip())\n",
    "    #print(line.split())\n",
    "          \n",
    "    for word in line.split():\n",
    "        #print(word)\n",
    "        if word not in lst: lst.append(word)\n",
    "        #print(lst)\n",
    "        \n",
    "lst.sort()     \n",
    "print(lst)\n",
    "\n"
   ]
  },
  {
   "cell_type": "markdown",
   "id": "89f3c7b4-40e6-4005-ae1d-d2db09771863",
   "metadata": {},
   "source": [
    "### Question 8.5 \n",
    "\n",
    "Open the file mbox-short.txt and read it line by line. When you find a line that starts with 'From ' like the following line:\n",
    "From stephen.marquard@uct.ac.za Sat Jan  5 09:14:16 2008\n",
    "You will parse the From line using split() and print out the second word in the line (i.e. the entire address of the person who sent the message). Then print out a count at the end.\n",
    "Hint: make sure not to include the lines that start with 'From:'. Also look at the last line of the sample output to see how to print the count.\n",
    "\n",
    "You can download the sample data at http://www.py4e.com/code3/mbox-short.txt"
   ]
  },
  {
   "cell_type": "code",
   "execution_count": null,
   "id": "4d4063f8-8c07-4732-9f27-d0c49224fd23",
   "metadata": {},
   "outputs": [],
   "source": []
  },
  {
   "cell_type": "code",
   "execution_count": 78,
   "id": "06bf8ede-30ff-44db-9021-564485352d41",
   "metadata": {},
   "outputs": [
    {
     "name": "stdout",
     "output_type": "stream",
     "text": [
      "stephen.marquard@uct.ac.za\n",
      "louis@media.berkeley.edu\n",
      "zqian@umich.edu\n",
      "rjlowe@iupui.edu\n",
      "zqian@umich.edu\n",
      "rjlowe@iupui.edu\n",
      "cwen@iupui.edu\n",
      "cwen@iupui.edu\n",
      "gsilver@umich.edu\n",
      "gsilver@umich.edu\n",
      "zqian@umich.edu\n",
      "gsilver@umich.edu\n",
      "wagnermr@iupui.edu\n",
      "zqian@umich.edu\n",
      "antranig@caret.cam.ac.uk\n",
      "gopal.ramasammycook@gmail.com\n",
      "david.horwitz@uct.ac.za\n",
      "david.horwitz@uct.ac.za\n",
      "david.horwitz@uct.ac.za\n",
      "david.horwitz@uct.ac.za\n",
      "stephen.marquard@uct.ac.za\n",
      "louis@media.berkeley.edu\n",
      "louis@media.berkeley.edu\n",
      "ray@media.berkeley.edu\n",
      "cwen@iupui.edu\n",
      "cwen@iupui.edu\n",
      "cwen@iupui.edu\n",
      "There were 27 lines in the file with From as the first word\n"
     ]
    }
   ],
   "source": [
    "#fname = input(\"Enter file name: \")\n",
    "#if len(fname) < 1:\n",
    "#    fname = \"mbox-short.txt\"\n",
    "\n",
    "fname = \"mbox-short.txt\"\n",
    "fh = open(fname)\n",
    "count = 0\n",
    "for line in fh:\n",
    "    if not line.startswith(\"From \"): continue\n",
    "    print(line.split()[1])\n",
    "    count += 1\n",
    "    \n",
    "print(\"There were\", count, \"lines in the file with From as the first word\")\n"
   ]
  },
  {
   "cell_type": "markdown",
   "id": "8afe6dc6-8409-47ab-aa90-f1235ad859bb",
   "metadata": {},
   "source": [
    "## Question 9.4 \n",
    "\n",
    "Write a program to read through the mbox-short.txt and figure out who has sent the greatest number of mail messages. The program looks for 'From ' lines and takes the second word of those lines as the person who sent the mail. The program creates a Python dictionary that maps the sender's mail address to a count of the number of times they appear in the file. After the dictionary is produced, the program reads through the dictionary using a maximum loop to find the most prolific committer."
   ]
  },
  {
   "cell_type": "code",
   "execution_count": 24,
   "id": "cf0ea717-bffe-429c-9a94-95a5f1ca17b2",
   "metadata": {},
   "outputs": [
    {
     "name": "stdin",
     "output_type": "stream",
     "text": [
      "Enter file: mbox-short.txt\n"
     ]
    },
    {
     "name": "stdout",
     "output_type": "stream",
     "text": [
      "cwen@iupui.edu 5\n"
     ]
    }
   ],
   "source": [
    "name = input(\"Enter file:\")\n",
    "if len(name) < 1:\n",
    "    name = \"mbox-short.txt\"\n",
    "handle = open(name)\n",
    "\n",
    "count_dic = dict()\n",
    "count_dic = {}\n",
    "for line in handle :\n",
    "    if not line.startswith(\"From \") : continue\n",
    "    email = line.split()[1]\n",
    "    count_dic[email] = count_dic.get(email, 0) + 1\n",
    "    \n",
    "#print(count_dic)\n",
    "email_highest = max(count_dic, key = count_dic.get)\n",
    "#print(email_highest)\n",
    "\n",
    "highest_email = max([ (v,k) for (k,v) in count_dic.items()])\n",
    "y, x = highest_email\n",
    "print(x,y)"
   ]
  },
  {
   "cell_type": "code",
   "execution_count": 21,
   "id": "af4066cc-18f0-47ca-98cc-f6622a698de5",
   "metadata": {},
   "outputs": [
    {
     "data": {
      "text/plain": [
       "(5, 'cwen@iupui.edu')"
      ]
     },
     "execution_count": 21,
     "metadata": {},
     "output_type": "execute_result"
    }
   ],
   "source": [
    "max([ (v,k) for (k,v) in count_dic.items()])"
   ]
  },
  {
   "cell_type": "code",
   "execution_count": null,
   "id": "04a904d5-6110-4f42-8184-f3e98d94de0f",
   "metadata": {},
   "outputs": [],
   "source": [
    "# Second solution but very similar, but a bit better. \n",
    "\n",
    "count_dict = {}\n",
    "name = input(\"Enter file:\")\n",
    "if len(name) < 1:\n",
    "    name = \"mbox-short.txt\"\n",
    "handle = open(name)\n",
    "for line in handle :\n",
    "    if not line.startswith(\"From \"): continue\n",
    "    email = line.split()[1]\n",
    "    count_dict[email] = count_dict.get(email, 0) + 1\n",
    "\n",
    "#print(count_dict)\n",
    "a = max(count_dict, key = count_dict.get)\n",
    "print(a, count_dict[a])"
   ]
  },
  {
   "cell_type": "code",
   "execution_count": null,
   "id": "cce3f717-a10c-4862-a63b-b45cfe91ebf6",
   "metadata": {},
   "outputs": [],
   "source": []
  },
  {
   "cell_type": "code",
   "execution_count": 14,
   "id": "e86a6bff-a54f-48a1-aa46-0c4ba8ede2eb",
   "metadata": {},
   "outputs": [
    {
     "data": {
      "text/plain": [
       "dict_items([('stephen.marquard@uct.ac.za', 2), ('louis@media.berkeley.edu', 3), ('zqian@umich.edu', 4), ('rjlowe@iupui.edu', 2), ('cwen@iupui.edu', 5), ('gsilver@umich.edu', 3), ('wagnermr@iupui.edu', 1), ('antranig@caret.cam.ac.uk', 1), ('gopal.ramasammycook@gmail.com', 1), ('david.horwitz@uct.ac.za', 4), ('ray@media.berkeley.edu', 1)])"
      ]
     },
     "execution_count": 14,
     "metadata": {},
     "output_type": "execute_result"
    }
   ],
   "source": [
    "count_dic.items()"
   ]
  },
  {
   "cell_type": "code",
   "execution_count": 18,
   "id": "e96ebbdc-498e-49da-bd96-0f538a7f8d55",
   "metadata": {},
   "outputs": [
    {
     "name": "stdout",
     "output_type": "stream",
     "text": [
      "[(2, 'stephen.marquard@uct.ac.za'), (3, 'louis@media.berkeley.edu'), (4, 'zqian@umich.edu'), (2, 'rjlowe@iupui.edu'), (5, 'cwen@iupui.edu'), (3, 'gsilver@umich.edu'), (1, 'wagnermr@iupui.edu'), (1, 'antranig@caret.cam.ac.uk'), (1, 'gopal.ramasammycook@gmail.com'), (4, 'david.horwitz@uct.ac.za'), (1, 'ray@media.berkeley.edu')]\n"
     ]
    }
   ],
   "source": [
    "a = [ (v,k) for (k,v) in count_dic.items()]\n",
    "print([ (v,k) for (k,v) in count_dic.items()])"
   ]
  },
  {
   "cell_type": "code",
   "execution_count": 20,
   "id": "1416c88e-b06c-4876-9193-e05d6c3d1df9",
   "metadata": {},
   "outputs": [
    {
     "name": "stdout",
     "output_type": "stream",
     "text": [
      "[(5, 'cwen@iupui.edu'), (4, 'zqian@umich.edu'), (4, 'david.horwitz@uct.ac.za'), (3, 'louis@media.berkeley.edu'), (3, 'gsilver@umich.edu'), (2, 'stephen.marquard@uct.ac.za'), (2, 'rjlowe@iupui.edu'), (1, 'wagnermr@iupui.edu'), (1, 'ray@media.berkeley.edu'), (1, 'gopal.ramasammycook@gmail.com'), (1, 'antranig@caret.cam.ac.uk')]\n"
     ]
    }
   ],
   "source": [
    "a.sort(reverse = True)\n",
    "print(a)\n"
   ]
  },
  {
   "cell_type": "code",
   "execution_count": null,
   "id": "b49605a2-6152-4db4-89a8-ef61aacc499f",
   "metadata": {},
   "outputs": [],
   "source": []
  },
  {
   "cell_type": "code",
   "execution_count": 7,
   "id": "36b2201d-8d0a-4632-8db2-8cc620664f14",
   "metadata": {},
   "outputs": [
    {
     "data": {
      "text/plain": [
       "'cwen@iupui.edu'"
      ]
     },
     "execution_count": 7,
     "metadata": {},
     "output_type": "execute_result"
    }
   ],
   "source": [
    "max(count_dic, key = count_dic.get)"
   ]
  },
  {
   "cell_type": "code",
   "execution_count": 10,
   "id": "7a1136ab-6010-4a33-84e7-40791011c8c4",
   "metadata": {},
   "outputs": [
    {
     "data": {
      "text/plain": [
       "(3, 5)"
      ]
     },
     "execution_count": 10,
     "metadata": {},
     "output_type": "execute_result"
    }
   ],
   "source": [
    "max((1,2), (3,5))"
   ]
  },
  {
   "cell_type": "markdown",
   "id": "b0db9797-1bad-4961-8892-8d549e2601b2",
   "metadata": {},
   "source": [
    "### Question 10.2 \n",
    "\n",
    "Write a program to read through the mbox-short.txt and figure out the distribution by hour of the day for each of the messages. You can pull the hour out from the 'From ' line by finding the time and then splitting the string a second time using a colon.\n",
    "\n",
    "From stephen.marquard@uct.ac.za Sat Jan  5 09:14:16 2008\n",
    "\n",
    "Once you have accumulated the counts for each hour, print out the counts, sorted by hour as shown below."
   ]
  },
  {
   "cell_type": "code",
   "execution_count": 35,
   "id": "ed18751f-8d97-4e99-8215-745a2c80c0ea",
   "metadata": {},
   "outputs": [
    {
     "name": "stdout",
     "output_type": "stream",
     "text": [
      "{'09': 2, '18': 1, '16': 4, '15': 2, '14': 1, '11': 6, '10': 3, '07': 1, '06': 1, '04': 3, '19': 1, '17': 2}\n",
      "04 3\n",
      "06 1\n",
      "07 1\n",
      "09 2\n",
      "10 3\n",
      "11 6\n",
      "14 1\n",
      "15 2\n",
      "16 4\n",
      "17 2\n",
      "18 1\n",
      "19 1\n"
     ]
    }
   ],
   "source": [
    "name = 'mbox-short.txt'\n",
    "handle = open(name)\n",
    "\n",
    "#hist_hrs = dict()\n",
    "hist_hrs = {}\n",
    "\n",
    "for line in handle :\n",
    "    if not line.startswith('From ') : continue\n",
    "    \n",
    "    time = line.split()[-2]\n",
    "    hr = time.split(':')[0]\n",
    "    \n",
    "    hist_hrs[hr] = hist_hrs.get(hr, 0) + 1\n",
    "\n",
    "#print(hist_hrs)\n",
    "\n",
    "hrs = sorted(hist_hrs)\n",
    "\n",
    "for hr in hrs:\n",
    "    print(hr, hist_hrs[hr])\n",
    "\n"
   ]
  },
  {
   "cell_type": "code",
   "execution_count": null,
   "id": "49399e9f-8690-44b5-99b7-0d6787a552e1",
   "metadata": {},
   "outputs": [],
   "source": [
    "name = input(\"Enter file:\")\n",
    "if len(name) < 1:\n",
    "    name = \"mbox-short.txt\"\n",
    "handle = open(name)\n"
   ]
  },
  {
   "cell_type": "code",
   "execution_count": null,
   "id": "ea2ca5ad-c044-4b6f-ba33-131d30d48730",
   "metadata": {},
   "outputs": [],
   "source": []
  },
  {
   "cell_type": "markdown",
   "id": "b997630b-6d0a-42bb-9709-04abcdbff9a5",
   "metadata": {},
   "source": [
    "## LeetCode Questions"
   ]
  },
  {
   "cell_type": "markdown",
   "id": "7eb6a889-d2d5-4731-bcb0-abf7f561e228",
   "metadata": {},
   "source": [
    "You are given a string s formed by digits and '#'. We want to map s to English lowercase characters as follows:\n",
    "\n",
    "Characters ('a' to 'i') are represented by ('1' to '9') respectively.\n",
    "Characters ('j' to 'z') are represented by ('10#' to '26#') respectively.\n",
    "Return the string formed after mapping.\n",
    "\n",
    "The test cases are generated so that a unique mapping will always exist.\n",
    "\n",
    " \n",
    "\n",
    "Example 1:\n",
    "\n",
    "Input: s = \"10#11#12\"\n",
    "Output: \"jkab\"\n",
    "Explanation: \"j\" -> \"10#\" , \"k\" -> \"11#\" , \"a\" -> \"1\" , \"b\" -> \"2\".\n",
    "Example 2:\n",
    "\n",
    "Input: s = \"1326#\"\n",
    "Output: \"acz\"\n",
    " \n",
    "\n",
    "Constraints:\n",
    "\n",
    "1 <= s.length <= 1000\n",
    "s consists of digits and the '#' letter.\n",
    "s will be a valid string such that mapping is always possible.\n"
   ]
  },
  {
   "cell_type": "code",
   "execution_count": 7,
   "id": "0217f551-2be2-4adb-840b-5cc744460399",
   "metadata": {},
   "outputs": [],
   "source": [
    "class Solution:\n",
    "    def freqAlphabets(self, s: str) -> str:\n",
    "        apl = \"abcdefghijklmnopqrsvwtxyz\""
   ]
  },
  {
   "cell_type": "code",
   "execution_count": 29,
   "id": "0659e706-4aac-4fa3-98e2-701483e947ad",
   "metadata": {},
   "outputs": [
    {
     "data": {
      "text/plain": [
       "'abcdefghijklmnopqrsvwtxyz'"
      ]
     },
     "execution_count": 29,
     "metadata": {},
     "output_type": "execute_result"
    }
   ],
   "source": [
    "apl = \"abcdefghijklmnopqrsvwtxyz\"\n",
    "len(apl)\n",
    "apl.split()\n",
    "apl_spl = [x for x in apl]\n",
    "\n",
    "the_string = \"\"\n",
    "for alph in apl_spl:\n",
    "    the_string += alph\n",
    "the_string"
   ]
  },
  {
   "cell_type": "code",
   "execution_count": 33,
   "id": "c59dd2d1-ed29-4370-9d53-0a5b7a7d8315",
   "metadata": {},
   "outputs": [
    {
     "name": "stdout",
     "output_type": "stream",
     "text": [
      "26\n"
     ]
    },
    {
     "data": {
      "text/plain": [
       "'abcdefghijklmnopqrstuvwxyz'"
      ]
     },
     "execution_count": 33,
     "metadata": {},
     "output_type": "execute_result"
    }
   ],
   "source": [
    "alphs = 'qwertyuiopasdfghjklzxcvbnm'\n",
    "alphs = sorted(alphs)\n",
    "print(len(alphs))\n",
    "\n",
    "the_string = \"\"\n",
    "for alph in alphs:\n",
    "    the_string += alph\n",
    "the_string"
   ]
  },
  {
   "cell_type": "code",
   "execution_count": null,
   "id": "e25b9da2-d128-431b-b88f-c092bada72e1",
   "metadata": {},
   "outputs": [],
   "source": []
  },
  {
   "cell_type": "code",
   "execution_count": 4,
   "id": "9c2bd3e1-6366-4dd9-8058-dcfe9b50337a",
   "metadata": {},
   "outputs": [
    {
     "name": "stdout",
     "output_type": "stream",
     "text": [
      "hello world\n"
     ]
    }
   ],
   "source": [
    "print(\"hello world\")"
   ]
  },
  {
   "cell_type": "code",
   "execution_count": null,
   "id": "8b926ddf-252c-4379-8213-db6c147717b8",
   "metadata": {},
   "outputs": [],
   "source": []
  },
  {
   "cell_type": "code",
   "execution_count": null,
   "id": "ee58233e-5adf-431e-ab91-3e260d0640a8",
   "metadata": {},
   "outputs": [],
   "source": []
  },
  {
   "cell_type": "markdown",
   "id": "fc517353-75f6-4676-a738-58a7283e31b2",
   "metadata": {},
   "source": [
    "Given an array of integers nums and an integer target, return indices of the two numbers such that they add up to target.\n",
    "\n",
    "You may assume that each input would have exactly one solution, and you may not use the same element twice.\n",
    "\n",
    "You can return the answer in any order.\n",
    "\n",
    "```\n",
    "Example 1:\n",
    "\n",
    "Input: nums = [2,7,11,15], target = 9\n",
    "Output: [0,1]\n",
    "Explanation: Because nums[0] + nums[1] == 9, we return [0, 1].\n",
    "\n",
    "Example 2:\n",
    "\n",
    "Input: nums = [3,2,4], target = 6\n",
    "Output: [1,2]\n",
    "\n",
    "Example 3:\n",
    "\n",
    "Input: nums = [3,3], target = 6\n",
    "Output: [0,1]\n",
    "```"
   ]
  },
  {
   "cell_type": "code",
   "execution_count": null,
   "id": "79e87bdd-c8d5-488d-b7fd-bf994ca7186c",
   "metadata": {},
   "outputs": [],
   "source": [
    "class Solution:\n",
    "    def twoSum(self, nums: List[int], target: int) -> List[int]:\n",
    "        \n",
    "        nums < target"
   ]
  },
  {
   "cell_type": "code",
   "execution_count": 158,
   "id": "bea2bf87-cae7-4ae9-a397-618d2ec5d722",
   "metadata": {},
   "outputs": [
    {
     "name": "stdout",
     "output_type": "stream",
     "text": [
      "[10, 22, 2, 7, 11, 15]\n",
      "[10, 22, 2, 7, 11, 15]\n"
     ]
    }
   ],
   "source": [
    "\n",
    "nums_original, target = [10, 22, 2,7,11,15],  9\n",
    "nums = nums_original\n",
    "print(nums)\n",
    "#print(nums.sort())\n",
    "print(nums)\n",
    "#nums < target"
   ]
  },
  {
   "cell_type": "code",
   "execution_count": 87,
   "id": "a27cf84f-8082-474a-b038-bb62d3a4aa91",
   "metadata": {},
   "outputs": [],
   "source": [
    "nums.append(target)"
   ]
  },
  {
   "cell_type": "code",
   "execution_count": 89,
   "id": "df62e6b4-14ce-4de9-96c4-ac22235392be",
   "metadata": {},
   "outputs": [
    {
     "name": "stdout",
     "output_type": "stream",
     "text": [
      "[2, 7, 9, 10, 11, 15, 22]\n",
      "[2, 7, 9, 10, 11, 15, 22]\n",
      "idxTarget: 2\n",
      "2\n",
      "[2, 7]\n",
      "2\n",
      "[0, 1]\n"
     ]
    }
   ],
   "source": [
    "print(nums)\n",
    "nums.sort()\n",
    "print(nums)\n",
    "idxTarget = nums.index(target)\n",
    "print(\"idxTarget:\", idxTarget)\n",
    "print(nums.index(target))\n",
    "\n",
    "candidates = nums[:idxTarget]\n",
    "print(nums[:idxTarget])\n",
    "highest_candidate = candidates[-1]\n",
    "candidate = target - highest_candidate\n",
    "print(candidate)\n",
    "\n",
    "if candidate in nums_original:\n",
    "    print([nums.index(candidate), nums.index(highest_candidate)])\n",
    "    "
   ]
  },
  {
   "cell_type": "code",
   "execution_count": 159,
   "id": "6638806f-f64f-4dad-b390-4eb5cb44dde5",
   "metadata": {},
   "outputs": [],
   "source": [
    "def twoSum(nums, target, prt=False) :\n",
    "    \n",
    "    nums_original = nums.copy()\n",
    "    \n",
    "    print(nums) if prt else \"\"\n",
    "    \n",
    "    nums.append(target)\n",
    "    \n",
    "    print(nums) if prt else \"\"\n",
    "    \n",
    "    nums.sort()\n",
    "    \n",
    "    print(nums) if prt else \"\"\n",
    "    \n",
    "    idxTarget = nums.index(target)\n",
    "    \n",
    "    print(\"idxTarget:\", idxTarget)  if prt else \"\"\n",
    "    print(nums.index(target)) if prt else \"\"\n",
    "\n",
    "    candidates = nums[:idxTarget]\n",
    "    \n",
    "    print(nums[:idxTarget]) if prt else \"\"\n",
    "    \n",
    "    highest_candidate = candidates[-1]\n",
    "    candidate = target - highest_candidate\n",
    "    \n",
    "    print(candidate) if prt else \"\"\n",
    "\n",
    "    if candidate in nums_original:\n",
    "        \n",
    "        \n",
    "        idx_hightest = nums_original.index(highest_candidate) \n",
    "        \n",
    "        try:\n",
    "            nums_original.index(candidate,  idx_hightest, -1)\n",
    "        except:\n",
    "            nums_original.index(candidate, 0, idx_hightest)\n",
    "        \n",
    "        print(\"nums_original\", nums_original) if prt else \"\"\n",
    "        idxs = [nums_original.index(candidate), nums_original.index(highest_candidate)]\n",
    "    \n",
    "        print(idxs)  if prt else \"\"\n",
    "        \n",
    "        return(idxs)\n",
    "    "
   ]
  },
  {
   "cell_type": "code",
   "execution_count": 160,
   "id": "5227bd8c-2bad-4622-8f6a-de5a7693668e",
   "metadata": {},
   "outputs": [
    {
     "name": "stdout",
     "output_type": "stream",
     "text": [
      "[2, 3]\n",
      "\n",
      "\n",
      "[2, 7, 9, 10, 11, 15, 22]\n",
      "[2, 7, 9, 10, 11, 15, 22, 9]\n",
      "[2, 7, 9, 9, 10, 11, 15, 22]\n",
      "idxTarget: 2\n",
      "2\n",
      "[2, 7]\n",
      "2\n",
      "nums_original [2, 7, 9, 10, 11, 15, 22]\n",
      "[0, 1]\n",
      "[0, 0]\n"
     ]
    }
   ],
   "source": [
    "ans1 = twoSum(nums, target)\n",
    "print(ans1)\n",
    "print(\"\\n\")\n",
    "twoSum(nums, target, True)\n",
    "print(twoSum([3,3], 6))"
   ]
  },
  {
   "cell_type": "code",
   "execution_count": 161,
   "id": "a2aba16b-c9aa-47cf-bbd8-6f33379c9a8f",
   "metadata": {},
   "outputs": [
    {
     "name": "stdout",
     "output_type": "stream",
     "text": [
      "[3, 2, 4]\n",
      "[3, 2, 4, 6]\n",
      "[2, 3, 4, 6]\n",
      "idxTarget: 3\n",
      "3\n",
      "[2, 3, 4]\n",
      "2\n",
      "nums_original [3, 2, 4]\n",
      "[1, 2]\n"
     ]
    },
    {
     "data": {
      "text/plain": [
       "[1, 2]"
      ]
     },
     "execution_count": 161,
     "metadata": {},
     "output_type": "execute_result"
    }
   ],
   "source": [
    "twoSum([3,2,4], 6, True)"
   ]
  },
  {
   "cell_type": "code",
   "execution_count": 162,
   "id": "e8a33c67-4596-4f35-9dae-319f3ffa3d70",
   "metadata": {},
   "outputs": [
    {
     "data": {
      "text/plain": [
       "[0, 0]"
      ]
     },
     "execution_count": 162,
     "metadata": {},
     "output_type": "execute_result"
    }
   ],
   "source": [
    "twoSum([3,3], 6)"
   ]
  },
  {
   "cell_type": "code",
   "execution_count": 65,
   "id": "e97846f4-cb89-4e8e-a5f2-48464b15b768",
   "metadata": {},
   "outputs": [
    {
     "name": "stdout",
     "output_type": "stream",
     "text": [
      "[ 2  7 10 11 15 22]\n",
      "[ True  True False False False False]\n"
     ]
    },
    {
     "data": {
      "text/plain": [
       "2"
      ]
     },
     "execution_count": 65,
     "metadata": {},
     "output_type": "execute_result"
    }
   ],
   "source": [
    "import numpy as np\n",
    "\n",
    "numss = np.array(nums)\n",
    "print(numss)\n",
    "type(numss)\n",
    "\n",
    "mask = numss < target\n",
    "print(mask)\n",
    "\n",
    "\n",
    "\n",
    "target - numss[mask].max()\n",
    "\n",
    "#numss[mask].idmax()\n",
    "\n",
    "\n",
    "\n"
   ]
  },
  {
   "cell_type": "code",
   "execution_count": 148,
   "id": "dd4d086b-751a-4081-a4e0-346844e7bb9c",
   "metadata": {},
   "outputs": [
    {
     "data": {
      "text/plain": [
       "0"
      ]
     },
     "execution_count": 148,
     "metadata": {},
     "output_type": "execute_result"
    }
   ],
   "source": [
    "[3,3].index(3)"
   ]
  },
  {
   "cell_type": "code",
   "execution_count": 156,
   "id": "828a4bcd-5c54-409b-8d81-c36cbbaa7af9",
   "metadata": {},
   "outputs": [
    {
     "ename": "ValueError",
     "evalue": "3 is not in list",
     "output_type": "error",
     "traceback": [
      "\u001b[1;31m---------------------------------------------------------------------------\u001b[0m",
      "\u001b[1;31mValueError\u001b[0m                                Traceback (most recent call last)",
      "Input \u001b[1;32mIn [156]\u001b[0m, in \u001b[0;36m<cell line: 1>\u001b[1;34m()\u001b[0m\n\u001b[1;32m----> 1\u001b[0m \u001b[43m[\u001b[49m\u001b[38;5;241;43m1\u001b[39;49m\u001b[43m,\u001b[49m\u001b[43m \u001b[49m\u001b[38;5;241;43m2\u001b[39;49m\u001b[43m,\u001b[49m\u001b[43m \u001b[49m\u001b[38;5;241;43m1\u001b[39;49m\u001b[43m,\u001b[49m\u001b[43m \u001b[49m\u001b[38;5;241;43m3\u001b[39;49m\u001b[43m,\u001b[49m\u001b[38;5;241;43m3\u001b[39;49m\u001b[43m]\u001b[49m\u001b[38;5;241;43m.\u001b[39;49m\u001b[43mindex\u001b[49m\u001b[43m(\u001b[49m\u001b[38;5;241;43m3\u001b[39;49m\u001b[43m,\u001b[49m\u001b[43m \u001b[49m\u001b[38;5;241;43m-\u001b[39;49m\u001b[38;5;241;43m1\u001b[39;49m\u001b[43m,\u001b[49m\u001b[38;5;241;43m-\u001b[39;49m\u001b[38;5;241;43m1\u001b[39;49m\u001b[43m)\u001b[49m\n",
      "\u001b[1;31mValueError\u001b[0m: 3 is not in list"
     ]
    }
   ],
   "source": [
    "[1, 2, 1, 3,3].index(3, -1,-1)"
   ]
  },
  {
   "cell_type": "code",
   "execution_count": null,
   "id": "af2ccb72-88f1-42ed-bb63-6cb4217528a7",
   "metadata": {},
   "outputs": [],
   "source": []
  },
  {
   "cell_type": "code",
   "execution_count": null,
   "id": "3ea162f1-7022-4187-921c-2ceddcd6736d",
   "metadata": {},
   "outputs": [],
   "source": []
  },
  {
   "cell_type": "code",
   "execution_count": null,
   "id": "69408358-2157-498a-89de-d9a3864d5f86",
   "metadata": {},
   "outputs": [],
   "source": []
  },
  {
   "cell_type": "markdown",
   "id": "0b597b7c-52e7-475b-bedd-d7509bb08722",
   "metadata": {},
   "source": [
    "# Amazon Coding Interview Questions"
   ]
  },
  {
   "cell_type": "markdown",
   "id": "45813456-e889-48bf-af98-96e789132f85",
   "metadata": {},
   "source": [
    "### Question 1.\n",
    "\n",
    "Find the missing number in the array\n",
    "\n",
    "You are given an array of positive numbers from 1 to n, such that all numbers from 1 to n are present except one number x. You have to find x. The input array is not sorted. Look at the below array and give it a try before checking the solution.\n",
    "\n",
    "3\n",
    "7\n",
    "1\n",
    "2\n",
    "8\n",
    "4\n",
    "5\n",
    "n = 8 missing number = 6"
   ]
  },
  {
   "cell_type": "code",
   "execution_count": 14,
   "id": "06a97c81-b194-4241-a0a7-f9ed4f1bc93f",
   "metadata": {},
   "outputs": [
    {
     "name": "stdout",
     "output_type": "stream",
     "text": [
      "8\n",
      "36\n",
      "30\n",
      "6\n"
     ]
    }
   ],
   "source": [
    "seq = [3, 7, 1, 2, 8, 4, 5]\n",
    "\n",
    "max_num = max(seq)\n",
    "print(max_num)\n",
    "\n",
    "seq_full = list(range(max_num + 1))\n",
    "seq_full_sum = sum(seq_full)\n",
    "print(seq_full_sum)\n",
    "\n",
    "seq_sum = sum(seq)\n",
    "print(seq_sum)\n",
    "\n",
    "missing_number = seq_full_sum - seq_sum\n",
    "print(missing_number)\n",
    "\n"
   ]
  },
  {
   "cell_type": "code",
   "execution_count": 15,
   "id": "13e01938-6fe8-47f3-8b00-257eb82cf4f4",
   "metadata": {},
   "outputs": [
    {
     "data": {
      "text/plain": [
       "[0, 1, 2, 3, 4, 5, 6, 7, 8, 9]"
      ]
     },
     "execution_count": 15,
     "metadata": {},
     "output_type": "execute_result"
    }
   ],
   "source": [
    "# Creating sequences but not as range() object but as lists. Note have to add + 1 to the end if want to get it, which we usually need to get.\n",
    "list(range(10))"
   ]
  },
  {
   "cell_type": "markdown",
   "id": "20605127-b388-4e3f-9b56-8b09bb36698e",
   "metadata": {},
   "source": [
    "### Question 2.\n",
    "\n",
    "Determine if the sum of two integers is equal to the given value.\n",
    "\n",
    "Given an array of integers and a value, determine if there are any two integers in the array whose sum is equal to the given value. Return true if the sum exists and return false if it does not. Consider this array and the target sums:\n",
    "\n",
    "5\n",
    "7\n",
    "1\n",
    "2\n",
    "8\n",
    "4\n",
    "3\n",
    "Target Sum\n",
    "10\n",
    "7+3=10, 2+8=10\n",
    "Target Sum\n",
    "19\n",
    "No 2 values sum up to 19"
   ]
  },
  {
   "cell_type": "code",
   "execution_count": null,
   "id": "62464d04-f1e8-4868-911a-95d3ac4fc7ae",
   "metadata": {},
   "outputs": [],
   "source": []
  },
  {
   "cell_type": "markdown",
   "id": "c3875819-8ded-4de8-8753-2a39291ae7be",
   "metadata": {},
   "source": [
    "### Question 3. \n",
    "\n",
    "Merge two sorted linked lists\n",
    "\n",
    "Given two sorted linked lists, merge them so that the resulting linked list is also sorted. Consider two sorted linked lists and the merged list below them as an example.\n"
   ]
  },
  {
   "cell_type": "code",
   "execution_count": 17,
   "id": "525b064b-3372-4716-9c28-794a426299f8",
   "metadata": {},
   "outputs": [
    {
     "name": "stdout",
     "output_type": "stream",
     "text": [
      "[4]\n",
      "[4]\n",
      "[4]\n",
      "[4]\n",
      "[4]\n",
      "[4]\n",
      "[4]\n",
      "[4]\n",
      "[4]\n",
      "[4]\n",
      "[4]\n",
      "[4]\n",
      "[4]\n",
      "[4]\n",
      "[4]\n",
      "[4]\n"
     ]
    }
   ],
   "source": [
    "list_1 = [4, 8, 15, 19]\n",
    "list_2 = [7, 9, 10, 16]\n",
    "\n",
    "\n",
    "sorted_list = []\n",
    "\n",
    "if list_1[0] >= list_2[0] :\n",
    "    sorted_list.append(list_2[0])\n",
    "else :\n",
    "    sorted_list.append(list_1[0])\n",
    "\n",
    "for el_1 in list_1:\n",
    "    for el_2 in list_2:\n",
    "        \n",
    "        print(sorted_list)\n",
    "        \n",
    "\n",
    "sorted_list = []\n",
    "\n",
    "for i in range(  max(len(list_1), len(list_2))  ):\n",
    "    min(list_1[i], list_2[i])\n",
    "        "
   ]
  },
  {
   "cell_type": "code",
   "execution_count": 19,
   "id": "83a1f404-3c75-4f34-a8b9-d1e7c3829dbf",
   "metadata": {},
   "outputs": [
    {
     "data": {
      "text/plain": [
       "[0, 1, 2, 3]"
      ]
     },
     "execution_count": 19,
     "metadata": {},
     "output_type": "execute_result"
    }
   ],
   "source": [
    "list(range(len(list_1)))"
   ]
  },
  {
   "cell_type": "code",
   "execution_count": null,
   "id": "1863ae5c-e0af-4d11-bc0b-1623900d90a6",
   "metadata": {},
   "outputs": [],
   "source": []
  },
  {
   "cell_type": "code",
   "execution_count": null,
   "id": "c7109cda-f0b1-41dc-ab95-dacc0c21faae",
   "metadata": {},
   "outputs": [],
   "source": []
  },
  {
   "cell_type": "code",
   "execution_count": null,
   "id": "0f740569-a0f8-42c9-8a52-d9116ea9a38e",
   "metadata": {},
   "outputs": [],
   "source": []
  },
  {
   "cell_type": "code",
   "execution_count": null,
   "id": "1a58fdf0-8acd-4caf-a785-1d526f6c495e",
   "metadata": {},
   "outputs": [],
   "source": []
  },
  {
   "cell_type": "code",
   "execution_count": null,
   "id": "724e2b52-42cd-4b97-9aa8-a205cc3bb519",
   "metadata": {},
   "outputs": [],
   "source": []
  },
  {
   "cell_type": "code",
   "execution_count": null,
   "id": "a5e78d96-abf9-4c70-b3b8-db01d1f021da",
   "metadata": {},
   "outputs": [],
   "source": []
  },
  {
   "cell_type": "code",
   "execution_count": null,
   "id": "4a5a0aae-b85c-42ed-ac63-555e14b6a1c5",
   "metadata": {},
   "outputs": [],
   "source": []
  },
  {
   "cell_type": "markdown",
   "id": "04113c33-9322-4f8f-93ca-bf5693f739bc",
   "metadata": {},
   "source": [
    "# Edabit Python practice questions\n",
    "\n",
    "Used google hotmail account to sign up.\n",
    "\n",
    "Site link: https://edabit.com/challenges\n",
    "\n",
    "Site link: https://edabit.com/challenge/2X2uZysLJ3CpsxLDD"
   ]
  },
  {
   "cell_type": "code",
   "execution_count": 4,
   "id": "8b719715-f2b8-4428-b562-4d53ad0633b4",
   "metadata": {},
   "outputs": [
    {
     "name": "stdout",
     "output_type": "stream",
     "text": [
      "6\n",
      "3628800\n"
     ]
    }
   ],
   "source": [
    "def factorial(num):\n",
    "\ti = num\n",
    "\tresult = 1\n",
    "\twhile i > 0:\n",
    "\t\tresult *= i\n",
    "\t\ti -= 1\n",
    "\treturn result\n",
    "print(factorial(3))\n",
    "print(factorial(10))"
   ]
  },
  {
   "cell_type": "code",
   "execution_count": 5,
   "id": "14d2ec58-7ec0-40eb-9b88-a64471a5f10c",
   "metadata": {},
   "outputs": [],
   "source": [
    "def damage(damage, speed, time):\n",
    "\tif damage < 0 or speed < 0:\n",
    "\t\treturn \"invalid\"\n",
    "\telse:\n",
    "\t\tif time == \"minute\":\n",
    "\t\t\treturn damage * speed * 60\n",
    "\t\telif time == \"hour\":\n",
    "\t\t\treturn damage * speed * 60 * 60\n",
    "\t\telse:\n",
    "\t\t\treturn damage * speed\n"
   ]
  },
  {
   "cell_type": "code",
   "execution_count": null,
   "id": "f01c486d-b9f7-4d59-9a7a-8e3b1f67108b",
   "metadata": {},
   "outputs": [],
   "source": []
  }
 ],
 "metadata": {
  "kernelspec": {
   "display_name": "Python 3 (ipykernel)",
   "language": "python",
   "name": "python3"
  },
  "language_info": {
   "codemirror_mode": {
    "name": "ipython",
    "version": 3
   },
   "file_extension": ".py",
   "mimetype": "text/x-python",
   "name": "python",
   "nbconvert_exporter": "python",
   "pygments_lexer": "ipython3",
   "version": "3.9.12"
  }
 },
 "nbformat": 4,
 "nbformat_minor": 5
}
