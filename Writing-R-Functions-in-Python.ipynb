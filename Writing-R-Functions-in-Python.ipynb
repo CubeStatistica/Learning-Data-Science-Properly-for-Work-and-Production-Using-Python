{
 "cells": [
  {
   "cell_type": "markdown",
   "metadata": {},
   "source": [
    "# R Function Equivalents Written in Python "
   ]
  },
  {
   "cell_type": "markdown",
   "metadata": {},
   "source": [
    "Creating the functions cbind and rbind with examples for python using pandas."
   ]
  },
  {
   "cell_type": "code",
   "execution_count": 7,
   "metadata": {},
   "outputs": [],
   "source": [
    "\n",
    "def rbind(df1, df2):\n",
    "    import pandas as pd\n",
    "    return pd.concat([df1, df2], ignore_index = True)\n",
    "\n",
    "def cbind(df1, df2):\n",
    "    import pandas as pd\n",
    "    # Note this does not keep the original indexes of the df's and resets them to 0,1,...\n",
    "    return pd.concat([df1.reset_index(drop=True), df2.reset_index(drop=True)], axis = 1)\n"
   ]
  },
  {
   "cell_type": "code",
   "execution_count": 11,
   "metadata": {},
   "outputs": [
    {
     "name": "stdout",
     "output_type": "stream",
     "text": [
      "     Name  Age\n",
      "0     Ali   36\n",
      "1   Craig   38\n",
      "2    Shaz   33\n",
      "3  Maheen   34\n",
      "       Name  Age\n",
      "0     Fahad   42\n",
      "1     Tyler   27\n",
      "2  Thai-Son   29\n",
      "3  Shazmeen   60\n",
      "4      Uruj   42\n",
      "5   Tatyana   31\n",
      "df_final: \n",
      "       Name  Age\n",
      "0       Ali   36\n",
      "1     Craig   38\n",
      "2      Shaz   33\n",
      "3    Maheen   34\n",
      "4     Fahad   42\n",
      "5     Tyler   27\n",
      "6  Thai-Son   29\n",
      "7  Shazmeen   60\n",
      "8      Uruj   42\n",
      "9   Tatyana   31\n"
     ]
    }
   ],
   "source": [
    "import pandas as pd\n",
    "\n",
    "dict1 = {'Name': ['Ali', 'Craig', 'Shaz', 'Maheen'], 'Age': [36, 38, 33, 34]} \n",
    "dict2 = {'Name': ['Fahad', 'Tyler', 'Thai-Son', 'Shazmeen', 'Uruj', 'Tatyana'], 'Age': [42, 27, 29, 60, 42, 31]}\n",
    "\n",
    "data1 = pd.DataFrame(dict1)\n",
    "data2 = pd.DataFrame(dict2) \n",
    "\n",
    "print(data1)\n",
    "print(data2)\n",
    "\n",
    "# We now row-bind the two dataframes and save it as df_final.\n",
    "\n",
    "df_final = rbind(data1, data2)\n",
    "\n",
    "print('df_final: ')\n",
    "print(df_final)\n"
   ]
  }
 ],
 "metadata": {
  "kernelspec": {
   "display_name": "Python 3.10.4 64-bit",
   "language": "python",
   "name": "python3"
  },
  "language_info": {
   "codemirror_mode": {
    "name": "ipython",
    "version": 3
   },
   "file_extension": ".py",
   "mimetype": "text/x-python",
   "name": "python",
   "nbconvert_exporter": "python",
   "pygments_lexer": "ipython3",
   "version": "3.10.4"
  },
  "orig_nbformat": 4,
  "vscode": {
   "interpreter": {
    "hash": "3ad933181bd8a04b432d3370b9dc3b0662ad032c4dfaa4e4f1596c548f763858"
   }
  }
 },
 "nbformat": 4,
 "nbformat_minor": 2
}
