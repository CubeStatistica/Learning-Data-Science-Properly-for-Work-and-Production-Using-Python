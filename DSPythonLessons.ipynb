{
 "cells": [
  {
   "cell_type": "markdown",
   "id": "0c56e311-0ca6-46fd-b339-67e7cf0fe369",
   "metadata": {},
   "source": [
    "# Learning Python"
   ]
  },
  {
   "cell_type": "markdown",
   "id": "57ff144a-4610-40c9-81df-7ac89375ab0c",
   "metadata": {},
   "source": [
    "Some basics"
   ]
  },
  {
   "cell_type": "code",
   "execution_count": 5,
   "id": "0200d38c-4b5d-4748-a014-f3b273612635",
   "metadata": {},
   "outputs": [],
   "source": [
    "#Camel Case\n",
    "myVariableName = \"John\"\n",
    "\n",
    "#Pascal Case\n",
    "MyVariableName = \"John\"\n",
    "\n",
    "#Snake Case\n",
    "my_variable_name = \"John\""
   ]
  },
  {
   "cell_type": "markdown",
   "id": "3f4a7a5b-29ad-4418-99ae-ee5ef47983fa",
   "metadata": {},
   "source": [
    "## W 3 Schools Lessons"
   ]
  },
  {
   "cell_type": "markdown",
   "id": "487ebca0-c442-48a0-b4fc-c1f30c8c323c",
   "metadata": {},
   "source": [
    "#### Multi-assignment in python"
   ]
  },
  {
   "cell_type": "code",
   "execution_count": 3,
   "id": "b1567808-197f-4508-bce4-92cc30d0449c",
   "metadata": {},
   "outputs": [
    {
     "name": "stdout",
     "output_type": "stream",
     "text": [
      "1 2 3\n"
     ]
    }
   ],
   "source": [
    "x, y, z, = 1, 2, 3\n",
    "print(x, y, z)"
   ]
  },
  {
   "cell_type": "markdown",
   "id": "b2ac68be-27cf-43a0-be32-d17c17c5e73f",
   "metadata": {},
   "source": [
    "#### Unpack a Collection\n",
    "\n",
    "If you have a collection of values in a list, tuple etc. Python allows you to extract the values into variables. This is called unpacking."
   ]
  },
  {
   "cell_type": "code",
   "execution_count": null,
   "id": "8a6d3940-5408-4747-88f5-3dab1e192539",
   "metadata": {},
   "outputs": [],
   "source": [
    "fruits = [\"apple\", \"banana\", \"cherry\"]\n",
    "x, y, z = fruits\n",
    "print(x)\n",
    "print(y)\n",
    "print(z)"
   ]
  },
  {
   "cell_type": "markdown",
   "id": "92caaaa7-a64a-4104-8419-7d23e4a046be",
   "metadata": {},
   "source": [
    "Built-in Data Types\n",
    "In programming, data type is an important concept.\n",
    "\n",
    "Variables can store data of different types, and different types can do different things.\n",
    "\n",
    "Python has the following data types built-in by default, in these categories:\n",
    "\n",
    "1. Text Type:\tstr\n",
    "2. Numeric Types:\tint, float, complex\n",
    "3. Sequence Types:\tlist, tuple, range\n",
    "4. Mapping Type:\tdict\n",
    "5. Set Types:\tset, frozenset\n",
    "6. Boolean Type:\tbool\n",
    "7. Binary Types:\tbytes, bytearray, memoryview\n",
    "8. None Type:\tNoneType"
   ]
  },
  {
   "cell_type": "code",
   "execution_count": null,
   "id": "96f30a78-2be8-428d-9c0a-f25a58cf02ef",
   "metadata": {},
   "outputs": [],
   "source": [
    "x = 1    # int\n",
    "y = 2.8  # float\n",
    "z = 1j   # complex"
   ]
  },
  {
   "cell_type": "markdown",
   "id": "fae8e07b-56f0-49c8-bdb5-ed01c9d6e873",
   "metadata": {},
   "source": [
    "#### Float and scientific notation for writing floats\n",
    "\n",
    "Float can also be scientific numbers with an \"e\" or \"E\" to indicate the power of 10."
   ]
  },
  {
   "cell_type": "code",
   "execution_count": 21,
   "id": "644c8437-3d37-477d-821f-1931626d8291",
   "metadata": {},
   "outputs": [
    {
     "name": "stdout",
     "output_type": "stream",
     "text": [
      "35000.0 \n",
      " 120000.0 \n",
      " -8.77e+101\n"
     ]
    }
   ],
   "source": [
    "x = 35e3\n",
    "y = 12E4\n",
    "z = -87.7e100\n",
    "\n",
    "print(x, \"\\n\", y, \"\\n\", z)"
   ]
  },
  {
   "cell_type": "code",
   "execution_count": 10,
   "id": "ea051b9a-4e7f-4c2a-a14d-756c141509c9",
   "metadata": {},
   "outputs": [
    {
     "name": "stdout",
     "output_type": "stream",
     "text": [
      "Did not define the dict correctly. \n",
      "\n",
      "{'name': 'Faizan', 'age': 34}\n",
      "Learning with errors. \n",
      "\n"
     ]
    }
   ],
   "source": [
    "# Get the datatype\n",
    "try:\n",
    "    x1 = {name:\"Faizan\", \"age\":34}\n",
    "except:\n",
    "    print(\"Did not define the dict correctly.\", \"\\n\")\n",
    "\n",
    "x1 = {\"name\":\"Faizan\", \"age\":34}\n",
    "print(x1)\n",
    "\n",
    "try:\n",
    "    for obj in list:\n",
    "        try:\n",
    "            print(type(obj))\n",
    "        except:\n",
    "            print(\"The obj is not assinged anything.|\")\n",
    "except:\n",
    "    print(\"Learning with errors.\", \"\\n\")"
   ]
  },
  {
   "cell_type": "markdown",
   "id": "5ad75eec-bdae-48e9-a27e-9f08d9e49422",
   "metadata": {},
   "source": [
    "#### The correct way of creating a dictionary obj\n",
    "\n",
    "Use this `x = dict(name = \"Faizan\", age = 34)`\n",
    "\n",
    "Instead of `x = {\"name\" = \"Faizan\", \"age\" = 34}`\n",
    "\n",
    "There is a lot less typing invovled in the first method. Also, not making the key a string feels more natural to me, though for automation it is of course better to have the key entered as a string. Also, using the equal sign `=` instead of the colon `:` for linking the key with the value also feels more natural.\n"
   ]
  },
  {
   "cell_type": "code",
   "execution_count": 11,
   "id": "b41855f6-cad2-429f-88fb-f8bc7d77294d",
   "metadata": {},
   "outputs": [
    {
     "name": "stdout",
     "output_type": "stream",
     "text": [
      "{'name': 'John', 'age': 36} <class 'dict'>\n"
     ]
    }
   ],
   "source": [
    "x = dict(name=\"John\", age=36)\n",
    "print(x, type(x))"
   ]
  },
  {
   "cell_type": "code",
   "execution_count": 3,
   "id": "239fd189-6ce4-4b4b-bbe8-f4f381f5140c",
   "metadata": {},
   "outputs": [
    {
     "data": {
      "text/plain": [
       "<memory at 0x000001D0F82F1C40>"
      ]
     },
     "execution_count": 3,
     "metadata": {},
     "output_type": "execute_result"
    }
   ],
   "source": [
    "x = memoryview(bytes(5))\n",
    "x"
   ]
  },
  {
   "cell_type": "markdown",
   "id": "8eb78618-b03c-44f2-b973-5d0f5f7983e4",
   "metadata": {},
   "source": [
    "### Random Numbers in Python\n",
    "\n",
    "Python does not have a random() function to make a random number, but Python has a built-in module called random that can be used to make random numbers:\n",
    "Import the random module, and display a random number between 1 and 9:"
   ]
  },
  {
   "cell_type": "code",
   "execution_count": 22,
   "id": "dc06d465-b490-4504-b4a9-4a580d96c56d",
   "metadata": {},
   "outputs": [
    {
     "name": "stdout",
     "output_type": "stream",
     "text": [
      "1\n"
     ]
    }
   ],
   "source": [
    "import random\n",
    "\n",
    "print(random.randrange(1, 10))"
   ]
  },
  {
   "cell_type": "markdown",
   "id": "caedd18c",
   "metadata": {},
   "source": [
    "Below we talk about the random functions found in pandas and numpy libraries.\n",
    "\n",
    "The basic R function that does random sampling given probability vector is the following: \n",
    "\n",
    "numpy.random.choice(a, size=None, replace=True, p=None) # Here p needs to be a probability I believe. \n",
    "\n",
    "and \n",
    "\n",
    " df['a'].sample(4, replace=True, weights=df['b']) # Advantage is that"
   ]
  },
  {
   "cell_type": "code",
   "execution_count": null,
   "id": "40b4ed90",
   "metadata": {},
   "outputs": [],
   "source": []
  },
  {
   "cell_type": "code",
   "execution_count": null,
   "id": "f8915649",
   "metadata": {},
   "outputs": [],
   "source": []
  },
  {
   "cell_type": "markdown",
   "id": "4b3a4d35-cb2c-4020-841f-dcb1896d178a",
   "metadata": {},
   "source": [
    "## Strings, String Methods, and manipulation in python\n",
    "\n",
    "String manipulation is amazing in python. It is next level in my humble opinion."
   ]
  },
  {
   "cell_type": "code",
   "execution_count": 23,
   "id": "34d71cd4-afad-4b03-8970-5e0773a1188c",
   "metadata": {},
   "outputs": [
    {
     "name": "stdout",
     "output_type": "stream",
     "text": [
      "True\n"
     ]
    }
   ],
   "source": [
    "txt = \"The best things in life are free!\"\n",
    "print(\"free\" in txt)"
   ]
  },
  {
   "cell_type": "code",
   "execution_count": 24,
   "id": "4e86b627-2c0e-4ff3-b77b-dabf1e9b35c8",
   "metadata": {},
   "outputs": [
    {
     "name": "stdout",
     "output_type": "stream",
     "text": [
      "Yes, 'free' is present.\n"
     ]
    }
   ],
   "source": [
    "txt = \"The best things in life are free!\"\n",
    "if \"free\" in txt:\n",
    "  print(\"Yes, 'free' is present.\")"
   ]
  },
  {
   "cell_type": "code",
   "execution_count": null,
   "id": "e4a41015-b34e-4ae4-8ba9-8fd3e4a2e8b4",
   "metadata": {},
   "outputs": [],
   "source": [
    "txt = \"The best things in life are free!\"\n",
    "print(\"expensive\" not in txt)"
   ]
  },
  {
   "cell_type": "code",
   "execution_count": null,
   "id": "5ef527ac-7eb4-4407-9582-462a3bd7a904",
   "metadata": {},
   "outputs": [],
   "source": [
    "txt = \"The best things in life are free!\"\n",
    "if \"expensive\" not in txt:\n",
    "  print(\"No, 'expensive' is NOT present.\")"
   ]
  },
  {
   "cell_type": "code",
   "execution_count": null,
   "id": "301f90e3-e57d-4225-8aee-7aa140faa428",
   "metadata": {},
   "outputs": [],
   "source": [
    "a = \"Hello, World!\"\n",
    "print(a.upper())"
   ]
  },
  {
   "cell_type": "code",
   "execution_count": null,
   "id": "c0a5d932-3d22-4c8e-8769-0949433f62c0",
   "metadata": {},
   "outputs": [],
   "source": [
    "a = \"Hello, World!\"\n",
    "print(a.lower())"
   ]
  },
  {
   "cell_type": "code",
   "execution_count": null,
   "id": "ef8016b5-4f17-49f9-bbbd-c098d860b456",
   "metadata": {},
   "outputs": [],
   "source": [
    "a = \" Hello, World! \"\n",
    "print(a.strip()) # returns \"Hello, World!\""
   ]
  },
  {
   "cell_type": "code",
   "execution_count": null,
   "id": "e95d8d42-7e76-456d-ae62-c4f0e5a9f6c3",
   "metadata": {},
   "outputs": [],
   "source": [
    "a = \"Hello, World!\"\n",
    "print(a.replace(\"H\", \"J\"))"
   ]
  },
  {
   "cell_type": "code",
   "execution_count": null,
   "id": "9720ced6-b4bc-4e50-a268-3e7f39909c62",
   "metadata": {},
   "outputs": [],
   "source": [
    "a = \"Hello, World!\"\n",
    "print(a.split(\",\")) # returns ['Hello', ' World!']"
   ]
  },
  {
   "cell_type": "code",
   "execution_count": null,
   "id": "18c8a596-8a6e-4d7e-910e-054ff1e6a119",
   "metadata": {},
   "outputs": [],
   "source": []
  },
  {
   "cell_type": "code",
   "execution_count": 25,
   "id": "647a84e7-ed62-4fa5-9721-fdf886d34749",
   "metadata": {},
   "outputs": [
    {
     "ename": "TypeError",
     "evalue": "can only concatenate str (not \"int\") to str",
     "output_type": "error",
     "traceback": [
      "\u001b[1;31m---------------------------------------------------------------------------\u001b[0m",
      "\u001b[1;31mTypeError\u001b[0m                                 Traceback (most recent call last)",
      "Input \u001b[1;32mIn [25]\u001b[0m, in \u001b[0;36m<cell line: 2>\u001b[1;34m()\u001b[0m\n\u001b[0;32m      1\u001b[0m age \u001b[38;5;241m=\u001b[39m \u001b[38;5;241m36\u001b[39m\n\u001b[1;32m----> 2\u001b[0m txt \u001b[38;5;241m=\u001b[39m \u001b[38;5;124;43m\"\u001b[39;49m\u001b[38;5;124;43mMy name is John, I am \u001b[39;49m\u001b[38;5;124;43m\"\u001b[39;49m\u001b[43m \u001b[49m\u001b[38;5;241;43m+\u001b[39;49m\u001b[43m \u001b[49m\u001b[43mage\u001b[49m\n\u001b[0;32m      3\u001b[0m \u001b[38;5;28mprint\u001b[39m(txt)\n",
      "\u001b[1;31mTypeError\u001b[0m: can only concatenate str (not \"int\") to str"
     ]
    }
   ],
   "source": [
    "age = 36\n",
    "txt = \"My name is John, I am \" + age\n",
    "print(txt)"
   ]
  },
  {
   "cell_type": "markdown",
   "id": "1c62e075-1861-4461-9deb-ef801afdb8b7",
   "metadata": {},
   "source": [
    "We can combine strings and numbers by using the format() method!\n",
    "\n",
    "The format() method takes the passed arguments, formats them, and places them in the string where the placeholders {} are:"
   ]
  },
  {
   "cell_type": "code",
   "execution_count": null,
   "id": "ac23dafb-9940-48d9-beca-858307b049be",
   "metadata": {},
   "outputs": [],
   "source": [
    "age = 36\n",
    "txt = \"My name is John, and I am {}\"\n",
    "print(txt.format(age))"
   ]
  },
  {
   "cell_type": "code",
   "execution_count": null,
   "id": "544ebd23-c21e-41fc-8598-44a00be5bacf",
   "metadata": {},
   "outputs": [],
   "source": []
  },
  {
   "cell_type": "markdown",
   "id": "b6adb186-d6e6-4c36-930a-953743d2d85f",
   "metadata": {},
   "source": [
    "The format() method takes unlimited number of arguments, and are placed into the respective placeholders:"
   ]
  },
  {
   "cell_type": "code",
   "execution_count": 26,
   "id": "9c583940-0ad1-4bbe-b91a-a37b6074ad2c",
   "metadata": {},
   "outputs": [
    {
     "name": "stdout",
     "output_type": "stream",
     "text": [
      "I want 3 pieces of item 567 for 49.95 dollars.\n"
     ]
    }
   ],
   "source": [
    "quantity = 3\n",
    "itemno = 567\n",
    "price = 49.95\n",
    "myorder = \"I want {} pieces of item {} for {} dollars.\"\n",
    "print(myorder.format(quantity, itemno, price))"
   ]
  },
  {
   "cell_type": "markdown",
   "id": "3a4c0d6f-7fa4-4974-bb0a-6bbd42f6e697",
   "metadata": {},
   "source": [
    "You can use index numbers {0} to be sure the arguments are placed in the correct placeholders:"
   ]
  },
  {
   "cell_type": "code",
   "execution_count": 27,
   "id": "9cb50f31-3cbf-43f4-803d-07de173915fd",
   "metadata": {},
   "outputs": [
    {
     "name": "stdout",
     "output_type": "stream",
     "text": [
      "I want to pay 49.95 dollars for 3 pieces of item 567.\n"
     ]
    }
   ],
   "source": [
    "quantity = 3\n",
    "itemno = 567\n",
    "price = 49.95\n",
    "myorder = \"I want to pay {2} dollars for {0} pieces of item {1}.\"\n",
    "print(myorder.format(quantity, itemno, price))"
   ]
  },
  {
   "cell_type": "code",
   "execution_count": null,
   "id": "cafbd77d-ad39-4815-87c6-2dd156febf22",
   "metadata": {},
   "outputs": [],
   "source": []
  },
  {
   "cell_type": "markdown",
   "id": "6ed24226-a7fb-4016-9653-5c3f11e371dc",
   "metadata": {},
   "source": [
    "To insert characters that are illegal in a string, use an escape character.\n",
    "\n",
    "An escape character is a backslash \\ followed by the character you want to insert.\n",
    "\n",
    "An example of an illegal character is a double quote inside a string that is surrounded by double quotes:"
   ]
  },
  {
   "cell_type": "code",
   "execution_count": 28,
   "id": "06f863c8-4c1c-48b2-803d-c39d0892d8cc",
   "metadata": {},
   "outputs": [
    {
     "ename": "SyntaxError",
     "evalue": "invalid syntax (7934146.py, line 1)",
     "output_type": "error",
     "traceback": [
      "\u001b[1;36m  Input \u001b[1;32mIn [28]\u001b[1;36m\u001b[0m\n\u001b[1;33m    txt = \"We are the so-called \"Vikings\" from the north.\"\u001b[0m\n\u001b[1;37m                                 ^\u001b[0m\n\u001b[1;31mSyntaxError\u001b[0m\u001b[1;31m:\u001b[0m invalid syntax\n"
     ]
    }
   ],
   "source": [
    "txt = \"We are the so-called \"Vikings\" from the north.\""
   ]
  },
  {
   "cell_type": "code",
   "execution_count": 30,
   "id": "ad3439a3-5140-4602-ae6e-676332aa745f",
   "metadata": {},
   "outputs": [
    {
     "name": "stdout",
     "output_type": "stream",
     "text": [
      "We are the so-called \"Vikings\" from the north.\n"
     ]
    }
   ],
   "source": [
    "txt = \"We are the so-called \\\"Vikings\\\" from the north.\"\n",
    "print(txt)"
   ]
  },
  {
   "cell_type": "markdown",
   "id": "bb9920b7-003b-4ef4-b8cc-c1bca474faca",
   "metadata": {},
   "source": [
    "Illegal characters\n",
    "\n",
    "\\'\tSingle Quote\t\n",
    "\\\\\tBackslash\t\n",
    "\\n\tNew Line\t\n",
    "\\r\tCarriage Return\t\n",
    "\\t\tTab\t\n",
    "\\b\tBackspace\t\n",
    "\\f\tForm Feed\t\n",
    "\\ooo\tOctal value\t\n",
    "\\xhh\tHex value"
   ]
  },
  {
   "cell_type": "markdown",
   "id": "f24453c8-42ba-4e4a-9c60-7b288ed80906",
   "metadata": {},
   "source": [
    "Method\tDescription\n",
    "* capitalize()\tConverts the first character to upper case\n",
    "* casefold()\tConverts string into lower case\n",
    "* center()\tReturns a centered string\n",
    "* count()\tReturns the number of times a specified value occurs in a string\n",
    "* encode()\tReturns an encoded version of the string\n",
    "* endswith()\tReturns true if the string ends with the specified value\n",
    "* expandtabs()\tSets the tab size of the string\n",
    "* find()\tSearches the string for a specified value and returns the position of where it was found\n",
    "* format()\tFormats specified values in a string\n",
    "* format_map()\tFormats specified values in a string\n",
    "* index()\tSearches the string for a specified value and returns the position of where it was found\n",
    "* isalnum()\tReturns True if all characters in the string are alphanumeric\n",
    "* isalpha()\tReturns True if all characters in the string are in the alphabet\n",
    "* isdecimal()\tReturns True if all characters in the string are decimals\n",
    "* isdigit()\tReturns True if all characters in the string are digits\n",
    "* isidentifier()\tReturns True if the string is an identifier\n",
    "* islower()\tReturns True if all characters in the string are lower case\n",
    "* isnumeric()\tReturns True if all characters in the string are numeric\n",
    "* isprintable()\tReturns True if all characters in the string are printable\n",
    "* isspace()\tReturns True if all characters in the string are whitespaces\n",
    "* istitle()\tReturns True if the string follows the rules of a title\n",
    "* isupper()\tReturns True if all characters in the string are upper case\n",
    "* join()\tJoins the elements of an iterable to the end of the string\n",
    "* ljust()\tReturns a left justified version of the string\n",
    "* lower()\tConverts a string into lower case\n",
    "* lstrip()\tReturns a left trim version of the string\n",
    "* maketrans()\tReturns a translation table to be used in translations\n",
    "* partition()\tReturns a tuple where the string is parted into three parts\n",
    "* replace()\tReturns a string where a specified value is replaced with a specified value\n",
    "* rfind()\tSearches the string for a specified value and returns the last position of where it was found\n",
    "* rindex()\tSearches the string for a specified value and returns the last position of where it was found\n",
    "* rjust()\tReturns a right justified version of the string\n",
    "* rpartition()\tReturns a tuple where the string is parted into three parts\n",
    "* rsplit()\tSplits the string at the specified separator, and returns a list\n",
    "* rstrip()\tReturns a right trim version of the string\n",
    "* split()\tSplits the string at the specified separator, and returns a list\n",
    "* splitlines()\tSplits the string at line breaks and returns a list\n",
    "* startswith()\tReturns true if the string starts with the specified value\n",
    "* strip()\tReturns a trimmed version of the string\n",
    "* swapcase()\tSwaps cases, lower case becomes upper case and vice versa\n",
    "* title()\tConverts the first character of each word to upper case\n",
    "* translate()\tReturns a translated string\n",
    "* upper()\tConverts a string into upper case\n",
    "* zfill()\tFills the string with a specified number of 0 values at the beginning"
   ]
  },
  {
   "cell_type": "code",
   "execution_count": null,
   "id": "ad8c9cd0-5f33-4e3a-9eac-925130cee2b2",
   "metadata": {},
   "outputs": [],
   "source": []
  },
  {
   "cell_type": "code",
   "execution_count": null,
   "id": "ee160568-88fe-4e7e-9492-a38df2ca30f0",
   "metadata": {},
   "outputs": [],
   "source": []
  },
  {
   "cell_type": "markdown",
   "id": "c867378b-9407-4c6f-ae5a-d99d274d4446",
   "metadata": {},
   "source": [
    "## Boolians"
   ]
  },
  {
   "cell_type": "code",
   "execution_count": 1,
   "id": "d5fb738c-12aa-4aa3-abe4-cd44ef6f77f9",
   "metadata": {},
   "outputs": [
    {
     "name": "stdout",
     "output_type": "stream",
     "text": [
      "True\n",
      "True\n"
     ]
    }
   ],
   "source": [
    "print(bool(\"Hello\"))\n",
    "print(bool(15))"
   ]
  },
  {
   "cell_type": "code",
   "execution_count": 9,
   "id": "110f6f79-f68d-426f-a43b-45e6cef83888",
   "metadata": {},
   "outputs": [
    {
     "name": "stdout",
     "output_type": "stream",
     "text": [
      "Hello 15 -1  0 None\n",
      "True True True False False False\n"
     ]
    }
   ],
   "source": [
    "x, y, z, z1, z2, z3 = \"Hello\", 15, -1, \"\", 0, None\n",
    "print(x, y, z, z1, z2, z3)\n",
    "print( bool(x), bool(y), bool(z), bool(z1), bool(z2), bool(z3) )\n",
    "\n"
   ]
  },
  {
   "cell_type": "markdown",
   "id": "fe081d8f-96b1-4a1e-bd29-010bd41fb967",
   "metadata": {
    "tags": []
   },
   "source": [
    "In fact, there are not many values that evaluate to False, except empty values, such as (), [], {}, \"\", the number 0, and the value None. And of course the value False evaluates to False."
   ]
  },
  {
   "cell_type": "markdown",
   "id": "f88aff7c-a352-4db1-9eca-056df12ce83e",
   "metadata": {},
   "source": [
    "One more value, or object in this case, evaluates to False, and that is if you have an object that is made from a class with a __len__ function that returns 0 or False:"
   ]
  },
  {
   "cell_type": "code",
   "execution_count": 11,
   "id": "e44cd89d-71f9-44cf-8523-158c1c451556",
   "metadata": {},
   "outputs": [
    {
     "name": "stdout",
     "output_type": "stream",
     "text": [
      "False\n"
     ]
    }
   ],
   "source": [
    "class myclass():\n",
    "  def __len__(self):\n",
    "    return 0\n",
    "\n",
    "myobj = myclass()\n",
    "print(bool(myobj))"
   ]
  },
  {
   "cell_type": "markdown",
   "id": "725cbc3f-204e-4151-bbd6-e5b19231f346",
   "metadata": {},
   "source": [
    "## Functions Can also return Boolans\n",
    "You can create functions that returns a Boolean Value:"
   ]
  },
  {
   "cell_type": "code",
   "execution_count": null,
   "id": "d4618ccb-bdad-4908-8606-b19ab0601337",
   "metadata": {},
   "outputs": [],
   "source": []
  },
  {
   "cell_type": "markdown",
   "id": "96d92c65-445e-44b3-bf03-2fa4859d68ff",
   "metadata": {},
   "source": [
    "Also, You can execute code based on the Boolean answer of a function:  !!!!"
   ]
  },
  {
   "cell_type": "code",
   "execution_count": 12,
   "id": "2d297211-73c9-4c69-824a-359d60fd3d7a",
   "metadata": {},
   "outputs": [
    {
     "name": "stdout",
     "output_type": "stream",
     "text": [
      "YES!\n"
     ]
    }
   ],
   "source": [
    "def myFunction() :\n",
    "  return True\n",
    "\n",
    "if myFunction():\n",
    "  print(\"YES!\")\n",
    "else:\n",
    "  print(\"NO!\")"
   ]
  },
  {
   "cell_type": "markdown",
   "id": "953e32a5-44c7-4a46-8b12-29108e619790",
   "metadata": {},
   "source": [
    "Python also has many built-in functions that return a boolean value, like the isinstance() function, which can be used to determine if an object is of a certain data type:\n",
    "\n",
    "This is useful for automation where the type and the obj can be passed into the function isinstance():"
   ]
  },
  {
   "cell_type": "code",
   "execution_count": 13,
   "id": "e17616d1-19a7-4bc0-8288-46e1f491c481",
   "metadata": {},
   "outputs": [
    {
     "name": "stdout",
     "output_type": "stream",
     "text": [
      "True\n"
     ]
    }
   ],
   "source": [
    "x = 200\n",
    "print(isinstance(x, int))"
   ]
  },
  {
   "cell_type": "markdown",
   "id": "8ca206ed-2a6b-4349-8ab2-65fe68010fc6",
   "metadata": {},
   "source": [
    "## Python divides the operators in the following groups:\n",
    "\n",
    "* Arithmetic operators\n",
    "* Assignment operators\n",
    "* Comparison operators\n",
    "* Logical operators\n",
    "* Identity operators\n",
    "* Membership operators\n",
    "* Bitwise operators"
   ]
  },
  {
   "cell_type": "markdown",
   "id": "e56b869f-e2bc-4cfb-b71b-82832878adcb",
   "metadata": {},
   "source": [
    "%\t         Modulus\t     x % y This is the remainder operator the percent sign %\n"
   ]
  },
  {
   "cell_type": "code",
   "execution_count": 14,
   "id": "9bcedd9c-a67e-4398-ae50-69c114b3f636",
   "metadata": {},
   "outputs": [
    {
     "data": {
      "text/plain": [
       "0"
      ]
     },
     "execution_count": 14,
     "metadata": {},
     "output_type": "execute_result"
    }
   ],
   "source": [
    "4%2"
   ]
  },
  {
   "cell_type": "code",
   "execution_count": 15,
   "id": "e246a51e-c1db-47d6-acad-bcdac1be796b",
   "metadata": {},
   "outputs": [
    {
     "data": {
      "text/plain": [
       "1"
      ]
     },
     "execution_count": 15,
     "metadata": {},
     "output_type": "execute_result"
    }
   ],
   "source": [
    "5%2"
   ]
  },
  {
   "cell_type": "code",
   "execution_count": 16,
   "id": "9439fe88-e125-4d10-adc2-bb291e23da8d",
   "metadata": {},
   "outputs": [
    {
     "data": {
      "text/plain": [
       "1"
      ]
     },
     "execution_count": 16,
     "metadata": {},
     "output_type": "execute_result"
    }
   ],
   "source": [
    "15%2"
   ]
  },
  {
   "cell_type": "markdown",
   "id": "90d354ee-b355-4c24-b8be-0d2869d1c6f5",
   "metadata": {},
   "source": [
    "//\tFloor division\tx // y"
   ]
  },
  {
   "cell_type": "code",
   "execution_count": 20,
   "id": "40c8f8f5-be32-4b38-b779-33b7d38c56dc",
   "metadata": {},
   "outputs": [
    {
     "data": {
      "text/plain": [
       "(2, 1, 2, 7)"
      ]
     },
     "execution_count": 20,
     "metadata": {},
     "output_type": "execute_result"
    }
   ],
   "source": [
    "4//2, 3//2, 5//2, 15//2"
   ]
  },
  {
   "cell_type": "code",
   "execution_count": 23,
   "id": "d1202a82-9e96-432e-82b6-543909e1f39d",
   "metadata": {},
   "outputs": [
    {
     "name": "stdout",
     "output_type": "stream",
     "text": [
      "Yes, apple is a fruit!\n"
     ]
    }
   ],
   "source": [
    "fruits = [\"apple\", \"banana\"]\n",
    "if \"apple\" in fruits:\n",
    "    print(\"Yes, apple is a fruit!\")"
   ]
  },
  {
   "cell_type": "code",
   "execution_count": null,
   "id": "860c7243-b521-4836-9ad5-2b83b2500cf3",
   "metadata": {},
   "outputs": [],
   "source": []
  },
  {
   "cell_type": "markdown",
   "id": "5f463b2d-f3a9-4ee4-87b9-87879ff142c9",
   "metadata": {},
   "source": [
    "## Lists Allow Duplicates\n",
    "Since lists are indexed, lists can have items with the same value:"
   ]
  },
  {
   "cell_type": "code",
   "execution_count": 24,
   "id": "de642e1a-9532-45ba-a05d-14945b7f26f5",
   "metadata": {},
   "outputs": [
    {
     "data": {
      "text/plain": [
       "['apple', 'banana', 'cherry', 'apple', 'cherry']"
      ]
     },
     "execution_count": 24,
     "metadata": {},
     "output_type": "execute_result"
    }
   ],
   "source": [
    "[\"apple\", \"banana\", \"cherry\", \"apple\", \"cherry\"]"
   ]
  },
  {
   "cell_type": "markdown",
   "id": "83dd9ce6-8a57-4a07-bc65-0c8b254ac002",
   "metadata": {},
   "source": [
    "A list can contain different data types:"
   ]
  },
  {
   "cell_type": "code",
   "execution_count": 25,
   "id": "6d5b842a-b621-4936-b558-2f7dde236f3b",
   "metadata": {},
   "outputs": [
    {
     "data": {
      "text/plain": [
       "['abc', 34, True, 40, 'male']"
      ]
     },
     "execution_count": 25,
     "metadata": {},
     "output_type": "execute_result"
    }
   ],
   "source": [
    "[\"abc\", 34, True, 40, \"male\"]"
   ]
  },
  {
   "cell_type": "markdown",
   "id": "460828a6-e6eb-4864-9b8a-0337c86a760b",
   "metadata": {},
   "source": [
    "## Python Collections (Arrays) Summary\n",
    "\n",
    "There are four collection data types in the Python programming language:\n",
    "\n",
    "- **List** is a collection which is ordered and changeable. Allows duplicate members.\n",
    "- **Tuple** is a collection which is ordered and unchangeable. Allows duplicate members.\n",
    "- **Set** is a collection which is unordered, unchangeable**, and unindexed. No duplicate members.\n",
    "- **Dictionary** is a collection which is ordered*** and changeable. No duplicate members.\n",
    "\n",
    "** Set items are unchangeable, but you can remove and/or add items whenever you like.\n",
    "\n",
    "*** As of Python version 3.7, dictionaries are ordered. In Python 3.6 and earlier, dictionaries are unordered."
   ]
  },
  {
   "cell_type": "code",
   "execution_count": 27,
   "id": "5c1d6fff-8575-4bbd-8cfa-b8fddf23664c",
   "metadata": {},
   "outputs": [
    {
     "name": "stdout",
     "output_type": "stream",
     "text": [
      "['cherry', 'orange', 'kiwi']\n"
     ]
    }
   ],
   "source": [
    "thislist = [\"apple\", \"banana\", \"cherry\", \"orange\", \"kiwi\", \"melon\", \"mango\"]\n",
    "print(thislist[2:5])"
   ]
  },
  {
   "cell_type": "markdown",
   "id": "30c5e263-c1da-499a-860a-4f0b9f7b9386",
   "metadata": {},
   "source": [
    "This example returns the items from \"orange\" (-4) to, but NOT including \"mango\" (-1):"
   ]
  },
  {
   "cell_type": "code",
   "execution_count": 28,
   "id": "73c0404f-f385-4c00-8e66-e1ad8868dd70",
   "metadata": {},
   "outputs": [
    {
     "name": "stdout",
     "output_type": "stream",
     "text": [
      "['orange', 'kiwi', 'melon']\n"
     ]
    }
   ],
   "source": [
    "thislist = [\"apple\", \"banana\", \"cherry\", \"orange\", \"kiwi\", \"melon\", \"mango\"]\n",
    "print(thislist[-4:-1])"
   ]
  },
  {
   "cell_type": "code",
   "execution_count": null,
   "id": "a351e2c2-6d4d-4e1f-a923-5229e9640f96",
   "metadata": {},
   "outputs": [],
   "source": []
  },
  {
   "cell_type": "markdown",
   "id": "c7f2eff7-780e-4eaa-a65d-20eb5e1c5467",
   "metadata": {},
   "source": [
    "## List Methods\n",
    "\n",
    "### Sort()\n",
    "\n",
    "This reverse argument can be very usefull: `thislist.sort(reverse = True)`"
   ]
  },
  {
   "cell_type": "code",
   "execution_count": 36,
   "id": "6441306d-5272-43d1-a2ae-51e3c5c53b19",
   "metadata": {},
   "outputs": [
    {
     "name": "stdout",
     "output_type": "stream",
     "text": [
      "['pineapple', 'orange', 'mango', 'kiwi', 'banana']\n"
     ]
    }
   ],
   "source": [
    "thislist = [\"orange\", \"mango\", \"kiwi\", \"pineapple\", \"banana\"]\n",
    "thislist.sort(reverse = True)\n",
    "print(thislist)"
   ]
  },
  {
   "cell_type": "markdown",
   "id": "66f25f63-c268-4ccf-a024-b5dd39b4687f",
   "metadata": {},
   "source": [
    "## Append Items"
   ]
  },
  {
   "cell_type": "code",
   "execution_count": 34,
   "id": "a636fdbd-d9cf-4fe9-9ef3-6b19c3403a77",
   "metadata": {},
   "outputs": [
    {
     "name": "stdout",
     "output_type": "stream",
     "text": [
      "['apple', 'banana', 'cherry', 'orange']\n"
     ]
    }
   ],
   "source": [
    "# We can append\n",
    "thislist = [\"apple\", \"banana\", \"cherry\"]\n",
    "thislist.append(\"orange\")\n",
    "print(thislist)"
   ]
  },
  {
   "cell_type": "markdown",
   "id": "4d64caec-0f74-412a-8238-f24871ab5c97",
   "metadata": {},
   "source": [
    "## Insert Items\n",
    "\n",
    "To insert a new list item, without replacing any of the existing values, we can use the insert() method.\n",
    "\n",
    "The insert() method inserts an item at the specified index:"
   ]
  },
  {
   "cell_type": "code",
   "execution_count": 35,
   "id": "59e4d10e-d691-42ec-809a-5d1ccff05dac",
   "metadata": {},
   "outputs": [
    {
     "name": "stdout",
     "output_type": "stream",
     "text": [
      "['apple', 'banana', 'watermelon', 'cherry']\n"
     ]
    }
   ],
   "source": [
    "# Insert \"watermelon\" as the third item: \n",
    "thislist = [\"apple\", \"banana\", \"cherry\"]\n",
    "thislist.insert(2, \"watermelon\")\n",
    "print(thislist)"
   ]
  },
  {
   "cell_type": "markdown",
   "id": "27884ec8-cf90-493e-9de7-226bba8d812e",
   "metadata": {},
   "source": [
    "## Extend List\n",
    "\n",
    "To append elements from another list to the current list, use the extend() method.\n",
    "\n",
    "Add the elements of tropical to thislist:"
   ]
  },
  {
   "cell_type": "code",
   "execution_count": 36,
   "id": "e8b54c63-1a35-426e-9211-d347ac385124",
   "metadata": {},
   "outputs": [
    {
     "name": "stdout",
     "output_type": "stream",
     "text": [
      "['apple', 'banana', 'cherry', 'mango', 'pineapple', 'papaya']\n"
     ]
    }
   ],
   "source": [
    "thislist = [\"apple\", \"banana\", \"cherry\"]\n",
    "tropical = [\"mango\", \"pineapple\", \"papaya\"]\n",
    "thislist.extend(tropical)\n",
    "print(thislist)"
   ]
  },
  {
   "cell_type": "markdown",
   "id": "aa48287e-fc01-4c48-9cce-24d71745b1bb",
   "metadata": {},
   "source": [
    "The extend() method does not have to append lists, you can add any iterable object (tuples, sets, dictionaries etc.).\n",
    "\n",
    "Add elements of a tuple to a list:"
   ]
  },
  {
   "cell_type": "code",
   "execution_count": 37,
   "id": "ccdd47d4-beda-4041-a469-0e7d5e2d27b7",
   "metadata": {},
   "outputs": [
    {
     "name": "stdout",
     "output_type": "stream",
     "text": [
      "['apple', 'banana', 'cherry', 'kiwi', 'orange']\n"
     ]
    }
   ],
   "source": [
    "thislist = [\"apple\", \"banana\", \"cherry\"]\n",
    "thistuple = (\"kiwi\", \"orange\")\n",
    "thislist.extend(thistuple)\n",
    "print(thislist)"
   ]
  },
  {
   "cell_type": "markdown",
   "id": "850854cb-0d16-4f5d-8b36-799dc0292612",
   "metadata": {},
   "source": [
    "Now try adding elements from a dictionary to the list."
   ]
  },
  {
   "cell_type": "markdown",
   "id": "004effaf-2c6e-46d6-8f3d-912e6202cd4c",
   "metadata": {},
   "source": [
    "## Remove Specified Item by specifying the actual object\n",
    "\n",
    "The str.remove() method removes the specified item.\n",
    "\n",
    "This list method modifies the actual list!!"
   ]
  },
  {
   "cell_type": "code",
   "execution_count": 43,
   "id": "0a311886-4463-4b01-8ae1-4a5e797cb301",
   "metadata": {},
   "outputs": [
    {
     "name": "stdout",
     "output_type": "stream",
     "text": [
      "['apple', 'cherry']\n"
     ]
    }
   ],
   "source": [
    "thislist = [\"apple\", \"banana\", \"cherry\"]\n",
    "thislist.remove(\"banana\")\n",
    "print(thislist)"
   ]
  },
  {
   "cell_type": "markdown",
   "id": "cc92235f-d9a7-4c61-92bd-d2e37fa23aab",
   "metadata": {},
   "source": [
    "## Remove Specified Index\n",
    "\n",
    "The str.pop() method removes the specified index.\n",
    "\n",
    "If you do not specify the index, the pop() method removes the last item.\n",
    "\n",
    "This list method modifies the actual list!!!!!"
   ]
  },
  {
   "cell_type": "code",
   "execution_count": 44,
   "id": "01b12f24-88eb-4a26-916b-20fdebca555e",
   "metadata": {},
   "outputs": [
    {
     "name": "stdout",
     "output_type": "stream",
     "text": [
      "['apple', 'banana', 'cherry']\n",
      "['apple', 'cherry']\n",
      "['apple']\n"
     ]
    }
   ],
   "source": [
    "thislist = [\"apple\", \"banana\", \"cherry\"]\n",
    "print(thislist)\n",
    "thislist.pop(1)\n",
    "print(thislist)\n",
    "thislist.pop()\n",
    "print(thislist)"
   ]
  },
  {
   "cell_type": "markdown",
   "id": "bbf01a85-d3b1-437a-93ea-9def90241861",
   "metadata": {},
   "source": [
    "### The del keyword\n",
    "\n",
    "The del keyword also removes the specified index:\n",
    "\n",
    "`del thislist[0]`\n",
    "\n",
    "The del keyword can also delete the list completely.\n",
    "\n",
    "`del thislist`"
   ]
  },
  {
   "cell_type": "markdown",
   "id": "a02d5978-bbdc-4282-b57d-4452ce0caa71",
   "metadata": {},
   "source": [
    "## Clear the List\n",
    "\n",
    "The clear() method empties the list.\n",
    "\n",
    "The list still remains, but it has no content."
   ]
  },
  {
   "cell_type": "code",
   "execution_count": 45,
   "id": "f2f70fc9-8197-4ad5-b36a-0ffcec24eb3c",
   "metadata": {},
   "outputs": [
    {
     "name": "stdout",
     "output_type": "stream",
     "text": [
      "[]\n"
     ]
    }
   ],
   "source": [
    "thislist = [\"apple\", \"banana\", \"cherry\"]\n",
    "thislist.clear()\n",
    "print(thislist)"
   ]
  },
  {
   "cell_type": "markdown",
   "id": "091303f3-cf6c-4a1c-8eb2-083a946fb6d5",
   "metadata": {},
   "source": [
    "## Case Insensitive Sort\n",
    "\n",
    "Case sensitive sorting can give an unexpected result.\n",
    "\n",
    "Perform a case-insensitive sort of the list:"
   ]
  },
  {
   "cell_type": "code",
   "execution_count": 38,
   "id": "69282a72-c0f5-4d8a-b7c9-328d1f1bb775",
   "metadata": {},
   "outputs": [
    {
     "name": "stdout",
     "output_type": "stream",
     "text": [
      "['banana', 'cherry', 'Kiwi', 'Orange']\n"
     ]
    }
   ],
   "source": [
    "thislist = [\"banana\", \"Orange\", \"Kiwi\", \"cherry\"]\n",
    "thislist.sort(key = str.lower)\n",
    "print(thislist)"
   ]
  },
  {
   "cell_type": "markdown",
   "id": "cbc99540-2f0c-4499-b4bf-df7a3db38408",
   "metadata": {},
   "source": [
    "Reverse Order\n",
    "What if you want to reverse the order of a list, regardless of the alphabet?\n",
    "\n",
    "The reverse() method reverses the current sorting order of the elements."
   ]
  },
  {
   "cell_type": "code",
   "execution_count": null,
   "id": "73f96f8b-d8be-4eac-ac82-eeb9cd19086a",
   "metadata": {},
   "outputs": [],
   "source": [
    "thislist = [\"banana\", \"Orange\", \"Kiwi\", \"cherry\"]\n",
    "thislist.reverse()\n",
    "print(thislist)"
   ]
  },
  {
   "cell_type": "markdown",
   "id": "3f195821-0800-43e8-b1bf-1c34237f2739",
   "metadata": {},
   "source": [
    "## Copy a List\n",
    "\n",
    "You cannot copy a list simply by typing list2 = list1, because: list2 will only be a reference to list1, and changes made in list1 will automatically also be made in list2.\n",
    "\n",
    "There are ways to make a copy, one way is to use the built-in List method copy()."
   ]
  },
  {
   "cell_type": "code",
   "execution_count": null,
   "id": "03c607ec-ef80-457b-83a0-b8e3daf6a64a",
   "metadata": {},
   "outputs": [],
   "source": [
    "thislist = [\"apple\", \"banana\", \"cherry\"]\n",
    "mylist = thislist.copy()\n",
    "print(mylist)"
   ]
  },
  {
   "cell_type": "markdown",
   "id": "0be7689e-10c6-4de9-b606-f6b257408412",
   "metadata": {},
   "source": [
    "Another way to make a copy is to use the built-in method list().\n",
    "Make a copy of a list with the list() method:"
   ]
  },
  {
   "cell_type": "code",
   "execution_count": null,
   "id": "79b39e53-211a-433b-9131-13285e078a69",
   "metadata": {},
   "outputs": [],
   "source": [
    "thislist = [\"apple\", \"banana\", \"cherry\"]\n",
    "mylist = list(thislist)\n",
    "print(mylist)"
   ]
  },
  {
   "cell_type": "markdown",
   "id": "7f607014-8a34-4ef4-90b2-0f6441654612",
   "metadata": {},
   "source": [
    "## List Comprehension\n",
    "\n",
    "Makes syntax concise!! So useful and beautiful.\n",
    "\n",
    "#### The Syntax\n",
    "`newlist = [expression for item in iterable if condition == True]`\n",
    "\n",
    "Same list but make everything lower or upper if the word contains the letter \"a\".\n",
    "\n",
    "`ulist = [x.upper() for x in list_of_strings if a in x]`\n",
    "\n",
    "This is really amazing and interesting."
   ]
  },
  {
   "cell_type": "markdown",
   "id": "bcd9021e-9a65-4410-8568-7240670edb8f",
   "metadata": {},
   "source": [
    "\n",
    "The expression can also contain conditions, not like a filter, but as a way to manipulate the outcome:"
   ]
  },
  {
   "cell_type": "code",
   "execution_count": 34,
   "id": "8d650435-577c-4f13-8a28-db1324faf6b4",
   "metadata": {},
   "outputs": [
    {
     "name": "stdout",
     "output_type": "stream",
     "text": [
      "['apple', 'orange', 'cherry', 'kiwi', 'mango']\n"
     ]
    }
   ],
   "source": [
    "newlist = [x if x != \"banana\" else \"orange\" for x in fruits]\n",
    "print(newlist)"
   ]
  },
  {
   "cell_type": "code",
   "execution_count": 25,
   "id": "2440460a-fed4-464f-819a-863324964d17",
   "metadata": {},
   "outputs": [
    {
     "name": "stdout",
     "output_type": "stream",
     "text": [
      "apple\n",
      "banana\n",
      "cherry\n"
     ]
    },
    {
     "data": {
      "text/plain": [
       "[None, None, None]"
      ]
     },
     "execution_count": 25,
     "metadata": {},
     "output_type": "execute_result"
    }
   ],
   "source": [
    "thislist = [\"apple\", \"banana\", \"cherry\"]\n",
    "[print(x) for x in thislist] # Quickest way to loop and create list"
   ]
  },
  {
   "cell_type": "code",
   "execution_count": 31,
   "id": "99e56070-4670-448a-ac9b-b997f17b3bd2",
   "metadata": {},
   "outputs": [
    {
     "name": "stdout",
     "output_type": "stream",
     "text": [
      "['apple', 'banana', 'mango']\n"
     ]
    }
   ],
   "source": [
    "# Long way of making a list with only fruits containing the letter \"a\".\n",
    "\n",
    "fruits = [\"apple\", \"banana\", \"cherry\", \"kiwi\", \"mango\"]\n",
    "newlist = []\n",
    "\n",
    "for x in fruits:\n",
    "    if \"a\" in x:\n",
    "        newlist.append(x)\n",
    "\n",
    "print(newlist)"
   ]
  },
  {
   "cell_type": "code",
   "execution_count": 32,
   "id": "25c76151-11e8-4903-ad3f-5e970c2687e3",
   "metadata": {},
   "outputs": [
    {
     "name": "stdout",
     "output_type": "stream",
     "text": [
      "['apple', 'banana', 'cherry', 'kiwi', 'mango']\n",
      "['apple', 'banana', 'mango']\n"
     ]
    }
   ],
   "source": [
    "# With list comprehension you can do all that with only one line of code:\n",
    "\n",
    "# complete list\n",
    "print([x for x in fruits])\n",
    "\n",
    "# list with if condition\n",
    "print([x for x in fruits if 'a' in x])"
   ]
  },
  {
   "cell_type": "markdown",
   "id": "740b842e-e71e-4193-a5c0-e12eb0a19b59",
   "metadata": {
    "tags": []
   },
   "source": [
    "### Join Two Lists\n",
    "There are several ways to join, or concatenate, two or more lists in Python.\n",
    "\n",
    "One of the easiest ways are by using the + operator.\n",
    "\n",
    "Another way to join two lists is by appending all the items from list2 into list1, one by one:\n",
    "\n"
   ]
  },
  {
   "cell_type": "code",
   "execution_count": 56,
   "id": "f076c576-b890-4340-bbd4-31aab681d731",
   "metadata": {},
   "outputs": [
    {
     "name": "stdout",
     "output_type": "stream",
     "text": [
      "['a', 'b', 'c', 1, 2, 3]\n",
      "['a', 'b', 'c', 1, 2, 3]\n"
     ]
    }
   ],
   "source": [
    "list1 = [\"a\", \"b\" , \"c\"]\n",
    "list2 = [1, 2, 3]\n",
    "\n",
    "lists = list1 + list2\n",
    "print(lists)\n",
    "\n",
    "for x in list2:\n",
    "    list1.append(x)\n",
    "\n",
    "print(list1)"
   ]
  },
  {
   "cell_type": "markdown",
   "id": "fd473701-747a-45ec-8145-8ec40313e5d6",
   "metadata": {},
   "source": [
    "Or you can use the extend() method, which purpose is to add elements from one list to another list.\n",
    "\n",
    "Use the extend() method to add list2 at the end of list1:"
   ]
  },
  {
   "cell_type": "code",
   "execution_count": 51,
   "id": "55717c9a-b927-43b9-9678-1ee92a8a9abb",
   "metadata": {},
   "outputs": [
    {
     "name": "stdout",
     "output_type": "stream",
     "text": [
      "['a', 'b', 'c', 1, 2, 3]\n"
     ]
    }
   ],
   "source": [
    "list1 = [\"a\", \"b\" , \"c\"]\n",
    "list2 = [1, 2, 3]\n",
    "\n",
    "list1.extend(list2)\n",
    "print(list1)"
   ]
  },
  {
   "cell_type": "markdown",
   "id": "25413cfd-4878-45ab-92f9-7a2649a18d3d",
   "metadata": {},
   "source": [
    "Method\tDescription\n",
    "\n",
    "- append()\tAdds an element at the end of the list\n",
    "- clear()\tRemoves all the elements from the list\n",
    "- copy()\tReturns a copy of the list\n",
    "- count()\tReturns the number of elements with the specified value\n",
    "- extend()\tAdd the elements of a list (or any iterable), to the end of the current list\n",
    "- index()\tReturns the index of the first element with the specified value\n",
    "- insert()\tAdds an element at the specified position\n",
    "- pop()\tRemoves the element at the specified position\n",
    "- remove()\tRemoves the item with the specified value\n",
    "- reverse()\tReverses the order of the list\n",
    "- sort()\tSorts the list\n",
    "\n",
    "#### Notice that the find method that exists for the string method does not exist here as a list method. So for lists need to use the index() method."
   ]
  },
  {
   "cell_type": "code",
   "execution_count": 54,
   "id": "2b6f9909-78e4-4306-883d-73b7842d8362",
   "metadata": {},
   "outputs": [
    {
     "name": "stdout",
     "output_type": "stream",
     "text": [
      "range(0, 5)\n"
     ]
    }
   ],
   "source": [
    "x = range(5)\n",
    "print(range(5))"
   ]
  },
  {
   "cell_type": "code",
   "execution_count": 55,
   "id": "b7bd92fe-db79-46f1-bd09-e4640056021a",
   "metadata": {},
   "outputs": [
    {
     "data": {
      "text/plain": [
       "[0, 1, 2, 3, 4]"
      ]
     },
     "execution_count": 55,
     "metadata": {},
     "output_type": "execute_result"
    }
   ],
   "source": [
    "x = list(range(5))\n",
    "x"
   ]
  },
  {
   "cell_type": "code",
   "execution_count": 58,
   "id": "ad55461d-b6b4-42c9-a70b-3aefdbb34f8f",
   "metadata": {},
   "outputs": [
    {
     "name": "stdout",
     "output_type": "stream",
     "text": [
      "['Glenn', 'Joseph', 'Sally']\n"
     ]
    }
   ],
   "source": [
    "friends = [ 'Joseph', 'Glenn', 'Sally' ]\n",
    "friends.sort()\n",
    "print(friends)"
   ]
  },
  {
   "cell_type": "code",
   "execution_count": null,
   "id": "1add6196-be12-4ee7-b740-9eeacada579a",
   "metadata": {},
   "outputs": [],
   "source": []
  },
  {
   "cell_type": "code",
   "execution_count": null,
   "id": "6e80c0e7-62c6-420f-b15d-b1f50af76c70",
   "metadata": {},
   "outputs": [],
   "source": []
  },
  {
   "cell_type": "code",
   "execution_count": null,
   "id": "0173f5a3-db2a-48ad-92c9-52f8fa3e45a5",
   "metadata": {},
   "outputs": [],
   "source": []
  },
  {
   "cell_type": "code",
   "execution_count": null,
   "id": "7d31853a-c5f3-48fb-bca4-52e1ef75bbad",
   "metadata": {},
   "outputs": [],
   "source": []
  },
  {
   "cell_type": "code",
   "execution_count": null,
   "id": "6b63fa69-f3ad-4429-bada-30fdb32bfaf3",
   "metadata": {},
   "outputs": [],
   "source": []
  },
  {
   "cell_type": "code",
   "execution_count": null,
   "id": "69772c41-89bc-41fc-ace9-335911c83a95",
   "metadata": {},
   "outputs": [],
   "source": []
  },
  {
   "cell_type": "code",
   "execution_count": null,
   "id": "3804d59b-2d6b-4edc-a9c3-9d1ce3607753",
   "metadata": {},
   "outputs": [],
   "source": []
  },
  {
   "cell_type": "code",
   "execution_count": null,
   "id": "b5d88009-7c17-49b7-842b-9c30eb1d4796",
   "metadata": {},
   "outputs": [],
   "source": []
  },
  {
   "cell_type": "code",
   "execution_count": null,
   "id": "70672287-e6bc-40f7-a748-cbb1d309516c",
   "metadata": {},
   "outputs": [],
   "source": []
  },
  {
   "cell_type": "markdown",
   "id": "2b19feaf-2dd1-4ff5-97da-ef777b2eba22",
   "metadata": {},
   "source": [
    "## I. Lesson 1"
   ]
  },
  {
   "cell_type": "markdown",
   "id": "17d0ed5c-9f73-4883-b8ef-24bdd362633c",
   "metadata": {},
   "source": [
    "The `.dtypes` dataframe method for dataframes from the Pandas library is different from the builtin python function `type()` "
   ]
  },
  {
   "cell_type": "code",
   "execution_count": 1,
   "id": "24b5e15f-4588-4871-b528-a0ae2565990a",
   "metadata": {},
   "outputs": [],
   "source": [
    "import pandas as pd"
   ]
  },
  {
   "cell_type": "code",
   "execution_count": 4,
   "id": "49663a43-d927-4024-990d-b4a65a40e193",
   "metadata": {},
   "outputs": [],
   "source": [
    "df = pd.DataFrame()"
   ]
  },
  {
   "cell_type": "code",
   "execution_count": 5,
   "id": "92fa17a4-a08d-4c9d-9e5a-96e9407de523",
   "metadata": {},
   "outputs": [
    {
     "data": {
      "text/plain": [
       "Series([], dtype: object)"
      ]
     },
     "execution_count": 5,
     "metadata": {},
     "output_type": "execute_result"
    }
   ],
   "source": [
    "df\n",
    "df.dtypes"
   ]
  },
  {
   "cell_type": "markdown",
   "id": "c55a9932-4293-4b9d-af45-898116bd95cc",
   "metadata": {},
   "source": [
    "## II. Chuck Severance Python for Everyone Assignments."
   ]
  },
  {
   "cell_type": "markdown",
   "id": "65866745-d957-4ea7-a39e-8dd188ed7577",
   "metadata": {},
   "source": [
    "### As the user for his total hours and rate per hour thenb calculate their pay."
   ]
  },
  {
   "cell_type": "code",
   "execution_count": 2,
   "id": "47dd5487-6337-48c4-8b9f-b00bdfe6da42",
   "metadata": {},
   "outputs": [
    {
     "name": "stdout",
     "output_type": "stream",
     "text": [
      "Enter hours: 35\n",
      "Enter rate per hour: 2.75\n"
     ]
    },
    {
     "name": "stdout",
     "output_type": "stream",
     "text": [
      "Pay: 96.25\n"
     ]
    }
   ],
   "source": [
    "hrs = input(\"Enter hours:\")\n",
    "rate_per_hr = input(\"Enter rate per hour:\")\n",
    "print(\"Pay:\", float(hrs) * float(rate_per_hr))\n",
    "# use 35 hrs and 2.75 for rate_per_hr. Answer: 96.25"
   ]
  },
  {
   "cell_type": "code",
   "execution_count": 3,
   "id": "5e45d1c6-9d91-4de2-bca3-fb6488ffdfed",
   "metadata": {},
   "outputs": [
    {
     "data": {
      "text/plain": [
       "'\\x01'"
      ]
     },
     "execution_count": 3,
     "metadata": {},
     "output_type": "execute_result"
    }
   ],
   "source": [
    "chr(1)"
   ]
  },
  {
   "cell_type": "markdown",
   "id": "d13840ce-0964-4207-9d39-e1f5041dabc6",
   "metadata": {},
   "source": [
    "3.1 Write a program to prompt the user for hours and rate per hour using input to compute gross pay. Pay the hourly rate for the hours up to 40 and 1.5 times the hourly rate for all hours worked above 40 hours. Use 45 hours and a rate of 10.50 per hour to test the program (the pay should be 498.75). You should use input to read a string and float() to convert the string to a number. Do not worry about error checking the user input - assume the user types numbers properly.\n"
   ]
  },
  {
   "cell_type": "code",
   "execution_count": 35,
   "id": "715b81c1-7d0c-4698-b295-a9679a5fcc6d",
   "metadata": {},
   "outputs": [
    {
     "name": "stdout",
     "output_type": "stream",
     "text": [
      "Enter Hours: 45\n",
      "Enter Hours: 10.5\n"
     ]
    },
    {
     "name": "stdout",
     "output_type": "stream",
     "text": [
      "498.75\n"
     ]
    }
   ],
   "source": [
    "hrs = input(\"Enter Hours:\")\n",
    "rate_per_hour = input(\"Enter Hours:\")\n",
    "rate_per_hour = float(rate_per_hour)\n",
    "h = float(hrs)\n",
    "\n",
    "if h <= 40:\n",
    "    print(h*rate_per_hour)\n",
    "else:\n",
    "    print(40*rate_per_hour + (h-40)*rate_per_hour*1.5)"
   ]
  },
  {
   "cell_type": "markdown",
   "id": "7e7422f5-6c11-4db6-a7f3-e49f3be3f036",
   "metadata": {},
   "source": [
    "3.3 Write a program to prompt for a score between 0.0 and 1.0. If the score is out of range, print an error. If the score is between 0.0 and 1.0, print a grade using the following table:\n",
    "Score Grade\n",
    ">= 0.9 A\n",
    ">= 0.8 B\n",
    ">= 0.7 C\n",
    ">= 0.6 D\n",
    "< 0.6 F\n",
    "If the user enters a value out of range, print a suitable error message and exit. For the test, enter a score of 0.85.\n"
   ]
  },
  {
   "cell_type": "code",
   "execution_count": 38,
   "id": "1aa739c4-bce9-497f-8e7b-b2f1a594c056",
   "metadata": {},
   "outputs": [
    {
     "name": "stdout",
     "output_type": "stream",
     "text": [
      "Enter Score:  .1\n",
      "You did not enter a number please enter a number: 0\n"
     ]
    },
    {
     "name": "stdout",
     "output_type": "stream",
     "text": [
      "F\n"
     ]
    }
   ],
   "source": [
    "# This does not work correctly.\n",
    "\n",
    "score = input(\"Enter Score: \")\n",
    "\n",
    "try:\n",
    "    fs = float(score)\n",
    "    if fs > 1 | fs < 0 :\n",
    "        print(\"Error, you are out of bounds.\")\n",
    "        quite()\n",
    "except:\n",
    "    score = input(\"You did not enter a number please enter a number:\")\n",
    "    \n",
    "if fs >= .9:\n",
    "    print(\"A\")\n",
    "elif fs >= .8:\n",
    "    print('B')\n",
    "elif fs >= .7:\n",
    "    print('C')\n",
    "elif fs >= .6:\n",
    "    print('D')\n",
    "else:\n",
    "    print('F')\n",
    "\n",
    "    \n"
   ]
  },
  {
   "cell_type": "code",
   "execution_count": 1,
   "id": "720c5cfb-b783-448b-a5ef-0b59df35e334",
   "metadata": {},
   "outputs": [
    {
     "name": "stdout",
     "output_type": "stream",
     "text": [
      "Enter Score:  10\n"
     ]
    },
    {
     "name": "stdout",
     "output_type": "stream",
     "text": [
      "Error, you are out of bounds.\n"
     ]
    }
   ],
   "source": [
    "score = input(\"Enter Score: \")\n",
    "fs = float(score)\n",
    "#try:\n",
    "#    fs = float(score)\n",
    "#except:\n",
    "    #score = input(\"You did not enter a number please enter a number:\")    \n",
    "\n",
    "# This does not work properly because the try except block should be in a while loop so that the score is fedback\n",
    "# to the fs=float(score)\n",
    "\n",
    "if fs > 1 or fs < 0 :\n",
    "    print(\"Error, you are out of bounds.\")\n",
    "    quit()\n",
    "else: \n",
    "    if fs >= .9:\n",
    "        print(\"A\")\n",
    "    elif fs >= .8:\n",
    "        print('B')\n",
    "    elif fs >= .7:\n",
    "        print('C')\n",
    "    elif fs >= .6:\n",
    "        print('D')\n",
    "    else:\n",
    "        print('F')\n"
   ]
  },
  {
   "cell_type": "code",
   "execution_count": 2,
   "id": "1a19c456-bac9-4abb-8627-2d713a725c02",
   "metadata": {},
   "outputs": [
    {
     "name": "stdout",
     "output_type": "stream",
     "text": [
      "Enter Score:  .85\n"
     ]
    },
    {
     "name": "stdout",
     "output_type": "stream",
     "text": [
      "B\n"
     ]
    }
   ],
   "source": [
    "score = input(\"Enter Score: \")\n",
    "fs = float(score)\n",
    "\n",
    "if fs > 1 or fs < 0 :\n",
    "    print(\"Error, you are out of bounds.\")\n",
    "    quit()\n",
    "else: \n",
    "    if fs >= .9:\n",
    "        print(\"A\")\n",
    "    elif fs >= .8:\n",
    "        print('B')\n",
    "    elif fs >= .7:\n",
    "        print('C')\n",
    "    elif fs >= .6:\n",
    "        print('D')\n",
    "    else:\n",
    "        print('F')"
   ]
  },
  {
   "cell_type": "markdown",
   "id": "72d18843-e690-46a2-a55b-237ba9f974c7",
   "metadata": {},
   "source": []
  },
  {
   "cell_type": "markdown",
   "id": "c572bb3a-b583-4656-9e15-e449e755b1c5",
   "metadata": {},
   "source": [
    "4.6 Write a program to prompt the user for hours and rate per hour using input to compute gross pay. Pay should be the normal rate for hours up to 40 and time-and-a-half for the hourly rate for all hours worked above 40 hours. Put the logic to do the computation of pay in a function called computepay() and use the function to do the computation. The function should return a value. Use 45 hours and a rate of 10.50 per hour to test the program (the pay should be 498.75). You should use input to read a string and float() to convert the string to a number. Do not worry about error checking the user input unless you want to - you can assume the user types numbers properly. Do not name your variable sum or use the sum() function."
   ]
  },
  {
   "cell_type": "code",
   "execution_count": null,
   "id": "529f65f9-9fb9-400b-9c1b-5c1f0a2f381a",
   "metadata": {},
   "outputs": [],
   "source": [
    "def computepay(h, r):\n",
    "    return 42.37\n",
    "\n",
    "hrs = input(\"Enter Hours:\")\n",
    "p = computepay(45, 10.5)\n",
    "print(\"Pay\", p)"
   ]
  },
  {
   "cell_type": "code",
   "execution_count": 34,
   "id": "cbb53831-6b45-4019-84e9-2b609512490a",
   "metadata": {},
   "outputs": [
    {
     "name": "stdout",
     "output_type": "stream",
     "text": [
      "Enter Hours: 45\n",
      "Enter you pay rate: 10.5\n"
     ]
    },
    {
     "name": "stdout",
     "output_type": "stream",
     "text": [
      "Pay 498.75\n"
     ]
    }
   ],
   "source": [
    "def computepay():\n",
    "    hrs = input(\"Enter Hours:\")\n",
    "    payRate = input(\"Enter you pay rate:\")\n",
    "    \n",
    "    h = float(hrs)\n",
    "    p = float(payRate)\n",
    "    \n",
    "    if h > 40:\n",
    "        pay = 40 * p + (h - 40) * p * 1.5\n",
    "    else:\n",
    "        pay = p * h\n",
    "        \n",
    "    return pay\n",
    "\n",
    "#hrs = input(\"Enter Hours:\")\n",
    "p = computepay()\n",
    "print(\"Pay\", p)"
   ]
  },
  {
   "cell_type": "code",
   "execution_count": 2,
   "id": "23ac4ef1-7d55-49ed-981d-a71b438de98e",
   "metadata": {},
   "outputs": [],
   "source": [
    "def computepay():\n",
    "    hrs = input(\"Enter Hours:\")\n",
    "    \n",
    "    \n",
    "    try:\n",
    "        h = float(hrs)\n",
    "    except:\n",
    "        print(\"Error! You need to enter the hours as numbers - e.g. 45\")\n",
    "        quit()\n",
    "        \n",
    "    payRate = input(\"Enter you pay rate:\")    \n",
    "    try:\n",
    "        p = float(payRate)\n",
    "    except:\n",
    "        print(\"Error! You need to enter your pay rate in numbers, e.g. 10.50\")\n",
    "        quit()\n",
    "    \n",
    "    if h > 40:\n",
    "        pay = 40 * p + (h - 40) * p * 1.5\n",
    "    else:\n",
    "        pay = p * h\n",
    "        \n",
    "    return pay\n",
    "\n"
   ]
  },
  {
   "cell_type": "code",
   "execution_count": 3,
   "id": "795b4a6b-dd05-4a91-a0c4-8cdde64df681",
   "metadata": {},
   "outputs": [
    {
     "name": "stdout",
     "output_type": "stream",
     "text": [
      "Enter Hours: 45\n",
      "Enter you pay rate: 10.5\n"
     ]
    },
    {
     "name": "stdout",
     "output_type": "stream",
     "text": [
      "Pay 498.75\n"
     ]
    }
   ],
   "source": [
    "#hrs = input(\"Enter Hours:\")\n",
    "p = computepay()\n",
    "print(\"Pay\", p)"
   ]
  },
  {
   "cell_type": "code",
   "execution_count": null,
   "id": "fef52cbc-6a05-4e9f-9fc0-b29ba334eb43",
   "metadata": {},
   "outputs": [],
   "source": []
  },
  {
   "cell_type": "code",
   "execution_count": 4,
   "id": "6596ffcb-94b5-4502-8bdd-37b3e084c6e8",
   "metadata": {},
   "outputs": [
    {
     "name": "stdout",
     "output_type": "stream",
     "text": [
      "Enter Hours: ten\n"
     ]
    },
    {
     "name": "stdout",
     "output_type": "stream",
     "text": [
      "Error! You need to enter the hours as numbers - e.g. 45\n"
     ]
    },
    {
     "name": "stdout",
     "output_type": "stream",
     "text": [
      "Enter you pay rate: 10\n"
     ]
    },
    {
     "ename": "UnboundLocalError",
     "evalue": "local variable 'h' referenced before assignment",
     "output_type": "error",
     "traceback": [
      "\u001b[1;31m---------------------------------------------------------------------------\u001b[0m",
      "\u001b[1;31mUnboundLocalError\u001b[0m                         Traceback (most recent call last)",
      "Input \u001b[1;32mIn [4]\u001b[0m, in \u001b[0;36m<cell line: 1>\u001b[1;34m()\u001b[0m\n\u001b[1;32m----> 1\u001b[0m p \u001b[38;5;241m=\u001b[39m \u001b[43mcomputepay\u001b[49m\u001b[43m(\u001b[49m\u001b[43m)\u001b[49m\n\u001b[0;32m      2\u001b[0m \u001b[38;5;28mprint\u001b[39m(\u001b[38;5;124m\"\u001b[39m\u001b[38;5;124mPay\u001b[39m\u001b[38;5;124m\"\u001b[39m, p)\n",
      "Input \u001b[1;32mIn [2]\u001b[0m, in \u001b[0;36mcomputepay\u001b[1;34m()\u001b[0m\n\u001b[0;32m     15\u001b[0m     \u001b[38;5;28mprint\u001b[39m(\u001b[38;5;124m\"\u001b[39m\u001b[38;5;124mError! You need to enter your pay rate in numbers, e.g. 10.50\u001b[39m\u001b[38;5;124m\"\u001b[39m)\n\u001b[0;32m     16\u001b[0m     quit()\n\u001b[1;32m---> 18\u001b[0m \u001b[38;5;28;01mif\u001b[39;00m \u001b[43mh\u001b[49m \u001b[38;5;241m>\u001b[39m \u001b[38;5;241m40\u001b[39m:\n\u001b[0;32m     19\u001b[0m     pay \u001b[38;5;241m=\u001b[39m \u001b[38;5;241m40\u001b[39m \u001b[38;5;241m*\u001b[39m p \u001b[38;5;241m+\u001b[39m (h \u001b[38;5;241m-\u001b[39m \u001b[38;5;241m40\u001b[39m) \u001b[38;5;241m*\u001b[39m p \u001b[38;5;241m*\u001b[39m \u001b[38;5;241m1.5\u001b[39m\n\u001b[0;32m     20\u001b[0m \u001b[38;5;28;01melse\u001b[39;00m:\n",
      "\u001b[1;31mUnboundLocalError\u001b[0m: local variable 'h' referenced before assignment"
     ]
    }
   ],
   "source": [
    "p = computepay()\n",
    "print(\"Pay\", p)"
   ]
  },
  {
   "cell_type": "code",
   "execution_count": null,
   "id": "a451977a-f2cf-4385-92b2-5a08b13fed9a",
   "metadata": {},
   "outputs": [],
   "source": []
  },
  {
   "cell_type": "markdown",
   "id": "ed1e4e16-fc2f-45cf-a281-5f7c1e5041e6",
   "metadata": {},
   "source": [
    "### Find the largest number in a list"
   ]
  },
  {
   "cell_type": "code",
   "execution_count": 48,
   "id": "57b14519-1ffd-417d-890a-e65af821fe4c",
   "metadata": {},
   "outputs": [
    {
     "name": "stdout",
     "output_type": "stream",
     "text": [
      "232\n"
     ]
    },
    {
     "data": {
      "text/plain": [
       "10000000000.0"
      ]
     },
     "execution_count": 48,
     "metadata": {},
     "output_type": "execute_result"
    }
   ],
   "source": [
    "numbers = [23, 232, 12, 43, 44, -1, -3]\n",
    "\n",
    "largestNum = numbers[0]\n",
    "for num in numbers:\n",
    "    if num > largestNum:\n",
    "        largestNum = num\n",
    "print(largestNum)\n",
    "\n",
    "# Making the above into a function\n",
    "\n",
    "def find_largNum(list_of_num) :\n",
    "    \n",
    "    largestNum = list_of_num[0]\n",
    "    \n",
    "    for num in list_of_num :\n",
    "        if num > largestNum :\n",
    "            largestNum = num\n",
    "    \n",
    "    return(largestNum)\n",
    "\n",
    "find_largNum(numbers)\n",
    "find_largNum([5, -1, 324, 1e10, -1e20])"
   ]
  },
  {
   "cell_type": "markdown",
   "id": "6692f83d-170e-434c-88b6-bb9192d1f07f",
   "metadata": {},
   "source": [
    "5.2 Write a program that repeatedly prompts a user for integer numbers until the user enters 'done'. Once 'done' is entered, print out the largest and smallest of the numbers. If the user enters anything other than a valid number catch it with a try/except and put out an appropriate message and ignore the number. Enter 7, 2, bob, 10, and 4 and match the output below."
   ]
  },
  {
   "cell_type": "code",
   "execution_count": 5,
   "id": "7f149a15-4cb6-4424-b6e1-b210cc640d6b",
   "metadata": {},
   "outputs": [
    {
     "name": "stdout",
     "output_type": "stream",
     "text": [
      "Enter a number:  7\n",
      "Enter a number:  2\n",
      "Enter a number:  bob\n"
     ]
    },
    {
     "name": "stdout",
     "output_type": "stream",
     "text": [
      "Invalid input\n"
     ]
    },
    {
     "name": "stdout",
     "output_type": "stream",
     "text": [
      "Enter a number:  10\n",
      "Enter a number:  4\n",
      "Enter a number:  done\n"
     ]
    },
    {
     "name": "stdout",
     "output_type": "stream",
     "text": [
      "Maximum is 10\n",
      "Minimum is 2\n"
     ]
    }
   ],
   "source": [
    "largest = None\n",
    "smallest = None\n",
    "\n",
    "while True:\n",
    "    \n",
    "    num = input(\"Enter a number: \")\n",
    "    if num == \"done\":\n",
    "        break\n",
    "        \n",
    "    #print(num)\n",
    "    \n",
    "    try:\n",
    "        num = int(num)\n",
    "    except:\n",
    "        print(\"Invalid input\")\n",
    "        continue\n",
    "    \n",
    "    if largest is None:\n",
    "        largest = num\n",
    "    if largest < num:\n",
    "        largest = num\n",
    "    if smallest is None:\n",
    "        smallest = num\n",
    "    if smallest > num:\n",
    "        smallest = num\n",
    "        \n",
    "\n",
    "print(\"Maximum is\", largest)\n",
    "print(\"Minimum is\", smallest)"
   ]
  },
  {
   "cell_type": "code",
   "execution_count": null,
   "id": "09d9b127-7630-44fe-a015-45ecb07efbdf",
   "metadata": {},
   "outputs": [],
   "source": [
    "largest = None\n",
    "smallest = None\n",
    "while True:\n",
    "    num = input(\"Enter a number: \")\n",
    "\n",
    "    if num == \"done\":\n",
    "        break\n",
    "    print(num)\n",
    "              \n",
    "    try:\n",
    "        num\n",
    "    except: \n",
    "\n",
    "print(\"Maximum\", largest)"
   ]
  },
  {
   "cell_type": "markdown",
   "id": "0da8f94e-a6f1-4c7d-8a68-587bb362de2e",
   "metadata": {},
   "source": [
    "### Find all the string methods"
   ]
  },
  {
   "cell_type": "code",
   "execution_count": 1,
   "id": "a875159b-cd76-4793-901d-44efd062ef05",
   "metadata": {},
   "outputs": [
    {
     "data": {
      "text/plain": [
       "['__add__',\n",
       " '__class__',\n",
       " '__contains__',\n",
       " '__delattr__',\n",
       " '__dir__',\n",
       " '__doc__',\n",
       " '__eq__',\n",
       " '__format__',\n",
       " '__ge__',\n",
       " '__getattribute__',\n",
       " '__getitem__',\n",
       " '__getnewargs__',\n",
       " '__gt__',\n",
       " '__hash__',\n",
       " '__init__',\n",
       " '__init_subclass__',\n",
       " '__iter__',\n",
       " '__le__',\n",
       " '__len__',\n",
       " '__lt__',\n",
       " '__mod__',\n",
       " '__mul__',\n",
       " '__ne__',\n",
       " '__new__',\n",
       " '__reduce__',\n",
       " '__reduce_ex__',\n",
       " '__repr__',\n",
       " '__rmod__',\n",
       " '__rmul__',\n",
       " '__setattr__',\n",
       " '__sizeof__',\n",
       " '__str__',\n",
       " '__subclasshook__',\n",
       " 'capitalize',\n",
       " 'casefold',\n",
       " 'center',\n",
       " 'count',\n",
       " 'encode',\n",
       " 'endswith',\n",
       " 'expandtabs',\n",
       " 'find',\n",
       " 'format',\n",
       " 'format_map',\n",
       " 'index',\n",
       " 'isalnum',\n",
       " 'isalpha',\n",
       " 'isascii',\n",
       " 'isdecimal',\n",
       " 'isdigit',\n",
       " 'isidentifier',\n",
       " 'islower',\n",
       " 'isnumeric',\n",
       " 'isprintable',\n",
       " 'isspace',\n",
       " 'istitle',\n",
       " 'isupper',\n",
       " 'join',\n",
       " 'ljust',\n",
       " 'lower',\n",
       " 'lstrip',\n",
       " 'maketrans',\n",
       " 'partition',\n",
       " 'removeprefix',\n",
       " 'removesuffix',\n",
       " 'replace',\n",
       " 'rfind',\n",
       " 'rindex',\n",
       " 'rjust',\n",
       " 'rpartition',\n",
       " 'rsplit',\n",
       " 'rstrip',\n",
       " 'split',\n",
       " 'splitlines',\n",
       " 'startswith',\n",
       " 'strip',\n",
       " 'swapcase',\n",
       " 'title',\n",
       " 'translate',\n",
       " 'upper',\n",
       " 'zfill']"
      ]
     },
     "execution_count": 1,
     "metadata": {},
     "output_type": "execute_result"
    }
   ],
   "source": [
    "dir(\"string\")"
   ]
  },
  {
   "cell_type": "markdown",
   "id": "8fa9173d-b2b9-4e39-8edc-502b3a1a7ea5",
   "metadata": {},
   "source": [
    "### Some methods that look weird to me now 2022-06-29\n",
    "\n",
    "#### zfill()\n",
    "\n",
    "The zfill() method adds zeros (0) at the beginning of the string, until it reaches the specified length.\n",
    "\n",
    "If the value of the len parameter is less than the length of the string, no filling is done.\n",
    "\n"
   ]
  },
  {
   "cell_type": "code",
   "execution_count": 7,
   "id": "775c5afe-91b6-4705-9c8d-9d07d2d43146",
   "metadata": {},
   "outputs": [
    {
     "name": "stdout",
     "output_type": "stream",
     "text": [
      "string\n",
      "string\n",
      "string\n",
      "00000000000000string\n"
     ]
    }
   ],
   "source": [
    "print(\"string\".zfill(0))\n",
    "print(\"string\".zfill(5))\n",
    "print(\"string\".zfill(1))\n",
    "print(\"string\".zfill(20))"
   ]
  },
  {
   "cell_type": "markdown",
   "id": "f127027d-0c2c-4072-95f5-f533068eeb85",
   "metadata": {},
   "source": [
    "#### index() vs find()\n",
    "\n",
    "index()\tfind()\n",
    "Returns an exception if substring isn’t found\tReturns -1 if substring isn’t found\n",
    "It shouldn’t be used if you are not sure about the presence of the substring\tIt is the correct function to use when you are not sure about the presence of a substring\n",
    "This can be applied to strings, lists and tuples\tThis can only be applied to strings\n",
    "It cannot be used with conditional statement\tIt can be used with conditional statement to execute a statement if a substring is found as well if it is not"
   ]
  },
  {
   "cell_type": "code",
   "execution_count": null,
   "id": "95605139-3c96-432a-b572-16ffcb00f1f6",
   "metadata": {},
   "outputs": [],
   "source": []
  },
  {
   "cell_type": "code",
   "execution_count": 8,
   "id": "b2639817-5068-4fa8-97c0-fd6a808c0f42",
   "metadata": {},
   "outputs": [
    {
     "name": "stdout",
     "output_type": "stream",
     "text": [
      "Hellothere\n"
     ]
    }
   ],
   "source": [
    "str1 = \"Hello\"\n",
    "str2 = 'there'\n",
    "bob = str1 + str2\n",
    "print(bob)"
   ]
  },
  {
   "cell_type": "markdown",
   "id": "2af9f920-d9bd-49f5-ad99-4d8e3f2f1fe6",
   "metadata": {},
   "source": [
    "## Dictionaries {}"
   ]
  },
  {
   "cell_type": "code",
   "execution_count": 84,
   "id": "ef169138-0d7d-449e-bd75-6b5466fbb8d0",
   "metadata": {},
   "outputs": [
    {
     "name": "stdout",
     "output_type": "stream",
     "text": [
      "{'x1': 2, 'x2': 4}\n",
      "2\n"
     ]
    }
   ],
   "source": [
    "first_dict = dict(x1 = 2, x2 = 4)\n",
    "print(first_dict)\n",
    "print(first_dict['x1'])\n",
    "\n",
    "# print(first_dict[0]) # Indexing using integer does not work for dictionaries."
   ]
  },
  {
   "cell_type": "code",
   "execution_count": 80,
   "id": "982dabc6-ed18-4f53-a65e-0f0e9e64a44c",
   "metadata": {},
   "outputs": [
    {
     "name": "stdout",
     "output_type": "stream",
     "text": [
      "{}\n"
     ]
    }
   ],
   "source": [
    "# Empty dict\n",
    "\n",
    "dict_empty = {}\n",
    "print(dict_empty)"
   ]
  },
  {
   "cell_type": "code",
   "execution_count": 86,
   "id": "2fc30350-57eb-46d9-a2a7-2116e4197c71",
   "metadata": {},
   "outputs": [
    {
     "name": "stdout",
     "output_type": "stream",
     "text": [
      "-1\n",
      "{}\n"
     ]
    }
   ],
   "source": [
    "stuff = dict()\n",
    "print(stuff.get('candy',-1))\n",
    "print(stuff)"
   ]
  },
  {
   "cell_type": "code",
   "execution_count": null,
   "id": "0d5a0bbe-9b78-481d-a696-8c957f10706d",
   "metadata": {},
   "outputs": [],
   "source": []
  },
  {
   "cell_type": "markdown",
   "id": "cfb7844a-a8c8-435f-a207-9525f51b0909",
   "metadata": {},
   "source": [
    "## Assignment Questions\n",
    "\n",
    "Write code using find() and string slicing (see section 6.10) to extract the number at the end of the line below. Convert the extracted value to a floating point number and print it out."
   ]
  },
  {
   "cell_type": "code",
   "execution_count": 13,
   "id": "833c2fa5-4229-43bf-a924-75eee8750eae",
   "metadata": {},
   "outputs": [
    {
     "name": "stdout",
     "output_type": "stream",
     "text": [
      "0.8475\n"
     ]
    }
   ],
   "source": [
    "text = \"X-DSPAM-Confidence:    0.8475\"\n",
    "\n",
    "idx_start = text.find('0')\n",
    "num = float(text[idx_start:])\n",
    "print(num)"
   ]
  },
  {
   "cell_type": "code",
   "execution_count": 22,
   "id": "94c1e63e-80ec-4826-ac08-98ed9b6e438e",
   "metadata": {},
   "outputs": [
    {
     "name": "stdout",
     "output_type": "stream",
     "text": [
      "idx_start: 18\n",
      "0.8475\n",
      "\n",
      "\n",
      ":    0.847\n",
      "\n",
      "\n",
      "\n",
      "\n"
     ]
    }
   ],
   "source": [
    "idx_start = text.find(':')\n",
    "print(\"idx_start:\", idx_start)\n",
    "print(text[idx_start+1:].strip())\n",
    "print('\\n')\n",
    "print(text[idx_start:-1])\n",
    "print('\\n')\n",
    "num = text[-1:idx_start].strip()\n",
    "print(num)\n",
    "#num = float(num)\n",
    "print(num)"
   ]
  },
  {
   "cell_type": "markdown",
   "id": "71948c99-9c43-41b1-9e76-07bb676fa77f",
   "metadata": {},
   "source": [
    "7.1 Write a program that prompts for a file name, then opens that file and reads through the file, and print the contents of the file in upper case. Use the file words.txt to produce the output below.\n",
    "You can download the sample data at http://www.py4e.com/code3/words.txt"
   ]
  },
  {
   "cell_type": "code",
   "execution_count": null,
   "id": "90c56b34-f834-4d22-99df-597555deaf62",
   "metadata": {},
   "outputs": [],
   "source": [
    "# Use words.txt as the file name\n",
    "fname = input(\"Enter file name: \")\n",
    "fh = open(fname)\n",
    "for line in fh:\n",
    "    print(line.upper().strip())\n"
   ]
  },
  {
   "cell_type": "markdown",
   "id": "d997e905-20aa-4ada-ae58-ad5a710d2868",
   "metadata": {},
   "source": [
    "7.2 Write a program that prompts for a file name, then opens that file and reads through the file, looking for lines of the form:\n",
    "X-DSPAM-Confidence:    0.8475\n",
    "Count these lines and extract the floating point values from each of the lines and compute the average of those values and produce an output as shown below. Do not use the sum() function or a variable named sum in your solution.\n",
    "You can download the sample data at http://www.py4e.com/code3/mbox-short.txt when you are testing below enter mbox-short.txt as the file name."
   ]
  },
  {
   "cell_type": "code",
   "execution_count": 48,
   "id": "000b876d-1524-4a5e-a57a-61d408f22f37",
   "metadata": {},
   "outputs": [
    {
     "name": "stdout",
     "output_type": "stream",
     "text": [
      "Enter file name:  mbox-short.txt\n"
     ]
    },
    {
     "name": "stdout",
     "output_type": "stream",
     "text": [
      "Average spam confidence: 0.7507185185185187\n",
      "Done\n"
     ]
    }
   ],
   "source": [
    "url = 'https://www.py4e.com/code3/mbox-short.txt?PHPSESSID=248eee7bab36cec6d43cfec96e80bc40'\n",
    "\n",
    "# Use the file name mbox-short.txt as the file name\n",
    "fname = input(\"Enter file name: \")\n",
    "fh = open(fname)\n",
    "count = 0\n",
    "value = 0\n",
    "for line in fh:\n",
    "    if not line.startswith(\"X-DSPAM-Confidence:\"):\n",
    "        continue\n",
    "        count += 1\n",
    "    #print(line)\n",
    "    \n",
    "    idx_start = line.find(':')\n",
    "    \n",
    "    line_value = line[idx_start+1:].strip()\n",
    "    line_value = float(line_value)\n",
    "    #print(type(line_value), line_value)\n",
    "    value += line_value\n",
    "    count += 1\n",
    "    #print(value)\n",
    "    #print(count)\n",
    "    \n",
    "mean = value/count\n",
    "print(\"Average spam confidence:\", mean)\n",
    "print(\"Done\")\n"
   ]
  },
  {
   "cell_type": "markdown",
   "id": "95eac493-4e89-401b-8453-9ec2b3390832",
   "metadata": {},
   "source": [
    "### Question 8.4 \n",
    "\n",
    "Open the file romeo.txt and read it line by line. For each line, split the line into a list of words using the split() method. The program should build a list of words. For each word on each line check to see if the word is already in the list and if not append it to the list. When the program completes, sort and print the resulting words in alphabetical order.\n",
    "You can download the sample data at http://www.py4e.com/code3/romeo.txt"
   ]
  },
  {
   "cell_type": "code",
   "execution_count": 71,
   "id": "eab7a8be-ca4b-408e-80b5-4f5f25823c8f",
   "metadata": {},
   "outputs": [
    {
     "name": "stdout",
     "output_type": "stream",
     "text": [
      "Enter file name:  romeo.txt\n"
     ]
    },
    {
     "name": "stdout",
     "output_type": "stream",
     "text": [
      "['Arise', 'But', 'It', 'Juliet', 'Who', 'already', 'and', 'breaks', 'east', 'envious', 'fair', 'grief', 'is', 'kill', 'light', 'moon', 'pale', 'sick', 'soft', 'sun', 'the', 'through', 'what', 'window', 'with', 'yonder']\n"
     ]
    }
   ],
   "source": [
    "fname = input(\"Enter file name: \")\n",
    "fh = open(fname)\n",
    "\n",
    "lst = list()\n",
    "\n",
    "for line in fh:\n",
    "    \n",
    "    #print(line)\n",
    "    line.rstrip()\n",
    "    #print(line.rstrip())\n",
    "    #print(line.split())\n",
    "          \n",
    "    for word in line.split():\n",
    "        #print(word)\n",
    "        if word not in lst: lst.append(word)\n",
    "        #print(lst)\n",
    "        \n",
    "lst.sort()     \n",
    "print(lst)\n",
    "\n"
   ]
  },
  {
   "cell_type": "markdown",
   "id": "89f3c7b4-40e6-4005-ae1d-d2db09771863",
   "metadata": {},
   "source": [
    "### Question 8.5 \n",
    "\n",
    "Open the file mbox-short.txt and read it line by line. When you find a line that starts with 'From ' like the following line:\n",
    "From stephen.marquard@uct.ac.za Sat Jan  5 09:14:16 2008\n",
    "You will parse the From line using split() and print out the second word in the line (i.e. the entire address of the person who sent the message). Then print out a count at the end.\n",
    "Hint: make sure not to include the lines that start with 'From:'. Also look at the last line of the sample output to see how to print the count.\n",
    "\n",
    "You can download the sample data at http://www.py4e.com/code3/mbox-short.txt"
   ]
  },
  {
   "cell_type": "code",
   "execution_count": null,
   "id": "4d4063f8-8c07-4732-9f27-d0c49224fd23",
   "metadata": {},
   "outputs": [],
   "source": []
  },
  {
   "cell_type": "code",
   "execution_count": 78,
   "id": "06bf8ede-30ff-44db-9021-564485352d41",
   "metadata": {},
   "outputs": [
    {
     "name": "stdout",
     "output_type": "stream",
     "text": [
      "stephen.marquard@uct.ac.za\n",
      "louis@media.berkeley.edu\n",
      "zqian@umich.edu\n",
      "rjlowe@iupui.edu\n",
      "zqian@umich.edu\n",
      "rjlowe@iupui.edu\n",
      "cwen@iupui.edu\n",
      "cwen@iupui.edu\n",
      "gsilver@umich.edu\n",
      "gsilver@umich.edu\n",
      "zqian@umich.edu\n",
      "gsilver@umich.edu\n",
      "wagnermr@iupui.edu\n",
      "zqian@umich.edu\n",
      "antranig@caret.cam.ac.uk\n",
      "gopal.ramasammycook@gmail.com\n",
      "david.horwitz@uct.ac.za\n",
      "david.horwitz@uct.ac.za\n",
      "david.horwitz@uct.ac.za\n",
      "david.horwitz@uct.ac.za\n",
      "stephen.marquard@uct.ac.za\n",
      "louis@media.berkeley.edu\n",
      "louis@media.berkeley.edu\n",
      "ray@media.berkeley.edu\n",
      "cwen@iupui.edu\n",
      "cwen@iupui.edu\n",
      "cwen@iupui.edu\n",
      "There were 27 lines in the file with From as the first word\n"
     ]
    }
   ],
   "source": [
    "#fname = input(\"Enter file name: \")\n",
    "#if len(fname) < 1:\n",
    "#    fname = \"mbox-short.txt\"\n",
    "\n",
    "fname = \"mbox-short.txt\"\n",
    "fh = open(fname)\n",
    "count = 0\n",
    "for line in fh:\n",
    "    if not line.startswith(\"From \"): continue\n",
    "    print(line.split()[1])\n",
    "    count += 1\n",
    "    \n",
    "print(\"There were\", count, \"lines in the file with From as the first word\")\n"
   ]
  },
  {
   "cell_type": "markdown",
   "id": "b997630b-6d0a-42bb-9709-04abcdbff9a5",
   "metadata": {},
   "source": [
    "## LeetCode Questions"
   ]
  },
  {
   "cell_type": "markdown",
   "id": "7eb6a889-d2d5-4731-bcb0-abf7f561e228",
   "metadata": {},
   "source": [
    "You are given a string s formed by digits and '#'. We want to map s to English lowercase characters as follows:\n",
    "\n",
    "Characters ('a' to 'i') are represented by ('1' to '9') respectively.\n",
    "Characters ('j' to 'z') are represented by ('10#' to '26#') respectively.\n",
    "Return the string formed after mapping.\n",
    "\n",
    "The test cases are generated so that a unique mapping will always exist.\n",
    "\n",
    " \n",
    "\n",
    "Example 1:\n",
    "\n",
    "Input: s = \"10#11#12\"\n",
    "Output: \"jkab\"\n",
    "Explanation: \"j\" -> \"10#\" , \"k\" -> \"11#\" , \"a\" -> \"1\" , \"b\" -> \"2\".\n",
    "Example 2:\n",
    "\n",
    "Input: s = \"1326#\"\n",
    "Output: \"acz\"\n",
    " \n",
    "\n",
    "Constraints:\n",
    "\n",
    "1 <= s.length <= 1000\n",
    "s consists of digits and the '#' letter.\n",
    "s will be a valid string such that mapping is always possible.\n"
   ]
  },
  {
   "cell_type": "code",
   "execution_count": 7,
   "id": "0217f551-2be2-4adb-840b-5cc744460399",
   "metadata": {},
   "outputs": [],
   "source": [
    "class Solution:\n",
    "    def freqAlphabets(self, s: str) -> str:\n",
    "        apl = \"abcdefghijklmnopqrsvwtxyz\""
   ]
  },
  {
   "cell_type": "code",
   "execution_count": 29,
   "id": "0659e706-4aac-4fa3-98e2-701483e947ad",
   "metadata": {},
   "outputs": [
    {
     "data": {
      "text/plain": [
       "'abcdefghijklmnopqrsvwtxyz'"
      ]
     },
     "execution_count": 29,
     "metadata": {},
     "output_type": "execute_result"
    }
   ],
   "source": [
    "apl = \"abcdefghijklmnopqrsvwtxyz\"\n",
    "len(apl)\n",
    "apl.split()\n",
    "apl_spl = [x for x in apl]\n",
    "\n",
    "the_string = \"\"\n",
    "for alph in apl_spl:\n",
    "    the_string += alph\n",
    "the_string"
   ]
  },
  {
   "cell_type": "code",
   "execution_count": 33,
   "id": "c59dd2d1-ed29-4370-9d53-0a5b7a7d8315",
   "metadata": {},
   "outputs": [
    {
     "name": "stdout",
     "output_type": "stream",
     "text": [
      "26\n"
     ]
    },
    {
     "data": {
      "text/plain": [
       "'abcdefghijklmnopqrstuvwxyz'"
      ]
     },
     "execution_count": 33,
     "metadata": {},
     "output_type": "execute_result"
    }
   ],
   "source": [
    "alphs = 'qwertyuiopasdfghjklzxcvbnm'\n",
    "alphs = sorted(alphs)\n",
    "print(len(alphs))\n",
    "\n",
    "the_string = \"\"\n",
    "for alph in alphs:\n",
    "    the_string += alph\n",
    "the_string"
   ]
  },
  {
   "cell_type": "code",
   "execution_count": null,
   "id": "e25b9da2-d128-431b-b88f-c092bada72e1",
   "metadata": {},
   "outputs": [],
   "source": []
  },
  {
   "cell_type": "code",
   "execution_count": 4,
   "id": "9c2bd3e1-6366-4dd9-8058-dcfe9b50337a",
   "metadata": {},
   "outputs": [
    {
     "name": "stdout",
     "output_type": "stream",
     "text": [
      "hello world\n"
     ]
    }
   ],
   "source": [
    "print(\"hello world\")"
   ]
  },
  {
   "cell_type": "code",
   "execution_count": null,
   "id": "8b926ddf-252c-4379-8213-db6c147717b8",
   "metadata": {},
   "outputs": [],
   "source": []
  },
  {
   "cell_type": "code",
   "execution_count": null,
   "id": "ee58233e-5adf-431e-ab91-3e260d0640a8",
   "metadata": {},
   "outputs": [],
   "source": []
  },
  {
   "cell_type": "markdown",
   "id": "fc517353-75f6-4676-a738-58a7283e31b2",
   "metadata": {},
   "source": [
    "Given an array of integers nums and an integer target, return indices of the two numbers such that they add up to target.\n",
    "\n",
    "You may assume that each input would have exactly one solution, and you may not use the same element twice.\n",
    "\n",
    "You can return the answer in any order.\n",
    "\n",
    "```\n",
    "Example 1:\n",
    "\n",
    "Input: nums = [2,7,11,15], target = 9\n",
    "Output: [0,1]\n",
    "Explanation: Because nums[0] + nums[1] == 9, we return [0, 1].\n",
    "\n",
    "Example 2:\n",
    "\n",
    "Input: nums = [3,2,4], target = 6\n",
    "Output: [1,2]\n",
    "\n",
    "Example 3:\n",
    "\n",
    "Input: nums = [3,3], target = 6\n",
    "Output: [0,1]\n",
    "```"
   ]
  },
  {
   "cell_type": "code",
   "execution_count": null,
   "id": "79e87bdd-c8d5-488d-b7fd-bf994ca7186c",
   "metadata": {},
   "outputs": [],
   "source": [
    "class Solution:\n",
    "    def twoSum(self, nums: List[int], target: int) -> List[int]:\n",
    "        \n",
    "        nums < target"
   ]
  },
  {
   "cell_type": "code",
   "execution_count": 158,
   "id": "bea2bf87-cae7-4ae9-a397-618d2ec5d722",
   "metadata": {},
   "outputs": [
    {
     "name": "stdout",
     "output_type": "stream",
     "text": [
      "[10, 22, 2, 7, 11, 15]\n",
      "[10, 22, 2, 7, 11, 15]\n"
     ]
    }
   ],
   "source": [
    "\n",
    "nums_original, target = [10, 22, 2,7,11,15],  9\n",
    "nums = nums_original\n",
    "print(nums)\n",
    "#print(nums.sort())\n",
    "print(nums)\n",
    "#nums < target"
   ]
  },
  {
   "cell_type": "code",
   "execution_count": 87,
   "id": "a27cf84f-8082-474a-b038-bb62d3a4aa91",
   "metadata": {},
   "outputs": [],
   "source": [
    "nums.append(target)"
   ]
  },
  {
   "cell_type": "code",
   "execution_count": 89,
   "id": "df62e6b4-14ce-4de9-96c4-ac22235392be",
   "metadata": {},
   "outputs": [
    {
     "name": "stdout",
     "output_type": "stream",
     "text": [
      "[2, 7, 9, 10, 11, 15, 22]\n",
      "[2, 7, 9, 10, 11, 15, 22]\n",
      "idxTarget: 2\n",
      "2\n",
      "[2, 7]\n",
      "2\n",
      "[0, 1]\n"
     ]
    }
   ],
   "source": [
    "print(nums)\n",
    "nums.sort()\n",
    "print(nums)\n",
    "idxTarget = nums.index(target)\n",
    "print(\"idxTarget:\", idxTarget)\n",
    "print(nums.index(target))\n",
    "\n",
    "candidates = nums[:idxTarget]\n",
    "print(nums[:idxTarget])\n",
    "highest_candidate = candidates[-1]\n",
    "candidate = target - highest_candidate\n",
    "print(candidate)\n",
    "\n",
    "if candidate in nums_original:\n",
    "    print([nums.index(candidate), nums.index(highest_candidate)])\n",
    "    "
   ]
  },
  {
   "cell_type": "code",
   "execution_count": 159,
   "id": "6638806f-f64f-4dad-b390-4eb5cb44dde5",
   "metadata": {},
   "outputs": [],
   "source": [
    "def twoSum(nums, target, prt=False) :\n",
    "    \n",
    "    nums_original = nums.copy()\n",
    "    \n",
    "    print(nums) if prt else \"\"\n",
    "    \n",
    "    nums.append(target)\n",
    "    \n",
    "    print(nums) if prt else \"\"\n",
    "    \n",
    "    nums.sort()\n",
    "    \n",
    "    print(nums) if prt else \"\"\n",
    "    \n",
    "    idxTarget = nums.index(target)\n",
    "    \n",
    "    print(\"idxTarget:\", idxTarget)  if prt else \"\"\n",
    "    print(nums.index(target)) if prt else \"\"\n",
    "\n",
    "    candidates = nums[:idxTarget]\n",
    "    \n",
    "    print(nums[:idxTarget]) if prt else \"\"\n",
    "    \n",
    "    highest_candidate = candidates[-1]\n",
    "    candidate = target - highest_candidate\n",
    "    \n",
    "    print(candidate) if prt else \"\"\n",
    "\n",
    "    if candidate in nums_original:\n",
    "        \n",
    "        \n",
    "        idx_hightest = nums_original.index(highest_candidate) \n",
    "        \n",
    "        try:\n",
    "            nums_original.index(candidate,  idx_hightest, -1)\n",
    "        except:\n",
    "            nums_original.index(candidate, 0, idx_hightest)\n",
    "        \n",
    "        print(\"nums_original\", nums_original) if prt else \"\"\n",
    "        idxs = [nums_original.index(candidate), nums_original.index(highest_candidate)]\n",
    "    \n",
    "        print(idxs)  if prt else \"\"\n",
    "        \n",
    "        return(idxs)\n",
    "    "
   ]
  },
  {
   "cell_type": "code",
   "execution_count": 160,
   "id": "5227bd8c-2bad-4622-8f6a-de5a7693668e",
   "metadata": {},
   "outputs": [
    {
     "name": "stdout",
     "output_type": "stream",
     "text": [
      "[2, 3]\n",
      "\n",
      "\n",
      "[2, 7, 9, 10, 11, 15, 22]\n",
      "[2, 7, 9, 10, 11, 15, 22, 9]\n",
      "[2, 7, 9, 9, 10, 11, 15, 22]\n",
      "idxTarget: 2\n",
      "2\n",
      "[2, 7]\n",
      "2\n",
      "nums_original [2, 7, 9, 10, 11, 15, 22]\n",
      "[0, 1]\n",
      "[0, 0]\n"
     ]
    }
   ],
   "source": [
    "ans1 = twoSum(nums, target)\n",
    "print(ans1)\n",
    "print(\"\\n\")\n",
    "twoSum(nums, target, True)\n",
    "print(twoSum([3,3], 6))"
   ]
  },
  {
   "cell_type": "code",
   "execution_count": 161,
   "id": "a2aba16b-c9aa-47cf-bbd8-6f33379c9a8f",
   "metadata": {},
   "outputs": [
    {
     "name": "stdout",
     "output_type": "stream",
     "text": [
      "[3, 2, 4]\n",
      "[3, 2, 4, 6]\n",
      "[2, 3, 4, 6]\n",
      "idxTarget: 3\n",
      "3\n",
      "[2, 3, 4]\n",
      "2\n",
      "nums_original [3, 2, 4]\n",
      "[1, 2]\n"
     ]
    },
    {
     "data": {
      "text/plain": [
       "[1, 2]"
      ]
     },
     "execution_count": 161,
     "metadata": {},
     "output_type": "execute_result"
    }
   ],
   "source": [
    "twoSum([3,2,4], 6, True)"
   ]
  },
  {
   "cell_type": "code",
   "execution_count": 162,
   "id": "e8a33c67-4596-4f35-9dae-319f3ffa3d70",
   "metadata": {},
   "outputs": [
    {
     "data": {
      "text/plain": [
       "[0, 0]"
      ]
     },
     "execution_count": 162,
     "metadata": {},
     "output_type": "execute_result"
    }
   ],
   "source": [
    "twoSum([3,3], 6)"
   ]
  },
  {
   "cell_type": "code",
   "execution_count": 65,
   "id": "e97846f4-cb89-4e8e-a5f2-48464b15b768",
   "metadata": {},
   "outputs": [
    {
     "name": "stdout",
     "output_type": "stream",
     "text": [
      "[ 2  7 10 11 15 22]\n",
      "[ True  True False False False False]\n"
     ]
    },
    {
     "data": {
      "text/plain": [
       "2"
      ]
     },
     "execution_count": 65,
     "metadata": {},
     "output_type": "execute_result"
    }
   ],
   "source": [
    "import numpy as np\n",
    "\n",
    "numss = np.array(nums)\n",
    "print(numss)\n",
    "type(numss)\n",
    "\n",
    "mask = numss < target\n",
    "print(mask)\n",
    "\n",
    "\n",
    "\n",
    "target - numss[mask].max()\n",
    "\n",
    "#numss[mask].idmax()\n",
    "\n",
    "\n",
    "\n"
   ]
  },
  {
   "cell_type": "code",
   "execution_count": 148,
   "id": "dd4d086b-751a-4081-a4e0-346844e7bb9c",
   "metadata": {},
   "outputs": [
    {
     "data": {
      "text/plain": [
       "0"
      ]
     },
     "execution_count": 148,
     "metadata": {},
     "output_type": "execute_result"
    }
   ],
   "source": [
    "[3,3].index(3)"
   ]
  },
  {
   "cell_type": "code",
   "execution_count": 156,
   "id": "828a4bcd-5c54-409b-8d81-c36cbbaa7af9",
   "metadata": {},
   "outputs": [
    {
     "ename": "ValueError",
     "evalue": "3 is not in list",
     "output_type": "error",
     "traceback": [
      "\u001b[1;31m---------------------------------------------------------------------------\u001b[0m",
      "\u001b[1;31mValueError\u001b[0m                                Traceback (most recent call last)",
      "Input \u001b[1;32mIn [156]\u001b[0m, in \u001b[0;36m<cell line: 1>\u001b[1;34m()\u001b[0m\n\u001b[1;32m----> 1\u001b[0m \u001b[43m[\u001b[49m\u001b[38;5;241;43m1\u001b[39;49m\u001b[43m,\u001b[49m\u001b[43m \u001b[49m\u001b[38;5;241;43m2\u001b[39;49m\u001b[43m,\u001b[49m\u001b[43m \u001b[49m\u001b[38;5;241;43m1\u001b[39;49m\u001b[43m,\u001b[49m\u001b[43m \u001b[49m\u001b[38;5;241;43m3\u001b[39;49m\u001b[43m,\u001b[49m\u001b[38;5;241;43m3\u001b[39;49m\u001b[43m]\u001b[49m\u001b[38;5;241;43m.\u001b[39;49m\u001b[43mindex\u001b[49m\u001b[43m(\u001b[49m\u001b[38;5;241;43m3\u001b[39;49m\u001b[43m,\u001b[49m\u001b[43m \u001b[49m\u001b[38;5;241;43m-\u001b[39;49m\u001b[38;5;241;43m1\u001b[39;49m\u001b[43m,\u001b[49m\u001b[38;5;241;43m-\u001b[39;49m\u001b[38;5;241;43m1\u001b[39;49m\u001b[43m)\u001b[49m\n",
      "\u001b[1;31mValueError\u001b[0m: 3 is not in list"
     ]
    }
   ],
   "source": [
    "[1, 2, 1, 3,3].index(3, -1,-1)"
   ]
  },
  {
   "cell_type": "code",
   "execution_count": null,
   "id": "af2ccb72-88f1-42ed-bb63-6cb4217528a7",
   "metadata": {},
   "outputs": [],
   "source": []
  },
  {
   "cell_type": "code",
   "execution_count": null,
   "id": "3ea162f1-7022-4187-921c-2ceddcd6736d",
   "metadata": {},
   "outputs": [],
   "source": []
  },
  {
   "cell_type": "code",
   "execution_count": null,
   "id": "69408358-2157-498a-89de-d9a3864d5f86",
   "metadata": {},
   "outputs": [],
   "source": []
  },
  {
   "cell_type": "markdown",
   "id": "0b597b7c-52e7-475b-bedd-d7509bb08722",
   "metadata": {},
   "source": [
    "# Amazon Coding Interview Questions"
   ]
  },
  {
   "cell_type": "markdown",
   "id": "45813456-e889-48bf-af98-96e789132f85",
   "metadata": {},
   "source": [
    "### Question 1.\n",
    "\n",
    "Find the missing number in the array\n",
    "\n",
    "You are given an array of positive numbers from 1 to n, such that all numbers from 1 to n are present except one number x. You have to find x. The input array is not sorted. Look at the below array and give it a try before checking the solution.\n",
    "\n",
    "3\n",
    "7\n",
    "1\n",
    "2\n",
    "8\n",
    "4\n",
    "5\n",
    "n = 8 missing number = 6"
   ]
  },
  {
   "cell_type": "code",
   "execution_count": 14,
   "id": "06a97c81-b194-4241-a0a7-f9ed4f1bc93f",
   "metadata": {},
   "outputs": [
    {
     "name": "stdout",
     "output_type": "stream",
     "text": [
      "8\n",
      "36\n",
      "30\n",
      "6\n"
     ]
    }
   ],
   "source": [
    "seq = [3, 7, 1, 2, 8, 4, 5]\n",
    "\n",
    "max_num = max(seq)\n",
    "print(max_num)\n",
    "\n",
    "seq_full = list(range(max_num + 1))\n",
    "seq_full_sum = sum(seq_full)\n",
    "print(seq_full_sum)\n",
    "\n",
    "seq_sum = sum(seq)\n",
    "print(seq_sum)\n",
    "\n",
    "missing_number = seq_full_sum - seq_sum\n",
    "print(missing_number)\n",
    "\n"
   ]
  },
  {
   "cell_type": "code",
   "execution_count": 15,
   "id": "13e01938-6fe8-47f3-8b00-257eb82cf4f4",
   "metadata": {},
   "outputs": [
    {
     "data": {
      "text/plain": [
       "[0, 1, 2, 3, 4, 5, 6, 7, 8, 9]"
      ]
     },
     "execution_count": 15,
     "metadata": {},
     "output_type": "execute_result"
    }
   ],
   "source": [
    "# Creating sequences but not as range() object but as lists. Note have to add + 1 to the end if want to get it, which we usually need to get.\n",
    "list(range(10))"
   ]
  },
  {
   "cell_type": "markdown",
   "id": "20605127-b388-4e3f-9b56-8b09bb36698e",
   "metadata": {},
   "source": [
    "### Question 2.\n",
    "\n",
    "Determine if the sum of two integers is equal to the given value.\n",
    "\n",
    "Given an array of integers and a value, determine if there are any two integers in the array whose sum is equal to the given value. Return true if the sum exists and return false if it does not. Consider this array and the target sums:\n",
    "\n",
    "5\n",
    "7\n",
    "1\n",
    "2\n",
    "8\n",
    "4\n",
    "3\n",
    "Target Sum\n",
    "10\n",
    "7+3=10, 2+8=10\n",
    "Target Sum\n",
    "19\n",
    "No 2 values sum up to 19"
   ]
  },
  {
   "cell_type": "code",
   "execution_count": null,
   "id": "62464d04-f1e8-4868-911a-95d3ac4fc7ae",
   "metadata": {},
   "outputs": [],
   "source": []
  },
  {
   "cell_type": "markdown",
   "id": "c3875819-8ded-4de8-8753-2a39291ae7be",
   "metadata": {},
   "source": [
    "### Question 3. \n",
    "\n",
    "Merge two sorted linked lists\n",
    "\n",
    "Given two sorted linked lists, merge them so that the resulting linked list is also sorted. Consider two sorted linked lists and the merged list below them as an example.\n"
   ]
  },
  {
   "cell_type": "code",
   "execution_count": 17,
   "id": "525b064b-3372-4716-9c28-794a426299f8",
   "metadata": {},
   "outputs": [
    {
     "name": "stdout",
     "output_type": "stream",
     "text": [
      "[4]\n",
      "[4]\n",
      "[4]\n",
      "[4]\n",
      "[4]\n",
      "[4]\n",
      "[4]\n",
      "[4]\n",
      "[4]\n",
      "[4]\n",
      "[4]\n",
      "[4]\n",
      "[4]\n",
      "[4]\n",
      "[4]\n",
      "[4]\n"
     ]
    }
   ],
   "source": [
    "list_1 = [4, 8, 15, 19]\n",
    "list_2 = [7, 9, 10, 16]\n",
    "\n",
    "\n",
    "sorted_list = []\n",
    "\n",
    "if list_1[0] >= list_2[0] :\n",
    "    sorted_list.append(list_2[0])\n",
    "else :\n",
    "    sorted_list.append(list_1[0])\n",
    "\n",
    "for el_1 in list_1:\n",
    "    for el_2 in list_2:\n",
    "        \n",
    "        print(sorted_list)\n",
    "        \n",
    "\n",
    "sorted_list = []\n",
    "\n",
    "for i in range(  max(len(list_1), len(list_2))  ):\n",
    "    min(list_1[i], list_2[i])\n",
    "        "
   ]
  },
  {
   "cell_type": "code",
   "execution_count": 19,
   "id": "83a1f404-3c75-4f34-a8b9-d1e7c3829dbf",
   "metadata": {},
   "outputs": [
    {
     "data": {
      "text/plain": [
       "[0, 1, 2, 3]"
      ]
     },
     "execution_count": 19,
     "metadata": {},
     "output_type": "execute_result"
    }
   ],
   "source": [
    "list(range(len(list_1)))"
   ]
  },
  {
   "cell_type": "code",
   "execution_count": null,
   "id": "1863ae5c-e0af-4d11-bc0b-1623900d90a6",
   "metadata": {},
   "outputs": [],
   "source": []
  },
  {
   "cell_type": "code",
   "execution_count": null,
   "id": "c7109cda-f0b1-41dc-ab95-dacc0c21faae",
   "metadata": {},
   "outputs": [],
   "source": []
  },
  {
   "cell_type": "markdown",
   "id": "f53bf33e",
   "metadata": {},
   "source": [
    "Sanofi Code Signal Tests"
   ]
  },
  {
   "cell_type": "code",
   "execution_count": 1,
   "id": "0f740569-a0f8-42c9-8a52-d9116ea9a38e",
   "metadata": {},
   "outputs": [
    {
     "name": "stdout",
     "output_type": "stream",
     "text": [
      "[()]\n"
     ]
    }
   ],
   "source": [
    "xs = [()]\n",
    "print(xs)"
   ]
  },
  {
   "cell_type": "code",
   "execution_count": 2,
   "id": "1a58fdf0-8acd-4caf-a785-1d526f6c495e",
   "metadata": {},
   "outputs": [
    {
     "data": {
      "text/plain": [
       "list"
      ]
     },
     "execution_count": 2,
     "metadata": {},
     "output_type": "execute_result"
    }
   ],
   "source": [
    "type(xs)"
   ]
  },
  {
   "cell_type": "code",
   "execution_count": 3,
   "id": "724e2b52-42cd-4b97-9aa8-a205cc3bb519",
   "metadata": {},
   "outputs": [
    {
     "name": "stdout",
     "output_type": "stream",
     "text": [
      "[False, False]\n"
     ]
    }
   ],
   "source": [
    "xs = [()]\n",
    "res = [False] * 2\n",
    "print(res)"
   ]
  },
  {
   "cell_type": "code",
   "execution_count": 4,
   "id": "a5e78d96-abf9-4c70-b3b8-db01d1f021da",
   "metadata": {},
   "outputs": [],
   "source": [
    "xs = [()]\n",
    "res = [False] * 2\n",
    "if xs:\n",
    "    res[0] = True\n",
    "if xs[0]:\n",
    "    res[1] = True"
   ]
  },
  {
   "cell_type": "code",
   "execution_count": 5,
   "id": "4a5a0aae-b85c-42ed-ac63-555e14b6a1c5",
   "metadata": {},
   "outputs": [
    {
     "name": "stdout",
     "output_type": "stream",
     "text": [
      "[True, False]\n"
     ]
    }
   ],
   "source": [
    "print(res)"
   ]
  },
  {
   "cell_type": "code",
   "execution_count": 6,
   "id": "92eba5da-e73f-4255-aeb3-d093343a01f0",
   "metadata": {},
   "outputs": [
    {
     "data": {
      "text/plain": [
       "False"
      ]
     },
     "execution_count": 6,
     "metadata": {},
     "output_type": "execute_result"
    }
   ],
   "source": [
    "a = True\n",
    "b = True\n",
    "\n",
    "not (a==b)"
   ]
  },
  {
   "cell_type": "code",
   "execution_count": 7,
   "id": "a7f2c58e",
   "metadata": {},
   "outputs": [
    {
     "ename": "SyntaxError",
     "evalue": "invalid syntax (2402672868.py, line 1)",
     "output_type": "error",
     "traceback": [
      "\u001b[1;36m  Input \u001b[1;32mIn [7]\u001b[1;36m\u001b[0m\n\u001b[1;33m    a == not b\u001b[0m\n\u001b[1;37m         ^\u001b[0m\n\u001b[1;31mSyntaxError\u001b[0m\u001b[1;31m:\u001b[0m invalid syntax\n"
     ]
    }
   ],
   "source": [
    "a == not b"
   ]
  },
  {
   "cell_type": "code",
   "execution_count": 8,
   "id": "da99c5f1",
   "metadata": {},
   "outputs": [
    {
     "data": {
      "text/plain": [
       "False"
      ]
     },
     "execution_count": 8,
     "metadata": {},
     "output_type": "execute_result"
    }
   ],
   "source": [
    "not a == b"
   ]
  },
  {
   "cell_type": "code",
   "execution_count": 9,
   "id": "d3d77ee9",
   "metadata": {},
   "outputs": [
    {
     "data": {
      "text/plain": [
       "False"
      ]
     },
     "execution_count": 9,
     "metadata": {},
     "output_type": "execute_result"
    }
   ],
   "source": [
    "a == (not b)"
   ]
  },
  {
   "cell_type": "code",
   "execution_count": 11,
   "id": "9cedef12",
   "metadata": {},
   "outputs": [
    {
     "ename": "SyntaxError",
     "evalue": "invalid syntax (3125569042.py, line 1)",
     "output_type": "error",
     "traceback": [
      "\u001b[1;36m  Input \u001b[1;32mIn [11]\u001b[1;36m\u001b[0m\n\u001b[1;33m    4.to_bytes()\u001b[0m\n\u001b[1;37m      ^\u001b[0m\n\u001b[1;31mSyntaxError\u001b[0m\u001b[1;31m:\u001b[0m invalid syntax\n"
     ]
    }
   ],
   "source": [
    "4.to_bytes()"
   ]
  },
  {
   "cell_type": "code",
   "execution_count": 12,
   "id": "83065049",
   "metadata": {},
   "outputs": [
    {
     "data": {
      "text/plain": [
       "<function int.to_bytes(length, byteorder, *, signed=False)>"
      ]
     },
     "execution_count": 12,
     "metadata": {},
     "output_type": "execute_result"
    }
   ],
   "source": [
    "a = 4\n",
    "a.to_bytes"
   ]
  },
  {
   "cell_type": "code",
   "execution_count": 16,
   "id": "60404ca2",
   "metadata": {},
   "outputs": [
    {
     "ename": "AttributeError",
     "evalue": "'int' object has no attribute 'size'",
     "output_type": "error",
     "traceback": [
      "\u001b[1;31m---------------------------------------------------------------------------\u001b[0m",
      "\u001b[1;31mAttributeError\u001b[0m                            Traceback (most recent call last)",
      "\u001b[1;32me:\\CubeStatistica\\LessonsAndBooks\\Learning-Data-Science-Properly-for-Work-and-Production-Using-Python\\DSPythonLessons.ipynb Cell 225\u001b[0m in \u001b[0;36m<cell line: 3>\u001b[1;34m()\u001b[0m\n\u001b[0;32m      <a href='vscode-notebook-cell:/e%3A/CubeStatistica/LessonsAndBooks/Learning-Data-Science-Properly-for-Work-and-Production-Using-Python/DSPythonLessons.ipynb#Y440sZmlsZQ%3D%3D?line=0'>1</a>\u001b[0m b \u001b[39m=\u001b[39m \u001b[39m4\u001b[39m\n\u001b[0;32m      <a href='vscode-notebook-cell:/e%3A/CubeStatistica/LessonsAndBooks/Learning-Data-Science-Properly-for-Work-and-Production-Using-Python/DSPythonLessons.ipynb#Y440sZmlsZQ%3D%3D?line=1'>2</a>\u001b[0m b\u001b[39m.\u001b[39mbit_length\n\u001b[1;32m----> <a href='vscode-notebook-cell:/e%3A/CubeStatistica/LessonsAndBooks/Learning-Data-Science-Properly-for-Work-and-Production-Using-Python/DSPythonLessons.ipynb#Y440sZmlsZQ%3D%3D?line=2'>3</a>\u001b[0m b\u001b[39m.\u001b[39;49msize\n",
      "\u001b[1;31mAttributeError\u001b[0m: 'int' object has no attribute 'size'"
     ]
    }
   ],
   "source": [
    "b = 4\n",
    "b.bit_length\n",
    "b.size"
   ]
  },
  {
   "cell_type": "code",
   "execution_count": 18,
   "id": "5d193416",
   "metadata": {},
   "outputs": [
    {
     "ename": "AttributeError",
     "evalue": "'int' object has no attribute 'size'",
     "output_type": "error",
     "traceback": [
      "\u001b[1;31m---------------------------------------------------------------------------\u001b[0m",
      "\u001b[1;31mAttributeError\u001b[0m                            Traceback (most recent call last)",
      "\u001b[1;32me:\\CubeStatistica\\LessonsAndBooks\\Learning-Data-Science-Properly-for-Work-and-Production-Using-Python\\DSPythonLessons.ipynb Cell 226\u001b[0m in \u001b[0;36m<cell line: 2>\u001b[1;34m()\u001b[0m\n\u001b[0;32m      <a href='vscode-notebook-cell:/e%3A/CubeStatistica/LessonsAndBooks/Learning-Data-Science-Properly-for-Work-and-Production-Using-Python/DSPythonLessons.ipynb#Y441sZmlsZQ%3D%3D?line=0'>1</a>\u001b[0m c \u001b[39m=\u001b[39m \u001b[39m4\u001b[39m\n\u001b[1;32m----> <a href='vscode-notebook-cell:/e%3A/CubeStatistica/LessonsAndBooks/Learning-Data-Science-Properly-for-Work-and-Production-Using-Python/DSPythonLessons.ipynb#Y441sZmlsZQ%3D%3D?line=1'>2</a>\u001b[0m c\u001b[39m.\u001b[39;49msize()\n",
      "\u001b[1;31mAttributeError\u001b[0m: 'int' object has no attribute 'size'"
     ]
    }
   ],
   "source": [
    "c = 4\n",
    "c.size()"
   ]
  },
  {
   "cell_type": "code",
   "execution_count": null,
   "id": "cd2e45f1",
   "metadata": {},
   "outputs": [],
   "source": [
    "def solution(n):\n",
    "    return n.bit_length()"
   ]
  },
  {
   "cell_type": "code",
   "execution_count": null,
   "id": "45d0e070",
   "metadata": {},
   "outputs": [],
   "source": []
  },
  {
   "cell_type": "code",
   "execution_count": null,
   "id": "f49b06ee",
   "metadata": {},
   "outputs": [],
   "source": []
  },
  {
   "cell_type": "code",
   "execution_count": null,
   "id": "36788f4f",
   "metadata": {},
   "outputs": [],
   "source": []
  },
  {
   "cell_type": "code",
   "execution_count": 21,
   "id": "e1a24e4b",
   "metadata": {},
   "outputs": [
    {
     "data": {
      "text/plain": [
       "int"
      ]
     },
     "execution_count": 21,
     "metadata": {},
     "output_type": "execute_result"
    }
   ],
   "source": [
    "type(c)"
   ]
  },
  {
   "cell_type": "code",
   "execution_count": 22,
   "id": "d53a8a72",
   "metadata": {},
   "outputs": [],
   "source": [
    "def solution(n):\n",
    "    if type(n) == int:\n",
    "        return n % 2\n",
    "    else:\n",
    "        return -1"
   ]
  },
  {
   "cell_type": "code",
   "execution_count": null,
   "id": "7a86cb3a",
   "metadata": {},
   "outputs": [],
   "source": []
  },
  {
   "cell_type": "code",
   "execution_count": 23,
   "id": "c350b509",
   "metadata": {},
   "outputs": [
    {
     "data": {
      "text/plain": [
       "1"
      ]
     },
     "execution_count": 23,
     "metadata": {},
     "output_type": "execute_result"
    }
   ],
   "source": [
    "solution(15)"
   ]
  },
  {
   "cell_type": "code",
   "execution_count": 24,
   "id": "572c4eff",
   "metadata": {},
   "outputs": [
    {
     "data": {
      "text/plain": [
       "-1"
      ]
     },
     "execution_count": 24,
     "metadata": {},
     "output_type": "execute_result"
    }
   ],
   "source": [
    "solution(15.1)"
   ]
  },
  {
   "cell_type": "markdown",
   "id": "136de942",
   "metadata": {},
   "source": [
    "To understand how efficient the built-in Python sorting function is, you decided to implement your own simple sorting algorithm and compare its speed to the speed of the Python sorting. Write a function that, given an array of integers arr, sorts its elements in ascending order.\n",
    "\n",
    "Hint: with Python it's possible to swap several elements in a single line. To solve the task, use this knowledge to fill in both of the blanks (...).\n",
    "\n",
    "Example\n",
    "\n",
    "For arr = [2, 4, 1, 5], the output should be\n",
    "solution(arr) = [1, 2, 4, 5]."
   ]
  },
  {
   "cell_type": "code",
   "execution_count": null,
   "id": "e85b6887",
   "metadata": {},
   "outputs": [],
   "source": [
    "def solution(arr):\n",
    "\n",
    "    n = len(arr)\n",
    "\n",
    "    for i in range(n):\n",
    "        j = 0\n",
    "        stop = n - i\n",
    "        while j < stop - 1:\n",
    "            if arr[j] > arr[j + 1]:\n",
    "                arr[j], arr[j + 1] = arr[j+1], arr[j]\n",
    "            j += 1\n",
    "    return arr\n"
   ]
  },
  {
   "cell_type": "markdown",
   "id": "363f2abd",
   "metadata": {},
   "source": [
    "Your university professor decided to have a little fun and asked the class to implement a function that, given a number n and a base x, converts the number from base x to base 16. To make things more interesting, he announced that the first student to write the solution will have to answer fewer question than the rest of the class during the final exam.\n",
    "\n",
    "Laughing devilishly, you asked if it was okay to use a language of your choice, and the unsuspecting professor answered \"yes\". It's settled then: Python is your language of choice!\n",
    "\n",
    "Now you're bound to win. Implement a function that, given an integer number n and a base x, converts n from base x to base 16."
   ]
  },
  {
   "cell_type": "code",
   "execution_count": 2,
   "id": "455a3c01",
   "metadata": {},
   "outputs": [
    {
     "name": "stdout",
     "output_type": "stream",
     "text": [
      "Requirement already satisfied: pylint in c:\\users\\cube statistica\\anaconda3\\lib\\site-packages (2.9.6)\n",
      "Requirement already satisfied: astroid<2.7,>=2.6.5 in c:\\users\\cube statistica\\anaconda3\\lib\\site-packages (from pylint) (2.6.6)\n",
      "Requirement already satisfied: mccabe<0.7,>=0.6 in c:\\users\\cube statistica\\anaconda3\\lib\\site-packages (from pylint) (0.6.1)\n",
      "Requirement already satisfied: toml>=0.7.1 in c:\\users\\cube statistica\\anaconda3\\lib\\site-packages (from pylint) (0.10.2)\n",
      "Requirement already satisfied: colorama in c:\\users\\cube statistica\\anaconda3\\lib\\site-packages (from pylint) (0.4.4)\n",
      "Requirement already satisfied: isort<6,>=4.2.5 in c:\\users\\cube statistica\\anaconda3\\lib\\site-packages (from pylint) (5.9.3)\n",
      "Requirement already satisfied: wrapt<1.13,>=1.11 in c:\\users\\cube statistica\\anaconda3\\lib\\site-packages (from astroid<2.7,>=2.6.5->pylint) (1.12.1)\n",
      "Requirement already satisfied: lazy-object-proxy>=1.4.0 in c:\\users\\cube statistica\\anaconda3\\lib\\site-packages (from astroid<2.7,>=2.6.5->pylint) (1.6.0)\n",
      "Requirement already satisfied: setuptools>=20.0 in c:\\users\\cube statistica\\anaconda3\\lib\\site-packages (from astroid<2.7,>=2.6.5->pylint) (61.2.0)\n"
     ]
    }
   ],
   "source": [
    "# Install pylint\n",
    "\n",
    "!pip install pylint"
   ]
  },
  {
   "cell_type": "code",
   "execution_count": null,
   "id": "5e7aa47c",
   "metadata": {},
   "outputs": [],
   "source": []
  },
  {
   "cell_type": "markdown",
   "id": "801519c9",
   "metadata": {},
   "source": [
    "An extra day is added to the calendar almost every four years as February 29, and the day is called a leap day. It corrects the calendar for the fact that our planet takes approximately 365.25 days to orbit the sun. A leap year contains a leap day.\n",
    "\n",
    "In the Gregorian calendar, three conditions are used to identify leap years:\n",
    "\n",
    "The year can be evenly divided by 4, is a leap year, unless:\n",
    "The year can be evenly divided by 100, it is NOT a leap year, unless:\n",
    "The year is also evenly divisible by 400. Then it is a leap year.\n",
    "This means that in the Gregorian calendar, the years 2000 and 2400 are leap years, while 1800, 1900, 2100, 2200, 2300 and 2500 are NOT leap years. Source"
   ]
  },
  {
   "cell_type": "markdown",
   "id": "568cebcd",
   "metadata": {},
   "source": [
    "The below is incorrect because we need the remainder to be 0."
   ]
  },
  {
   "cell_type": "code",
   "execution_count": null,
   "id": "dd6995e9",
   "metadata": {},
   "outputs": [],
   "source": [
    "\n",
    "\n",
    "def is_leap(year):\n",
    "    leap = False\n",
    "    \n",
    "    # Write your logic here\n",
    "    \n",
    "    if year // 4 == 0:\n",
    "        leap = True\n",
    "        if year // 100 != 0:\n",
    "            leap = False\n",
    "            if year // 400 == 0:\n",
    "                leap = True\n",
    "    return leap\n",
    "\n",
    "year = int(input())\n",
    "print(is_leap(year))"
   ]
  },
  {
   "cell_type": "code",
   "execution_count": null,
   "id": "52e2fd19",
   "metadata": {},
   "outputs": [],
   "source": [
    "def is_leap(year):\n",
    "    leap = False\n",
    "    \n",
    "    # Write your logic here\n",
    " \n",
    "    # Write your logic here\n",
    "    #if year%4==0 and year%100!=0 :\n",
    "    #    leap=True\n",
    "    #if year%400==0:\n",
    "    #    leap=True\n",
    "    #return leap\n",
    "    \n",
    "    if year % 4 == 0:\n",
    "        leap = True\n",
    "        if year % 100 == 0:\n",
    "            leap = False\n",
    "            if year % 400 == 0:\n",
    "                leap = True\n",
    "    return leap\n"
   ]
  },
  {
   "cell_type": "code",
   "execution_count": 6,
   "id": "c49ebe5d",
   "metadata": {},
   "outputs": [
    {
     "name": "stdout",
     "output_type": "stream",
     "text": [
      "2.0\n",
      "2\n",
      "0\n"
     ]
    }
   ],
   "source": [
    "# Difference btw \"/\", \"//\", \"%\"\n",
    "\n",
    "print(6/3)\n",
    "print(6//3)\n",
    "print(6%3)"
   ]
  },
  {
   "cell_type": "code",
   "execution_count": 5,
   "id": "6233b754",
   "metadata": {},
   "outputs": [
    {
     "data": {
      "text/plain": [
       "2"
      ]
     },
     "execution_count": 5,
     "metadata": {},
     "output_type": "execute_result"
    }
   ],
   "source": [
    "6//3"
   ]
  },
  {
   "cell_type": "code",
   "execution_count": 9,
   "id": "65bef122",
   "metadata": {},
   "outputs": [
    {
     "ename": "SyntaxError",
     "evalue": "cannot assign to literal (3423770685.py, line 6)",
     "output_type": "error",
     "traceback": [
      "\u001b[1;36m  Input \u001b[1;32mIn [9]\u001b[1;36m\u001b[0m\n\u001b[1;33m    2 =< 3\u001b[0m\n\u001b[1;37m    ^\u001b[0m\n\u001b[1;31mSyntaxError\u001b[0m\u001b[1;31m:\u001b[0m cannot assign to literal\n"
     ]
    }
   ],
   "source": [
    "# Understanding greater and less than equal to logical operator.\n",
    "\n",
    "2 <= 3\n",
    "2 >= 3\n",
    "\n",
    "2 =< 3\n"
   ]
  },
  {
   "cell_type": "code",
   "execution_count": null,
   "id": "f683d26d",
   "metadata": {},
   "outputs": [],
   "source": [
    "#!/bin/python3\n",
    "\n",
    "import math\n",
    "import os\n",
    "import random\n",
    "import re\n",
    "import sys\n",
    "\n",
    "if __name__ == '__main__':\n",
    "    n = int(input().strip())\n",
    "\n",
    "if n % 2 != 0:\n",
    "    print(\"Weird\")\n",
    "elif 2 <= n & n >= 5:\n",
    "    print(\"Not Weird\")\n",
    "elif 6 <= n & n >= 20:\n",
    "    print(\"Weird\")\n",
    "else:\n",
    "    print(\"Not Weird\")"
   ]
  },
  {
   "cell_type": "code",
   "execution_count": 12,
   "id": "37b6f144",
   "metadata": {},
   "outputs": [
    {
     "ename": "ValueError",
     "evalue": "invalid literal for int() with base 10: ''",
     "output_type": "error",
     "traceback": [
      "\u001b[1;31m---------------------------------------------------------------------------\u001b[0m",
      "\u001b[1;31mValueError\u001b[0m                                Traceback (most recent call last)",
      "\u001b[1;32me:\\CubeStatistica\\LessonsAndBooks\\Learning-Data-Science-Properly-for-Work-and-Production-Using-Python\\DSPythonLessons.ipynb Cell 249\u001b[0m in \u001b[0;36m<cell line: 2>\u001b[1;34m()\u001b[0m\n\u001b[0;32m      <a href='vscode-notebook-cell:/e%3A/CubeStatistica/LessonsAndBooks/Learning-Data-Science-Properly-for-Work-and-Production-Using-Python/DSPythonLessons.ipynb#Y505sZmlsZQ%3D%3D?line=0'>1</a>\u001b[0m n \u001b[39m=\u001b[39m \u001b[39minput\u001b[39m()\n\u001b[1;32m----> <a href='vscode-notebook-cell:/e%3A/CubeStatistica/LessonsAndBooks/Learning-Data-Science-Properly-for-Work-and-Production-Using-Python/DSPythonLessons.ipynb#Y505sZmlsZQ%3D%3D?line=1'>2</a>\u001b[0m n \u001b[39m=\u001b[39m \u001b[39mint\u001b[39;49m(n\u001b[39m.\u001b[39;49mstrip())\n\u001b[0;32m      <a href='vscode-notebook-cell:/e%3A/CubeStatistica/LessonsAndBooks/Learning-Data-Science-Properly-for-Work-and-Production-Using-Python/DSPythonLessons.ipynb#Y505sZmlsZQ%3D%3D?line=3'>4</a>\u001b[0m \u001b[39mif\u001b[39;00m n \u001b[39m%\u001b[39m \u001b[39m2\u001b[39m \u001b[39m!=\u001b[39m \u001b[39m0\u001b[39m:\n\u001b[0;32m      <a href='vscode-notebook-cell:/e%3A/CubeStatistica/LessonsAndBooks/Learning-Data-Science-Properly-for-Work-and-Production-Using-Python/DSPythonLessons.ipynb#Y505sZmlsZQ%3D%3D?line=4'>5</a>\u001b[0m     \u001b[39mprint\u001b[39m(\u001b[39m\"\u001b[39m\u001b[39mWeird\u001b[39m\u001b[39m\"\u001b[39m)\n",
      "\u001b[1;31mValueError\u001b[0m: invalid literal for int() with base 10: ''"
     ]
    }
   ],
   "source": [
    "n = input()\n",
    "n = int(n.strip())\n",
    "\n",
    "if n % 2 != 0:\n",
    "    print(\"Weird\")\n",
    "elif (2 <= n) & (n >= 5):\n",
    "    print(\"Not Weird\")\n",
    "elif (6 <= n) & (n >= 20):\n",
    "    print(\"Weird\")\n",
    "else:\n",
    "    print(\"Not Weird\")"
   ]
  },
  {
   "cell_type": "code",
   "execution_count": 14,
   "id": "46b29ecc",
   "metadata": {},
   "outputs": [
    {
     "data": {
      "text/plain": [
       "''"
      ]
     },
     "execution_count": 14,
     "metadata": {},
     "output_type": "execute_result"
    }
   ],
   "source": [
    "input(\"What is your name?\")"
   ]
  },
  {
   "cell_type": "code",
   "execution_count": 24,
   "id": "c3e8c837",
   "metadata": {},
   "outputs": [
    {
     "data": {
      "text/plain": [
       "1"
      ]
     },
     "execution_count": 24,
     "metadata": {},
     "output_type": "execute_result"
    }
   ],
   "source": [
    "1 % 2"
   ]
  },
  {
   "cell_type": "code",
   "execution_count": 26,
   "id": "c709370f",
   "metadata": {},
   "outputs": [
    {
     "data": {
      "text/plain": [
       "0"
      ]
     },
     "execution_count": 26,
     "metadata": {},
     "output_type": "execute_result"
    }
   ],
   "source": [
    "2 % 2"
   ]
  },
  {
   "cell_type": "code",
   "execution_count": 25,
   "id": "60464954",
   "metadata": {},
   "outputs": [
    {
     "data": {
      "text/plain": [
       "1"
      ]
     },
     "execution_count": 25,
     "metadata": {},
     "output_type": "execute_result"
    }
   ],
   "source": [
    "3 % 2"
   ]
  },
  {
   "cell_type": "markdown",
   "id": "31139834",
   "metadata": {},
   "source": [
    "\n"
   ]
  },
  {
   "cell_type": "code",
   "execution_count": 32,
   "id": "53fd22b7",
   "metadata": {},
   "outputs": [],
   "source": [
    "# The below is wrong because this is not how we write n less than 5 nor n less than 20.\n",
    "\n",
    "def func_weird(n):\n",
    "    if n % 2 != 0:\n",
    "        print(\"Weird\")\n",
    "        print(\"a-odd\")\n",
    "        print(\"\")\n",
    "    elif (2 <= n) & (n >= 5):\n",
    "        print(\"Not Weird\")\n",
    "        print(\"b-even\")\n",
    "        print(\"\")\n",
    "    elif (6 <= n) & (n >= 20):\n",
    "        print(\"Weird\")\n",
    "        print(\"c-even\")\n",
    "    else:\n",
    "        print(\"Not Weird\")\n",
    "        print(\"d-even\")\n",
    "        print(\"\")\n"
   ]
  },
  {
   "cell_type": "code",
   "execution_count": 33,
   "id": "be22855d",
   "metadata": {},
   "outputs": [
    {
     "name": "stdout",
     "output_type": "stream",
     "text": [
      "1\n",
      "Weird\n",
      "a-odd\n",
      "\n",
      "2\n",
      "Not Weird\n",
      "d-even\n",
      "\n",
      "3\n",
      "Weird\n",
      "a-odd\n",
      "\n",
      "7\n",
      "Weird\n",
      "a-odd\n",
      "\n",
      "10\n",
      "Not Weird\n",
      "b-even\n",
      "\n",
      "21\n",
      "Weird\n",
      "a-odd\n",
      "\n"
     ]
    }
   ],
   "source": [
    "for i in [1, 2, 3, 7, 10, 21]:\n",
    "    print(i)\n",
    "    func_weird(i)"
   ]
  },
  {
   "cell_type": "code",
   "execution_count": 34,
   "id": "fb45e3bb",
   "metadata": {},
   "outputs": [],
   "source": [
    "def weird_func(n):\n",
    "\n",
    "    if n % 2 != 0:\n",
    "        print(\"Weird\")\n",
    "    elif (2 <= n) & (5 >= n): # This is how we write n less than or equal to 5.\n",
    "        print(\"Not Weird\")\n",
    "    elif (6 <= n) & (20 >= n): # This is how we write n less than or equal to 20.\n",
    "        print(\"Weird\")\n",
    "    else:\n",
    "        print(\"Not Weird\")\n",
    "    "
   ]
  },
  {
   "cell_type": "code",
   "execution_count": 35,
   "id": "358099f2",
   "metadata": {},
   "outputs": [
    {
     "name": "stdout",
     "output_type": "stream",
     "text": [
      "Weird\n",
      "Not Weird\n",
      "Weird\n",
      "Not Weird\n",
      "Weird\n",
      "Weird\n",
      "Weird\n",
      "Weird\n",
      "Weird\n",
      "Weird\n",
      "Weird\n"
     ]
    }
   ],
   "source": [
    "for i in [1, 2, 3, 4, 5, 6, 10, 11, 17, 20, 21]:\n",
    "    weird_func(i)\n",
    "\n"
   ]
  },
  {
   "cell_type": "code",
   "execution_count": 36,
   "id": "476a5290",
   "metadata": {},
   "outputs": [
    {
     "data": {
      "text/plain": [
       "26"
      ]
     },
     "execution_count": 36,
     "metadata": {},
     "output_type": "execute_result"
    }
   ],
   "source": [
    "n"
   ]
  },
  {
   "cell_type": "code",
   "execution_count": 37,
   "id": "5359c82d",
   "metadata": {},
   "outputs": [
    {
     "data": {
      "text/plain": [
       "False"
      ]
     },
     "execution_count": 37,
     "metadata": {},
     "output_type": "execute_result"
    }
   ],
   "source": [
    "n in range(2, 26)"
   ]
  },
  {
   "cell_type": "code",
   "execution_count": 38,
   "id": "90541beb",
   "metadata": {},
   "outputs": [
    {
     "data": {
      "text/plain": [
       "True"
      ]
     },
     "execution_count": 38,
     "metadata": {},
     "output_type": "execute_result"
    }
   ],
   "source": [
    "n in range(2, 27)"
   ]
  },
  {
   "cell_type": "code",
   "execution_count": 42,
   "id": "ff38590a",
   "metadata": {},
   "outputs": [
    {
     "name": "stdout",
     "output_type": "stream",
     "text": [
      "[2, 3, 4, 5, 6, 7, 8, 9, 10, 11, 12, 13, 14, 15, 16, 17, 18, 19, 20, 21, 22, 23, 24, 25]\n"
     ]
    }
   ],
   "source": [
    "lll = list(range(2,26))\n",
    "print(lll)"
   ]
  },
  {
   "cell_type": "markdown",
   "id": "844638ec",
   "metadata": {},
   "source": [
    "The included code stub will read an integer, , from STDIN.\n",
    "\n",
    "Without using any string methods, try to print the following:\n",
    "\n",
    "\n",
    "Note that \"\" represents the consecutive values in between.\n",
    "\n",
    "Example\n",
    "\n",
    "Print the string ."
   ]
  },
  {
   "cell_type": "code",
   "execution_count": 43,
   "id": "2e441ce8",
   "metadata": {},
   "outputs": [],
   "source": [
    "def num_print(n):\n",
    "    num = ''\n",
    "    for i in range(1,n+1):\n",
    "        num = num + str(i)\n",
    "    print(int(num))"
   ]
  },
  {
   "cell_type": "code",
   "execution_count": 44,
   "id": "ccab91ce",
   "metadata": {},
   "outputs": [
    {
     "name": "stdout",
     "output_type": "stream",
     "text": [
      "1\n",
      "12\n",
      "12345\n",
      "123456\n",
      "1234567891011121314\n"
     ]
    }
   ],
   "source": [
    "for i in [1, 2, 5, 6, 14]:\n",
    "    num_print(i)"
   ]
  },
  {
   "cell_type": "code",
   "execution_count": 47,
   "id": "78aac4f6",
   "metadata": {},
   "outputs": [
    {
     "name": "stdout",
     "output_type": "stream",
     "text": [
      "1234567"
     ]
    }
   ],
   "source": [
    "# Better solution\n",
    "n = 7\n",
    "for i in range(1, n+1):\n",
    "    print(i, end=\"\")"
   ]
  },
  {
   "cell_type": "code",
   "execution_count": 48,
   "id": "443b0cb4",
   "metadata": {},
   "outputs": [
    {
     "name": "stdout",
     "output_type": "stream",
     "text": [
      "Help on built-in function print in module builtins:\n",
      "\n",
      "print(...)\n",
      "    print(value, ..., sep=' ', end='\\n', file=sys.stdout, flush=False)\n",
      "    \n",
      "    Prints the values to a stream, or to sys.stdout by default.\n",
      "    Optional keyword arguments:\n",
      "    file:  a file-like object (stream); defaults to the current sys.stdout.\n",
      "    sep:   string inserted between values, default a space.\n",
      "    end:   string appended after the last value, default a newline.\n",
      "    flush: whether to forcibly flush the stream.\n",
      "\n"
     ]
    }
   ],
   "source": [
    "help(print)"
   ]
  },
  {
   "cell_type": "code",
   "execution_count": 16,
   "id": "e17b88b0",
   "metadata": {},
   "outputs": [
    {
     "name": "stdout",
     "output_type": "stream",
     "text": [
      "[1, 2, 3, 4, 343, 3]\n"
     ]
    }
   ],
   "source": [
    "arr = [1,2 ,3,4,343, 3]\n",
    "\n",
    "max(arr)\n",
    "\n",
    "#arr.remove(max(arr))\n",
    "print(arr)"
   ]
  },
  {
   "cell_type": "code",
   "execution_count": 17,
   "id": "79f6d471",
   "metadata": {},
   "outputs": [
    {
     "data": {
      "text/plain": [
       "343"
      ]
     },
     "execution_count": 17,
     "metadata": {},
     "output_type": "execute_result"
    }
   ],
   "source": [
    "num_max = max(arr)\n",
    "num_max"
   ]
  },
  {
   "cell_type": "code",
   "execution_count": 18,
   "id": "0a4786cb",
   "metadata": {},
   "outputs": [
    {
     "data": {
      "text/plain": [
       "[1, 2, 3, 4, 3]"
      ]
     },
     "execution_count": 18,
     "metadata": {},
     "output_type": "execute_result"
    }
   ],
   "source": [
    "arr.remove(num_max)\n",
    "arr"
   ]
  },
  {
   "cell_type": "code",
   "execution_count": 20,
   "id": "6f90ce62",
   "metadata": {},
   "outputs": [
    {
     "name": "stdout",
     "output_type": "stream",
     "text": [
      "4\n"
     ]
    }
   ],
   "source": [
    "runnerUp = max(arr)\n",
    "print(runnerUp)"
   ]
  },
  {
   "cell_type": "code",
   "execution_count": 22,
   "id": "82a5676b",
   "metadata": {},
   "outputs": [
    {
     "name": "stdout",
     "output_type": "stream",
     "text": [
      "4\n"
     ]
    }
   ],
   "source": [
    "arr = [1,2 ,3,4,343, 3]\n",
    "num_max = max(arr)\n",
    "arr.remove(num_max)\n",
    "runnerUp = max(arr)\n",
    "print(runnerUp)"
   ]
  },
  {
   "cell_type": "code",
   "execution_count": 24,
   "id": "70344e33",
   "metadata": {},
   "outputs": [],
   "source": [
    "arr = [1,2 ,3,4,343, 3]"
   ]
  },
  {
   "cell_type": "code",
   "execution_count": 25,
   "id": "ff46c2b6",
   "metadata": {},
   "outputs": [
    {
     "name": "stdout",
     "output_type": "stream",
     "text": [
      "4\n"
     ]
    }
   ],
   "source": [
    "ll = [i for i in arr]\n",
    "num_max = max(ll)\n",
    "ll.remove(num_max)\n",
    "runnerUp = max(ll)\n",
    "print(runnerUp)\n"
   ]
  },
  {
   "cell_type": "code",
   "execution_count": 37,
   "id": "0f27d777",
   "metadata": {},
   "outputs": [
    {
     "name": "stdout",
     "output_type": "stream",
     "text": [
      "['2', '3', '6', '6', '5']\n"
     ]
    },
    {
     "data": {
      "text/plain": [
       "<map at 0x219e850df70>"
      ]
     },
     "execution_count": 37,
     "metadata": {},
     "output_type": "execute_result"
    }
   ],
   "source": [
    "myList = ['1.1', '2.2', '3.3']\n",
    "myString = \"2 3 6 6 5\"\n",
    "myList = myString.split()\n",
    "print(myList)\n",
    "myMap = map(float, myList)\n",
    "myMap"
   ]
  },
  {
   "cell_type": "code",
   "execution_count": 38,
   "id": "fcadcf7d",
   "metadata": {},
   "outputs": [
    {
     "name": "stdout",
     "output_type": "stream",
     "text": [
      "[2.0, 3.0, 6.0, 6.0, 5.0]\n",
      "5.0\n"
     ]
    }
   ],
   "source": [
    "ll = [i for i in myMap]\n",
    "print(ll)\n",
    "num_max = max(ll)\n",
    "newList = [i for i in ll if i != num_max]\n",
    "runnerUp = max(newList)\n",
    "print(runnerUp)"
   ]
  },
  {
   "cell_type": "markdown",
   "id": "70201661",
   "metadata": {},
   "source": [
    "### Great solutions to this problem."
   ]
  },
  {
   "cell_type": "code",
   "execution_count": 63,
   "id": "2ea068d4",
   "metadata": {},
   "outputs": [
    {
     "name": "stdout",
     "output_type": "stream",
     "text": [
      "['2', '6', '3', '6', '5']\n",
      "<map object at 0x00000219E9A5FC10>\n"
     ]
    }
   ],
   "source": [
    "## Question\n",
    "myString = \"2 6 3 6 5\"\n",
    "myList = myString.split()\n",
    "print(myList)\n",
    "myMap = map(float, myList)\n",
    "print(myMap)"
   ]
  },
  {
   "cell_type": "code",
   "execution_count": 46,
   "id": "d7dbafbe",
   "metadata": {},
   "outputs": [
    {
     "name": "stdout",
     "output_type": "stream",
     "text": [
      "[2.0, 3.0, 5.0, 6.0]\n",
      "5.0\n"
     ]
    }
   ],
   "source": [
    "# 1 Best solution\n",
    "ll = list(set(myMap)) #Set is one of the ways to make the list with only unique values.\n",
    "print(ll)\n",
    "ll.remove(max(ll))\n",
    "runnerUp = max(ll)\n",
    "print(runnerUp)"
   ]
  },
  {
   "cell_type": "code",
   "execution_count": 64,
   "id": "2dd9a65d",
   "metadata": {},
   "outputs": [
    {
     "name": "stdout",
     "output_type": "stream",
     "text": [
      "[2.0, 3.0, 5.0, 6.0]\n",
      "[2.0, 3.0, 5.0, 6.0]\n",
      "5.0\n"
     ]
    }
   ],
   "source": [
    "## Question\n",
    "myString = \"2 6 3 6 5\"\n",
    "myList = myString.split()\n",
    "print(myList)\n",
    "myMap = map(float, myList)\n",
    "print(myMap)\n",
    "\n",
    "# Best Solution 2\n",
    "ll = list(set(myMap))\n",
    "print(ll)\n",
    "ll.sort()\n",
    "print(ll)\n",
    "runnerUp = ll[-2]\n",
    "print(runnerUp)"
   ]
  },
  {
   "cell_type": "code",
   "execution_count": null,
   "id": "f9f2bc7a",
   "metadata": {},
   "outputs": [],
   "source": []
  }
 ],
 "metadata": {
  "kernelspec": {
   "display_name": "Python 3.9.12 ('base')",
   "language": "python",
   "name": "python3"
  },
  "language_info": {
   "codemirror_mode": {
    "name": "ipython",
    "version": 3
   },
   "file_extension": ".py",
   "mimetype": "text/x-python",
   "name": "python",
   "nbconvert_exporter": "python",
   "pygments_lexer": "ipython3",
   "version": "3.9.12"
  },
  "vscode": {
   "interpreter": {
    "hash": "76bb00d6d08df64c86bdf98fd3de826b388aaaed1822eae3cac2a78d94631853"
   }
  }
 },
 "nbformat": 4,
 "nbformat_minor": 5
}
