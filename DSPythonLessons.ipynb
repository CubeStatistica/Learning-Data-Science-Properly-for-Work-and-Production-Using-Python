{
 "cells": [
  {
   "cell_type": "markdown",
   "id": "0c56e311-0ca6-46fd-b339-67e7cf0fe369",
   "metadata": {},
   "source": [
    "# Learning Python"
   ]
  },
  {
   "cell_type": "markdown",
   "id": "57ff144a-4610-40c9-81df-7ac89375ab0c",
   "metadata": {},
   "source": [
    "Some basics"
   ]
  },
  {
   "cell_type": "code",
   "execution_count": 5,
   "id": "0200d38c-4b5d-4748-a014-f3b273612635",
   "metadata": {},
   "outputs": [],
   "source": [
    "#Camel Case\n",
    "myVariableName = \"John\"\n",
    "\n",
    "#Pascal Case\n",
    "MyVariableName = \"John\"\n",
    "\n",
    "#Snake Case\n",
    "my_variable_name = \"John\""
   ]
  },
  {
   "cell_type": "markdown",
   "id": "3f4a7a5b-29ad-4418-99ae-ee5ef47983fa",
   "metadata": {},
   "source": [
    "## W 3 Schools Lessons"
   ]
  },
  {
   "cell_type": "markdown",
   "id": "487ebca0-c442-48a0-b4fc-c1f30c8c323c",
   "metadata": {},
   "source": [
    "#### Multi-assignment in python"
   ]
  },
  {
   "cell_type": "code",
   "execution_count": 3,
   "id": "b1567808-197f-4508-bce4-92cc30d0449c",
   "metadata": {},
   "outputs": [
    {
     "name": "stdout",
     "output_type": "stream",
     "text": [
      "1 2 3\n"
     ]
    }
   ],
   "source": [
    "x, y, z, = 1, 2, 3\n",
    "print(x, y, z)"
   ]
  },
  {
   "cell_type": "markdown",
   "id": "b2ac68be-27cf-43a0-be32-d17c17c5e73f",
   "metadata": {},
   "source": [
    "#### Unpack a Collection\n",
    "\n",
    "If you have a collection of values in a list, tuple etc. Python allows you to extract the values into variables. This is called unpacking."
   ]
  },
  {
   "cell_type": "code",
   "execution_count": null,
   "id": "8a6d3940-5408-4747-88f5-3dab1e192539",
   "metadata": {},
   "outputs": [],
   "source": [
    "fruits = [\"apple\", \"banana\", \"cherry\"]\n",
    "x, y, z = fruits\n",
    "print(x)\n",
    "print(y)\n",
    "print(z)"
   ]
  },
  {
   "cell_type": "markdown",
   "id": "92caaaa7-a64a-4104-8419-7d23e4a046be",
   "metadata": {},
   "source": [
    "Built-in Data Types\n",
    "In programming, data type is an important concept.\n",
    "\n",
    "Variables can store data of different types, and different types can do different things.\n",
    "\n",
    "Python has the following data types built-in by default, in these categories:\n",
    "\n",
    "1. Text Type:\tstr\n",
    "2. Numeric Types:\tint, float, complex\n",
    "3. Sequence Types:\tlist, tuple, range\n",
    "4. Mapping Type:\tdict\n",
    "5. Set Types:\tset, frozenset\n",
    "6. Boolean Type:\tbool\n",
    "7. Binary Types:\tbytes, bytearray, memoryview\n",
    "8. None Type:\tNoneType"
   ]
  },
  {
   "cell_type": "code",
   "execution_count": null,
   "id": "96f30a78-2be8-428d-9c0a-f25a58cf02ef",
   "metadata": {},
   "outputs": [],
   "source": [
    "x = 1    # int\n",
    "y = 2.8  # float\n",
    "z = 1j   # complex"
   ]
  },
  {
   "cell_type": "markdown",
   "id": "fae8e07b-56f0-49c8-bdb5-ed01c9d6e873",
   "metadata": {},
   "source": [
    "#### Float and scientific notation for writing floats\n",
    "\n",
    "Float can also be scientific numbers with an \"e\" or \"E\" to indicate the power of 10."
   ]
  },
  {
   "cell_type": "code",
   "execution_count": 21,
   "id": "644c8437-3d37-477d-821f-1931626d8291",
   "metadata": {},
   "outputs": [
    {
     "name": "stdout",
     "output_type": "stream",
     "text": [
      "35000.0 \n",
      " 120000.0 \n",
      " -8.77e+101\n"
     ]
    }
   ],
   "source": [
    "x = 35e3\n",
    "y = 12E4\n",
    "z = -87.7e100\n",
    "\n",
    "print(x, \"\\n\", y, \"\\n\", z)"
   ]
  },
  {
   "cell_type": "code",
   "execution_count": 10,
   "id": "ea051b9a-4e7f-4c2a-a14d-756c141509c9",
   "metadata": {},
   "outputs": [
    {
     "name": "stdout",
     "output_type": "stream",
     "text": [
      "Did not define the dict correctly. \n",
      "\n",
      "{'name': 'Faizan', 'age': 34}\n",
      "Learning with errors. \n",
      "\n"
     ]
    }
   ],
   "source": [
    "# Get the datatype\n",
    "try:\n",
    "    x1 = {name:\"Faizan\", \"age\":34}\n",
    "except:\n",
    "    print(\"Did not define the dict correctly.\", \"\\n\")\n",
    "\n",
    "x1 = {\"name\":\"Faizan\", \"age\":34}\n",
    "print(x1)\n",
    "\n",
    "try:\n",
    "    for obj in list:\n",
    "        try:\n",
    "            print(type(obj))\n",
    "        except:\n",
    "            print(\"The obj is not assinged anything.|\")\n",
    "except:\n",
    "    print(\"Learning with errors.\", \"\\n\")"
   ]
  },
  {
   "cell_type": "markdown",
   "id": "5ad75eec-bdae-48e9-a27e-9f08d9e49422",
   "metadata": {},
   "source": [
    "#### The correct way of creating a dictionary obj\n",
    "\n",
    "Use this `x = dict(name = \"Faizan\", age = 34)`\n",
    "\n",
    "Instead of `x = {\"name\" = \"Faizan\", \"age\" = 34}`\n",
    "\n",
    "There is a lot less typing invovled in the first method. Also, not making the key a string feels more natural to me, though for automation it is of course better to have the key entered as a string. Also, using the equal sign `=` instead of the colon `:` for linking the key with the value also feels more natural.\n"
   ]
  },
  {
   "cell_type": "code",
   "execution_count": 11,
   "id": "b41855f6-cad2-429f-88fb-f8bc7d77294d",
   "metadata": {},
   "outputs": [
    {
     "name": "stdout",
     "output_type": "stream",
     "text": [
      "{'name': 'John', 'age': 36} <class 'dict'>\n"
     ]
    }
   ],
   "source": [
    "x = dict(name=\"John\", age=36)\n",
    "print(x, type(x))"
   ]
  },
  {
   "cell_type": "code",
   "execution_count": 3,
   "id": "239fd189-6ce4-4b4b-bbe8-f4f381f5140c",
   "metadata": {},
   "outputs": [
    {
     "data": {
      "text/plain": [
       "<memory at 0x000001D0F82F1C40>"
      ]
     },
     "execution_count": 3,
     "metadata": {},
     "output_type": "execute_result"
    }
   ],
   "source": [
    "x = memoryview(bytes(5))\n",
    "x"
   ]
  },
  {
   "cell_type": "markdown",
   "id": "8eb78618-b03c-44f2-b973-5d0f5f7983e4",
   "metadata": {},
   "source": [
    "### Random Numbers in Python\n",
    "\n",
    "Python does not have a random() function to make a random number, but Python has a built-in module called random that can be used to make random numbers:\n",
    "Import the random module, and display a random number between 1 and 9:"
   ]
  },
  {
   "cell_type": "code",
   "execution_count": 22,
   "id": "dc06d465-b490-4504-b4a9-4a580d96c56d",
   "metadata": {},
   "outputs": [
    {
     "name": "stdout",
     "output_type": "stream",
     "text": [
      "1\n"
     ]
    }
   ],
   "source": [
    "import random\n",
    "\n",
    "print(random.randrange(1, 10))"
   ]
  },
  {
   "cell_type": "markdown",
   "id": "4b3a4d35-cb2c-4020-841f-dcb1896d178a",
   "metadata": {},
   "source": [
    "## Strings, String Methods, and manipulation in python\n",
    "\n",
    "String manipulation is amazing in python. It is next level in my humble opinion."
   ]
  },
  {
   "cell_type": "code",
   "execution_count": 23,
   "id": "34d71cd4-afad-4b03-8970-5e0773a1188c",
   "metadata": {},
   "outputs": [
    {
     "name": "stdout",
     "output_type": "stream",
     "text": [
      "True\n"
     ]
    }
   ],
   "source": [
    "txt = \"The best things in life are free!\"\n",
    "print(\"free\" in txt)"
   ]
  },
  {
   "cell_type": "code",
   "execution_count": 24,
   "id": "4e86b627-2c0e-4ff3-b77b-dabf1e9b35c8",
   "metadata": {},
   "outputs": [
    {
     "name": "stdout",
     "output_type": "stream",
     "text": [
      "Yes, 'free' is present.\n"
     ]
    }
   ],
   "source": [
    "txt = \"The best things in life are free!\"\n",
    "if \"free\" in txt:\n",
    "  print(\"Yes, 'free' is present.\")"
   ]
  },
  {
   "cell_type": "code",
   "execution_count": null,
   "id": "e4a41015-b34e-4ae4-8ba9-8fd3e4a2e8b4",
   "metadata": {},
   "outputs": [],
   "source": [
    "txt = \"The best things in life are free!\"\n",
    "print(\"expensive\" not in txt)"
   ]
  },
  {
   "cell_type": "code",
   "execution_count": null,
   "id": "5ef527ac-7eb4-4407-9582-462a3bd7a904",
   "metadata": {},
   "outputs": [],
   "source": [
    "txt = \"The best things in life are free!\"\n",
    "if \"expensive\" not in txt:\n",
    "  print(\"No, 'expensive' is NOT present.\")"
   ]
  },
  {
   "cell_type": "code",
   "execution_count": null,
   "id": "301f90e3-e57d-4225-8aee-7aa140faa428",
   "metadata": {},
   "outputs": [],
   "source": [
    "a = \"Hello, World!\"\n",
    "print(a.upper())"
   ]
  },
  {
   "cell_type": "code",
   "execution_count": null,
   "id": "c0a5d932-3d22-4c8e-8769-0949433f62c0",
   "metadata": {},
   "outputs": [],
   "source": [
    "a = \"Hello, World!\"\n",
    "print(a.lower())"
   ]
  },
  {
   "cell_type": "code",
   "execution_count": null,
   "id": "ef8016b5-4f17-49f9-bbbd-c098d860b456",
   "metadata": {},
   "outputs": [],
   "source": [
    "a = \" Hello, World! \"\n",
    "print(a.strip()) # returns \"Hello, World!\""
   ]
  },
  {
   "cell_type": "code",
   "execution_count": null,
   "id": "e95d8d42-7e76-456d-ae62-c4f0e5a9f6c3",
   "metadata": {},
   "outputs": [],
   "source": [
    "a = \"Hello, World!\"\n",
    "print(a.replace(\"H\", \"J\"))"
   ]
  },
  {
   "cell_type": "code",
   "execution_count": null,
   "id": "9720ced6-b4bc-4e50-a268-3e7f39909c62",
   "metadata": {},
   "outputs": [],
   "source": [
    "a = \"Hello, World!\"\n",
    "print(a.split(\",\")) # returns ['Hello', ' World!']"
   ]
  },
  {
   "cell_type": "code",
   "execution_count": null,
   "id": "18c8a596-8a6e-4d7e-910e-054ff1e6a119",
   "metadata": {},
   "outputs": [],
   "source": []
  },
  {
   "cell_type": "code",
   "execution_count": 25,
   "id": "647a84e7-ed62-4fa5-9721-fdf886d34749",
   "metadata": {},
   "outputs": [
    {
     "ename": "TypeError",
     "evalue": "can only concatenate str (not \"int\") to str",
     "output_type": "error",
     "traceback": [
      "\u001b[1;31m---------------------------------------------------------------------------\u001b[0m",
      "\u001b[1;31mTypeError\u001b[0m                                 Traceback (most recent call last)",
      "Input \u001b[1;32mIn [25]\u001b[0m, in \u001b[0;36m<cell line: 2>\u001b[1;34m()\u001b[0m\n\u001b[0;32m      1\u001b[0m age \u001b[38;5;241m=\u001b[39m \u001b[38;5;241m36\u001b[39m\n\u001b[1;32m----> 2\u001b[0m txt \u001b[38;5;241m=\u001b[39m \u001b[38;5;124;43m\"\u001b[39;49m\u001b[38;5;124;43mMy name is John, I am \u001b[39;49m\u001b[38;5;124;43m\"\u001b[39;49m\u001b[43m \u001b[49m\u001b[38;5;241;43m+\u001b[39;49m\u001b[43m \u001b[49m\u001b[43mage\u001b[49m\n\u001b[0;32m      3\u001b[0m \u001b[38;5;28mprint\u001b[39m(txt)\n",
      "\u001b[1;31mTypeError\u001b[0m: can only concatenate str (not \"int\") to str"
     ]
    }
   ],
   "source": [
    "age = 36\n",
    "txt = \"My name is John, I am \" + age\n",
    "print(txt)"
   ]
  },
  {
   "cell_type": "markdown",
   "id": "1c62e075-1861-4461-9deb-ef801afdb8b7",
   "metadata": {},
   "source": [
    "We can combine strings and numbers by using the format() method!\n",
    "\n",
    "The format() method takes the passed arguments, formats them, and places them in the string where the placeholders {} are:"
   ]
  },
  {
   "cell_type": "code",
   "execution_count": null,
   "id": "ac23dafb-9940-48d9-beca-858307b049be",
   "metadata": {},
   "outputs": [],
   "source": [
    "age = 36\n",
    "txt = \"My name is John, and I am {}\"\n",
    "print(txt.format(age))"
   ]
  },
  {
   "cell_type": "code",
   "execution_count": null,
   "id": "544ebd23-c21e-41fc-8598-44a00be5bacf",
   "metadata": {},
   "outputs": [],
   "source": []
  },
  {
   "cell_type": "markdown",
   "id": "b6adb186-d6e6-4c36-930a-953743d2d85f",
   "metadata": {},
   "source": [
    "The format() method takes unlimited number of arguments, and are placed into the respective placeholders:"
   ]
  },
  {
   "cell_type": "code",
   "execution_count": 26,
   "id": "9c583940-0ad1-4bbe-b91a-a37b6074ad2c",
   "metadata": {},
   "outputs": [
    {
     "name": "stdout",
     "output_type": "stream",
     "text": [
      "I want 3 pieces of item 567 for 49.95 dollars.\n"
     ]
    }
   ],
   "source": [
    "quantity = 3\n",
    "itemno = 567\n",
    "price = 49.95\n",
    "myorder = \"I want {} pieces of item {} for {} dollars.\"\n",
    "print(myorder.format(quantity, itemno, price))"
   ]
  },
  {
   "cell_type": "markdown",
   "id": "3a4c0d6f-7fa4-4974-bb0a-6bbd42f6e697",
   "metadata": {},
   "source": [
    "You can use index numbers {0} to be sure the arguments are placed in the correct placeholders:"
   ]
  },
  {
   "cell_type": "code",
   "execution_count": 27,
   "id": "9cb50f31-3cbf-43f4-803d-07de173915fd",
   "metadata": {},
   "outputs": [
    {
     "name": "stdout",
     "output_type": "stream",
     "text": [
      "I want to pay 49.95 dollars for 3 pieces of item 567.\n"
     ]
    }
   ],
   "source": [
    "quantity = 3\n",
    "itemno = 567\n",
    "price = 49.95\n",
    "myorder = \"I want to pay {2} dollars for {0} pieces of item {1}.\"\n",
    "print(myorder.format(quantity, itemno, price))"
   ]
  },
  {
   "cell_type": "code",
   "execution_count": null,
   "id": "cafbd77d-ad39-4815-87c6-2dd156febf22",
   "metadata": {},
   "outputs": [],
   "source": []
  },
  {
   "cell_type": "markdown",
   "id": "6ed24226-a7fb-4016-9653-5c3f11e371dc",
   "metadata": {},
   "source": [
    "To insert characters that are illegal in a string, use an escape character.\n",
    "\n",
    "An escape character is a backslash \\ followed by the character you want to insert.\n",
    "\n",
    "An example of an illegal character is a double quote inside a string that is surrounded by double quotes:"
   ]
  },
  {
   "cell_type": "code",
   "execution_count": 28,
   "id": "06f863c8-4c1c-48b2-803d-c39d0892d8cc",
   "metadata": {},
   "outputs": [
    {
     "ename": "SyntaxError",
     "evalue": "invalid syntax (7934146.py, line 1)",
     "output_type": "error",
     "traceback": [
      "\u001b[1;36m  Input \u001b[1;32mIn [28]\u001b[1;36m\u001b[0m\n\u001b[1;33m    txt = \"We are the so-called \"Vikings\" from the north.\"\u001b[0m\n\u001b[1;37m                                 ^\u001b[0m\n\u001b[1;31mSyntaxError\u001b[0m\u001b[1;31m:\u001b[0m invalid syntax\n"
     ]
    }
   ],
   "source": [
    "txt = \"We are the so-called \"Vikings\" from the north.\""
   ]
  },
  {
   "cell_type": "code",
   "execution_count": 30,
   "id": "ad3439a3-5140-4602-ae6e-676332aa745f",
   "metadata": {},
   "outputs": [
    {
     "name": "stdout",
     "output_type": "stream",
     "text": [
      "We are the so-called \"Vikings\" from the north.\n"
     ]
    }
   ],
   "source": [
    "txt = \"We are the so-called \\\"Vikings\\\" from the north.\"\n",
    "print(txt)"
   ]
  },
  {
   "cell_type": "markdown",
   "id": "bb9920b7-003b-4ef4-b8cc-c1bca474faca",
   "metadata": {},
   "source": [
    "Illegal characters\n",
    "\n",
    "\\'\tSingle Quote\t\n",
    "\\\\\tBackslash\t\n",
    "\\n\tNew Line\t\n",
    "\\r\tCarriage Return\t\n",
    "\\t\tTab\t\n",
    "\\b\tBackspace\t\n",
    "\\f\tForm Feed\t\n",
    "\\ooo\tOctal value\t\n",
    "\\xhh\tHex value"
   ]
  },
  {
   "cell_type": "markdown",
   "id": "f24453c8-42ba-4e4a-9c60-7b288ed80906",
   "metadata": {},
   "source": [
    "Method\tDescription\n",
    "* capitalize()\tConverts the first character to upper case\n",
    "* casefold()\tConverts string into lower case\n",
    "* center()\tReturns a centered string\n",
    "* count()\tReturns the number of times a specified value occurs in a string\n",
    "* encode()\tReturns an encoded version of the string\n",
    "* endswith()\tReturns true if the string ends with the specified value\n",
    "* expandtabs()\tSets the tab size of the string\n",
    "* find()\tSearches the string for a specified value and returns the position of where it was found\n",
    "* format()\tFormats specified values in a string\n",
    "* format_map()\tFormats specified values in a string\n",
    "* index()\tSearches the string for a specified value and returns the position of where it was found\n",
    "* isalnum()\tReturns True if all characters in the string are alphanumeric\n",
    "* isalpha()\tReturns True if all characters in the string are in the alphabet\n",
    "* isdecimal()\tReturns True if all characters in the string are decimals\n",
    "* isdigit()\tReturns True if all characters in the string are digits\n",
    "* isidentifier()\tReturns True if the string is an identifier\n",
    "* islower()\tReturns True if all characters in the string are lower case\n",
    "* isnumeric()\tReturns True if all characters in the string are numeric\n",
    "* isprintable()\tReturns True if all characters in the string are printable\n",
    "* isspace()\tReturns True if all characters in the string are whitespaces\n",
    "* istitle()\tReturns True if the string follows the rules of a title\n",
    "* isupper()\tReturns True if all characters in the string are upper case\n",
    "* join()\tJoins the elements of an iterable to the end of the string\n",
    "* ljust()\tReturns a left justified version of the string\n",
    "* lower()\tConverts a string into lower case\n",
    "* lstrip()\tReturns a left trim version of the string\n",
    "* maketrans()\tReturns a translation table to be used in translations\n",
    "* partition()\tReturns a tuple where the string is parted into three parts\n",
    "* replace()\tReturns a string where a specified value is replaced with a specified value\n",
    "* rfind()\tSearches the string for a specified value and returns the last position of where it was found\n",
    "* rindex()\tSearches the string for a specified value and returns the last position of where it was found\n",
    "* rjust()\tReturns a right justified version of the string\n",
    "* rpartition()\tReturns a tuple where the string is parted into three parts\n",
    "* rsplit()\tSplits the string at the specified separator, and returns a list\n",
    "* rstrip()\tReturns a right trim version of the string\n",
    "* split()\tSplits the string at the specified separator, and returns a list\n",
    "* splitlines()\tSplits the string at line breaks and returns a list\n",
    "* startswith()\tReturns true if the string starts with the specified value\n",
    "* strip()\tReturns a trimmed version of the string\n",
    "* swapcase()\tSwaps cases, lower case becomes upper case and vice versa\n",
    "* title()\tConverts the first character of each word to upper case\n",
    "* translate()\tReturns a translated string\n",
    "* upper()\tConverts a string into upper case\n",
    "* zfill()\tFills the string with a specified number of 0 values at the beginning"
   ]
  },
  {
   "cell_type": "code",
   "execution_count": null,
   "id": "ad8c9cd0-5f33-4e3a-9eac-925130cee2b2",
   "metadata": {},
   "outputs": [],
   "source": []
  },
  {
   "cell_type": "code",
   "execution_count": null,
   "id": "ee160568-88fe-4e7e-9492-a38df2ca30f0",
   "metadata": {},
   "outputs": [],
   "source": []
  },
  {
   "cell_type": "markdown",
   "id": "c867378b-9407-4c6f-ae5a-d99d274d4446",
   "metadata": {},
   "source": [
    "## Boolians"
   ]
  },
  {
   "cell_type": "code",
   "execution_count": 1,
   "id": "d5fb738c-12aa-4aa3-abe4-cd44ef6f77f9",
   "metadata": {},
   "outputs": [
    {
     "name": "stdout",
     "output_type": "stream",
     "text": [
      "True\n",
      "True\n"
     ]
    }
   ],
   "source": [
    "print(bool(\"Hello\"))\n",
    "print(bool(15))"
   ]
  },
  {
   "cell_type": "code",
   "execution_count": 9,
   "id": "110f6f79-f68d-426f-a43b-45e6cef83888",
   "metadata": {},
   "outputs": [
    {
     "name": "stdout",
     "output_type": "stream",
     "text": [
      "Hello 15 -1  0 None\n",
      "True True True False False False\n"
     ]
    }
   ],
   "source": [
    "x, y, z, z1, z2, z3 = \"Hello\", 15, -1, \"\", 0, None\n",
    "print(x, y, z, z1, z2, z3)\n",
    "print( bool(x), bool(y), bool(z), bool(z1), bool(z2), bool(z3) )\n",
    "\n"
   ]
  },
  {
   "cell_type": "markdown",
   "id": "fe081d8f-96b1-4a1e-bd29-010bd41fb967",
   "metadata": {
    "tags": []
   },
   "source": [
    "In fact, there are not many values that evaluate to False, except empty values, such as (), [], {}, \"\", the number 0, and the value None. And of course the value False evaluates to False."
   ]
  },
  {
   "cell_type": "markdown",
   "id": "f88aff7c-a352-4db1-9eca-056df12ce83e",
   "metadata": {},
   "source": [
    "One more value, or object in this case, evaluates to False, and that is if you have an object that is made from a class with a __len__ function that returns 0 or False:"
   ]
  },
  {
   "cell_type": "code",
   "execution_count": 11,
   "id": "e44cd89d-71f9-44cf-8523-158c1c451556",
   "metadata": {},
   "outputs": [
    {
     "name": "stdout",
     "output_type": "stream",
     "text": [
      "False\n"
     ]
    }
   ],
   "source": [
    "class myclass():\n",
    "  def __len__(self):\n",
    "    return 0\n",
    "\n",
    "myobj = myclass()\n",
    "print(bool(myobj))"
   ]
  },
  {
   "cell_type": "markdown",
   "id": "725cbc3f-204e-4151-bbd6-e5b19231f346",
   "metadata": {},
   "source": [
    "## Functions Can also return Boolans\n",
    "You can create functions that returns a Boolean Value:"
   ]
  },
  {
   "cell_type": "code",
   "execution_count": null,
   "id": "d4618ccb-bdad-4908-8606-b19ab0601337",
   "metadata": {},
   "outputs": [],
   "source": []
  },
  {
   "cell_type": "markdown",
   "id": "96d92c65-445e-44b3-bf03-2fa4859d68ff",
   "metadata": {},
   "source": [
    "Also, You can execute code based on the Boolean answer of a function:  !!!!"
   ]
  },
  {
   "cell_type": "code",
   "execution_count": 12,
   "id": "2d297211-73c9-4c69-824a-359d60fd3d7a",
   "metadata": {},
   "outputs": [
    {
     "name": "stdout",
     "output_type": "stream",
     "text": [
      "YES!\n"
     ]
    }
   ],
   "source": [
    "def myFunction() :\n",
    "  return True\n",
    "\n",
    "if myFunction():\n",
    "  print(\"YES!\")\n",
    "else:\n",
    "  print(\"NO!\")"
   ]
  },
  {
   "cell_type": "markdown",
   "id": "953e32a5-44c7-4a46-8b12-29108e619790",
   "metadata": {},
   "source": [
    "Python also has many built-in functions that return a boolean value, like the isinstance() function, which can be used to determine if an object is of a certain data type:\n",
    "\n",
    "This is useful for automation where the type and the obj can be passed into the function isinstance():"
   ]
  },
  {
   "cell_type": "code",
   "execution_count": 13,
   "id": "e17616d1-19a7-4bc0-8288-46e1f491c481",
   "metadata": {},
   "outputs": [
    {
     "name": "stdout",
     "output_type": "stream",
     "text": [
      "True\n"
     ]
    }
   ],
   "source": [
    "x = 200\n",
    "print(isinstance(x, int))"
   ]
  },
  {
   "cell_type": "markdown",
   "id": "8ca206ed-2a6b-4349-8ab2-65fe68010fc6",
   "metadata": {},
   "source": [
    "## Python divides the operators in the following groups:\n",
    "\n",
    "* Arithmetic operators\n",
    "* Assignment operators\n",
    "* Comparison operators\n",
    "* Logical operators\n",
    "* Identity operators\n",
    "* Membership operators\n",
    "* Bitwise operators"
   ]
  },
  {
   "cell_type": "markdown",
   "id": "e56b869f-e2bc-4cfb-b71b-82832878adcb",
   "metadata": {},
   "source": [
    "%\t         Modulus\t     x % y This is the remainder operator the percent sign %\n"
   ]
  },
  {
   "cell_type": "code",
   "execution_count": 14,
   "id": "9bcedd9c-a67e-4398-ae50-69c114b3f636",
   "metadata": {},
   "outputs": [
    {
     "data": {
      "text/plain": [
       "0"
      ]
     },
     "execution_count": 14,
     "metadata": {},
     "output_type": "execute_result"
    }
   ],
   "source": [
    "4%2"
   ]
  },
  {
   "cell_type": "code",
   "execution_count": 15,
   "id": "e246a51e-c1db-47d6-acad-bcdac1be796b",
   "metadata": {},
   "outputs": [
    {
     "data": {
      "text/plain": [
       "1"
      ]
     },
     "execution_count": 15,
     "metadata": {},
     "output_type": "execute_result"
    }
   ],
   "source": [
    "5%2"
   ]
  },
  {
   "cell_type": "code",
   "execution_count": 16,
   "id": "9439fe88-e125-4d10-adc2-bb291e23da8d",
   "metadata": {},
   "outputs": [
    {
     "data": {
      "text/plain": [
       "1"
      ]
     },
     "execution_count": 16,
     "metadata": {},
     "output_type": "execute_result"
    }
   ],
   "source": [
    "15%2"
   ]
  },
  {
   "cell_type": "markdown",
   "id": "90d354ee-b355-4c24-b8be-0d2869d1c6f5",
   "metadata": {},
   "source": [
    "//\tFloor division\tx // y"
   ]
  },
  {
   "cell_type": "code",
   "execution_count": 20,
   "id": "40c8f8f5-be32-4b38-b779-33b7d38c56dc",
   "metadata": {},
   "outputs": [
    {
     "data": {
      "text/plain": [
       "(2, 1, 2, 7)"
      ]
     },
     "execution_count": 20,
     "metadata": {},
     "output_type": "execute_result"
    }
   ],
   "source": [
    "4//2, 3//2, 5//2, 15//2"
   ]
  },
  {
   "cell_type": "code",
   "execution_count": 23,
   "id": "d1202a82-9e96-432e-82b6-543909e1f39d",
   "metadata": {},
   "outputs": [
    {
     "name": "stdout",
     "output_type": "stream",
     "text": [
      "Yes, apple is a fruit!\n"
     ]
    }
   ],
   "source": [
    "fruits = [\"apple\", \"banana\"]\n",
    "if \"apple\" in fruits:\n",
    "    print(\"Yes, apple is a fruit!\")"
   ]
  },
  {
   "cell_type": "code",
   "execution_count": null,
   "id": "860c7243-b521-4836-9ad5-2b83b2500cf3",
   "metadata": {},
   "outputs": [],
   "source": []
  },
  {
   "cell_type": "markdown",
   "id": "5f463b2d-f3a9-4ee4-87b9-87879ff142c9",
   "metadata": {},
   "source": [
    "## Lists Allow Duplicates\n",
    "Since lists are indexed, lists can have items with the same value:"
   ]
  },
  {
   "cell_type": "code",
   "execution_count": 24,
   "id": "de642e1a-9532-45ba-a05d-14945b7f26f5",
   "metadata": {},
   "outputs": [
    {
     "data": {
      "text/plain": [
       "['apple', 'banana', 'cherry', 'apple', 'cherry']"
      ]
     },
     "execution_count": 24,
     "metadata": {},
     "output_type": "execute_result"
    }
   ],
   "source": [
    "[\"apple\", \"banana\", \"cherry\", \"apple\", \"cherry\"]"
   ]
  },
  {
   "cell_type": "markdown",
   "id": "83dd9ce6-8a57-4a07-bc65-0c8b254ac002",
   "metadata": {},
   "source": [
    "A list can contain different data types:"
   ]
  },
  {
   "cell_type": "code",
   "execution_count": 25,
   "id": "6d5b842a-b621-4936-b558-2f7dde236f3b",
   "metadata": {},
   "outputs": [
    {
     "data": {
      "text/plain": [
       "['abc', 34, True, 40, 'male']"
      ]
     },
     "execution_count": 25,
     "metadata": {},
     "output_type": "execute_result"
    }
   ],
   "source": [
    "[\"abc\", 34, True, 40, \"male\"]"
   ]
  },
  {
   "cell_type": "markdown",
   "id": "460828a6-e6eb-4864-9b8a-0337c86a760b",
   "metadata": {},
   "source": [
    "## Python Collections (Arrays) Summary\n",
    "\n",
    "There are four collection data types in the Python programming language:\n",
    "\n",
    "- **List** is a collection which is ordered and changeable. Allows duplicate members.\n",
    "- **Tuple** is a collection which is ordered and unchangeable. Allows duplicate members.\n",
    "- **Set** is a collection which is unordered, unchangeable**, and unindexed. No duplicate members.\n",
    "- **Dictionary** is a collection which is ordered*** and changeable. No duplicate members.\n",
    "\n",
    "** Set items are unchangeable, but you can remove and/or add items whenever you like.\n",
    "\n",
    "*** As of Python version 3.7, dictionaries are ordered. In Python 3.6 and earlier, dictionaries are unordered."
   ]
  },
  {
   "cell_type": "code",
   "execution_count": 27,
   "id": "5c1d6fff-8575-4bbd-8cfa-b8fddf23664c",
   "metadata": {},
   "outputs": [
    {
     "name": "stdout",
     "output_type": "stream",
     "text": [
      "['cherry', 'orange', 'kiwi']\n"
     ]
    }
   ],
   "source": [
    "thislist = [\"apple\", \"banana\", \"cherry\", \"orange\", \"kiwi\", \"melon\", \"mango\"]\n",
    "print(thislist[2:5])"
   ]
  },
  {
   "cell_type": "markdown",
   "id": "30c5e263-c1da-499a-860a-4f0b9f7b9386",
   "metadata": {},
   "source": [
    "This example returns the items from \"orange\" (-4) to, but NOT including \"mango\" (-1):"
   ]
  },
  {
   "cell_type": "code",
   "execution_count": 28,
   "id": "73c0404f-f385-4c00-8e66-e1ad8868dd70",
   "metadata": {},
   "outputs": [
    {
     "name": "stdout",
     "output_type": "stream",
     "text": [
      "['orange', 'kiwi', 'melon']\n"
     ]
    }
   ],
   "source": [
    "thislist = [\"apple\", \"banana\", \"cherry\", \"orange\", \"kiwi\", \"melon\", \"mango\"]\n",
    "print(thislist[-4:-1])"
   ]
  },
  {
   "cell_type": "markdown",
   "id": "66f25f63-c268-4ccf-a024-b5dd39b4687f",
   "metadata": {},
   "source": [
    "## Append Items"
   ]
  },
  {
   "cell_type": "code",
   "execution_count": 34,
   "id": "a636fdbd-d9cf-4fe9-9ef3-6b19c3403a77",
   "metadata": {},
   "outputs": [
    {
     "name": "stdout",
     "output_type": "stream",
     "text": [
      "['apple', 'banana', 'cherry', 'orange']\n"
     ]
    }
   ],
   "source": [
    "# We can append\n",
    "thislist = [\"apple\", \"banana\", \"cherry\"]\n",
    "thislist.append(\"orange\")\n",
    "print(thislist)"
   ]
  },
  {
   "cell_type": "markdown",
   "id": "4d64caec-0f74-412a-8238-f24871ab5c97",
   "metadata": {},
   "source": [
    "## Insert Items\n",
    "\n",
    "To insert a new list item, without replacing any of the existing values, we can use the insert() method.\n",
    "\n",
    "The insert() method inserts an item at the specified index:"
   ]
  },
  {
   "cell_type": "code",
   "execution_count": 35,
   "id": "59e4d10e-d691-42ec-809a-5d1ccff05dac",
   "metadata": {},
   "outputs": [
    {
     "name": "stdout",
     "output_type": "stream",
     "text": [
      "['apple', 'banana', 'watermelon', 'cherry']\n"
     ]
    }
   ],
   "source": [
    "# Insert \"watermelon\" as the third item: \n",
    "thislist = [\"apple\", \"banana\", \"cherry\"]\n",
    "thislist.insert(2, \"watermelon\")\n",
    "print(thislist)"
   ]
  },
  {
   "cell_type": "markdown",
   "id": "27884ec8-cf90-493e-9de7-226bba8d812e",
   "metadata": {},
   "source": [
    "## Extend List\n",
    "\n",
    "To append elements from another list to the current list, use the extend() method.\n",
    "\n",
    "Add the elements of tropical to thislist:"
   ]
  },
  {
   "cell_type": "code",
   "execution_count": 36,
   "id": "e8b54c63-1a35-426e-9211-d347ac385124",
   "metadata": {},
   "outputs": [
    {
     "name": "stdout",
     "output_type": "stream",
     "text": [
      "['apple', 'banana', 'cherry', 'mango', 'pineapple', 'papaya']\n"
     ]
    }
   ],
   "source": [
    "thislist = [\"apple\", \"banana\", \"cherry\"]\n",
    "tropical = [\"mango\", \"pineapple\", \"papaya\"]\n",
    "thislist.extend(tropical)\n",
    "print(thislist)"
   ]
  },
  {
   "cell_type": "markdown",
   "id": "aa48287e-fc01-4c48-9cce-24d71745b1bb",
   "metadata": {},
   "source": [
    "The extend() method does not have to append lists, you can add any iterable object (tuples, sets, dictionaries etc.).\n",
    "\n",
    "Add elements of a tuple to a list:"
   ]
  },
  {
   "cell_type": "code",
   "execution_count": 37,
   "id": "ccdd47d4-beda-4041-a469-0e7d5e2d27b7",
   "metadata": {},
   "outputs": [
    {
     "name": "stdout",
     "output_type": "stream",
     "text": [
      "['apple', 'banana', 'cherry', 'kiwi', 'orange']\n"
     ]
    }
   ],
   "source": [
    "thislist = [\"apple\", \"banana\", \"cherry\"]\n",
    "thistuple = (\"kiwi\", \"orange\")\n",
    "thislist.extend(thistuple)\n",
    "print(thislist)"
   ]
  },
  {
   "cell_type": "markdown",
   "id": "850854cb-0d16-4f5d-8b36-799dc0292612",
   "metadata": {},
   "source": [
    "Now try adding elements from a dictionary to the list."
   ]
  },
  {
   "cell_type": "markdown",
   "id": "004effaf-2c6e-46d6-8f3d-912e6202cd4c",
   "metadata": {},
   "source": [
    "## Remove Specified Item by specifying the actual object\n",
    "\n",
    "The str.remove() method removes the specified item.\n",
    "\n",
    "This list method modifies the actual list!!"
   ]
  },
  {
   "cell_type": "code",
   "execution_count": 43,
   "id": "0a311886-4463-4b01-8ae1-4a5e797cb301",
   "metadata": {},
   "outputs": [
    {
     "name": "stdout",
     "output_type": "stream",
     "text": [
      "['apple', 'cherry']\n"
     ]
    }
   ],
   "source": [
    "thislist = [\"apple\", \"banana\", \"cherry\"]\n",
    "thislist.remove(\"banana\")\n",
    "print(thislist)"
   ]
  },
  {
   "cell_type": "markdown",
   "id": "cc92235f-d9a7-4c61-92bd-d2e37fa23aab",
   "metadata": {},
   "source": [
    "## Remove Specified Index\n",
    "\n",
    "The str.pop() method removes the specified index.\n",
    "\n",
    "If you do not specify the index, the pop() method removes the last item.\n",
    "\n",
    "This list method modifies the actual list!!!!!"
   ]
  },
  {
   "cell_type": "code",
   "execution_count": 44,
   "id": "01b12f24-88eb-4a26-916b-20fdebca555e",
   "metadata": {},
   "outputs": [
    {
     "name": "stdout",
     "output_type": "stream",
     "text": [
      "['apple', 'banana', 'cherry']\n",
      "['apple', 'cherry']\n",
      "['apple']\n"
     ]
    }
   ],
   "source": [
    "thislist = [\"apple\", \"banana\", \"cherry\"]\n",
    "print(thislist)\n",
    "thislist.pop(1)\n",
    "print(thislist)\n",
    "thislist.pop()\n",
    "print(thislist)"
   ]
  },
  {
   "cell_type": "markdown",
   "id": "bbf01a85-d3b1-437a-93ea-9def90241861",
   "metadata": {},
   "source": [
    "### The del keyword\n",
    "\n",
    "The del keyword also removes the specified index:\n",
    "\n",
    "`del thislist[0]`\n",
    "\n",
    "The del keyword can also delete the list completely.\n",
    "\n",
    "`del thislist`"
   ]
  },
  {
   "cell_type": "markdown",
   "id": "a02d5978-bbdc-4282-b57d-4452ce0caa71",
   "metadata": {},
   "source": [
    "## Clear the List\n",
    "\n",
    "The clear() method empties the list.\n",
    "\n",
    "The list still remains, but it has no content."
   ]
  },
  {
   "cell_type": "code",
   "execution_count": 45,
   "id": "f2f70fc9-8197-4ad5-b36a-0ffcec24eb3c",
   "metadata": {},
   "outputs": [
    {
     "name": "stdout",
     "output_type": "stream",
     "text": [
      "[]\n"
     ]
    }
   ],
   "source": [
    "thislist = [\"apple\", \"banana\", \"cherry\"]\n",
    "thislist.clear()\n",
    "print(thislist)"
   ]
  },
  {
   "cell_type": "code",
   "execution_count": null,
   "id": "aa238cc6-9b88-467f-b5cc-d4f7e0cc48dc",
   "metadata": {},
   "outputs": [],
   "source": []
  },
  {
   "cell_type": "markdown",
   "id": "d40331d6-be56-4771-b998-ac01340c612c",
   "metadata": {},
   "source": []
  },
  {
   "cell_type": "code",
   "execution_count": null,
   "id": "7e511de2-e105-4ce9-a09e-c884fb8c1cbe",
   "metadata": {},
   "outputs": [],
   "source": []
  },
  {
   "cell_type": "markdown",
   "id": "3f195821-0800-43e8-b1bf-1c34237f2739",
   "metadata": {},
   "source": []
  },
  {
   "cell_type": "code",
   "execution_count": null,
   "id": "03c607ec-ef80-457b-83a0-b8e3daf6a64a",
   "metadata": {},
   "outputs": [],
   "source": []
  },
  {
   "cell_type": "markdown",
   "id": "0be7689e-10c6-4de9-b606-f6b257408412",
   "metadata": {},
   "source": []
  },
  {
   "cell_type": "code",
   "execution_count": null,
   "id": "79b39e53-211a-433b-9131-13285e078a69",
   "metadata": {},
   "outputs": [],
   "source": []
  },
  {
   "cell_type": "markdown",
   "id": "d997e905-20aa-4ada-ae58-ad5a710d2868",
   "metadata": {},
   "source": []
  },
  {
   "cell_type": "code",
   "execution_count": null,
   "id": "000b876d-1524-4a5e-a57a-61d408f22f37",
   "metadata": {},
   "outputs": [],
   "source": []
  },
  {
   "cell_type": "markdown",
   "id": "740b842e-e71e-4193-a5c0-e12eb0a19b59",
   "metadata": {},
   "source": []
  },
  {
   "cell_type": "code",
   "execution_count": null,
   "id": "f076c576-b890-4340-bbd4-31aab681d731",
   "metadata": {},
   "outputs": [],
   "source": []
  },
  {
   "cell_type": "markdown",
   "id": "fd473701-747a-45ec-8145-8ec40313e5d6",
   "metadata": {},
   "source": []
  },
  {
   "cell_type": "markdown",
   "id": "2b19feaf-2dd1-4ff5-97da-ef777b2eba22",
   "metadata": {},
   "source": [
    "## I. Lesson 1"
   ]
  },
  {
   "cell_type": "markdown",
   "id": "17d0ed5c-9f73-4883-b8ef-24bdd362633c",
   "metadata": {},
   "source": [
    "The `.dtypes` dataframe method for dataframes from the Pandas library is different from the builtin python function `type()` "
   ]
  },
  {
   "cell_type": "code",
   "execution_count": 1,
   "id": "24b5e15f-4588-4871-b528-a0ae2565990a",
   "metadata": {},
   "outputs": [],
   "source": [
    "import pandas as pd"
   ]
  },
  {
   "cell_type": "code",
   "execution_count": 4,
   "id": "49663a43-d927-4024-990d-b4a65a40e193",
   "metadata": {},
   "outputs": [],
   "source": [
    "df = pd.DataFrame()"
   ]
  },
  {
   "cell_type": "code",
   "execution_count": 5,
   "id": "92fa17a4-a08d-4c9d-9e5a-96e9407de523",
   "metadata": {},
   "outputs": [
    {
     "data": {
      "text/plain": [
       "Series([], dtype: object)"
      ]
     },
     "execution_count": 5,
     "metadata": {},
     "output_type": "execute_result"
    }
   ],
   "source": [
    "df\n",
    "df.dtypes"
   ]
  },
  {
   "cell_type": "markdown",
   "id": "c55a9932-4293-4b9d-af45-898116bd95cc",
   "metadata": {},
   "source": [
    "## II. Chuck Severance Python for Everyone Assignments."
   ]
  },
  {
   "cell_type": "markdown",
   "id": "65866745-d957-4ea7-a39e-8dd188ed7577",
   "metadata": {},
   "source": [
    "### As the user for his total hours and rate per hour thenb calculate their pay."
   ]
  },
  {
   "cell_type": "code",
   "execution_count": 2,
   "id": "47dd5487-6337-48c4-8b9f-b00bdfe6da42",
   "metadata": {},
   "outputs": [
    {
     "name": "stdin",
     "output_type": "stream",
     "text": [
      "Enter hours: 35\n",
      "Enter rate per hour: 2.75\n"
     ]
    },
    {
     "name": "stdout",
     "output_type": "stream",
     "text": [
      "Pay: 96.25\n"
     ]
    }
   ],
   "source": [
    "hrs = input(\"Enter hours:\")\n",
    "rate_per_hr = input(\"Enter rate per hour:\")\n",
    "print(\"Pay:\", float(hrs) * float(rate_per_hr))\n",
    "# use 35 hrs and 2.75 for rate_per_hr. Answer: 96.25"
   ]
  },
  {
   "cell_type": "code",
   "execution_count": 3,
   "id": "5e45d1c6-9d91-4de2-bca3-fb6488ffdfed",
   "metadata": {},
   "outputs": [
    {
     "data": {
      "text/plain": [
       "'\\x01'"
      ]
     },
     "execution_count": 3,
     "metadata": {},
     "output_type": "execute_result"
    }
   ],
   "source": [
    "chr(1)"
   ]
  },
  {
   "cell_type": "markdown",
   "id": "d13840ce-0964-4207-9d39-e1f5041dabc6",
   "metadata": {},
   "source": [
    "3.1 Write a program to prompt the user for hours and rate per hour using input to compute gross pay. Pay the hourly rate for the hours up to 40 and 1.5 times the hourly rate for all hours worked above 40 hours. Use 45 hours and a rate of 10.50 per hour to test the program (the pay should be 498.75). You should use input to read a string and float() to convert the string to a number. Do not worry about error checking the user input - assume the user types numbers properly.\n"
   ]
  },
  {
   "cell_type": "code",
   "execution_count": 35,
   "id": "715b81c1-7d0c-4698-b295-a9679a5fcc6d",
   "metadata": {},
   "outputs": [
    {
     "name": "stdin",
     "output_type": "stream",
     "text": [
      "Enter Hours: 45\n",
      "Enter Hours: 10.5\n"
     ]
    },
    {
     "name": "stdout",
     "output_type": "stream",
     "text": [
      "498.75\n"
     ]
    }
   ],
   "source": [
    "hrs = input(\"Enter Hours:\")\n",
    "rate_per_hour = input(\"Enter Hours:\")\n",
    "rate_per_hour = float(rate_per_hour)\n",
    "h = float(hrs)\n",
    "\n",
    "if h <= 40:\n",
    "    print(h*rate_per_hour)\n",
    "else:\n",
    "    print(40*rate_per_hour + (h-40)*rate_per_hour*1.5)"
   ]
  },
  {
   "cell_type": "markdown",
   "id": "7e7422f5-6c11-4db6-a7f3-e49f3be3f036",
   "metadata": {},
   "source": [
    "3.3 Write a program to prompt for a score between 0.0 and 1.0. If the score is out of range, print an error. If the score is between 0.0 and 1.0, print a grade using the following table:\n",
    "Score Grade\n",
    ">= 0.9 A\n",
    ">= 0.8 B\n",
    ">= 0.7 C\n",
    ">= 0.6 D\n",
    "< 0.6 F\n",
    "If the user enters a value out of range, print a suitable error message and exit. For the test, enter a score of 0.85.\n"
   ]
  },
  {
   "cell_type": "code",
   "execution_count": 38,
   "id": "1aa739c4-bce9-497f-8e7b-b2f1a594c056",
   "metadata": {},
   "outputs": [
    {
     "name": "stdin",
     "output_type": "stream",
     "text": [
      "Enter Score:  .1\n",
      "You did not enter a number please enter a number: 0\n"
     ]
    },
    {
     "name": "stdout",
     "output_type": "stream",
     "text": [
      "F\n"
     ]
    }
   ],
   "source": [
    "# This does not work correctly.\n",
    "\n",
    "score = input(\"Enter Score: \")\n",
    "\n",
    "try:\n",
    "    fs = float(score)\n",
    "    if fs > 1 | fs < 0 :\n",
    "        print(\"Error, you are out of bounds.\")\n",
    "        quite()\n",
    "except:\n",
    "    score = input(\"You did not enter a number please enter a number:\")\n",
    "    \n",
    "if fs >= .9:\n",
    "    print(\"A\")\n",
    "elif fs >= .8:\n",
    "    print('B')\n",
    "elif fs >= .7:\n",
    "    print('C')\n",
    "elif fs >= .6:\n",
    "    print('D')\n",
    "else:\n",
    "    print('F')\n",
    "\n",
    "    \n"
   ]
  },
  {
   "cell_type": "code",
   "execution_count": 1,
   "id": "720c5cfb-b783-448b-a5ef-0b59df35e334",
   "metadata": {},
   "outputs": [
    {
     "name": "stdin",
     "output_type": "stream",
     "text": [
      "Enter Score:  10\n"
     ]
    },
    {
     "name": "stdout",
     "output_type": "stream",
     "text": [
      "Error, you are out of bounds.\n"
     ]
    }
   ],
   "source": [
    "score = input(\"Enter Score: \")\n",
    "fs = float(score)\n",
    "#try:\n",
    "#    fs = float(score)\n",
    "#except:\n",
    "    #score = input(\"You did not enter a number please enter a number:\")    \n",
    "\n",
    "# This does not work properly because the try except block should be in a while loop so that the score is fedback\n",
    "# to the fs=float(score)\n",
    "\n",
    "if fs > 1 or fs < 0 :\n",
    "    print(\"Error, you are out of bounds.\")\n",
    "    quit()\n",
    "else: \n",
    "    if fs >= .9:\n",
    "        print(\"A\")\n",
    "    elif fs >= .8:\n",
    "        print('B')\n",
    "    elif fs >= .7:\n",
    "        print('C')\n",
    "    elif fs >= .6:\n",
    "        print('D')\n",
    "    else:\n",
    "        print('F')\n"
   ]
  },
  {
   "cell_type": "code",
   "execution_count": 2,
   "id": "1a19c456-bac9-4abb-8627-2d713a725c02",
   "metadata": {},
   "outputs": [
    {
     "name": "stdin",
     "output_type": "stream",
     "text": [
      "Enter Score:  .85\n"
     ]
    },
    {
     "name": "stdout",
     "output_type": "stream",
     "text": [
      "B\n"
     ]
    }
   ],
   "source": [
    "score = input(\"Enter Score: \")\n",
    "fs = float(score)\n",
    "\n",
    "if fs > 1 or fs < 0 :\n",
    "    print(\"Error, you are out of bounds.\")\n",
    "    quit()\n",
    "else: \n",
    "    if fs >= .9:\n",
    "        print(\"A\")\n",
    "    elif fs >= .8:\n",
    "        print('B')\n",
    "    elif fs >= .7:\n",
    "        print('C')\n",
    "    elif fs >= .6:\n",
    "        print('D')\n",
    "    else:\n",
    "        print('F')"
   ]
  },
  {
   "cell_type": "markdown",
   "id": "72d18843-e690-46a2-a55b-237ba9f974c7",
   "metadata": {},
   "source": []
  },
  {
   "cell_type": "markdown",
   "id": "c572bb3a-b583-4656-9e15-e449e755b1c5",
   "metadata": {},
   "source": [
    "4.6 Write a program to prompt the user for hours and rate per hour using input to compute gross pay. Pay should be the normal rate for hours up to 40 and time-and-a-half for the hourly rate for all hours worked above 40 hours. Put the logic to do the computation of pay in a function called computepay() and use the function to do the computation. The function should return a value. Use 45 hours and a rate of 10.50 per hour to test the program (the pay should be 498.75). You should use input to read a string and float() to convert the string to a number. Do not worry about error checking the user input unless you want to - you can assume the user types numbers properly. Do not name your variable sum or use the sum() function."
   ]
  },
  {
   "cell_type": "code",
   "execution_count": null,
   "id": "529f65f9-9fb9-400b-9c1b-5c1f0a2f381a",
   "metadata": {},
   "outputs": [],
   "source": [
    "def computepay(h, r):\n",
    "    return 42.37\n",
    "\n",
    "hrs = input(\"Enter Hours:\")\n",
    "p = computepay(45, 10.5)\n",
    "print(\"Pay\", p)"
   ]
  },
  {
   "cell_type": "code",
   "execution_count": 34,
   "id": "cbb53831-6b45-4019-84e9-2b609512490a",
   "metadata": {},
   "outputs": [
    {
     "name": "stdin",
     "output_type": "stream",
     "text": [
      "Enter Hours: 45\n",
      "Enter you pay rate: 10.5\n"
     ]
    },
    {
     "name": "stdout",
     "output_type": "stream",
     "text": [
      "Pay 498.75\n"
     ]
    }
   ],
   "source": [
    "def computepay():\n",
    "    hrs = input(\"Enter Hours:\")\n",
    "    payRate = input(\"Enter you pay rate:\")\n",
    "    \n",
    "    h = float(hrs)\n",
    "    p = float(payRate)\n",
    "    \n",
    "    if h > 40:\n",
    "        pay = 40 * p + (h - 40) * p * 1.5\n",
    "    else:\n",
    "        pay = p * h\n",
    "        \n",
    "    return pay\n",
    "\n",
    "#hrs = input(\"Enter Hours:\")\n",
    "p = computepay()\n",
    "print(\"Pay\", p)"
   ]
  },
  {
   "cell_type": "code",
   "execution_count": 2,
   "id": "23ac4ef1-7d55-49ed-981d-a71b438de98e",
   "metadata": {},
   "outputs": [],
   "source": [
    "def computepay():\n",
    "    hrs = input(\"Enter Hours:\")\n",
    "    \n",
    "    \n",
    "    try:\n",
    "        h = float(hrs)\n",
    "    except:\n",
    "        print(\"Error! You need to enter the hours as numbers - e.g. 45\")\n",
    "        quit()\n",
    "        \n",
    "    payRate = input(\"Enter you pay rate:\")    \n",
    "    try:\n",
    "        p = float(payRate)\n",
    "    except:\n",
    "        print(\"Error! You need to enter your pay rate in numbers, e.g. 10.50\")\n",
    "        quit()\n",
    "    \n",
    "    if h > 40:\n",
    "        pay = 40 * p + (h - 40) * p * 1.5\n",
    "    else:\n",
    "        pay = p * h\n",
    "        \n",
    "    return pay\n",
    "\n"
   ]
  },
  {
   "cell_type": "code",
   "execution_count": 3,
   "id": "795b4a6b-dd05-4a91-a0c4-8cdde64df681",
   "metadata": {},
   "outputs": [
    {
     "name": "stdin",
     "output_type": "stream",
     "text": [
      "Enter Hours: 45\n",
      "Enter you pay rate: 10.5\n"
     ]
    },
    {
     "name": "stdout",
     "output_type": "stream",
     "text": [
      "Pay 498.75\n"
     ]
    }
   ],
   "source": [
    "#hrs = input(\"Enter Hours:\")\n",
    "p = computepay()\n",
    "print(\"Pay\", p)"
   ]
  },
  {
   "cell_type": "code",
   "execution_count": null,
   "id": "fef52cbc-6a05-4e9f-9fc0-b29ba334eb43",
   "metadata": {},
   "outputs": [],
   "source": []
  },
  {
   "cell_type": "code",
   "execution_count": 4,
   "id": "6596ffcb-94b5-4502-8bdd-37b3e084c6e8",
   "metadata": {},
   "outputs": [
    {
     "name": "stdin",
     "output_type": "stream",
     "text": [
      "Enter Hours: ten\n"
     ]
    },
    {
     "name": "stdout",
     "output_type": "stream",
     "text": [
      "Error! You need to enter the hours as numbers - e.g. 45\n"
     ]
    },
    {
     "name": "stdin",
     "output_type": "stream",
     "text": [
      "Enter you pay rate: 10\n"
     ]
    },
    {
     "ename": "UnboundLocalError",
     "evalue": "local variable 'h' referenced before assignment",
     "output_type": "error",
     "traceback": [
      "\u001b[1;31m---------------------------------------------------------------------------\u001b[0m",
      "\u001b[1;31mUnboundLocalError\u001b[0m                         Traceback (most recent call last)",
      "Input \u001b[1;32mIn [4]\u001b[0m, in \u001b[0;36m<cell line: 1>\u001b[1;34m()\u001b[0m\n\u001b[1;32m----> 1\u001b[0m p \u001b[38;5;241m=\u001b[39m \u001b[43mcomputepay\u001b[49m\u001b[43m(\u001b[49m\u001b[43m)\u001b[49m\n\u001b[0;32m      2\u001b[0m \u001b[38;5;28mprint\u001b[39m(\u001b[38;5;124m\"\u001b[39m\u001b[38;5;124mPay\u001b[39m\u001b[38;5;124m\"\u001b[39m, p)\n",
      "Input \u001b[1;32mIn [2]\u001b[0m, in \u001b[0;36mcomputepay\u001b[1;34m()\u001b[0m\n\u001b[0;32m     15\u001b[0m     \u001b[38;5;28mprint\u001b[39m(\u001b[38;5;124m\"\u001b[39m\u001b[38;5;124mError! You need to enter your pay rate in numbers, e.g. 10.50\u001b[39m\u001b[38;5;124m\"\u001b[39m)\n\u001b[0;32m     16\u001b[0m     quit()\n\u001b[1;32m---> 18\u001b[0m \u001b[38;5;28;01mif\u001b[39;00m \u001b[43mh\u001b[49m \u001b[38;5;241m>\u001b[39m \u001b[38;5;241m40\u001b[39m:\n\u001b[0;32m     19\u001b[0m     pay \u001b[38;5;241m=\u001b[39m \u001b[38;5;241m40\u001b[39m \u001b[38;5;241m*\u001b[39m p \u001b[38;5;241m+\u001b[39m (h \u001b[38;5;241m-\u001b[39m \u001b[38;5;241m40\u001b[39m) \u001b[38;5;241m*\u001b[39m p \u001b[38;5;241m*\u001b[39m \u001b[38;5;241m1.5\u001b[39m\n\u001b[0;32m     20\u001b[0m \u001b[38;5;28;01melse\u001b[39;00m:\n",
      "\u001b[1;31mUnboundLocalError\u001b[0m: local variable 'h' referenced before assignment"
     ]
    }
   ],
   "source": [
    "p = computepay()\n",
    "print(\"Pay\", p)"
   ]
  },
  {
   "cell_type": "code",
   "execution_count": null,
   "id": "a451977a-f2cf-4385-92b2-5a08b13fed9a",
   "metadata": {},
   "outputs": [],
   "source": []
  },
  {
   "cell_type": "markdown",
   "id": "ed1e4e16-fc2f-45cf-a281-5f7c1e5041e6",
   "metadata": {},
   "source": [
    "### Find the largest number in a list"
   ]
  },
  {
   "cell_type": "code",
   "execution_count": 48,
   "id": "57b14519-1ffd-417d-890a-e65af821fe4c",
   "metadata": {},
   "outputs": [
    {
     "name": "stdout",
     "output_type": "stream",
     "text": [
      "232\n"
     ]
    },
    {
     "data": {
      "text/plain": [
       "10000000000.0"
      ]
     },
     "execution_count": 48,
     "metadata": {},
     "output_type": "execute_result"
    }
   ],
   "source": [
    "numbers = [23, 232, 12, 43, 44, -1, -3]\n",
    "\n",
    "largestNum = numbers[0]\n",
    "for num in numbers:\n",
    "    if num > largestNum:\n",
    "        largestNum = num\n",
    "print(largestNum)\n",
    "\n",
    "# Making the above into a function\n",
    "\n",
    "def find_largNum(list_of_num) :\n",
    "    \n",
    "    largestNum = list_of_num[0]\n",
    "    \n",
    "    for num in list_of_num :\n",
    "        if num > largestNum :\n",
    "            largestNum = num\n",
    "    \n",
    "    return(largestNum)\n",
    "\n",
    "find_largNum(numbers)\n",
    "find_largNum([5, -1, 324, 1e10, -1e20])"
   ]
  },
  {
   "cell_type": "markdown",
   "id": "6692f83d-170e-434c-88b6-bb9192d1f07f",
   "metadata": {},
   "source": [
    "5.2 Write a program that repeatedly prompts a user for integer numbers until the user enters 'done'. Once 'done' is entered, print out the largest and smallest of the numbers. If the user enters anything other than a valid number catch it with a try/except and put out an appropriate message and ignore the number. Enter 7, 2, bob, 10, and 4 and match the output below."
   ]
  },
  {
   "cell_type": "code",
   "execution_count": 5,
   "id": "7f149a15-4cb6-4424-b6e1-b210cc640d6b",
   "metadata": {},
   "outputs": [
    {
     "name": "stdin",
     "output_type": "stream",
     "text": [
      "Enter a number:  7\n",
      "Enter a number:  2\n",
      "Enter a number:  bob\n"
     ]
    },
    {
     "name": "stdout",
     "output_type": "stream",
     "text": [
      "Invalid input\n"
     ]
    },
    {
     "name": "stdin",
     "output_type": "stream",
     "text": [
      "Enter a number:  10\n",
      "Enter a number:  4\n",
      "Enter a number:  done\n"
     ]
    },
    {
     "name": "stdout",
     "output_type": "stream",
     "text": [
      "Maximum is 10\n",
      "Minimum is 2\n"
     ]
    }
   ],
   "source": [
    "largest = None\n",
    "smallest = None\n",
    "\n",
    "while True:\n",
    "    \n",
    "    num = input(\"Enter a number: \")\n",
    "    if num == \"done\":\n",
    "        break\n",
    "        \n",
    "    #print(num)\n",
    "    \n",
    "    try:\n",
    "        num = int(num)\n",
    "    except:\n",
    "        print(\"Invalid input\")\n",
    "        continue\n",
    "    \n",
    "    if largest is None:\n",
    "        largest = num\n",
    "    if largest < num:\n",
    "        largest = num\n",
    "    if smallest is None:\n",
    "        smallest = num\n",
    "    if smallest > num:\n",
    "        smallest = num\n",
    "        \n",
    "\n",
    "print(\"Maximum is\", largest)\n",
    "print(\"Minimum is\", smallest)"
   ]
  },
  {
   "cell_type": "code",
   "execution_count": null,
   "id": "09d9b127-7630-44fe-a015-45ecb07efbdf",
   "metadata": {},
   "outputs": [],
   "source": [
    "largest = None\n",
    "smallest = None\n",
    "while True:\n",
    "    num = input(\"Enter a number: \")\n",
    "\n",
    "    if num == \"done\":\n",
    "        break\n",
    "    print(num)\n",
    "              \n",
    "    try:\n",
    "        num\n",
    "    except: \n",
    "\n",
    "print(\"Maximum\", largest)"
   ]
  },
  {
   "cell_type": "markdown",
   "id": "b997630b-6d0a-42bb-9709-04abcdbff9a5",
   "metadata": {},
   "source": [
    "## LeetCode Questions"
   ]
  },
  {
   "cell_type": "markdown",
   "id": "7eb6a889-d2d5-4731-bcb0-abf7f561e228",
   "metadata": {},
   "source": [
    "You are given a string s formed by digits and '#'. We want to map s to English lowercase characters as follows:\n",
    "\n",
    "Characters ('a' to 'i') are represented by ('1' to '9') respectively.\n",
    "Characters ('j' to 'z') are represented by ('10#' to '26#') respectively.\n",
    "Return the string formed after mapping.\n",
    "\n",
    "The test cases are generated so that a unique mapping will always exist.\n",
    "\n",
    " \n",
    "\n",
    "Example 1:\n",
    "\n",
    "Input: s = \"10#11#12\"\n",
    "Output: \"jkab\"\n",
    "Explanation: \"j\" -> \"10#\" , \"k\" -> \"11#\" , \"a\" -> \"1\" , \"b\" -> \"2\".\n",
    "Example 2:\n",
    "\n",
    "Input: s = \"1326#\"\n",
    "Output: \"acz\"\n",
    " \n",
    "\n",
    "Constraints:\n",
    "\n",
    "1 <= s.length <= 1000\n",
    "s consists of digits and the '#' letter.\n",
    "s will be a valid string such that mapping is always possible.\n"
   ]
  },
  {
   "cell_type": "code",
   "execution_count": 7,
   "id": "0217f551-2be2-4adb-840b-5cc744460399",
   "metadata": {},
   "outputs": [],
   "source": [
    "class Solution:\n",
    "    def freqAlphabets(self, s: str) -> str:\n",
    "        apl = \"abcdefghijklmnopqrsvwtxyz\""
   ]
  },
  {
   "cell_type": "code",
   "execution_count": 29,
   "id": "0659e706-4aac-4fa3-98e2-701483e947ad",
   "metadata": {},
   "outputs": [
    {
     "data": {
      "text/plain": [
       "'abcdefghijklmnopqrsvwtxyz'"
      ]
     },
     "execution_count": 29,
     "metadata": {},
     "output_type": "execute_result"
    }
   ],
   "source": [
    "apl = \"abcdefghijklmnopqrsvwtxyz\"\n",
    "len(apl)\n",
    "apl.split()\n",
    "apl_spl = [x for x in apl]\n",
    "\n",
    "the_string = \"\"\n",
    "for alph in apl_spl:\n",
    "    the_string += alph\n",
    "the_string"
   ]
  },
  {
   "cell_type": "code",
   "execution_count": 33,
   "id": "c59dd2d1-ed29-4370-9d53-0a5b7a7d8315",
   "metadata": {},
   "outputs": [
    {
     "name": "stdout",
     "output_type": "stream",
     "text": [
      "26\n"
     ]
    },
    {
     "data": {
      "text/plain": [
       "'abcdefghijklmnopqrstuvwxyz'"
      ]
     },
     "execution_count": 33,
     "metadata": {},
     "output_type": "execute_result"
    }
   ],
   "source": [
    "alphs = 'qwertyuiopasdfghjklzxcvbnm'\n",
    "alphs = sorted(alphs)\n",
    "print(len(alphs))\n",
    "\n",
    "the_string = \"\"\n",
    "for alph in alphs:\n",
    "    the_string += alph\n",
    "the_string"
   ]
  },
  {
   "cell_type": "code",
   "execution_count": null,
   "id": "e25b9da2-d128-431b-b88f-c092bada72e1",
   "metadata": {},
   "outputs": [],
   "source": []
  },
  {
   "cell_type": "code",
   "execution_count": 4,
   "id": "9c2bd3e1-6366-4dd9-8058-dcfe9b50337a",
   "metadata": {},
   "outputs": [
    {
     "name": "stdout",
     "output_type": "stream",
     "text": [
      "hello world\n"
     ]
    }
   ],
   "source": [
    "print(\"hello world\")"
   ]
  },
  {
   "cell_type": "code",
   "execution_count": null,
   "id": "8b926ddf-252c-4379-8213-db6c147717b8",
   "metadata": {},
   "outputs": [],
   "source": []
  },
  {
   "cell_type": "code",
   "execution_count": null,
   "id": "ee58233e-5adf-431e-ab91-3e260d0640a8",
   "metadata": {},
   "outputs": [],
   "source": []
  },
  {
   "cell_type": "markdown",
   "id": "fc517353-75f6-4676-a738-58a7283e31b2",
   "metadata": {},
   "source": [
    "Given an array of integers nums and an integer target, return indices of the two numbers such that they add up to target.\n",
    "\n",
    "You may assume that each input would have exactly one solution, and you may not use the same element twice.\n",
    "\n",
    "You can return the answer in any order.\n",
    "\n",
    "```\n",
    "Example 1:\n",
    "\n",
    "Input: nums = [2,7,11,15], target = 9\n",
    "Output: [0,1]\n",
    "Explanation: Because nums[0] + nums[1] == 9, we return [0, 1].\n",
    "\n",
    "Example 2:\n",
    "\n",
    "Input: nums = [3,2,4], target = 6\n",
    "Output: [1,2]\n",
    "\n",
    "Example 3:\n",
    "\n",
    "Input: nums = [3,3], target = 6\n",
    "Output: [0,1]\n",
    "```"
   ]
  },
  {
   "cell_type": "code",
   "execution_count": null,
   "id": "79e87bdd-c8d5-488d-b7fd-bf994ca7186c",
   "metadata": {},
   "outputs": [],
   "source": [
    "class Solution:\n",
    "    def twoSum(self, nums: List[int], target: int) -> List[int]:\n",
    "        \n",
    "        nums < target"
   ]
  },
  {
   "cell_type": "code",
   "execution_count": 158,
   "id": "bea2bf87-cae7-4ae9-a397-618d2ec5d722",
   "metadata": {},
   "outputs": [
    {
     "name": "stdout",
     "output_type": "stream",
     "text": [
      "[10, 22, 2, 7, 11, 15]\n",
      "[10, 22, 2, 7, 11, 15]\n"
     ]
    }
   ],
   "source": [
    "\n",
    "nums_original, target = [10, 22, 2,7,11,15],  9\n",
    "nums = nums_original\n",
    "print(nums)\n",
    "#print(nums.sort())\n",
    "print(nums)\n",
    "#nums < target"
   ]
  },
  {
   "cell_type": "code",
   "execution_count": 87,
   "id": "a27cf84f-8082-474a-b038-bb62d3a4aa91",
   "metadata": {},
   "outputs": [],
   "source": [
    "nums.append(target)"
   ]
  },
  {
   "cell_type": "code",
   "execution_count": 89,
   "id": "df62e6b4-14ce-4de9-96c4-ac22235392be",
   "metadata": {},
   "outputs": [
    {
     "name": "stdout",
     "output_type": "stream",
     "text": [
      "[2, 7, 9, 10, 11, 15, 22]\n",
      "[2, 7, 9, 10, 11, 15, 22]\n",
      "idxTarget: 2\n",
      "2\n",
      "[2, 7]\n",
      "2\n",
      "[0, 1]\n"
     ]
    }
   ],
   "source": [
    "print(nums)\n",
    "nums.sort()\n",
    "print(nums)\n",
    "idxTarget = nums.index(target)\n",
    "print(\"idxTarget:\", idxTarget)\n",
    "print(nums.index(target))\n",
    "\n",
    "candidates = nums[:idxTarget]\n",
    "print(nums[:idxTarget])\n",
    "highest_candidate = candidates[-1]\n",
    "candidate = target - highest_candidate\n",
    "print(candidate)\n",
    "\n",
    "if candidate in nums_original:\n",
    "    print([nums.index(candidate), nums.index(highest_candidate)])\n",
    "    "
   ]
  },
  {
   "cell_type": "code",
   "execution_count": 159,
   "id": "6638806f-f64f-4dad-b390-4eb5cb44dde5",
   "metadata": {},
   "outputs": [],
   "source": [
    "def twoSum(nums, target, prt=False) :\n",
    "    \n",
    "    nums_original = nums.copy()\n",
    "    \n",
    "    print(nums) if prt else \"\"\n",
    "    \n",
    "    nums.append(target)\n",
    "    \n",
    "    print(nums) if prt else \"\"\n",
    "    \n",
    "    nums.sort()\n",
    "    \n",
    "    print(nums) if prt else \"\"\n",
    "    \n",
    "    idxTarget = nums.index(target)\n",
    "    \n",
    "    print(\"idxTarget:\", idxTarget)  if prt else \"\"\n",
    "    print(nums.index(target)) if prt else \"\"\n",
    "\n",
    "    candidates = nums[:idxTarget]\n",
    "    \n",
    "    print(nums[:idxTarget]) if prt else \"\"\n",
    "    \n",
    "    highest_candidate = candidates[-1]\n",
    "    candidate = target - highest_candidate\n",
    "    \n",
    "    print(candidate) if prt else \"\"\n",
    "\n",
    "    if candidate in nums_original:\n",
    "        \n",
    "        \n",
    "        idx_hightest = nums_original.index(highest_candidate) \n",
    "        \n",
    "        try:\n",
    "            nums_original.index(candidate,  idx_hightest, -1)\n",
    "        except:\n",
    "            nums_original.index(candidate, 0, idx_hightest)\n",
    "        \n",
    "        print(\"nums_original\", nums_original) if prt else \"\"\n",
    "        idxs = [nums_original.index(candidate), nums_original.index(highest_candidate)]\n",
    "    \n",
    "        print(idxs)  if prt else \"\"\n",
    "        \n",
    "        return(idxs)\n",
    "    "
   ]
  },
  {
   "cell_type": "code",
   "execution_count": 160,
   "id": "5227bd8c-2bad-4622-8f6a-de5a7693668e",
   "metadata": {},
   "outputs": [
    {
     "name": "stdout",
     "output_type": "stream",
     "text": [
      "[2, 3]\n",
      "\n",
      "\n",
      "[2, 7, 9, 10, 11, 15, 22]\n",
      "[2, 7, 9, 10, 11, 15, 22, 9]\n",
      "[2, 7, 9, 9, 10, 11, 15, 22]\n",
      "idxTarget: 2\n",
      "2\n",
      "[2, 7]\n",
      "2\n",
      "nums_original [2, 7, 9, 10, 11, 15, 22]\n",
      "[0, 1]\n",
      "[0, 0]\n"
     ]
    }
   ],
   "source": [
    "ans1 = twoSum(nums, target)\n",
    "print(ans1)\n",
    "print(\"\\n\")\n",
    "twoSum(nums, target, True)\n",
    "print(twoSum([3,3], 6))"
   ]
  },
  {
   "cell_type": "code",
   "execution_count": 161,
   "id": "a2aba16b-c9aa-47cf-bbd8-6f33379c9a8f",
   "metadata": {},
   "outputs": [
    {
     "name": "stdout",
     "output_type": "stream",
     "text": [
      "[3, 2, 4]\n",
      "[3, 2, 4, 6]\n",
      "[2, 3, 4, 6]\n",
      "idxTarget: 3\n",
      "3\n",
      "[2, 3, 4]\n",
      "2\n",
      "nums_original [3, 2, 4]\n",
      "[1, 2]\n"
     ]
    },
    {
     "data": {
      "text/plain": [
       "[1, 2]"
      ]
     },
     "execution_count": 161,
     "metadata": {},
     "output_type": "execute_result"
    }
   ],
   "source": [
    "twoSum([3,2,4], 6, True)"
   ]
  },
  {
   "cell_type": "code",
   "execution_count": 162,
   "id": "e8a33c67-4596-4f35-9dae-319f3ffa3d70",
   "metadata": {},
   "outputs": [
    {
     "data": {
      "text/plain": [
       "[0, 0]"
      ]
     },
     "execution_count": 162,
     "metadata": {},
     "output_type": "execute_result"
    }
   ],
   "source": [
    "twoSum([3,3], 6)"
   ]
  },
  {
   "cell_type": "code",
   "execution_count": 65,
   "id": "e97846f4-cb89-4e8e-a5f2-48464b15b768",
   "metadata": {},
   "outputs": [
    {
     "name": "stdout",
     "output_type": "stream",
     "text": [
      "[ 2  7 10 11 15 22]\n",
      "[ True  True False False False False]\n"
     ]
    },
    {
     "data": {
      "text/plain": [
       "2"
      ]
     },
     "execution_count": 65,
     "metadata": {},
     "output_type": "execute_result"
    }
   ],
   "source": [
    "import numpy as np\n",
    "\n",
    "numss = np.array(nums)\n",
    "print(numss)\n",
    "type(numss)\n",
    "\n",
    "mask = numss < target\n",
    "print(mask)\n",
    "\n",
    "\n",
    "\n",
    "target - numss[mask].max()\n",
    "\n",
    "#numss[mask].idmax()\n",
    "\n",
    "\n",
    "\n"
   ]
  },
  {
   "cell_type": "code",
   "execution_count": 148,
   "id": "dd4d086b-751a-4081-a4e0-346844e7bb9c",
   "metadata": {},
   "outputs": [
    {
     "data": {
      "text/plain": [
       "0"
      ]
     },
     "execution_count": 148,
     "metadata": {},
     "output_type": "execute_result"
    }
   ],
   "source": [
    "[3,3].index(3)"
   ]
  },
  {
   "cell_type": "code",
   "execution_count": 156,
   "id": "828a4bcd-5c54-409b-8d81-c36cbbaa7af9",
   "metadata": {},
   "outputs": [
    {
     "ename": "ValueError",
     "evalue": "3 is not in list",
     "output_type": "error",
     "traceback": [
      "\u001b[1;31m---------------------------------------------------------------------------\u001b[0m",
      "\u001b[1;31mValueError\u001b[0m                                Traceback (most recent call last)",
      "Input \u001b[1;32mIn [156]\u001b[0m, in \u001b[0;36m<cell line: 1>\u001b[1;34m()\u001b[0m\n\u001b[1;32m----> 1\u001b[0m \u001b[43m[\u001b[49m\u001b[38;5;241;43m1\u001b[39;49m\u001b[43m,\u001b[49m\u001b[43m \u001b[49m\u001b[38;5;241;43m2\u001b[39;49m\u001b[43m,\u001b[49m\u001b[43m \u001b[49m\u001b[38;5;241;43m1\u001b[39;49m\u001b[43m,\u001b[49m\u001b[43m \u001b[49m\u001b[38;5;241;43m3\u001b[39;49m\u001b[43m,\u001b[49m\u001b[38;5;241;43m3\u001b[39;49m\u001b[43m]\u001b[49m\u001b[38;5;241;43m.\u001b[39;49m\u001b[43mindex\u001b[49m\u001b[43m(\u001b[49m\u001b[38;5;241;43m3\u001b[39;49m\u001b[43m,\u001b[49m\u001b[43m \u001b[49m\u001b[38;5;241;43m-\u001b[39;49m\u001b[38;5;241;43m1\u001b[39;49m\u001b[43m,\u001b[49m\u001b[38;5;241;43m-\u001b[39;49m\u001b[38;5;241;43m1\u001b[39;49m\u001b[43m)\u001b[49m\n",
      "\u001b[1;31mValueError\u001b[0m: 3 is not in list"
     ]
    }
   ],
   "source": [
    "[1, 2, 1, 3,3].index(3, -1,-1)"
   ]
  },
  {
   "cell_type": "code",
   "execution_count": null,
   "id": "af2ccb72-88f1-42ed-bb63-6cb4217528a7",
   "metadata": {},
   "outputs": [],
   "source": []
  },
  {
   "cell_type": "code",
   "execution_count": null,
   "id": "3ea162f1-7022-4187-921c-2ceddcd6736d",
   "metadata": {},
   "outputs": [],
   "source": []
  },
  {
   "cell_type": "code",
   "execution_count": null,
   "id": "69408358-2157-498a-89de-d9a3864d5f86",
   "metadata": {},
   "outputs": [],
   "source": []
  },
  {
   "cell_type": "markdown",
   "id": "0b597b7c-52e7-475b-bedd-d7509bb08722",
   "metadata": {},
   "source": [
    "# Amazon Coding Interview Questions"
   ]
  },
  {
   "cell_type": "markdown",
   "id": "45813456-e889-48bf-af98-96e789132f85",
   "metadata": {},
   "source": [
    "### Question 1.\n",
    "\n",
    "Find the missing number in the array\n",
    "\n",
    "You are given an array of positive numbers from 1 to n, such that all numbers from 1 to n are present except one number x. You have to find x. The input array is not sorted. Look at the below array and give it a try before checking the solution.\n",
    "\n",
    "3\n",
    "7\n",
    "1\n",
    "2\n",
    "8\n",
    "4\n",
    "5\n",
    "n = 8 missing number = 6"
   ]
  },
  {
   "cell_type": "code",
   "execution_count": 14,
   "id": "06a97c81-b194-4241-a0a7-f9ed4f1bc93f",
   "metadata": {},
   "outputs": [
    {
     "name": "stdout",
     "output_type": "stream",
     "text": [
      "8\n",
      "36\n",
      "30\n",
      "6\n"
     ]
    }
   ],
   "source": [
    "seq = [3, 7, 1, 2, 8, 4, 5]\n",
    "\n",
    "max_num = max(seq)\n",
    "print(max_num)\n",
    "\n",
    "seq_full = list(range(max_num + 1))\n",
    "seq_full_sum = sum(seq_full)\n",
    "print(seq_full_sum)\n",
    "\n",
    "seq_sum = sum(seq)\n",
    "print(seq_sum)\n",
    "\n",
    "missing_number = seq_full_sum - seq_sum\n",
    "print(missing_number)\n",
    "\n"
   ]
  },
  {
   "cell_type": "code",
   "execution_count": 15,
   "id": "13e01938-6fe8-47f3-8b00-257eb82cf4f4",
   "metadata": {},
   "outputs": [
    {
     "data": {
      "text/plain": [
       "[0, 1, 2, 3, 4, 5, 6, 7, 8, 9]"
      ]
     },
     "execution_count": 15,
     "metadata": {},
     "output_type": "execute_result"
    }
   ],
   "source": [
    "# Creating sequences but not as range() object but as lists. Note have to add + 1 to the end if want to get it, which we usually need to get.\n",
    "list(range(10))"
   ]
  },
  {
   "cell_type": "markdown",
   "id": "20605127-b388-4e3f-9b56-8b09bb36698e",
   "metadata": {},
   "source": [
    "### Question 2.\n",
    "\n",
    "Determine if the sum of two integers is equal to the given value.\n",
    "\n",
    "Given an array of integers and a value, determine if there are any two integers in the array whose sum is equal to the given value. Return true if the sum exists and return false if it does not. Consider this array and the target sums:\n",
    "\n",
    "5\n",
    "7\n",
    "1\n",
    "2\n",
    "8\n",
    "4\n",
    "3\n",
    "Target Sum\n",
    "10\n",
    "7+3=10, 2+8=10\n",
    "Target Sum\n",
    "19\n",
    "No 2 values sum up to 19"
   ]
  },
  {
   "cell_type": "code",
   "execution_count": null,
   "id": "62464d04-f1e8-4868-911a-95d3ac4fc7ae",
   "metadata": {},
   "outputs": [],
   "source": []
  },
  {
   "cell_type": "markdown",
   "id": "c3875819-8ded-4de8-8753-2a39291ae7be",
   "metadata": {},
   "source": [
    "### Question 3. \n",
    "\n",
    "Merge two sorted linked lists\n",
    "\n",
    "Given two sorted linked lists, merge them so that the resulting linked list is also sorted. Consider two sorted linked lists and the merged list below them as an example.\n"
   ]
  },
  {
   "cell_type": "code",
   "execution_count": 17,
   "id": "525b064b-3372-4716-9c28-794a426299f8",
   "metadata": {},
   "outputs": [
    {
     "name": "stdout",
     "output_type": "stream",
     "text": [
      "[4]\n",
      "[4]\n",
      "[4]\n",
      "[4]\n",
      "[4]\n",
      "[4]\n",
      "[4]\n",
      "[4]\n",
      "[4]\n",
      "[4]\n",
      "[4]\n",
      "[4]\n",
      "[4]\n",
      "[4]\n",
      "[4]\n",
      "[4]\n"
     ]
    }
   ],
   "source": [
    "list_1 = [4, 8, 15, 19]\n",
    "list_2 = [7, 9, 10, 16]\n",
    "\n",
    "\n",
    "sorted_list = []\n",
    "\n",
    "if list_1[0] >= list_2[0] :\n",
    "    sorted_list.append(list_2[0])\n",
    "else :\n",
    "    sorted_list.append(list_1[0])\n",
    "\n",
    "for el_1 in list_1:\n",
    "    for el_2 in list_2:\n",
    "        \n",
    "        print(sorted_list)\n",
    "        \n",
    "\n",
    "sorted_list = []\n",
    "\n",
    "for i in range(  max(len(list_1), len(list_2))  ):\n",
    "    min(list_1[i], list_2[i])\n",
    "        "
   ]
  },
  {
   "cell_type": "code",
   "execution_count": 19,
   "id": "83a1f404-3c75-4f34-a8b9-d1e7c3829dbf",
   "metadata": {},
   "outputs": [
    {
     "data": {
      "text/plain": [
       "[0, 1, 2, 3]"
      ]
     },
     "execution_count": 19,
     "metadata": {},
     "output_type": "execute_result"
    }
   ],
   "source": [
    "list(range(len(list_1)))"
   ]
  },
  {
   "cell_type": "code",
   "execution_count": null,
   "id": "1863ae5c-e0af-4d11-bc0b-1623900d90a6",
   "metadata": {},
   "outputs": [],
   "source": []
  },
  {
   "cell_type": "code",
   "execution_count": null,
   "id": "c7109cda-f0b1-41dc-ab95-dacc0c21faae",
   "metadata": {},
   "outputs": [],
   "source": []
  },
  {
   "cell_type": "code",
   "execution_count": null,
   "id": "0f740569-a0f8-42c9-8a52-d9116ea9a38e",
   "metadata": {},
   "outputs": [],
   "source": []
  },
  {
   "cell_type": "code",
   "execution_count": null,
   "id": "1a58fdf0-8acd-4caf-a785-1d526f6c495e",
   "metadata": {},
   "outputs": [],
   "source": []
  },
  {
   "cell_type": "code",
   "execution_count": null,
   "id": "724e2b52-42cd-4b97-9aa8-a205cc3bb519",
   "metadata": {},
   "outputs": [],
   "source": []
  },
  {
   "cell_type": "code",
   "execution_count": null,
   "id": "a5e78d96-abf9-4c70-b3b8-db01d1f021da",
   "metadata": {},
   "outputs": [],
   "source": []
  },
  {
   "cell_type": "code",
   "execution_count": null,
   "id": "4a5a0aae-b85c-42ed-ac63-555e14b6a1c5",
   "metadata": {},
   "outputs": [],
   "source": []
  },
  {
   "cell_type": "code",
   "execution_count": null,
   "id": "92eba5da-e73f-4255-aeb3-d093343a01f0",
   "metadata": {},
   "outputs": [],
   "source": []
  }
 ],
 "metadata": {
  "kernelspec": {
   "display_name": "Python 3 (ipykernel)",
   "language": "python",
   "name": "python3"
  },
  "language_info": {
   "codemirror_mode": {
    "name": "ipython",
    "version": 3
   },
   "file_extension": ".py",
   "mimetype": "text/x-python",
   "name": "python",
   "nbconvert_exporter": "python",
   "pygments_lexer": "ipython3",
   "version": "3.9.12"
  }
 },
 "nbformat": 4,
 "nbformat_minor": 5
}
