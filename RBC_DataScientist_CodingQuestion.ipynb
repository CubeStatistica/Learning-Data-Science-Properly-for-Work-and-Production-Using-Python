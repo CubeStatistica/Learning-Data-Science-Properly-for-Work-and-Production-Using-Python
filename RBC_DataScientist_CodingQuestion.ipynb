{
 "cells": [
  {
   "cell_type": "code",
   "execution_count": null,
   "id": "053f9b09-9dd2-48e1-a4a9-38827f048449",
   "metadata": {},
   "outputs": [],
   "source": [
    "m = [1,2,3,8,9,10,11,15,16,17,18]\n",
    "Start , End\n",
    "1, 3\n",
    "8, 11\n",
    "15, 18"
   ]
  },
  {
   "cell_type": "code",
   "execution_count": 25,
   "id": "9d5fac37-f8f6-4fe7-97cd-b5efb7ad363e",
   "metadata": {},
   "outputs": [],
   "source": [
    "def start_stop_seq_fn(m):\n",
    "    length = len(m)\n",
    "    \n",
    "    start = m[0]\n",
    "    end = []\n",
    "    \n",
    "    for i in array(length):\n",
    "        diff = m[i+1] - m[i]\n",
    "        if diff > 1 :\n",
    "            end.append(m[i+1])\n",
    "            start.append(m[i+2])\n",
    "            \n",
    "        \n",
    "        "
   ]
  },
  {
   "cell_type": "code",
   "execution_count": 12,
   "id": "b13c754a-c085-4a32-b602-803cd2d676d4",
   "metadata": {},
   "outputs": [
    {
     "data": {
      "text/plain": [
       "range(0, 5)"
      ]
     },
     "execution_count": 12,
     "metadata": {},
     "output_type": "execute_result"
    }
   ],
   "source": [
    "import numpy as np\n",
    "a = range(5)\n",
    "a"
   ]
  },
  {
   "cell_type": "code",
   "execution_count": 19,
   "id": "c2e526be-2ce4-4c95-af55-3027d8cbf045",
   "metadata": {},
   "outputs": [],
   "source": [
    "m = [1,2,3,8,9,10,11,15,16,17,18]    \n",
    "start = []\n",
    "end = []\n",
    "start\n",
    "start.append(1)"
   ]
  },
  {
   "cell_type": "code",
   "execution_count": 47,
   "id": "b3f7d089-c470-421c-a3fc-41068f557aee",
   "metadata": {},
   "outputs": [
    {
     "name": "stdout",
     "output_type": "stream",
     "text": [
      "[1, 8, 15]\n",
      "[3, 11, 18]\n"
     ]
    }
   ],
   "source": [
    "length = len(m)\n",
    "range(length)\n",
    "start = []\n",
    "end = []\n",
    "\n",
    "start.append(m[0])\n",
    "\n",
    "for i in range(length-1):\n",
    "    #print('i', i)\n",
    "    #print('start', start)\n",
    "    #print('end', end)\n",
    "    \n",
    "    diff = m[i+1] - m[i]\n",
    "    \n",
    "    if diff > 1 :\n",
    "        end.append(m[i])\n",
    "        start.append(m[i+1])\n",
    "end.append(m[-1])\n",
    "\n",
    "print(start)\n",
    "print(end)"
   ]
  },
  {
   "cell_type": "code",
   "execution_count": 53,
   "id": "0ccbf318-da40-45d5-85ae-83305dde49fa",
   "metadata": {},
   "outputs": [
    {
     "name": "stdout",
     "output_type": "stream",
     "text": [
      "{'start': [1, 8, 15], 'end': [3, 11, 18]}\n"
     ]
    },
    {
     "data": {
      "text/html": [
       "<div>\n",
       "<style scoped>\n",
       "    .dataframe tbody tr th:only-of-type {\n",
       "        vertical-align: middle;\n",
       "    }\n",
       "\n",
       "    .dataframe tbody tr th {\n",
       "        vertical-align: top;\n",
       "    }\n",
       "\n",
       "    .dataframe thead th {\n",
       "        text-align: right;\n",
       "    }\n",
       "</style>\n",
       "<table border=\"1\" class=\"dataframe\">\n",
       "  <thead>\n",
       "    <tr style=\"text-align: right;\">\n",
       "      <th></th>\n",
       "      <th>start</th>\n",
       "      <th>end</th>\n",
       "    </tr>\n",
       "  </thead>\n",
       "  <tbody>\n",
       "    <tr>\n",
       "      <th>0</th>\n",
       "      <td>1</td>\n",
       "      <td>3</td>\n",
       "    </tr>\n",
       "    <tr>\n",
       "      <th>1</th>\n",
       "      <td>8</td>\n",
       "      <td>11</td>\n",
       "    </tr>\n",
       "    <tr>\n",
       "      <th>2</th>\n",
       "      <td>15</td>\n",
       "      <td>18</td>\n",
       "    </tr>\n",
       "  </tbody>\n",
       "</table>\n",
       "</div>"
      ],
      "text/plain": [
       "   start  end\n",
       "0      1    3\n",
       "1      8   11\n",
       "2     15   18"
      ]
     },
     "execution_count": 53,
     "metadata": {},
     "output_type": "execute_result"
    }
   ],
   "source": [
    "import pandas as pd\n",
    "df = {'start': start, 'end':end}\n",
    "print(df)\n",
    "dff = pd.DataFrame(df)\n",
    "dff\n",
    "#df = pd.concat([start], [end], axis = 1)"
   ]
  },
  {
   "cell_type": "code",
   "execution_count": 29,
   "id": "f2ceb2a2-3888-49d4-b96b-81b5be4bc2a4",
   "metadata": {},
   "outputs": [
    {
     "data": {
      "text/plain": [
       "[1, 8, 15]"
      ]
     },
     "execution_count": 51,
     "metadata": {},
     "output_type": "execute_result"
    }
   ],
   "source": [
    "start"
   ]
  },
  {
   "cell_type": "code",
   "execution_count": 30,
   "id": "4ec50f25-e4b8-4188-a6ac-7ca00f0eafef",
   "metadata": {},
   "outputs": [
    {
     "data": {
      "text/plain": [
       "[3, 11, 18]"
      ]
     },
     "execution_count": 52,
     "metadata": {},
     "output_type": "execute_result"
    }
   ],
   "source": [
    "end"
   ]
  },
  {
   "cell_type": "code",
   "execution_count": 24,
   "id": "d49acaca-7863-4348-8a61-1dd9eff10fb8",
   "metadata": {},
   "outputs": [
    {
     "data": {
      "text/plain": [
       "11"
      ]
     },
     "execution_count": 24,
     "metadata": {},
     "output_type": "execute_result"
    }
   ],
   "source": [
    "length = len(m)\n",
    "len(range(0, length, 1))"
   ]
  },
  {
   "cell_type": "code",
   "execution_count": 26,
   "id": "96ae678f-aec9-4e8b-bec6-c2acc9cbf49e",
   "metadata": {},
   "outputs": [
    {
     "data": {
      "text/plain": [
       "11"
      ]
     },
     "execution_count": 26,
     "metadata": {},
     "output_type": "execute_result"
    }
   ],
   "source": [
    "len(m)"
   ]
  },
  {
   "cell_type": "code",
   "execution_count": null,
   "id": "c5120d08-6e43-47ec-b505-7c2b76bce85d",
   "metadata": {},
   "outputs": [],
   "source": [
    "len(range("
   ]
  }
 ],
 "metadata": {
  "kernelspec": {
   "display_name": "Python 3 (ipykernel)",
   "language": "python",
   "name": "python3"
  },
  "language_info": {
   "codemirror_mode": {
    "name": "ipython",
    "version": 3
   },
   "file_extension": ".py",
   "mimetype": "text/x-python",
   "name": "python",
   "nbconvert_exporter": "python",
   "pygments_lexer": "ipython3",
   "version": "3.9.12"
  }
 },
 "nbformat": 4,
 "nbformat_minor": 5
}
