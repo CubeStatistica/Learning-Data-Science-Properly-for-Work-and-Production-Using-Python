{
 "cells": [
  {
   "cell_type": "markdown",
   "id": "0c56e311-0ca6-46fd-b339-67e7cf0fe369",
   "metadata": {},
   "source": [
    "# Learning Python"
   ]
  },
  {
   "cell_type": "markdown",
   "id": "57ff144a-4610-40c9-81df-7ac89375ab0c",
   "metadata": {},
   "source": [
    "Some basics"
   ]
  },
  {
   "cell_type": "code",
   "execution_count": 5,
   "id": "0200d38c-4b5d-4748-a014-f3b273612635",
   "metadata": {},
   "outputs": [],
   "source": [
    "#Camel Case\n",
    "myVariableName = \"John\"\n",
    "\n",
    "#Pascal Case\n",
    "MyVariableName = \"John\"\n",
    "\n",
    "#Snake Case\n",
    "my_variable_name = \"John\""
   ]
  },
  {
   "cell_type": "markdown",
   "id": "3f4a7a5b-29ad-4418-99ae-ee5ef47983fa",
   "metadata": {},
   "source": [
    "## W 3 Schools Lessons"
   ]
  },
  {
   "cell_type": "markdown",
   "id": "487ebca0-c442-48a0-b4fc-c1f30c8c323c",
   "metadata": {},
   "source": [
    "#### Multi-assignment in python"
   ]
  },
  {
   "cell_type": "code",
   "execution_count": 3,
   "id": "b1567808-197f-4508-bce4-92cc30d0449c",
   "metadata": {},
   "outputs": [
    {
     "name": "stdout",
     "output_type": "stream",
     "text": [
      "1 2 3\n"
     ]
    }
   ],
   "source": [
    "x, y, z, = 1, 2, 3\n",
    "print(x, y, z)"
   ]
  },
  {
   "cell_type": "markdown",
   "id": "b2ac68be-27cf-43a0-be32-d17c17c5e73f",
   "metadata": {},
   "source": [
    "#### Unpack a Collection\n",
    "\n",
    "If you have a collection of values in a list, tuple etc. Python allows you to extract the values into variables. This is called unpacking."
   ]
  },
  {
   "cell_type": "code",
   "execution_count": null,
   "id": "8a6d3940-5408-4747-88f5-3dab1e192539",
   "metadata": {},
   "outputs": [],
   "source": [
    "fruits = [\"apple\", \"banana\", \"cherry\"]\n",
    "x, y, z = fruits\n",
    "print(x)\n",
    "print(y)\n",
    "print(z)"
   ]
  },
  {
   "cell_type": "markdown",
   "id": "2b19feaf-2dd1-4ff5-97da-ef777b2eba22",
   "metadata": {},
   "source": [
    "## I. Lesson 1"
   ]
  },
  {
   "cell_type": "markdown",
   "id": "17d0ed5c-9f73-4883-b8ef-24bdd362633c",
   "metadata": {},
   "source": [
    "The `.dtypes` dataframe method for dataframes from the Pandas library is different from the builtin python function `type()` "
   ]
  },
  {
   "cell_type": "code",
   "execution_count": 1,
   "id": "24b5e15f-4588-4871-b528-a0ae2565990a",
   "metadata": {},
   "outputs": [],
   "source": [
    "import pandas as pd"
   ]
  },
  {
   "cell_type": "code",
   "execution_count": 4,
   "id": "49663a43-d927-4024-990d-b4a65a40e193",
   "metadata": {},
   "outputs": [],
   "source": [
    "df = pd.DataFrame()"
   ]
  },
  {
   "cell_type": "code",
   "execution_count": 5,
   "id": "92fa17a4-a08d-4c9d-9e5a-96e9407de523",
   "metadata": {},
   "outputs": [
    {
     "data": {
      "text/plain": [
       "Series([], dtype: object)"
      ]
     },
     "execution_count": 5,
     "metadata": {},
     "output_type": "execute_result"
    }
   ],
   "source": [
    "df\n",
    "df.dtypes"
   ]
  },
  {
   "cell_type": "markdown",
   "id": "c55a9932-4293-4b9d-af45-898116bd95cc",
   "metadata": {},
   "source": [
    "## II. Chuck Severance Python for Everyone Assignments."
   ]
  },
  {
   "cell_type": "markdown",
   "id": "65866745-d957-4ea7-a39e-8dd188ed7577",
   "metadata": {},
   "source": [
    "### As the user for his total hours and rate per hour thenb calculate their pay."
   ]
  },
  {
   "cell_type": "code",
   "execution_count": 2,
   "id": "47dd5487-6337-48c4-8b9f-b00bdfe6da42",
   "metadata": {},
   "outputs": [
    {
     "name": "stdin",
     "output_type": "stream",
     "text": [
      "Enter hours: 35\n",
      "Enter rate per hour: 2.75\n"
     ]
    },
    {
     "name": "stdout",
     "output_type": "stream",
     "text": [
      "Pay: 96.25\n"
     ]
    }
   ],
   "source": [
    "hrs = input(\"Enter hours:\")\n",
    "rate_per_hr = input(\"Enter rate per hour:\")\n",
    "print(\"Pay:\", float(hrs) * float(rate_per_hr))\n",
    "# use 35 hrs and 2.75 for rate_per_hr. Answer: 96.25"
   ]
  },
  {
   "cell_type": "code",
   "execution_count": 3,
   "id": "5e45d1c6-9d91-4de2-bca3-fb6488ffdfed",
   "metadata": {},
   "outputs": [
    {
     "data": {
      "text/plain": [
       "'\\x01'"
      ]
     },
     "execution_count": 3,
     "metadata": {},
     "output_type": "execute_result"
    }
   ],
   "source": [
    "chr(1)"
   ]
  },
  {
   "cell_type": "markdown",
   "id": "d13840ce-0964-4207-9d39-e1f5041dabc6",
   "metadata": {},
   "source": [
    "3.1 Write a program to prompt the user for hours and rate per hour using input to compute gross pay. Pay the hourly rate for the hours up to 40 and 1.5 times the hourly rate for all hours worked above 40 hours. Use 45 hours and a rate of 10.50 per hour to test the program (the pay should be 498.75). You should use input to read a string and float() to convert the string to a number. Do not worry about error checking the user input - assume the user types numbers properly.\n"
   ]
  },
  {
   "cell_type": "code",
   "execution_count": 35,
   "id": "715b81c1-7d0c-4698-b295-a9679a5fcc6d",
   "metadata": {},
   "outputs": [
    {
     "name": "stdin",
     "output_type": "stream",
     "text": [
      "Enter Hours: 45\n",
      "Enter Hours: 10.5\n"
     ]
    },
    {
     "name": "stdout",
     "output_type": "stream",
     "text": [
      "498.75\n"
     ]
    }
   ],
   "source": [
    "hrs = input(\"Enter Hours:\")\n",
    "rate_per_hour = input(\"Enter Hours:\")\n",
    "rate_per_hour = float(rate_per_hour)\n",
    "h = float(hrs)\n",
    "\n",
    "if h <= 40:\n",
    "    print(h*rate_per_hour)\n",
    "else:\n",
    "    print(40*rate_per_hour + (h-40)*rate_per_hour*1.5)"
   ]
  },
  {
   "cell_type": "markdown",
   "id": "7e7422f5-6c11-4db6-a7f3-e49f3be3f036",
   "metadata": {},
   "source": [
    "3.3 Write a program to prompt for a score between 0.0 and 1.0. If the score is out of range, print an error. If the score is between 0.0 and 1.0, print a grade using the following table:\n",
    "Score Grade\n",
    ">= 0.9 A\n",
    ">= 0.8 B\n",
    ">= 0.7 C\n",
    ">= 0.6 D\n",
    "< 0.6 F\n",
    "If the user enters a value out of range, print a suitable error message and exit. For the test, enter a score of 0.85.\n"
   ]
  },
  {
   "cell_type": "code",
   "execution_count": 38,
   "id": "1aa739c4-bce9-497f-8e7b-b2f1a594c056",
   "metadata": {},
   "outputs": [
    {
     "name": "stdin",
     "output_type": "stream",
     "text": [
      "Enter Score:  .1\n",
      "You did not enter a number please enter a number: 0\n"
     ]
    },
    {
     "name": "stdout",
     "output_type": "stream",
     "text": [
      "F\n"
     ]
    }
   ],
   "source": [
    "# This does not work correctly.\n",
    "\n",
    "score = input(\"Enter Score: \")\n",
    "\n",
    "try:\n",
    "    fs = float(score)\n",
    "    if fs > 1 | fs < 0 :\n",
    "        print(\"Error, you are out of bounds.\")\n",
    "        quite()\n",
    "except:\n",
    "    score = input(\"You did not enter a number please enter a number:\")\n",
    "    \n",
    "if fs >= .9:\n",
    "    print(\"A\")\n",
    "elif fs >= .8:\n",
    "    print('B')\n",
    "elif fs >= .7:\n",
    "    print('C')\n",
    "elif fs >= .6:\n",
    "    print('D')\n",
    "else:\n",
    "    print('F')\n",
    "\n",
    "    \n"
   ]
  },
  {
   "cell_type": "code",
   "execution_count": 1,
   "id": "720c5cfb-b783-448b-a5ef-0b59df35e334",
   "metadata": {},
   "outputs": [
    {
     "name": "stdin",
     "output_type": "stream",
     "text": [
      "Enter Score:  10\n"
     ]
    },
    {
     "name": "stdout",
     "output_type": "stream",
     "text": [
      "Error, you are out of bounds.\n"
     ]
    }
   ],
   "source": [
    "score = input(\"Enter Score: \")\n",
    "fs = float(score)\n",
    "#try:\n",
    "#    fs = float(score)\n",
    "#except:\n",
    "    #score = input(\"You did not enter a number please enter a number:\")    \n",
    "\n",
    "# This does not work properly because the try except block should be in a while loop so that the score is fedback\n",
    "# to the fs=float(score)\n",
    "\n",
    "if fs > 1 or fs < 0 :\n",
    "    print(\"Error, you are out of bounds.\")\n",
    "    quit()\n",
    "else: \n",
    "    if fs >= .9:\n",
    "        print(\"A\")\n",
    "    elif fs >= .8:\n",
    "        print('B')\n",
    "    elif fs >= .7:\n",
    "        print('C')\n",
    "    elif fs >= .6:\n",
    "        print('D')\n",
    "    else:\n",
    "        print('F')\n"
   ]
  },
  {
   "cell_type": "code",
   "execution_count": 2,
   "id": "1a19c456-bac9-4abb-8627-2d713a725c02",
   "metadata": {},
   "outputs": [
    {
     "name": "stdin",
     "output_type": "stream",
     "text": [
      "Enter Score:  .85\n"
     ]
    },
    {
     "name": "stdout",
     "output_type": "stream",
     "text": [
      "B\n"
     ]
    }
   ],
   "source": [
    "score = input(\"Enter Score: \")\n",
    "fs = float(score)\n",
    "\n",
    "if fs > 1 or fs < 0 :\n",
    "    print(\"Error, you are out of bounds.\")\n",
    "    quit()\n",
    "else: \n",
    "    if fs >= .9:\n",
    "        print(\"A\")\n",
    "    elif fs >= .8:\n",
    "        print('B')\n",
    "    elif fs >= .7:\n",
    "        print('C')\n",
    "    elif fs >= .6:\n",
    "        print('D')\n",
    "    else:\n",
    "        print('F')"
   ]
  },
  {
   "cell_type": "code",
   "execution_count": null,
   "id": "aabfa6d6-ec16-4ffc-986a-07f4b6578d76",
   "metadata": {},
   "outputs": [],
   "source": []
  },
  {
   "cell_type": "markdown",
   "id": "b997630b-6d0a-42bb-9709-04abcdbff9a5",
   "metadata": {},
   "source": [
    "## LeetCode Questions"
   ]
  },
  {
   "cell_type": "markdown",
   "id": "7eb6a889-d2d5-4731-bcb0-abf7f561e228",
   "metadata": {},
   "source": [
    "You are given a string s formed by digits and '#'. We want to map s to English lowercase characters as follows:\n",
    "\n",
    "Characters ('a' to 'i') are represented by ('1' to '9') respectively.\n",
    "Characters ('j' to 'z') are represented by ('10#' to '26#') respectively.\n",
    "Return the string formed after mapping.\n",
    "\n",
    "The test cases are generated so that a unique mapping will always exist.\n",
    "\n",
    " \n",
    "\n",
    "Example 1:\n",
    "\n",
    "Input: s = \"10#11#12\"\n",
    "Output: \"jkab\"\n",
    "Explanation: \"j\" -> \"10#\" , \"k\" -> \"11#\" , \"a\" -> \"1\" , \"b\" -> \"2\".\n",
    "Example 2:\n",
    "\n",
    "Input: s = \"1326#\"\n",
    "Output: \"acz\"\n",
    " \n",
    "\n",
    "Constraints:\n",
    "\n",
    "1 <= s.length <= 1000\n",
    "s consists of digits and the '#' letter.\n",
    "s will be a valid string such that mapping is always possible.\n"
   ]
  },
  {
   "cell_type": "code",
   "execution_count": 7,
   "id": "0217f551-2be2-4adb-840b-5cc744460399",
   "metadata": {},
   "outputs": [],
   "source": [
    "class Solution:\n",
    "    def freqAlphabets(self, s: str) -> str:\n",
    "        apl = \"abcdefghijklmnopqrsvwtxyz\""
   ]
  },
  {
   "cell_type": "code",
   "execution_count": 29,
   "id": "0659e706-4aac-4fa3-98e2-701483e947ad",
   "metadata": {},
   "outputs": [
    {
     "data": {
      "text/plain": [
       "'abcdefghijklmnopqrsvwtxyz'"
      ]
     },
     "execution_count": 29,
     "metadata": {},
     "output_type": "execute_result"
    }
   ],
   "source": [
    "apl = \"abcdefghijklmnopqrsvwtxyz\"\n",
    "len(apl)\n",
    "apl.split()\n",
    "apl_spl = [x for x in apl]\n",
    "\n",
    "the_string = \"\"\n",
    "for alph in apl_spl:\n",
    "    the_string += alph\n",
    "the_string"
   ]
  },
  {
   "cell_type": "code",
   "execution_count": 33,
   "id": "c59dd2d1-ed29-4370-9d53-0a5b7a7d8315",
   "metadata": {},
   "outputs": [
    {
     "name": "stdout",
     "output_type": "stream",
     "text": [
      "26\n"
     ]
    },
    {
     "data": {
      "text/plain": [
       "'abcdefghijklmnopqrstuvwxyz'"
      ]
     },
     "execution_count": 33,
     "metadata": {},
     "output_type": "execute_result"
    }
   ],
   "source": [
    "alphs = 'qwertyuiopasdfghjklzxcvbnm'\n",
    "alphs = sorted(alphs)\n",
    "print(len(alphs))\n",
    "\n",
    "the_string = \"\"\n",
    "for alph in alphs:\n",
    "    the_string += alph\n",
    "the_string"
   ]
  },
  {
   "cell_type": "code",
   "execution_count": null,
   "id": "e25b9da2-d128-431b-b88f-c092bada72e1",
   "metadata": {},
   "outputs": [],
   "source": []
  },
  {
   "cell_type": "code",
   "execution_count": 4,
   "id": "9c2bd3e1-6366-4dd9-8058-dcfe9b50337a",
   "metadata": {},
   "outputs": [
    {
     "name": "stdout",
     "output_type": "stream",
     "text": [
      "hello world\n"
     ]
    }
   ],
   "source": [
    "print(\"hello world\")"
   ]
  },
  {
   "cell_type": "code",
   "execution_count": null,
   "id": "8b926ddf-252c-4379-8213-db6c147717b8",
   "metadata": {},
   "outputs": [],
   "source": []
  }
 ],
 "metadata": {
  "kernelspec": {
   "display_name": "Python 3 (ipykernel)",
   "language": "python",
   "name": "python3"
  },
  "language_info": {
   "codemirror_mode": {
    "name": "ipython",
    "version": 3
   },
   "file_extension": ".py",
   "mimetype": "text/x-python",
   "name": "python",
   "nbconvert_exporter": "python",
   "pygments_lexer": "ipython3",
   "version": "3.9.12"
  }
 },
 "nbformat": 4,
 "nbformat_minor": 5
}
